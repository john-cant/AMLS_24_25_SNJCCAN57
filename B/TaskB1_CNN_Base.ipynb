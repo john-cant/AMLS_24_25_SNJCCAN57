{
 "cells": [
  {
   "cell_type": "markdown",
   "metadata": {
    "id": "qgV_pyyf--49"
   },
   "source": [
    "\n",
    "\n",
    "# AMLS Assignment Draft\n",
    "## Task B: CNN on BloodMNIST Dataset\n",
    "\n",
    "Explore CNN based classifiers on the BloodMNIST dataset."
   ]
  },
  {
   "cell_type": "markdown",
   "metadata": {
    "id": "928tj4hm_HRl"
   },
   "source": [
    "## Import libraries\n",
    "The required libraries for this notebook are sklearn, copy, numpy and matplotlib."
   ]
  },
  {
   "cell_type": "code",
   "execution_count": 8,
   "metadata": {
    "id": "ZR9HIUUN-601"
   },
   "outputs": [
    {
     "name": "stdout",
     "output_type": "stream",
     "text": [
      "The autoreload extension is already loaded. To reload it, use:\n",
      "  %reload_ext autoreload\n"
     ]
    }
   ],
   "source": [
    "## first enable autoreload during development so latest (new) version local code library is reloaded on execution \n",
    "## can be commented out when local code development not happening to avoid overhead\n",
    "%load_ext autoreload\n",
    "%autoreload 2\n",
    "\n",
    "## import libraries\n",
    "import io\n",
    "import numpy as np\n",
    "import matplotlib.pyplot as plt\n",
    "from tqdm.keras import TqdmCallback\n",
    "\n",
    "from tqdm import tqdm\n",
    "\n",
    "class TqdmEpochProgress(tf.keras.callbacks.Callback):\n",
    "    def __init__(self, total_epochs):\n",
    "        super().__init__()\n",
    "        self.total_epochs = total_epochs\n",
    "        self.progress_bar = None\n",
    "\n",
    "    def on_train_begin(self, logs=None):\n",
    "        self.progress_bar = tqdm(total=self.total_epochs, desc=\"Epoch Progress\", unit=\"epoch\")\n",
    "\n",
    "    def on_epoch_end(self, epoch, logs=None):\n",
    "        self.progress_bar.update(1)\n",
    "        self.progress_bar.set_postfix(logs)\n",
    "\n",
    "    def on_train_end(self, logs=None):\n",
    "        self.progress_bar.close()\n",
    "        \n",
    "## import tensorflow\n",
    "import tensorflow as tf\n",
    "from tensorflow.keras.models import Sequential\n",
    "from tensorflow.keras.layers import Conv2D, Flatten, Dense, MaxPooling2D, Dropout\n",
    "from tensorflow.keras.optimizers import Adam, SGD, RMSprop\n",
    "from tensorflow.keras.losses import BinaryCrossentropy\n",
    "\n",
    "## local code library\n",
    "import AMLS_common as ac"
   ]
  },
  {
   "cell_type": "markdown",
   "metadata": {},
   "source": [
    "## Set base parameters\n",
    "Including hyperparameters and environment specifics"
   ]
  },
  {
   "cell_type": "code",
   "execution_count": 9,
   "metadata": {},
   "outputs": [],
   "source": [
    "## Initialize hyperparameters\n",
    "parameter = ac.HyperParameters(learning_rate=0.001, \n",
    "                               batch_size=128, \n",
    "                               num_epochs=50, \n",
    "                               optimise=\"Adam\",\n",
    "                               loss=\"SparseCategoricalCrossentropy()\",\n",
    "                               default_activation=\"relu\")\n",
    "\n",
    "tqdm_callback = TqdmEpochProgress(total_epochs=parameter.num_epochs)\n",
    "\n",
    "## use these lists to grid test hyper parameter sensitivity\n",
    "epochs_list = [10,50,100,500]                 # number of epochs to be used\n",
    "bs_list     = [32,64,128]                     # dataset batch size\n",
    "lr_list     = [1, 0.1, 0.01, 0.001, 0.0001]   # learning rate"
   ]
  },
  {
   "cell_type": "code",
   "execution_count": 10,
   "metadata": {},
   "outputs": [],
   "source": [
    "## control (e.g. verbose) parameters\n",
    "filebase   = \"metrics/\"          ## place to save output files\n",
    "verbose    = 1                   ## to control whether additional in process information is printed"
   ]
  },
  {
   "cell_type": "markdown",
   "metadata": {
    "id": "LY2oUxSh_Nbk"
   },
   "source": [
    "## Load and preprocess the BloodMNIST Data\n",
    "We load the dataset."
   ]
  },
  {
   "cell_type": "code",
   "execution_count": 11,
   "metadata": {
    "colab": {
     "base_uri": "https://localhost:8080/"
    },
    "id": "5PeebuSr_MAs",
    "outputId": "8a71101f-13e8-4381-eaff-f3bd4887b994"
   },
   "outputs": [
    {
     "name": "stdout",
     "output_type": "stream",
     "text": [
      "Using downloaded and verified file: C:\\Users\\johnc\\.medmnist\\bloodmnist.npz\n",
      "Using downloaded and verified file: C:\\Users\\johnc\\.medmnist\\bloodmnist.npz\n",
      "Using downloaded and verified file: C:\\Users\\johnc\\.medmnist\\bloodmnist.npz\n",
      "\n",
      "Summary metrics for train_dataset\n",
      "type: <class 'tensorflow.python.data.ops.dataset_ops.BatchDataset'>\n",
      "length: 94\n",
      "shape: <BatchDataset shapes: ((None, 28, 28, 3), (None, 1)), types: (tf.float64, tf.float32)>\n"
     ]
    }
   ],
   "source": [
    "## Loading the data file using common MedMINST loader\n",
    "data_flag  = 'bloodmnist'        # defines which dataset to load\n",
    "result_set = ac.medMNIST_load(data_flag,parameter.batch_size)\n",
    "\n",
    "## check that the loader returned data correctly and then split out\n",
    "if result_set != []:\n",
    "    train_dataset = result_set[0]\n",
    "    test_dataset  = result_set[1]\n",
    "    val_dataset   = result_set[2]\n",
    "\n",
    "if verbose == 1:\n",
    "    ## print summary stats for training dataset\n",
    "    print(\"\\nSummary metrics for train_dataset\")\n",
    "    print(\"type:\",type(train_dataset))\n",
    "    print(\"length:\",len(train_dataset))\n",
    "    print(\"shape:\",train_dataset)"
   ]
  },
  {
   "cell_type": "markdown",
   "metadata": {},
   "source": [
    "## Define the CNN model\n",
    "\n",
    "Define a base model"
   ]
  },
  {
   "cell_type": "code",
   "execution_count": 12,
   "metadata": {},
   "outputs": [
    {
     "name": "stdout",
     "output_type": "stream",
     "text": [
      "Default activation is  relu\n",
      "Model: \"sequential_1\"\n",
      "_________________________________________________________________\n",
      "Layer (type)                 Output Shape              Param #   \n",
      "=================================================================\n",
      "conv2d_3 (Conv2D)            (None, 26, 26, 64)        1792      \n",
      "_________________________________________________________________\n",
      "conv2d_4 (Conv2D)            (None, 24, 24, 16)        9232      \n",
      "_________________________________________________________________\n",
      "max_pooling2d_2 (MaxPooling2 (None, 12, 12, 16)        0         \n",
      "_________________________________________________________________\n",
      "conv2d_5 (Conv2D)            (None, 10, 10, 16)        2320      \n",
      "_________________________________________________________________\n",
      "max_pooling2d_3 (MaxPooling2 (None, 5, 5, 16)          0         \n",
      "_________________________________________________________________\n",
      "flatten_1 (Flatten)          (None, 400)               0         \n",
      "_________________________________________________________________\n",
      "dropout_1 (Dropout)          (None, 400)               0         \n",
      "_________________________________________________________________\n",
      "dense_1 (Dense)              (None, 8)                 3208      \n",
      "=================================================================\n",
      "Total params: 16,552\n",
      "Trainable params: 16,552\n",
      "Non-trainable params: 0\n",
      "_________________________________________________________________\n",
      "None\n"
     ]
    }
   ],
   "source": [
    "## Define the model\n",
    "if verbose == 1:\n",
    "    print(\"Default activation is \",parameter.default_activation)\n",
    "    \n",
    "model = Sequential([\n",
    "    Conv2D(64, (3, 3), activation=parameter.default_activation, input_shape=(28, 28, 3)),   ## Input layer\n",
    "    Conv2D(16, (3, 3), activation=parameter.default_activation),                            ## Convolution layer \n",
    "    MaxPooling2D((2, 2)),                                                                   ## Reduce the features\n",
    "    Conv2D(16, (3, 3), activation=parameter.default_activation),                            ## Another Convolution layer \n",
    "    MaxPooling2D((2, 2)),                                                                   ## Again reduce the features\n",
    "    Flatten(),                                                                              # Flatten\n",
    "    Dropout(0.2),                                                                           # added dropout\n",
    "    Dense(8, activation='softmax')                                                          # Output layer for 8 types \n",
    "])\n",
    "\n",
    "print(model.summary())\n",
    "## Redirect the summary output to a string\n",
    "summary_string = io.StringIO()\n",
    "model.summary(print_fn=lambda x: summary_string.write(x + \"\\n\"))\n",
    "summary_content = summary_string.getvalue()\n",
    "summary_string.close()\n",
    "\n",
    "optimizer_choice = str(parameter.optimise)+'(learning_rate='+str(parameter.learning_rate)+')'\n",
    "optimizer        = eval(optimizer_choice)\n",
    "\n",
    "## loss_choice      = 'tf.keras.losses.SparseCategoricalCrossentropy()'\n",
    "## loss_choice      = 'tf.keras.losses.BinaryCrossentropy()'\n",
    "## tf.keras.optimizers.Adam(learning_rate=0.001)\n",
    "\n",
    "\n",
    "model.compile(optimizer=tf.keras.optimizers.Adam(learning_rate=0.001),                                                   \n",
    "              loss=tf.keras.losses.SparseCategoricalCrossentropy(),\n",
    "              metrics='acc')"
   ]
  },
  {
   "cell_type": "markdown",
   "metadata": {},
   "source": [
    "## Fit the model\n",
    "\n",
    "Fit using hyperparameters as defined above"
   ]
  },
  {
   "cell_type": "code",
   "execution_count": 15,
   "metadata": {},
   "outputs": [
    {
     "name": "stdout",
     "output_type": "stream",
     "text": [
      "50 128\n"
     ]
    },
    {
     "name": "stderr",
     "output_type": "stream",
     "text": [
      "\n",
      "\n",
      "Epoch Progress:   0%|          | 0/50 [00:00<?, ?epoch/s]\u001b[A\u001b[A\n",
      "\n",
      "Epoch Progress:   2%|▏         | 1/50 [01:45<1:25:49, 105.09s/epoch]\u001b[A\u001b[A\n",
      "\n",
      "Epoch Progress:   2%|▏         | 1/50 [01:45<1:25:49, 105.09s/epoch, loss=1.62, acc=0.382, val_loss=1.11, val_acc=0.645]\u001b[A\u001b[A\n",
      "\n",
      "Epoch Progress:   4%|▍         | 2/50 [03:26<1:22:16, 102.85s/epoch, loss=1.62, acc=0.382, val_loss=1.11, val_acc=0.645]\u001b[A\u001b[A\n",
      "\n",
      "Epoch Progress:   4%|▍         | 2/50 [03:26<1:22:16, 102.85s/epoch, loss=1.08, acc=0.594, val_loss=0.896, val_acc=0.69]\u001b[A\u001b[A\n",
      "\n",
      "Epoch Progress:   6%|▌         | 3/50 [05:09<1:20:29, 102.76s/epoch, loss=1.08, acc=0.594, val_loss=0.896, val_acc=0.69]\u001b[A\u001b[A\n",
      "\n",
      "Epoch Progress:   6%|▌         | 3/50 [05:09<1:20:29, 102.76s/epoch, loss=0.903, acc=0.671, val_loss=0.758, val_acc=0.732]\u001b[A\u001b[A\n",
      "\n",
      "Epoch Progress:   8%|▊         | 4/50 [06:52<1:19:01, 103.07s/epoch, loss=0.903, acc=0.671, val_loss=0.758, val_acc=0.732]\u001b[A\u001b[A\n",
      "\n",
      "Epoch Progress:   8%|▊         | 4/50 [06:52<1:19:01, 103.07s/epoch, loss=0.794, acc=0.718, val_loss=0.68, val_acc=0.759] \u001b[A\u001b[A\n",
      "\n",
      "Epoch Progress:  10%|█         | 5/50 [08:34<1:17:04, 102.76s/epoch, loss=0.794, acc=0.718, val_loss=0.68, val_acc=0.759]\u001b[A\u001b[A\n",
      "\n",
      "Epoch Progress:  10%|█         | 5/50 [08:34<1:17:04, 102.76s/epoch, loss=0.7, acc=0.75, val_loss=0.627, val_acc=0.773]  \u001b[A\u001b[A\n",
      "\n",
      "Epoch Progress:  12%|█▏        | 6/50 [10:18<1:15:37, 103.13s/epoch, loss=0.7, acc=0.75, val_loss=0.627, val_acc=0.773]\u001b[A\u001b[A\n",
      "\n",
      "Epoch Progress:  12%|█▏        | 6/50 [10:18<1:15:37, 103.13s/epoch, loss=0.646, acc=0.772, val_loss=0.568, val_acc=0.805]\u001b[A\u001b[A\n",
      "\n",
      "Epoch Progress:  14%|█▍        | 7/50 [12:00<1:13:39, 102.77s/epoch, loss=0.646, acc=0.772, val_loss=0.568, val_acc=0.805]\u001b[A\u001b[A\n",
      "\n",
      "Epoch Progress:  14%|█▍        | 7/50 [12:00<1:13:39, 102.77s/epoch, loss=0.581, acc=0.795, val_loss=0.522, val_acc=0.818]\u001b[A\u001b[A\n",
      "\n",
      "Epoch Progress:  16%|█▌        | 8/50 [13:42<1:11:39, 102.38s/epoch, loss=0.581, acc=0.795, val_loss=0.522, val_acc=0.818]\u001b[A\u001b[A\n",
      "\n",
      "Epoch Progress:  16%|█▌        | 8/50 [13:42<1:11:39, 102.38s/epoch, loss=0.561, acc=0.804, val_loss=0.501, val_acc=0.831]\u001b[A\u001b[A\n",
      "\n",
      "Epoch Progress:  18%|█▊        | 9/50 [15:22<1:09:37, 101.88s/epoch, loss=0.561, acc=0.804, val_loss=0.501, val_acc=0.831]\u001b[A\u001b[A\n",
      "\n",
      "Epoch Progress:  18%|█▊        | 9/50 [15:22<1:09:37, 101.88s/epoch, loss=0.528, acc=0.817, val_loss=0.492, val_acc=0.838]\u001b[A\u001b[A\n",
      "\n",
      "Epoch Progress:  20%|██        | 10/50 [17:05<1:08:04, 102.11s/epoch, loss=0.528, acc=0.817, val_loss=0.492, val_acc=0.838]\u001b[A\u001b[A\n",
      "\n",
      "Epoch Progress:  20%|██        | 10/50 [17:05<1:08:04, 102.11s/epoch, loss=0.515, acc=0.821, val_loss=0.458, val_acc=0.845]\u001b[A\u001b[A\n",
      "\n",
      "Epoch Progress:  22%|██▏       | 11/50 [18:47<1:06:18, 102.01s/epoch, loss=0.515, acc=0.821, val_loss=0.458, val_acc=0.845]\u001b[A\u001b[A\n",
      "\n",
      "Epoch Progress:  22%|██▏       | 11/50 [18:47<1:06:18, 102.01s/epoch, loss=0.486, acc=0.831, val_loss=0.437, val_acc=0.851]\u001b[A\u001b[A\n",
      "\n",
      "Epoch Progress:  24%|██▍       | 12/50 [20:36<1:06:02, 104.27s/epoch, loss=0.486, acc=0.831, val_loss=0.437, val_acc=0.851]\u001b[A\u001b[A\n",
      "\n",
      "Epoch Progress:  24%|██▍       | 12/50 [20:36<1:06:02, 104.27s/epoch, loss=0.465, acc=0.834, val_loss=0.436, val_acc=0.853]\u001b[A\u001b[A\n",
      "\n",
      "Epoch Progress:  26%|██▌       | 13/50 [22:22<1:04:30, 104.60s/epoch, loss=0.465, acc=0.834, val_loss=0.436, val_acc=0.853]\u001b[A\u001b[A\n",
      "\n",
      "Epoch Progress:  26%|██▌       | 13/50 [22:22<1:04:30, 104.60s/epoch, loss=0.462, acc=0.837, val_loss=0.415, val_acc=0.853]\u001b[A\u001b[A\n",
      "\n",
      "Epoch Progress:  28%|██▊       | 14/50 [24:31<1:07:10, 111.97s/epoch, loss=0.462, acc=0.837, val_loss=0.415, val_acc=0.853]\u001b[A\u001b[A\n",
      "\n",
      "Epoch Progress:  28%|██▊       | 14/50 [24:31<1:07:10, 111.97s/epoch, loss=0.453, acc=0.841, val_loss=0.406, val_acc=0.861]\u001b[A\u001b[A\n",
      "\n",
      "Epoch Progress:  30%|███       | 15/50 [26:20<1:04:55, 111.31s/epoch, loss=0.453, acc=0.841, val_loss=0.406, val_acc=0.861]\u001b[A\u001b[A\n",
      "\n",
      "Epoch Progress:  30%|███       | 15/50 [26:20<1:04:55, 111.31s/epoch, loss=0.448, acc=0.844, val_loss=0.434, val_acc=0.852]\u001b[A\u001b[A\n",
      "\n",
      "Epoch Progress:  32%|███▏      | 16/50 [28:02<1:01:24, 108.37s/epoch, loss=0.448, acc=0.844, val_loss=0.434, val_acc=0.852]\u001b[A\u001b[A\n",
      "\n",
      "Epoch Progress:  32%|███▏      | 16/50 [28:02<1:01:24, 108.37s/epoch, loss=0.429, acc=0.85, val_loss=0.393, val_acc=0.861] \u001b[A\u001b[A\n",
      "\n",
      "Epoch Progress:  34%|███▍      | 17/50 [29:43<58:23, 106.16s/epoch, loss=0.429, acc=0.85, val_loss=0.393, val_acc=0.861]  \u001b[A\u001b[A\n",
      "\n",
      "Epoch Progress:  34%|███▍      | 17/50 [29:43<58:23, 106.16s/epoch, loss=0.417, acc=0.855, val_loss=0.387, val_acc=0.864]\u001b[A\u001b[A\n",
      "\n",
      "Epoch Progress:  36%|███▌      | 18/50 [31:27<56:16, 105.51s/epoch, loss=0.417, acc=0.855, val_loss=0.387, val_acc=0.864]\u001b[A\u001b[A\n",
      "\n",
      "Epoch Progress:  36%|███▌      | 18/50 [31:27<56:16, 105.51s/epoch, loss=0.417, acc=0.85, val_loss=0.383, val_acc=0.865] \u001b[A\u001b[A\n",
      "\n",
      "Epoch Progress:  38%|███▊      | 19/50 [33:16<55:05, 106.63s/epoch, loss=0.417, acc=0.85, val_loss=0.383, val_acc=0.865]\u001b[A\u001b[A\n",
      "\n",
      "Epoch Progress:  38%|███▊      | 19/50 [33:16<55:05, 106.63s/epoch, loss=0.413, acc=0.854, val_loss=0.384, val_acc=0.87]\u001b[A\u001b[A\n",
      "\n",
      "Epoch Progress:  40%|████      | 20/50 [34:58<52:31, 105.07s/epoch, loss=0.413, acc=0.854, val_loss=0.384, val_acc=0.87]\u001b[A\u001b[A\n",
      "\n",
      "Epoch Progress:  40%|████      | 20/50 [34:58<52:31, 105.07s/epoch, loss=0.403, acc=0.856, val_loss=0.366, val_acc=0.867]\u001b[A\u001b[A\n",
      "\n",
      "Epoch Progress:  42%|████▏     | 21/50 [36:40<50:23, 104.24s/epoch, loss=0.403, acc=0.856, val_loss=0.366, val_acc=0.867]\u001b[A\u001b[A\n",
      "\n",
      "Epoch Progress:  42%|████▏     | 21/50 [36:40<50:23, 104.24s/epoch, loss=0.396, acc=0.862, val_loss=0.374, val_acc=0.866]\u001b[A\u001b[A\n",
      "\n",
      "Epoch Progress:  44%|████▍     | 22/50 [38:22<48:21, 103.64s/epoch, loss=0.396, acc=0.862, val_loss=0.374, val_acc=0.866]\u001b[A\u001b[A\n",
      "\n",
      "Epoch Progress:  44%|████▍     | 22/50 [38:22<48:21, 103.64s/epoch, loss=0.388, acc=0.865, val_loss=0.37, val_acc=0.875] \u001b[A\u001b[A\n",
      "\n",
      "Epoch Progress:  46%|████▌     | 23/50 [40:03<46:17, 102.89s/epoch, loss=0.388, acc=0.865, val_loss=0.37, val_acc=0.875]\u001b[A\u001b[A\n",
      "\n",
      "Epoch Progress:  46%|████▌     | 23/50 [40:03<46:17, 102.89s/epoch, loss=0.378, acc=0.864, val_loss=0.355, val_acc=0.879]\u001b[A\u001b[A\n",
      "\n",
      "Epoch Progress:  48%|████▊     | 24/50 [41:44<44:19, 102.31s/epoch, loss=0.378, acc=0.864, val_loss=0.355, val_acc=0.879]\u001b[A\u001b[A\n",
      "\n",
      "Epoch Progress:  48%|████▊     | 24/50 [41:44<44:19, 102.31s/epoch, loss=0.372, acc=0.871, val_loss=0.35, val_acc=0.872] \u001b[A\u001b[A\n",
      "\n",
      "Epoch Progress:  50%|█████     | 25/50 [43:35<43:39, 104.78s/epoch, loss=0.372, acc=0.871, val_loss=0.35, val_acc=0.872]\u001b[A\u001b[A\n",
      "\n",
      "Epoch Progress:  50%|█████     | 25/50 [43:35<43:39, 104.78s/epoch, loss=0.375, acc=0.866, val_loss=0.36, val_acc=0.869]\u001b[A\u001b[A\n",
      "\n",
      "Epoch Progress:  52%|█████▏    | 26/50 [45:19<41:52, 104.68s/epoch, loss=0.375, acc=0.866, val_loss=0.36, val_acc=0.869]\u001b[A\u001b[A\n",
      "\n",
      "Epoch Progress:  52%|█████▏    | 26/50 [45:19<41:52, 104.68s/epoch, loss=0.363, acc=0.872, val_loss=0.354, val_acc=0.872]\u001b[A\u001b[A\n",
      "\n",
      "Epoch Progress:  54%|█████▍    | 27/50 [47:03<39:57, 104.26s/epoch, loss=0.363, acc=0.872, val_loss=0.354, val_acc=0.872]\u001b[A\u001b[A\n",
      "\n",
      "Epoch Progress:  54%|█████▍    | 27/50 [47:03<39:57, 104.26s/epoch, loss=0.361, acc=0.869, val_loss=0.348, val_acc=0.876]\u001b[A\u001b[A\n",
      "\n",
      "Epoch Progress:  56%|█████▌    | 28/50 [48:45<38:01, 103.69s/epoch, loss=0.361, acc=0.869, val_loss=0.348, val_acc=0.876]\u001b[A\u001b[A\n",
      "\n",
      "Epoch Progress:  56%|█████▌    | 28/50 [48:45<38:01, 103.69s/epoch, loss=0.348, acc=0.875, val_loss=0.324, val_acc=0.886]\u001b[A\u001b[A\n",
      "\n",
      "Epoch Progress:  58%|█████▊    | 29/50 [50:26<36:01, 102.91s/epoch, loss=0.348, acc=0.875, val_loss=0.324, val_acc=0.886]\u001b[A\u001b[A\n",
      "\n",
      "Epoch Progress:  58%|█████▊    | 29/50 [50:26<36:01, 102.91s/epoch, loss=0.357, acc=0.874, val_loss=0.355, val_acc=0.882]\u001b[A\u001b[A\n",
      "\n",
      "Epoch Progress:  60%|██████    | 30/50 [52:06<34:03, 102.15s/epoch, loss=0.357, acc=0.874, val_loss=0.355, val_acc=0.882]\u001b[A\u001b[A\n",
      "\n",
      "Epoch Progress:  60%|██████    | 30/50 [52:06<34:03, 102.15s/epoch, loss=0.344, acc=0.88, val_loss=0.327, val_acc=0.884] \u001b[A\u001b[A\n",
      "\n",
      "Epoch Progress:  62%|██████▏   | 31/50 [53:51<32:35, 102.92s/epoch, loss=0.344, acc=0.88, val_loss=0.327, val_acc=0.884]\u001b[A\u001b[A\n",
      "\n",
      "Epoch Progress:  62%|██████▏   | 31/50 [53:51<32:35, 102.92s/epoch, loss=0.351, acc=0.875, val_loss=0.324, val_acc=0.888]\u001b[A\u001b[A\n",
      "\n",
      "Epoch Progress:  64%|██████▍   | 32/50 [55:32<30:40, 102.23s/epoch, loss=0.351, acc=0.875, val_loss=0.324, val_acc=0.888]\u001b[A\u001b[A\n",
      "\n",
      "Epoch Progress:  64%|██████▍   | 32/50 [55:32<30:40, 102.23s/epoch, loss=0.339, acc=0.877, val_loss=0.355, val_acc=0.877]\u001b[A\u001b[A\n",
      "\n",
      "Epoch Progress:  66%|██████▌   | 33/50 [57:14<28:56, 102.13s/epoch, loss=0.339, acc=0.877, val_loss=0.355, val_acc=0.877]\u001b[A\u001b[A\n",
      "\n",
      "Epoch Progress:  66%|██████▌   | 33/50 [57:14<28:56, 102.13s/epoch, loss=0.355, acc=0.874, val_loss=0.321, val_acc=0.887]\u001b[A\u001b[A\n",
      "\n",
      "Epoch Progress:  68%|██████▊   | 34/50 [58:57<27:20, 102.52s/epoch, loss=0.355, acc=0.874, val_loss=0.321, val_acc=0.887]\u001b[A\u001b[A\n",
      "\n",
      "Epoch Progress:  68%|██████▊   | 34/50 [58:57<27:20, 102.52s/epoch, loss=0.336, acc=0.876, val_loss=0.32, val_acc=0.886] \u001b[A\u001b[A\n",
      "\n",
      "Epoch Progress:  70%|███████   | 35/50 [1:00:39<25:34, 102.29s/epoch, loss=0.336, acc=0.876, val_loss=0.32, val_acc=0.886]\u001b[A\u001b[A\n",
      "\n",
      "Epoch Progress:  70%|███████   | 35/50 [1:00:39<25:34, 102.29s/epoch, loss=0.325, acc=0.884, val_loss=0.317, val_acc=0.887]\u001b[A\u001b[A\n",
      "\n",
      "Epoch Progress:  72%|███████▏  | 36/50 [1:02:21<23:50, 102.17s/epoch, loss=0.325, acc=0.884, val_loss=0.317, val_acc=0.887]\u001b[A\u001b[A\n",
      "\n",
      "Epoch Progress:  72%|███████▏  | 36/50 [1:02:21<23:50, 102.17s/epoch, loss=0.322, acc=0.886, val_loss=0.35, val_acc=0.878] \u001b[A\u001b[A\n",
      "\n",
      "Epoch Progress:  74%|███████▍  | 37/50 [1:04:01<22:01, 101.64s/epoch, loss=0.322, acc=0.886, val_loss=0.35, val_acc=0.878]\u001b[A\u001b[A\n",
      "\n",
      "Epoch Progress:  74%|███████▍  | 37/50 [1:04:01<22:01, 101.64s/epoch, loss=0.329, acc=0.88, val_loss=0.345, val_acc=0.877]\u001b[A\u001b[A\n",
      "\n",
      "Epoch Progress:  76%|███████▌  | 38/50 [1:05:43<20:20, 101.73s/epoch, loss=0.329, acc=0.88, val_loss=0.345, val_acc=0.877]\u001b[A\u001b[A\n",
      "\n",
      "Epoch Progress:  76%|███████▌  | 38/50 [1:05:43<20:20, 101.73s/epoch, loss=0.324, acc=0.883, val_loss=0.345, val_acc=0.881]\u001b[A\u001b[A\n",
      "\n",
      "Epoch Progress:  78%|███████▊  | 39/50 [1:07:25<18:38, 101.72s/epoch, loss=0.324, acc=0.883, val_loss=0.345, val_acc=0.881]\u001b[A\u001b[A\n",
      "\n",
      "Epoch Progress:  78%|███████▊  | 39/50 [1:07:25<18:38, 101.72s/epoch, loss=0.315, acc=0.887, val_loss=0.301, val_acc=0.898]\u001b[A\u001b[A\n",
      "\n",
      "Epoch Progress:  80%|████████  | 40/50 [1:09:07<16:58, 101.84s/epoch, loss=0.315, acc=0.887, val_loss=0.301, val_acc=0.898]\u001b[A\u001b[A\n",
      "\n",
      "Epoch Progress:  80%|████████  | 40/50 [1:09:07<16:58, 101.84s/epoch, loss=0.313, acc=0.887, val_loss=0.331, val_acc=0.881]\u001b[A\u001b[A\n",
      "\n",
      "Epoch Progress:  82%|████████▏ | 41/50 [1:10:48<15:13, 101.48s/epoch, loss=0.313, acc=0.887, val_loss=0.331, val_acc=0.881]\u001b[A\u001b[A\n",
      "\n",
      "Epoch Progress:  82%|████████▏ | 41/50 [1:10:48<15:13, 101.48s/epoch, loss=0.318, acc=0.886, val_loss=0.312, val_acc=0.892]\u001b[A\u001b[A\n",
      "\n",
      "Epoch Progress:  84%|████████▍ | 42/50 [1:13:09<15:07, 113.39s/epoch, loss=0.318, acc=0.886, val_loss=0.312, val_acc=0.892]\u001b[A\u001b[A\n",
      "\n",
      "Epoch Progress:  84%|████████▍ | 42/50 [1:13:09<15:07, 113.39s/epoch, loss=0.302, acc=0.891, val_loss=0.325, val_acc=0.878]\u001b[A\u001b[A\n",
      "\n",
      "Epoch Progress:  86%|████████▌ | 43/50 [1:15:12<13:34, 116.32s/epoch, loss=0.302, acc=0.891, val_loss=0.325, val_acc=0.878]\u001b[A\u001b[A\n",
      "\n",
      "Epoch Progress:  86%|████████▌ | 43/50 [1:15:12<13:34, 116.32s/epoch, loss=0.307, acc=0.891, val_loss=0.304, val_acc=0.89] \u001b[A\u001b[A\n",
      "\n",
      "Epoch Progress:  88%|████████▊ | 44/50 [1:17:13<11:46, 117.72s/epoch, loss=0.307, acc=0.891, val_loss=0.304, val_acc=0.89]\u001b[A\u001b[A\n",
      "\n",
      "Epoch Progress:  88%|████████▊ | 44/50 [1:17:13<11:46, 117.72s/epoch, loss=0.3, acc=0.891, val_loss=0.338, val_acc=0.881] \u001b[A\u001b[A\n",
      "\n",
      "Epoch Progress:  90%|█████████ | 45/50 [1:19:04<09:38, 115.66s/epoch, loss=0.3, acc=0.891, val_loss=0.338, val_acc=0.881]\u001b[A\u001b[A\n",
      "\n",
      "Epoch Progress:  90%|█████████ | 45/50 [1:19:04<09:38, 115.66s/epoch, loss=0.312, acc=0.887, val_loss=0.321, val_acc=0.889]\u001b[A\u001b[A\n",
      "\n",
      "Epoch Progress:  92%|█████████▏| 46/50 [1:20:46<07:26, 111.62s/epoch, loss=0.312, acc=0.887, val_loss=0.321, val_acc=0.889]\u001b[A\u001b[A\n",
      "\n",
      "Epoch Progress:  92%|█████████▏| 46/50 [1:20:46<07:26, 111.62s/epoch, loss=0.308, acc=0.891, val_loss=0.314, val_acc=0.892]\u001b[A\u001b[A\n",
      "\n",
      "Epoch Progress:  94%|█████████▍| 47/50 [1:22:33<05:30, 110.31s/epoch, loss=0.308, acc=0.891, val_loss=0.314, val_acc=0.892]\u001b[A\u001b[A\n",
      "\n",
      "Epoch Progress:  94%|█████████▍| 47/50 [1:22:33<05:30, 110.31s/epoch, loss=0.294, acc=0.896, val_loss=0.294, val_acc=0.902]\u001b[A\u001b[A\n",
      "\n",
      "Epoch Progress:  96%|█████████▌| 48/50 [1:24:29<03:43, 112.00s/epoch, loss=0.294, acc=0.896, val_loss=0.294, val_acc=0.902]\u001b[A\u001b[A\n",
      "\n",
      "Epoch Progress:  96%|█████████▌| 48/50 [1:24:29<03:43, 112.00s/epoch, loss=0.303, acc=0.892, val_loss=0.292, val_acc=0.901]\u001b[A\u001b[A\n",
      "\n",
      "Epoch Progress:  98%|█████████▊| 49/50 [1:26:26<01:53, 113.58s/epoch, loss=0.303, acc=0.892, val_loss=0.292, val_acc=0.901]\u001b[A\u001b[A\n",
      "\n",
      "Epoch Progress:  98%|█████████▊| 49/50 [1:26:26<01:53, 113.58s/epoch, loss=0.285, acc=0.899, val_loss=0.287, val_acc=0.902]\u001b[A\u001b[A\n",
      "\n",
      "Epoch Progress: 100%|██████████| 50/50 [1:28:11<00:00, 110.77s/epoch, loss=0.285, acc=0.899, val_loss=0.287, val_acc=0.902]\u001b[A\u001b[A\n",
      "\n",
      "Epoch Progress: 100%|██████████| 50/50 [1:28:11<00:00, 105.82s/epoch, loss=0.292, acc=0.892, val_loss=0.296, val_acc=0.899]\u001b[A\u001b[A\n"
     ]
    },
    {
     "data": {
      "image/png": "[encoded data removed]",
      "text/plain": [
       "<Figure size 1200x500 with 2 Axes>"
      ]
     },
     "metadata": {},
     "output_type": "display_data"
    },
    {
     "name": "stdout",
     "output_type": "stream",
     "text": [
      "Item: loss\n",
      "Item: acc\n",
      "Item: val_loss\n",
      "Item: val_acc\n",
      "Files saved: ['metrics/metrics_2024_12_09_at_1506.xlsx', 'metrics/summary_2024_12_09_at_1506.txt']\n"
     ]
    }
   ],
   "source": [
    "## Fit the model\n",
    "if verbose == 1:\n",
    "    print(parameter.num_epochs,parameter.batch_size)\n",
    "    \n",
    "history = model.fit(train_dataset, \n",
    "                    validation_data=test_dataset, \n",
    "                    epochs=parameter.num_epochs, \n",
    "                    batch_size=parameter.batch_size, \n",
    "                    verbose=0,\n",
    "                    callbacks = [tqdm_callback])\n",
    "\n",
    "## output graphs and save metrics files\n",
    "ac.graph_and_save(history,summary_content,parameter,filebase)"
   ]
  },
  {
   "cell_type": "code",
   "execution_count": null,
   "metadata": {},
   "outputs": [],
   "source": []
  }
 ],
 "metadata": {
  "colab": {
   "collapsed_sections": [
    "928tj4hm_HRl",
    "LY2oUxSh_Nbk",
    "pJ0M8Nzx_Tir",
    "V_0zJR_ZAD0-"
   ],
   "provenance": []
  },
  "kernelspec": {
   "display_name": "Python 3 (ipykernel)",
   "language": "python",
   "name": "python3"
  },
  "language_info": {
   "codemirror_mode": {
    "name": "ipython",
    "version": 3
   },
   "file_extension": ".py",
   "mimetype": "text/x-python",
   "name": "python",
   "nbconvert_exporter": "python",
   "pygments_lexer": "ipython3",
   "version": "3.8.18"
  }
 },
 "nbformat": 4,
 "nbformat_minor": 4
}
