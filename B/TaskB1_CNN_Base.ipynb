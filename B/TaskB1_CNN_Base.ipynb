{
 "cells": [
  {
   "cell_type": "markdown",
   "metadata": {
    "id": "qgV_pyyf--49"
   },
   "source": [
    "\n",
    "\n",
    "# AMLS Assignment Draft\n",
    "## Task B: CNN on BloodMNIST Dataset\n",
    "\n",
    "Explore CNN based classifiers on the BloodMNIST dataset."
   ]
  },
  {
   "cell_type": "markdown",
   "metadata": {
    "id": "928tj4hm_HRl"
   },
   "source": [
    "## Import libraries\n",
    "The required libraries for this notebook are sklearn, copy, numpy and matplotlib."
   ]
  },
  {
   "cell_type": "code",
   "execution_count": 14,
   "metadata": {
    "id": "ZR9HIUUN-601"
   },
   "outputs": [
    {
     "name": "stdout",
     "output_type": "stream",
     "text": [
      "The autoreload extension is already loaded. To reload it, use:\n",
      "  %reload_ext autoreload\n"
     ]
    }
   ],
   "source": [
    "## first enable autoreload during development so latest (new) version local code library is reloaded on execution \n",
    "## can be commented out when local code development not happening to avoid overhead\n",
    "%load_ext autoreload\n",
    "%autoreload 2\n",
    "\n",
    "## import libraries\n",
    "import io\n",
    "import numpy as np\n",
    "import matplotlib.pyplot as plt\n",
    "\n",
    "## tqdm callback moved to AMLS_common\n",
    "        \n",
    "## import tensorflow\n",
    "import tensorflow as tf\n",
    "from tensorflow.keras.models import Sequential\n",
    "from tensorflow.keras.layers import Conv2D, Flatten, Dense, MaxPooling2D, Dropout\n",
    "from tensorflow.keras.optimizers import Adam, SGD, RMSprop\n",
    "from tensorflow.keras.losses import BinaryCrossentropy\n",
    "\n",
    "## local code library\n",
    "import AMLS_common as ac"
   ]
  },
  {
   "cell_type": "markdown",
   "metadata": {},
   "source": [
    "## Set base parameters\n",
    "Including hyperparameters and environment specifics"
   ]
  },
  {
   "cell_type": "code",
   "execution_count": 15,
   "metadata": {},
   "outputs": [],
   "source": [
    "## Initialize hyperparameters\n",
    "parameter = ac.HyperParameters(learning_rate=0.001, \n",
    "                               batch_size=128, \n",
    "                               num_epochs=50, \n",
    "                               optimise=\"Adam\",\n",
    "                               loss=\"SparseCategoricalCrossentropy()\",\n",
    "                               filter=16)\n",
    "\n",
    "## initialise tqdm callback\n",
    "tqdm_callback = ac.TqdmEpochProgress(total_epochs=parameter.num_epochs)\n",
    "\n",
    "## use these lists to grid test hyper parameter sensitivity\n",
    "epochs_list = [10,50,100,500]                 # number of epochs to be used\n",
    "bs_list     = [32,64,128]                     # dataset batch size\n",
    "lr_list     = [1, 0.1, 0.01, 0.001, 0.0001]   # learning rate"
   ]
  },
  {
   "cell_type": "code",
   "execution_count": 16,
   "metadata": {},
   "outputs": [],
   "source": [
    "## control (e.g. verbose) parameters\n",
    "filebase   = \"metrics/\"          ## place to save output files\n",
    "verbose    = 1                   ## to control whether additional in process information is printed"
   ]
  },
  {
   "cell_type": "markdown",
   "metadata": {
    "id": "LY2oUxSh_Nbk"
   },
   "source": [
    "## Load and preprocess the BloodMNIST Data\n",
    "We load the dataset."
   ]
  },
  {
   "cell_type": "code",
   "execution_count": 17,
   "metadata": {
    "colab": {
     "base_uri": "https://localhost:8080/"
    },
    "id": "5PeebuSr_MAs",
    "outputId": "8a71101f-13e8-4381-eaff-f3bd4887b994"
   },
   "outputs": [
    {
     "name": "stdout",
     "output_type": "stream",
     "text": [
      "Using downloaded and verified file: C:\\Users\\johnc\\.medmnist\\bloodmnist.npz\n",
      "Using downloaded and verified file: C:\\Users\\johnc\\.medmnist\\bloodmnist.npz\n",
      "Using downloaded and verified file: C:\\Users\\johnc\\.medmnist\\bloodmnist.npz\n",
      "\n",
      "Summary metrics for train_dataset\n",
      "type: <class 'tensorflow.python.data.ops.dataset_ops.BatchDataset'>\n",
      "length: 94\n",
      "shape: <BatchDataset shapes: ((None, 28, 28, 3), (None, 1)), types: (tf.float64, tf.float32)>\n"
     ]
    }
   ],
   "source": [
    "## Loading the data file using common MedMINST loader\n",
    "data_flag  = 'bloodmnist'        # defines which dataset to load\n",
    "result_set = ac.medMNIST_load(data_flag,parameter.batch_size)\n",
    "\n",
    "## check that the loader returned data correctly and then split out\n",
    "if result_set != []:\n",
    "    train_dataset = result_set[0]\n",
    "    test_dataset  = result_set[1]\n",
    "    val_dataset   = result_set[2]\n",
    "\n",
    "if verbose == 1:\n",
    "    ## print summary stats for training dataset\n",
    "    print(\"\\nSummary metrics for train_dataset\")\n",
    "    print(\"type:\",type(train_dataset))\n",
    "    print(\"length:\",len(train_dataset))\n",
    "    print(\"shape:\",train_dataset)"
   ]
  },
  {
   "cell_type": "markdown",
   "metadata": {},
   "source": [
    "## Define the CNN model\n",
    "\n",
    "Define a base model"
   ]
  },
  {
   "cell_type": "code",
   "execution_count": 18,
   "metadata": {},
   "outputs": [
    {
     "name": "stdout",
     "output_type": "stream",
     "text": [
      "Default activation is  relu\n",
      "Model: \"sequential_1\"\n",
      "_________________________________________________________________\n",
      "Layer (type)                 Output Shape              Param #   \n",
      "=================================================================\n",
      "conv2d_3 (Conv2D)            (None, 26, 26, 64)        1792      \n",
      "_________________________________________________________________\n",
      "conv2d_4 (Conv2D)            (None, 24, 24, 16)        9232      \n",
      "_________________________________________________________________\n",
      "max_pooling2d_2 (MaxPooling2 (None, 12, 12, 16)        0         \n",
      "_________________________________________________________________\n",
      "conv2d_5 (Conv2D)            (None, 10, 10, 16)        2320      \n",
      "_________________________________________________________________\n",
      "max_pooling2d_3 (MaxPooling2 (None, 5, 5, 16)          0         \n",
      "_________________________________________________________________\n",
      "flatten_1 (Flatten)          (None, 400)               0         \n",
      "_________________________________________________________________\n",
      "dropout_1 (Dropout)          (None, 400)               0         \n",
      "_________________________________________________________________\n",
      "dense_1 (Dense)              (None, 8)                 3208      \n",
      "=================================================================\n",
      "Total params: 16,552\n",
      "Trainable params: 16,552\n",
      "Non-trainable params: 0\n",
      "_________________________________________________________________\n",
      "None\n"
     ]
    }
   ],
   "source": [
    "## Define the model\n",
    "if verbose == 1:\n",
    "    print(\"Default activation is \",parameter.default_activation)\n",
    "    \n",
    "model = Sequential([\n",
    "    Conv2D(64, (3, 3), activation=parameter.default_activation, input_shape=(28, 28, 3)),   ## Input layer\n",
    "    Conv2D(16, (3, 3), activation=parameter.default_activation),                            ## Convolution layer \n",
    "    MaxPooling2D((2, 2)),                                                                   ## Reduce the features\n",
    "    Conv2D(16, (3, 3), activation=parameter.default_activation),                            ## Another Convolution layer \n",
    "    MaxPooling2D((2, 2)),                                                                   ## Again reduce the features\n",
    "    Flatten(),                                                                              # Flatten\n",
    "    Dropout(0.2),                                                                           # added dropout\n",
    "    Dense(8, activation='softmax')                                                          # Output layer for 8 types \n",
    "])\n",
    "\n",
    "print(model.summary())\n",
    "## Redirect the summary output to a string\n",
    "summary_string = io.StringIO()\n",
    "model.summary(print_fn=lambda x: summary_string.write(x + \"\\n\"))\n",
    "summary_content = summary_string.getvalue()\n",
    "summary_string.close()\n",
    "\n",
    "optimizer_choice = str(parameter.optimise)+'(learning_rate='+str(parameter.learning_rate)+')'\n",
    "optimizer        = eval(optimizer_choice)\n",
    "\n",
    "## loss_choice      = 'tf.keras.losses.SparseCategoricalCrossentropy()'\n",
    "## loss_choice      = 'tf.keras.losses.BinaryCrossentropy()'\n",
    "## tf.keras.optimizers.Adam(learning_rate=0.001)\n",
    "\n",
    "\n",
    "model.compile(optimizer=tf.keras.optimizers.Adam(learning_rate=0.001),                                                   \n",
    "              loss=tf.keras.losses.SparseCategoricalCrossentropy(),\n",
    "              metrics='acc')"
   ]
  },
  {
   "cell_type": "markdown",
   "metadata": {},
   "source": [
    "## Fit the model\n",
    "\n",
    "Fit using hyperparameters as defined above"
   ]
  },
  {
   "cell_type": "code",
   "execution_count": 19,
   "metadata": {},
   "outputs": [
    {
     "name": "stdout",
     "output_type": "stream",
     "text": [
      "50 128\n"
     ]
    },
    {
     "name": "stderr",
     "output_type": "stream",
     "text": [
      "\n",
      "Epoch Progress:   0%|          | 0/50 [00:00<?, ?epoch/s]\u001b[A\n",
      "Epoch Progress:   2%|▏         | 1/50 [02:30<2:02:39, 150.19s/epoch]\u001b[A\n",
      "Epoch Progress:   2%|▏         | 1/50 [02:30<2:02:39, 150.19s/epoch, loss=1.58, acc=0.396, val_loss=1.03, val_acc=0.633]\u001b[A\n",
      "Epoch Progress:   4%|▍         | 2/50 [04:53<1:56:49, 146.03s/epoch, loss=1.58, acc=0.396, val_loss=1.03, val_acc=0.633]\u001b[A\n",
      "Epoch Progress:   4%|▍         | 2/50 [04:53<1:56:49, 146.03s/epoch, loss=1.02, acc=0.62, val_loss=0.848, val_acc=0.716]\u001b[A\n",
      "Epoch Progress:   6%|▌         | 3/50 [07:15<1:52:54, 144.14s/epoch, loss=1.02, acc=0.62, val_loss=0.848, val_acc=0.716]\u001b[A\n",
      "Epoch Progress:   6%|▌         | 3/50 [07:15<1:52:54, 144.14s/epoch, loss=0.885, acc=0.679, val_loss=0.804, val_acc=0.744]\u001b[A\n",
      "Epoch Progress:   8%|▊         | 4/50 [09:37<1:49:55, 143.39s/epoch, loss=0.885, acc=0.679, val_loss=0.804, val_acc=0.744]\u001b[A\n",
      "Epoch Progress:   8%|▊         | 4/50 [09:37<1:49:55, 143.39s/epoch, loss=0.806, acc=0.715, val_loss=0.698, val_acc=0.764]\u001b[A\n",
      "Epoch Progress:  10%|█         | 5/50 [11:58<1:46:57, 142.62s/epoch, loss=0.806, acc=0.715, val_loss=0.698, val_acc=0.764]\u001b[A\n",
      "Epoch Progress:  10%|█         | 5/50 [11:58<1:46:57, 142.62s/epoch, loss=0.747, acc=0.733, val_loss=0.691, val_acc=0.768]\u001b[A\n",
      "Epoch Progress:  12%|█▏        | 6/50 [14:24<1:45:25, 143.75s/epoch, loss=0.747, acc=0.733, val_loss=0.691, val_acc=0.768]\u001b[A\n",
      "Epoch Progress:  12%|█▏        | 6/50 [14:24<1:45:25, 143.75s/epoch, loss=0.704, acc=0.749, val_loss=0.617, val_acc=0.791]\u001b[A\n",
      "Epoch Progress:  14%|█▍        | 7/50 [16:49<1:43:11, 143.99s/epoch, loss=0.704, acc=0.749, val_loss=0.617, val_acc=0.791]\u001b[A\n",
      "Epoch Progress:  14%|█▍        | 7/50 [16:49<1:43:11, 143.99s/epoch, loss=0.643, acc=0.773, val_loss=0.572, val_acc=0.804]\u001b[A\n",
      "Epoch Progress:  16%|█▌        | 8/50 [19:17<1:41:42, 145.31s/epoch, loss=0.643, acc=0.773, val_loss=0.572, val_acc=0.804]\u001b[A\n",
      "Epoch Progress:  16%|█▌        | 8/50 [19:17<1:41:42, 145.31s/epoch, loss=0.607, acc=0.783, val_loss=0.559, val_acc=0.807]\u001b[A\n",
      "Epoch Progress:  18%|█▊        | 9/50 [21:43<1:39:35, 145.74s/epoch, loss=0.607, acc=0.783, val_loss=0.559, val_acc=0.807]\u001b[A\n",
      "Epoch Progress:  18%|█▊        | 9/50 [21:43<1:39:35, 145.74s/epoch, loss=0.561, acc=0.804, val_loss=0.521, val_acc=0.823]\u001b[A\n",
      "Epoch Progress:  20%|██        | 10/50 [24:09<1:37:08, 145.70s/epoch, loss=0.561, acc=0.804, val_loss=0.521, val_acc=0.823]\u001b[A\n",
      "Epoch Progress:  20%|██        | 10/50 [24:09<1:37:08, 145.70s/epoch, loss=0.528, acc=0.817, val_loss=0.458, val_acc=0.842]\u001b[A\n",
      "Epoch Progress:  22%|██▏       | 11/50 [26:36<1:34:52, 145.96s/epoch, loss=0.528, acc=0.817, val_loss=0.458, val_acc=0.842]\u001b[A\n",
      "Epoch Progress:  22%|██▏       | 11/50 [26:36<1:34:52, 145.96s/epoch, loss=0.499, acc=0.826, val_loss=0.47, val_acc=0.835] \u001b[A\n",
      "Epoch Progress:  24%|██▍       | 12/50 [29:07<1:33:23, 147.46s/epoch, loss=0.499, acc=0.826, val_loss=0.47, val_acc=0.835]\u001b[A\n",
      "Epoch Progress:  24%|██▍       | 12/50 [29:07<1:33:23, 147.46s/epoch, loss=0.485, acc=0.831, val_loss=0.441, val_acc=0.848]\u001b[A\n",
      "Epoch Progress:  26%|██▌       | 13/50 [31:36<1:31:18, 148.08s/epoch, loss=0.485, acc=0.831, val_loss=0.441, val_acc=0.848]\u001b[A\n",
      "Epoch Progress:  26%|██▌       | 13/50 [31:36<1:31:18, 148.08s/epoch, loss=0.466, acc=0.836, val_loss=0.45, val_acc=0.844] \u001b[A\n",
      "Epoch Progress:  28%|██▊       | 14/50 [33:54<1:27:00, 145.00s/epoch, loss=0.466, acc=0.836, val_loss=0.45, val_acc=0.844]\u001b[A\n",
      "Epoch Progress:  28%|██▊       | 14/50 [33:54<1:27:00, 145.00s/epoch, loss=0.453, acc=0.838, val_loss=0.419, val_acc=0.852]\u001b[A\n",
      "Epoch Progress:  30%|███       | 15/50 [36:12<1:23:21, 142.89s/epoch, loss=0.453, acc=0.838, val_loss=0.419, val_acc=0.852]\u001b[A\n",
      "Epoch Progress:  30%|███       | 15/50 [36:12<1:23:21, 142.89s/epoch, loss=0.439, acc=0.844, val_loss=0.419, val_acc=0.854]\u001b[A\n",
      "Epoch Progress:  32%|███▏      | 16/50 [38:31<1:20:24, 141.90s/epoch, loss=0.439, acc=0.844, val_loss=0.419, val_acc=0.854]\u001b[A\n",
      "Epoch Progress:  32%|███▏      | 16/50 [38:31<1:20:24, 141.90s/epoch, loss=0.429, acc=0.847, val_loss=0.417, val_acc=0.852]\u001b[A\n",
      "Epoch Progress:  34%|███▍      | 17/50 [40:50<1:17:31, 140.94s/epoch, loss=0.429, acc=0.847, val_loss=0.417, val_acc=0.852]\u001b[A\n",
      "Epoch Progress:  34%|███▍      | 17/50 [40:50<1:17:31, 140.94s/epoch, loss=0.411, acc=0.856, val_loss=0.376, val_acc=0.875]\u001b[A\n",
      "Epoch Progress:  36%|███▌      | 18/50 [43:12<1:15:18, 141.20s/epoch, loss=0.411, acc=0.856, val_loss=0.376, val_acc=0.875]\u001b[A\n",
      "Epoch Progress:  36%|███▌      | 18/50 [43:12<1:15:18, 141.20s/epoch, loss=0.417, acc=0.848, val_loss=0.372, val_acc=0.871]\u001b[A\n",
      "Epoch Progress:  38%|███▊      | 19/50 [45:29<1:12:20, 140.00s/epoch, loss=0.417, acc=0.848, val_loss=0.372, val_acc=0.871]\u001b[A\n",
      "Epoch Progress:  38%|███▊      | 19/50 [45:29<1:12:20, 140.00s/epoch, loss=0.394, acc=0.86, val_loss=0.377, val_acc=0.872] \u001b[A\n",
      "Epoch Progress:  40%|████      | 20/50 [47:47<1:09:40, 139.36s/epoch, loss=0.394, acc=0.86, val_loss=0.377, val_acc=0.872]\u001b[A\n",
      "Epoch Progress:  40%|████      | 20/50 [47:47<1:09:40, 139.36s/epoch, loss=0.381, acc=0.867, val_loss=0.381, val_acc=0.868]\u001b[A\n",
      "Epoch Progress:  42%|████▏     | 21/50 [50:07<1:07:24, 139.45s/epoch, loss=0.381, acc=0.867, val_loss=0.381, val_acc=0.868]\u001b[A\n",
      "Epoch Progress:  42%|████▏     | 21/50 [50:07<1:07:24, 139.45s/epoch, loss=0.385, acc=0.859, val_loss=0.359, val_acc=0.88] \u001b[A\n",
      "Epoch Progress:  44%|████▍     | 22/50 [52:25<1:04:51, 138.97s/epoch, loss=0.385, acc=0.859, val_loss=0.359, val_acc=0.88]\u001b[A\n",
      "Epoch Progress:  44%|████▍     | 22/50 [52:25<1:04:51, 138.97s/epoch, loss=0.381, acc=0.865, val_loss=0.346, val_acc=0.884]\u001b[A\n",
      "Epoch Progress:  46%|████▌     | 23/50 [54:45<1:02:42, 139.34s/epoch, loss=0.381, acc=0.865, val_loss=0.346, val_acc=0.884]\u001b[A\n",
      "Epoch Progress:  46%|████▌     | 23/50 [54:45<1:02:42, 139.34s/epoch, loss=0.37, acc=0.867, val_loss=0.351, val_acc=0.876] \u001b[A\n",
      "Epoch Progress:  48%|████▊     | 24/50 [57:02<1:00:04, 138.65s/epoch, loss=0.37, acc=0.867, val_loss=0.351, val_acc=0.876]\u001b[A\n",
      "Epoch Progress:  48%|████▊     | 24/50 [57:02<1:00:04, 138.65s/epoch, loss=0.363, acc=0.87, val_loss=0.331, val_acc=0.887]\u001b[A\n",
      "Epoch Progress:  50%|█████     | 25/50 [1:00:10<1:03:53, 153.36s/epoch, loss=0.363, acc=0.87, val_loss=0.331, val_acc=0.887]\u001b[A\n",
      "Epoch Progress:  50%|█████     | 25/50 [1:00:10<1:03:53, 153.36s/epoch, loss=0.353, acc=0.873, val_loss=0.351, val_acc=0.876]\u001b[A\n",
      "Epoch Progress:  52%|█████▏    | 26/50 [1:02:34<1:00:14, 150.60s/epoch, loss=0.353, acc=0.873, val_loss=0.351, val_acc=0.876]\u001b[A\n",
      "Epoch Progress:  52%|█████▏    | 26/50 [1:02:34<1:00:14, 150.60s/epoch, loss=0.347, acc=0.874, val_loss=0.35, val_acc=0.88]  \u001b[A\n",
      "Epoch Progress:  54%|█████▍    | 27/50 [1:04:56<56:45, 148.07s/epoch, loss=0.347, acc=0.874, val_loss=0.35, val_acc=0.88]  \u001b[A\n",
      "Epoch Progress:  54%|█████▍    | 27/50 [1:04:56<56:45, 148.07s/epoch, loss=0.341, acc=0.875, val_loss=0.342, val_acc=0.89]\u001b[A\n",
      "Epoch Progress:  56%|█████▌    | 28/50 [1:07:17<53:33, 146.05s/epoch, loss=0.341, acc=0.875, val_loss=0.342, val_acc=0.89]\u001b[A\n",
      "Epoch Progress:  56%|█████▌    | 28/50 [1:07:17<53:33, 146.05s/epoch, loss=0.359, acc=0.868, val_loss=0.336, val_acc=0.886]\u001b[A\n",
      "Epoch Progress:  58%|█████▊    | 29/50 [1:09:42<50:59, 145.68s/epoch, loss=0.359, acc=0.868, val_loss=0.336, val_acc=0.886]\u001b[A\n",
      "Epoch Progress:  58%|█████▊    | 29/50 [1:09:42<50:59, 145.68s/epoch, loss=0.335, acc=0.88, val_loss=0.337, val_acc=0.884] \u001b[A\n",
      "Epoch Progress:  60%|██████    | 30/50 [1:12:06<48:25, 145.29s/epoch, loss=0.335, acc=0.88, val_loss=0.337, val_acc=0.884]\u001b[A\n",
      "Epoch Progress:  60%|██████    | 30/50 [1:12:06<48:25, 145.29s/epoch, loss=0.337, acc=0.877, val_loss=0.328, val_acc=0.888]\u001b[A\n",
      "Epoch Progress:  62%|██████▏   | 31/50 [1:14:28<45:42, 144.33s/epoch, loss=0.337, acc=0.877, val_loss=0.328, val_acc=0.888]\u001b[A\n",
      "Epoch Progress:  62%|██████▏   | 31/50 [1:14:28<45:42, 144.33s/epoch, loss=0.33, acc=0.881, val_loss=0.341, val_acc=0.878] \u001b[A\n",
      "Epoch Progress:  64%|██████▍   | 32/50 [1:16:52<43:13, 144.08s/epoch, loss=0.33, acc=0.881, val_loss=0.341, val_acc=0.878]\u001b[A\n",
      "Epoch Progress:  64%|██████▍   | 32/50 [1:16:52<43:13, 144.08s/epoch, loss=0.336, acc=0.878, val_loss=0.322, val_acc=0.886]\u001b[A\n",
      "Epoch Progress:  66%|██████▌   | 33/50 [1:19:12<40:28, 142.86s/epoch, loss=0.336, acc=0.878, val_loss=0.322, val_acc=0.886]\u001b[A\n",
      "Epoch Progress:  66%|██████▌   | 33/50 [1:19:12<40:28, 142.86s/epoch, loss=0.326, acc=0.882, val_loss=0.315, val_acc=0.895]\u001b[A\n",
      "Epoch Progress:  68%|██████▊   | 34/50 [1:33:02<1:33:05, 349.10s/epoch, loss=0.326, acc=0.882, val_loss=0.315, val_acc=0.895]\u001b[A\n",
      "Epoch Progress:  68%|██████▊   | 34/50 [1:33:02<1:33:05, 349.10s/epoch, loss=0.318, acc=0.885, val_loss=0.321, val_acc=0.892]\u001b[A\n",
      "Epoch Progress:  70%|███████   | 35/50 [1:35:26<1:11:52, 287.47s/epoch, loss=0.318, acc=0.885, val_loss=0.321, val_acc=0.892]\u001b[A\n",
      "Epoch Progress:  70%|███████   | 35/50 [1:35:26<1:11:52, 287.47s/epoch, loss=0.319, acc=0.884, val_loss=0.304, val_acc=0.901]\u001b[A\n",
      "Epoch Progress:  72%|███████▏  | 36/50 [1:37:56<57:25, 246.13s/epoch, loss=0.319, acc=0.884, val_loss=0.304, val_acc=0.901]  \u001b[A\n",
      "Epoch Progress:  72%|███████▏  | 36/50 [1:37:56<57:25, 246.13s/epoch, loss=0.31, acc=0.888, val_loss=0.32, val_acc=0.894]  \u001b[A\n",
      "Epoch Progress:  74%|███████▍  | 37/50 [1:40:20<46:41, 215.46s/epoch, loss=0.31, acc=0.888, val_loss=0.32, val_acc=0.894]\u001b[A\n",
      "Epoch Progress:  74%|███████▍  | 37/50 [1:40:20<46:41, 215.46s/epoch, loss=0.308, acc=0.889, val_loss=0.316, val_acc=0.887]\u001b[A\n",
      "Epoch Progress:  76%|███████▌  | 38/50 [1:42:45<38:53, 194.44s/epoch, loss=0.308, acc=0.889, val_loss=0.316, val_acc=0.887]\u001b[A\n",
      "Epoch Progress:  76%|███████▌  | 38/50 [1:42:45<38:53, 194.44s/epoch, loss=0.325, acc=0.883, val_loss=0.36, val_acc=0.877] \u001b[A\n",
      "Epoch Progress:  78%|███████▊  | 39/50 [1:45:11<32:59, 179.99s/epoch, loss=0.325, acc=0.883, val_loss=0.36, val_acc=0.877]\u001b[A\n",
      "Epoch Progress:  78%|███████▊  | 39/50 [1:45:11<32:59, 179.99s/epoch, loss=0.306, acc=0.889, val_loss=0.305, val_acc=0.899]\u001b[A\n",
      "Epoch Progress:  80%|████████  | 40/50 [1:56:47<55:47, 334.71s/epoch, loss=0.306, acc=0.889, val_loss=0.305, val_acc=0.899]\u001b[A\n",
      "Epoch Progress:  80%|████████  | 40/50 [1:56:47<55:47, 334.71s/epoch, loss=0.304, acc=0.891, val_loss=0.315, val_acc=0.899]\u001b[A\n",
      "Epoch Progress:  82%|████████▏ | 41/50 [1:59:11<41:38, 277.60s/epoch, loss=0.304, acc=0.891, val_loss=0.315, val_acc=0.899]\u001b[A\n",
      "Epoch Progress:  82%|████████▏ | 41/50 [1:59:11<41:38, 277.60s/epoch, loss=0.303, acc=0.891, val_loss=0.322, val_acc=0.894]\u001b[A\n",
      "Epoch Progress:  84%|████████▍ | 42/50 [2:01:38<31:46, 238.36s/epoch, loss=0.303, acc=0.891, val_loss=0.322, val_acc=0.894]\u001b[A\n",
      "Epoch Progress:  84%|████████▍ | 42/50 [2:01:38<31:46, 238.36s/epoch, loss=0.286, acc=0.896, val_loss=0.295, val_acc=0.904]\u001b[A\n",
      "Epoch Progress:  86%|████████▌ | 43/50 [2:04:04<24:34, 210.64s/epoch, loss=0.286, acc=0.896, val_loss=0.295, val_acc=0.904]\u001b[A\n",
      "Epoch Progress:  86%|████████▌ | 43/50 [2:04:04<24:34, 210.64s/epoch, loss=0.293, acc=0.894, val_loss=0.345, val_acc=0.878]\u001b[A\n",
      "Epoch Progress:  88%|████████▊ | 44/50 [2:06:32<19:10, 191.82s/epoch, loss=0.293, acc=0.894, val_loss=0.345, val_acc=0.878]\u001b[A\n",
      "Epoch Progress:  88%|████████▊ | 44/50 [2:06:32<19:10, 191.82s/epoch, loss=0.289, acc=0.896, val_loss=0.299, val_acc=0.897]\u001b[A\n",
      "Epoch Progress:  90%|█████████ | 45/50 [2:17:44<27:59, 335.81s/epoch, loss=0.289, acc=0.896, val_loss=0.299, val_acc=0.897]\u001b[A\n",
      "Epoch Progress:  90%|█████████ | 45/50 [2:17:44<27:59, 335.81s/epoch, loss=0.29, acc=0.895, val_loss=0.292, val_acc=0.901] \u001b[A\n",
      "Epoch Progress:  92%|█████████▏| 46/50 [2:20:12<18:38, 279.64s/epoch, loss=0.29, acc=0.895, val_loss=0.292, val_acc=0.901]\u001b[A\n",
      "Epoch Progress:  92%|█████████▏| 46/50 [2:20:12<18:38, 279.64s/epoch, loss=0.294, acc=0.895, val_loss=0.33, val_acc=0.887]\u001b[A\n",
      "Epoch Progress:  94%|█████████▍| 47/50 [2:22:42<12:01, 240.53s/epoch, loss=0.294, acc=0.895, val_loss=0.33, val_acc=0.887]\u001b[A\n",
      "Epoch Progress:  94%|█████████▍| 47/50 [2:22:42<12:01, 240.53s/epoch, loss=0.288, acc=0.895, val_loss=0.3, val_acc=0.897] \u001b[A\n",
      "Epoch Progress:  96%|█████████▌| 48/50 [2:25:06<07:03, 211.68s/epoch, loss=0.288, acc=0.895, val_loss=0.3, val_acc=0.897]\u001b[A\n",
      "Epoch Progress:  96%|█████████▌| 48/50 [2:25:06<07:03, 211.68s/epoch, loss=0.284, acc=0.899, val_loss=0.286, val_acc=0.904]\u001b[A\n",
      "Epoch Progress:  98%|█████████▊| 49/50 [2:27:33<03:12, 192.22s/epoch, loss=0.284, acc=0.899, val_loss=0.286, val_acc=0.904]\u001b[A\n",
      "Epoch Progress:  98%|█████████▊| 49/50 [2:27:33<03:12, 192.22s/epoch, loss=0.275, acc=0.903, val_loss=0.296, val_acc=0.906]\u001b[A\n",
      "Epoch Progress: 100%|██████████| 50/50 [2:30:00<00:00, 178.69s/epoch, loss=0.275, acc=0.903, val_loss=0.296, val_acc=0.906]\u001b[A\n",
      "Epoch Progress: 100%|██████████| 50/50 [2:30:00<00:00, 180.01s/epoch, loss=0.277, acc=0.899, val_loss=0.285, val_acc=0.902]\u001b[A\n"
     ]
    },
    {
     "data": {
      "image/png": "[encoded data removed]",
      "text/plain": [
       "<Figure size 1200x500 with 2 Axes>"
      ]
     },
     "metadata": {},
     "output_type": "display_data"
    },
    {
     "name": "stdout",
     "output_type": "stream",
     "text": [
      "Files saved: metrics/metrics_2024_12_17_at_184704.xlsx metrics/summary_2024_12_17_at_184704.txt\n"
     ]
    },
    {
     "data": {
      "text/plain": [
       "['metrics/metrics_2024_12_17_at_184704.xlsx',\n",
       " 'metrics/summary_2024_12_17_at_184704.txt',\n",
       " RunResult(min_loss=0.27459031343460083, max_acc=0.9025002121925354, last_loss=0.2771456241607666, last_acc=0.8990718126296997, var_loss=0.05494743597270973, var_acc=0.007758286817868338),\n",
       " HyperParameters(learning_rate=0.001, batch_size=128, num_epochs=50, optimise='Adam', loss='SparseCategoricalCrossentropy()', filter=16, filter2=16, dropout_rate=0.2, layers=3, default_activation='relu')]"
      ]
     },
     "execution_count": 19,
     "metadata": {},
     "output_type": "execute_result"
    }
   ],
   "source": [
    "## Fit the model\n",
    "if verbose == 1:\n",
    "    print(parameter.num_epochs,parameter.batch_size)\n",
    "    \n",
    "history = model.fit(train_dataset, \n",
    "                    validation_data=test_dataset, \n",
    "                    epochs=parameter.num_epochs, \n",
    "                    batch_size=parameter.batch_size, \n",
    "                    verbose=0,\n",
    "                    callbacks = [tqdm_callback])\n",
    "\n",
    "## output graphs and save metrics files\n",
    "ac.graph_and_save(history,summary_content,parameter,filebase)"
   ]
  },
  {
   "cell_type": "code",
   "execution_count": null,
   "metadata": {},
   "outputs": [],
   "source": []
  }
 ],
 "metadata": {
  "colab": {
   "collapsed_sections": [
    "928tj4hm_HRl",
    "LY2oUxSh_Nbk",
    "pJ0M8Nzx_Tir",
    "V_0zJR_ZAD0-"
   ],
   "provenance": []
  },
  "kernelspec": {
   "display_name": "Python 3 (ipykernel)",
   "language": "python",
   "name": "python3"
  },
  "language_info": {
   "codemirror_mode": {
    "name": "ipython",
    "version": 3
   },
   "file_extension": ".py",
   "mimetype": "text/x-python",
   "name": "python",
   "nbconvert_exporter": "python",
   "pygments_lexer": "ipython3",
   "version": "3.8.18"
  }
 },
 "nbformat": 4,
 "nbformat_minor": 4
}
