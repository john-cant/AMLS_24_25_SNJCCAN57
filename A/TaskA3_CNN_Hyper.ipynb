{
 "cells": [
  {
   "cell_type": "markdown",
   "metadata": {
    "id": "qgV_pyyf--49"
   },
   "source": [
    "\n",
    "\n",
    "# AMLS Assignment Draft\n",
    "## Task A_3: CNN on BreastMNIST Dataset Validating Learning Rate\n",
    "\n",
    "Explore range of Learning Rates for CNN based model on the BreastMNIST dataset."
   ]
  },
  {
   "cell_type": "markdown",
   "metadata": {
    "id": "928tj4hm_HRl"
   },
   "source": [
    "## Import libraries\n",
    "The required libraries for this notebook include numpy, matplotlib, tensorflow, medmnist and also a custom built dataload and utility library."
   ]
  },
  {
   "cell_type": "code",
   "execution_count": 1,
   "metadata": {
    "id": "ZR9HIUUN-601"
   },
   "outputs": [],
   "source": [
    "## import libraries\n",
    "## first enable autoreload during development so latest (new) version local code library is reloaded on execution \n",
    "## can be commented out when local code development not happening to avoid overhead\n",
    "%load_ext autoreload\n",
    "%autoreload 2\n",
    "    \n",
    "import io\n",
    "import time                          ## to enable delays between file saves\n",
    "import numpy as np                 \n",
    "import matplotlib.pyplot as plt      ## for graphing\n",
    "import pandas as pd                  ## to enable data structure changes\n",
    "## import tensorflow\n",
    "import tensorflow as tf\n",
    "from tensorflow.keras.models import Sequential\n",
    "from tensorflow.keras.layers import Conv2D, Flatten, Dense, MaxPooling2D, Dropout\n",
    "from tensorflow.keras.optimizers import Adam, SGD, RMSprop\n",
    "from tensorflow.keras.losses import BinaryCrossentropy, Hinge\n",
    "\n",
    "## removed MedMNIST as only used in AMLS common library\n",
    "\n",
    "## local code library\n",
    "import AMLS_common as ac"
   ]
  },
  {
   "cell_type": "markdown",
   "metadata": {},
   "source": [
    "## Set base parameters\n",
    "Including hyper parameters and data set specifics"
   ]
  },
  {
   "cell_type": "code",
   "execution_count": 2,
   "metadata": {},
   "outputs": [
    {
     "name": "stdout",
     "output_type": "stream",
     "text": [
      "test cases: 144\n"
     ]
    }
   ],
   "source": [
    "## set up lists and parameters\n",
    "test_list     = []\n",
    "run_list      = []\n",
    "## use these lists of values to grid test hyper parameter sensitivity                \n",
    "epochs_list   = [30,40]                         ## set of epochs to run for\n",
    "bs_list       = [128]                           ## dataset batch size\n",
    "lr_list       = [0.01, 0.001, 0.0001]           ## learning rates\n",
    "filter_list   = [16,32,64]                      ## main filter sizes to use\n",
    "ly_list       = [2,3]                         ## number of covolution layers\n",
    "dr_list       = [0.1,0.4]               ## selected dropout rates\n",
    "loss_list     = ['binary_crossentropy'] ## loss functions to use\n",
    "optimise_list = ['Adam']        ## optimisation functions\n",
    "st_list       = [1,2]\n",
    "for ep in epochs_list:\n",
    "    for bs in bs_list:\n",
    "        for lr in lr_list:\n",
    "            for fi in filter_list:\n",
    "                for ly in ly_list:\n",
    "                    for dr in dr_list:\n",
    "                        for ls in loss_list:\n",
    "                            for op in optimise_list:\n",
    "                                for st in st_list:\n",
    "                                    parameter = ac.HyperParameters(learning_rate=lr, \n",
    "                                                                   batch_size=bs, \n",
    "                                                                   num_epochs=ep, \n",
    "                                                                   num_filter=fi,\n",
    "                                                                   layers=ly,\n",
    "                                                                   dropout_rate=dr,\n",
    "                                                                   strides=st,\n",
    "                                                                   padding=\"same\",\n",
    "                                                                   optimise=op,\n",
    "                                                                   loss=ls)          \n",
    "                                    test_list.append([parameter])\n",
    "## reshape parameters into a test grid that can be read using for loop\n",
    "test_grid = [hp for sublist in test_list for hp in sublist]\n",
    "print(\"test cases:\",len(test_grid))"
   ]
  },
  {
   "cell_type": "code",
   "execution_count": 3,
   "metadata": {},
   "outputs": [],
   "source": [
    "## control and environment (e.g. verbose) parameters\n",
    "filebase   = \"metrics/\"          # the folder to store the metrics and summary files generated for each run\n",
    "verbose    = 0                   # if value equals 1 then print additional process information in steps below"
   ]
  },
  {
   "cell_type": "markdown",
   "metadata": {
    "id": "LY2oUxSh_Nbk"
   },
   "source": [
    "## Load and preprocess the BreastMNIST Data\n",
    "We load the dataset."
   ]
  },
  {
   "cell_type": "code",
   "execution_count": 4,
   "metadata": {
    "colab": {
     "base_uri": "https://localhost:8080/"
    },
    "id": "5PeebuSr_MAs",
    "outputId": "8a71101f-13e8-4381-eaff-f3bd4887b994"
   },
   "outputs": [
    {
     "name": "stdout",
     "output_type": "stream",
     "text": [
      "Using downloaded and verified file: C:\\Users\\johnc\\.medmnist\\breastmnist.npz\n",
      "Using downloaded and verified file: C:\\Users\\johnc\\.medmnist\\breastmnist.npz\n",
      "Using downloaded and verified file: C:\\Users\\johnc\\.medmnist\\breastmnist.npz\n"
     ]
    }
   ],
   "source": [
    "## Loading the data file using custom MedMINST loader\n",
    "data_flag  = 'breastmnist'       ## defines which dataset to load\n",
    "result_set = ac.medMNIST_load(data_flag,128)\n",
    "\n",
    "## check that the loader returned data correctly and then split out\n",
    "if result_set != []:\n",
    "    train_dataset = result_set[0]\n",
    "    test_dataset  = result_set[1]\n",
    "    val_dataset   = result_set[2]\n",
    "\n",
    "if verbose == 1:\n",
    "    print(\"\\nSummary metrics for validation dataset\")\n",
    "    print(\"type:\",type(val_dataset))\n",
    "    print(\"length:\",len(val_dataset))\n",
    "    print(\"shape:\",val_dataset)"
   ]
  },
  {
   "cell_type": "markdown",
   "metadata": {},
   "source": [
    "## Fit the model\n",
    "\n",
    "Using each Hyperparameter in turn from a superset"
   ]
  },
  {
   "cell_type": "code",
   "execution_count": 5,
   "metadata": {},
   "outputs": [
    {
     "name": "stdout",
     "output_type": "stream",
     "text": [
      "Run with HyperParameters(learning_rate=0.01, batch_size=128, num_epochs=30, optimise='Adam', loss='binary_crossentropy', num_filter=16, strides=1, padding='same', dropout_rate=0.1, layers=2, default_activation='relu')\n",
      "30\n"
     ]
    },
    {
     "name": "stderr",
     "output_type": "stream",
     "text": [
      "Epoch Progress: 100%|██████████| 30/30 [00:04<00:00,  6.58epoch/s, loss=0.188, acc=0.923]\n"
     ]
    },
    {
     "name": "stdout",
     "output_type": "stream",
     "text": [
      "Run with HyperParameters(learning_rate=0.01, batch_size=128, num_epochs=30, optimise='Adam', loss='binary_crossentropy', num_filter=16, strides=2, padding='same', dropout_rate=0.1, layers=2, default_activation='relu')\n",
      "30\n"
     ]
    },
    {
     "name": "stderr",
     "output_type": "stream",
     "text": [
      "Epoch Progress: 100%|██████████| 30/30 [00:02<00:00, 13.48epoch/s, loss=0.508, acc=0.731]\n"
     ]
    },
    {
     "name": "stdout",
     "output_type": "stream",
     "text": [
      "Run with HyperParameters(learning_rate=0.01, batch_size=128, num_epochs=30, optimise='Adam', loss='binary_crossentropy', num_filter=16, strides=1, padding='same', dropout_rate=0.4, layers=2, default_activation='relu')\n",
      "30\n"
     ]
    },
    {
     "name": "stderr",
     "output_type": "stream",
     "text": [
      "Epoch Progress: 100%|██████████| 30/30 [00:03<00:00,  7.59epoch/s, loss=0.375, acc=0.731]\n"
     ]
    },
    {
     "name": "stdout",
     "output_type": "stream",
     "text": [
      "Run with HyperParameters(learning_rate=0.01, batch_size=128, num_epochs=30, optimise='Adam', loss='binary_crossentropy', num_filter=16, strides=2, padding='same', dropout_rate=0.4, layers=2, default_activation='relu')\n",
      "30\n"
     ]
    },
    {
     "name": "stderr",
     "output_type": "stream",
     "text": [
      "Epoch Progress: 100%|██████████| 30/30 [00:02<00:00, 13.27epoch/s, loss=0.491, acc=0.731]\n"
     ]
    },
    {
     "name": "stdout",
     "output_type": "stream",
     "text": [
      "Run with HyperParameters(learning_rate=0.01, batch_size=128, num_epochs=30, optimise='Adam', loss='binary_crossentropy', num_filter=16, strides=1, padding='same', dropout_rate=0.1, layers=3, default_activation='relu')\n",
      "30\n"
     ]
    },
    {
     "name": "stderr",
     "output_type": "stream",
     "text": [
      "Epoch Progress: 100%|██████████| 30/30 [00:04<00:00,  6.23epoch/s, loss=0.301, acc=0.897]\n"
     ]
    },
    {
     "name": "stdout",
     "output_type": "stream",
     "text": [
      "Run with HyperParameters(learning_rate=0.01, batch_size=128, num_epochs=30, optimise='Adam', loss='binary_crossentropy', num_filter=16, strides=2, padding='same', dropout_rate=0.1, layers=3, default_activation='relu')\n",
      "30\n"
     ]
    },
    {
     "name": "stderr",
     "output_type": "stream",
     "text": [
      "Epoch Progress: 100%|██████████| 30/30 [00:02<00:00, 11.53epoch/s, loss=0.552, acc=0.731]\n"
     ]
    },
    {
     "name": "stdout",
     "output_type": "stream",
     "text": [
      "Run with HyperParameters(learning_rate=0.01, batch_size=128, num_epochs=30, optimise='Adam', loss='binary_crossentropy', num_filter=16, strides=1, padding='same', dropout_rate=0.4, layers=3, default_activation='relu')\n",
      "30\n"
     ]
    },
    {
     "name": "stderr",
     "output_type": "stream",
     "text": [
      "Epoch Progress: 100%|██████████| 30/30 [00:05<00:00,  5.93epoch/s, loss=0.292, acc=0.872]\n"
     ]
    },
    {
     "name": "stdout",
     "output_type": "stream",
     "text": [
      "Run with HyperParameters(learning_rate=0.01, batch_size=128, num_epochs=30, optimise='Adam', loss='binary_crossentropy', num_filter=16, strides=2, padding='same', dropout_rate=0.4, layers=3, default_activation='relu')\n",
      "30\n"
     ]
    },
    {
     "name": "stderr",
     "output_type": "stream",
     "text": [
      "Epoch Progress: 100%|██████████| 30/30 [00:02<00:00, 12.79epoch/s, loss=0.575, acc=0.731]\n"
     ]
    },
    {
     "name": "stdout",
     "output_type": "stream",
     "text": [
      "Run with HyperParameters(learning_rate=0.01, batch_size=128, num_epochs=30, optimise='Adam', loss='binary_crossentropy', num_filter=32, strides=1, padding='same', dropout_rate=0.1, layers=2, default_activation='relu')\n",
      "30\n"
     ]
    },
    {
     "name": "stderr",
     "output_type": "stream",
     "text": [
      "Epoch Progress: 100%|██████████| 30/30 [00:08<00:00,  3.44epoch/s, loss=0.118, acc=0.949]\n"
     ]
    },
    {
     "name": "stdout",
     "output_type": "stream",
     "text": [
      "Run with HyperParameters(learning_rate=0.01, batch_size=128, num_epochs=30, optimise='Adam', loss='binary_crossentropy', num_filter=32, strides=2, padding='same', dropout_rate=0.1, layers=2, default_activation='relu')\n",
      "30\n"
     ]
    },
    {
     "name": "stderr",
     "output_type": "stream",
     "text": [
      "Epoch Progress: 100%|██████████| 30/30 [00:04<00:00,  7.43epoch/s, loss=0.326, acc=0.897]\n"
     ]
    },
    {
     "name": "stdout",
     "output_type": "stream",
     "text": [
      "Run with HyperParameters(learning_rate=0.01, batch_size=128, num_epochs=30, optimise='Adam', loss='binary_crossentropy', num_filter=32, strides=1, padding='same', dropout_rate=0.4, layers=2, default_activation='relu')\n",
      "30\n"
     ]
    },
    {
     "name": "stderr",
     "output_type": "stream",
     "text": [
      "Epoch Progress: 100%|██████████| 30/30 [00:07<00:00,  3.94epoch/s, loss=0.239, acc=0.91] \n"
     ]
    },
    {
     "name": "stdout",
     "output_type": "stream",
     "text": [
      "Run with HyperParameters(learning_rate=0.01, batch_size=128, num_epochs=30, optimise='Adam', loss='binary_crossentropy', num_filter=32, strides=2, padding='same', dropout_rate=0.4, layers=2, default_activation='relu')\n",
      "30\n"
     ]
    },
    {
     "name": "stderr",
     "output_type": "stream",
     "text": [
      "Epoch Progress: 100%|██████████| 30/30 [00:03<00:00,  7.61epoch/s, loss=0.41, acc=0.833] \n"
     ]
    },
    {
     "name": "stdout",
     "output_type": "stream",
     "text": [
      "Run with HyperParameters(learning_rate=0.01, batch_size=128, num_epochs=30, optimise='Adam', loss='binary_crossentropy', num_filter=32, strides=1, padding='same', dropout_rate=0.1, layers=3, default_activation='relu')\n",
      "30\n"
     ]
    },
    {
     "name": "stderr",
     "output_type": "stream",
     "text": [
      "Epoch Progress: 100%|██████████| 30/30 [00:09<00:00,  3.14epoch/s, loss=0.18, acc=0.962] \n"
     ]
    },
    {
     "name": "stdout",
     "output_type": "stream",
     "text": [
      "Run with HyperParameters(learning_rate=0.01, batch_size=128, num_epochs=30, optimise='Adam', loss='binary_crossentropy', num_filter=32, strides=2, padding='same', dropout_rate=0.1, layers=3, default_activation='relu')\n",
      "30\n"
     ]
    },
    {
     "name": "stderr",
     "output_type": "stream",
     "text": [
      "Epoch Progress: 100%|██████████| 30/30 [00:04<00:00,  7.26epoch/s, loss=0.53, acc=0.731] \n"
     ]
    },
    {
     "name": "stdout",
     "output_type": "stream",
     "text": [
      "Run with HyperParameters(learning_rate=0.01, batch_size=128, num_epochs=30, optimise='Adam', loss='binary_crossentropy', num_filter=32, strides=1, padding='same', dropout_rate=0.4, layers=3, default_activation='relu')\n",
      "30\n"
     ]
    },
    {
     "name": "stderr",
     "output_type": "stream",
     "text": [
      "Epoch Progress: 100%|██████████| 30/30 [00:09<00:00,  3.29epoch/s, loss=0.212, acc=0.91] \n"
     ]
    },
    {
     "name": "stdout",
     "output_type": "stream",
     "text": [
      "Run with HyperParameters(learning_rate=0.01, batch_size=128, num_epochs=30, optimise='Adam', loss='binary_crossentropy', num_filter=32, strides=2, padding='same', dropout_rate=0.4, layers=3, default_activation='relu')\n",
      "30\n"
     ]
    },
    {
     "name": "stderr",
     "output_type": "stream",
     "text": [
      "Epoch Progress: 100%|██████████| 30/30 [00:04<00:00,  6.59epoch/s, loss=0.546, acc=0.731]\n"
     ]
    },
    {
     "name": "stdout",
     "output_type": "stream",
     "text": [
      "Run with HyperParameters(learning_rate=0.01, batch_size=128, num_epochs=30, optimise='Adam', loss='binary_crossentropy', num_filter=64, strides=1, padding='same', dropout_rate=0.1, layers=2, default_activation='relu')\n",
      "30\n"
     ]
    },
    {
     "name": "stderr",
     "output_type": "stream",
     "text": [
      "Epoch Progress: 100%|██████████| 30/30 [00:19<00:00,  1.57epoch/s, loss=0.312, acc=0.885]\n"
     ]
    },
    {
     "name": "stdout",
     "output_type": "stream",
     "text": [
      "Run with HyperParameters(learning_rate=0.01, batch_size=128, num_epochs=30, optimise='Adam', loss='binary_crossentropy', num_filter=64, strides=2, padding='same', dropout_rate=0.1, layers=2, default_activation='relu')\n",
      "30\n"
     ]
    },
    {
     "name": "stderr",
     "output_type": "stream",
     "text": [
      "Epoch Progress: 100%|██████████| 30/30 [00:09<00:00,  3.23epoch/s, loss=0.273, acc=0.897]\n"
     ]
    },
    {
     "name": "stdout",
     "output_type": "stream",
     "text": [
      "Run with HyperParameters(learning_rate=0.01, batch_size=128, num_epochs=30, optimise='Adam', loss='binary_crossentropy', num_filter=64, strides=1, padding='same', dropout_rate=0.4, layers=2, default_activation='relu')\n",
      "30\n"
     ]
    },
    {
     "name": "stderr",
     "output_type": "stream",
     "text": [
      "Epoch Progress: 100%|██████████| 30/30 [00:20<00:00,  1.47epoch/s, loss=0.42, acc=0.808] \n"
     ]
    },
    {
     "name": "stdout",
     "output_type": "stream",
     "text": [
      "Run with HyperParameters(learning_rate=0.01, batch_size=128, num_epochs=30, optimise='Adam', loss='binary_crossentropy', num_filter=64, strides=2, padding='same', dropout_rate=0.4, layers=2, default_activation='relu')\n",
      "30\n"
     ]
    },
    {
     "name": "stderr",
     "output_type": "stream",
     "text": [
      "Epoch Progress: 100%|██████████| 30/30 [00:09<00:00,  3.26epoch/s, loss=0.27, acc=0.885] \n"
     ]
    },
    {
     "name": "stdout",
     "output_type": "stream",
     "text": [
      "Run with HyperParameters(learning_rate=0.01, batch_size=128, num_epochs=30, optimise='Adam', loss='binary_crossentropy', num_filter=64, strides=1, padding='same', dropout_rate=0.1, layers=3, default_activation='relu')\n",
      "30\n"
     ]
    },
    {
     "name": "stderr",
     "output_type": "stream",
     "text": [
      "Epoch Progress: 100%|██████████| 30/30 [00:22<00:00,  1.35epoch/s, loss=0.258, acc=0.872]\n"
     ]
    },
    {
     "name": "stdout",
     "output_type": "stream",
     "text": [
      "Run with HyperParameters(learning_rate=0.01, batch_size=128, num_epochs=30, optimise='Adam', loss='binary_crossentropy', num_filter=64, strides=2, padding='same', dropout_rate=0.1, layers=3, default_activation='relu')\n",
      "30\n"
     ]
    },
    {
     "name": "stderr",
     "output_type": "stream",
     "text": [
      "Epoch Progress: 100%|██████████| 30/30 [00:09<00:00,  3.26epoch/s, loss=0.399, acc=0.859]\n"
     ]
    },
    {
     "name": "stdout",
     "output_type": "stream",
     "text": [
      "Run with HyperParameters(learning_rate=0.01, batch_size=128, num_epochs=30, optimise='Adam', loss='binary_crossentropy', num_filter=64, strides=1, padding='same', dropout_rate=0.4, layers=3, default_activation='relu')\n",
      "30\n"
     ]
    },
    {
     "name": "stderr",
     "output_type": "stream",
     "text": [
      "Epoch Progress: 100%|██████████| 30/30 [00:23<00:00,  1.27epoch/s, loss=0.369, acc=0.846]\n"
     ]
    },
    {
     "name": "stdout",
     "output_type": "stream",
     "text": [
      "Run with HyperParameters(learning_rate=0.01, batch_size=128, num_epochs=30, optimise='Adam', loss='binary_crossentropy', num_filter=64, strides=2, padding='same', dropout_rate=0.4, layers=3, default_activation='relu')\n",
      "30\n"
     ]
    },
    {
     "name": "stderr",
     "output_type": "stream",
     "text": [
      "Epoch Progress: 100%|██████████| 30/30 [00:11<00:00,  2.67epoch/s, loss=0.375, acc=0.821]\n"
     ]
    },
    {
     "name": "stdout",
     "output_type": "stream",
     "text": [
      "Run with HyperParameters(learning_rate=0.001, batch_size=128, num_epochs=30, optimise='Adam', loss='binary_crossentropy', num_filter=16, strides=1, padding='same', dropout_rate=0.1, layers=2, default_activation='relu')\n",
      "30\n"
     ]
    },
    {
     "name": "stderr",
     "output_type": "stream",
     "text": [
      "Epoch Progress: 100%|██████████| 30/30 [00:04<00:00,  7.05epoch/s, loss=0.197, acc=0.936]\n"
     ]
    },
    {
     "name": "stdout",
     "output_type": "stream",
     "text": [
      "Run with HyperParameters(learning_rate=0.001, batch_size=128, num_epochs=30, optimise='Adam', loss='binary_crossentropy', num_filter=16, strides=2, padding='same', dropout_rate=0.1, layers=2, default_activation='relu')\n",
      "30\n"
     ]
    },
    {
     "name": "stderr",
     "output_type": "stream",
     "text": [
      "Epoch Progress: 100%|██████████| 30/30 [00:02<00:00, 13.95epoch/s, loss=0.516, acc=0.731]\n"
     ]
    },
    {
     "name": "stdout",
     "output_type": "stream",
     "text": [
      "Run with HyperParameters(learning_rate=0.001, batch_size=128, num_epochs=30, optimise='Adam', loss='binary_crossentropy', num_filter=16, strides=1, padding='same', dropout_rate=0.4, layers=2, default_activation='relu')\n",
      "30\n"
     ]
    },
    {
     "name": "stderr",
     "output_type": "stream",
     "text": [
      "Epoch Progress: 100%|██████████| 30/30 [00:03<00:00,  7.55epoch/s, loss=0.275, acc=0.923]\n"
     ]
    },
    {
     "name": "stdout",
     "output_type": "stream",
     "text": [
      "Run with HyperParameters(learning_rate=0.001, batch_size=128, num_epochs=30, optimise='Adam', loss='binary_crossentropy', num_filter=16, strides=2, padding='same', dropout_rate=0.4, layers=2, default_activation='relu')\n",
      "30\n"
     ]
    },
    {
     "name": "stderr",
     "output_type": "stream",
     "text": [
      "Epoch Progress: 100%|██████████| 30/30 [00:02<00:00, 11.53epoch/s, loss=0.54, acc=0.731] \n"
     ]
    },
    {
     "name": "stdout",
     "output_type": "stream",
     "text": [
      "Run with HyperParameters(learning_rate=0.001, batch_size=128, num_epochs=30, optimise='Adam', loss='binary_crossentropy', num_filter=16, strides=1, padding='same', dropout_rate=0.1, layers=3, default_activation='relu')\n",
      "30\n"
     ]
    },
    {
     "name": "stderr",
     "output_type": "stream",
     "text": [
      "Epoch Progress: 100%|██████████| 30/30 [00:04<00:00,  6.00epoch/s, loss=0.249, acc=0.872]\n"
     ]
    },
    {
     "name": "stdout",
     "output_type": "stream",
     "text": [
      "Run with HyperParameters(learning_rate=0.001, batch_size=128, num_epochs=30, optimise='Adam', loss='binary_crossentropy', num_filter=16, strides=2, padding='same', dropout_rate=0.1, layers=3, default_activation='relu')\n",
      "30\n"
     ]
    },
    {
     "name": "stderr",
     "output_type": "stream",
     "text": [
      "Epoch Progress: 100%|██████████| 30/30 [00:02<00:00, 12.98epoch/s, loss=0.571, acc=0.731]\n"
     ]
    },
    {
     "name": "stdout",
     "output_type": "stream",
     "text": [
      "Run with HyperParameters(learning_rate=0.001, batch_size=128, num_epochs=30, optimise='Adam', loss='binary_crossentropy', num_filter=16, strides=1, padding='same', dropout_rate=0.4, layers=3, default_activation='relu')\n",
      "30\n"
     ]
    },
    {
     "name": "stderr",
     "output_type": "stream",
     "text": [
      "Epoch Progress: 100%|██████████| 30/30 [00:04<00:00,  6.37epoch/s, loss=0.342, acc=0.731]\n"
     ]
    },
    {
     "name": "stdout",
     "output_type": "stream",
     "text": [
      "Run with HyperParameters(learning_rate=0.001, batch_size=128, num_epochs=30, optimise='Adam', loss='binary_crossentropy', num_filter=16, strides=2, padding='same', dropout_rate=0.4, layers=3, default_activation='relu')\n",
      "30\n"
     ]
    },
    {
     "name": "stderr",
     "output_type": "stream",
     "text": [
      "Epoch Progress: 100%|██████████| 30/30 [00:02<00:00, 11.45epoch/s, loss=0.555, acc=0.731]\n"
     ]
    },
    {
     "name": "stdout",
     "output_type": "stream",
     "text": [
      "Run with HyperParameters(learning_rate=0.001, batch_size=128, num_epochs=30, optimise='Adam', loss='binary_crossentropy', num_filter=32, strides=1, padding='same', dropout_rate=0.1, layers=2, default_activation='relu')\n",
      "30\n"
     ]
    },
    {
     "name": "stderr",
     "output_type": "stream",
     "text": [
      "Epoch Progress: 100%|██████████| 30/30 [00:07<00:00,  3.90epoch/s, loss=0.15, acc=0.936] \n"
     ]
    },
    {
     "name": "stdout",
     "output_type": "stream",
     "text": [
      "Run with HyperParameters(learning_rate=0.001, batch_size=128, num_epochs=30, optimise='Adam', loss='binary_crossentropy', num_filter=32, strides=2, padding='same', dropout_rate=0.1, layers=2, default_activation='relu')\n",
      "30\n"
     ]
    },
    {
     "name": "stderr",
     "output_type": "stream",
     "text": [
      "Epoch Progress: 100%|██████████| 30/30 [00:04<00:00,  7.47epoch/s, loss=0.363, acc=0.833]\n"
     ]
    },
    {
     "name": "stdout",
     "output_type": "stream",
     "text": [
      "Run with HyperParameters(learning_rate=0.001, batch_size=128, num_epochs=30, optimise='Adam', loss='binary_crossentropy', num_filter=32, strides=1, padding='same', dropout_rate=0.4, layers=2, default_activation='relu')\n",
      "30\n"
     ]
    },
    {
     "name": "stderr",
     "output_type": "stream",
     "text": [
      "Epoch Progress: 100%|██████████| 30/30 [00:08<00:00,  3.51epoch/s, loss=0.173, acc=0.962]\n"
     ]
    },
    {
     "name": "stdout",
     "output_type": "stream",
     "text": [
      "Run with HyperParameters(learning_rate=0.001, batch_size=128, num_epochs=30, optimise='Adam', loss='binary_crossentropy', num_filter=32, strides=2, padding='same', dropout_rate=0.4, layers=2, default_activation='relu')\n",
      "30\n"
     ]
    },
    {
     "name": "stderr",
     "output_type": "stream",
     "text": [
      "Epoch Progress: 100%|██████████| 30/30 [00:08<00:00,  3.36epoch/s, loss=0.428, acc=0.821]\n"
     ]
    },
    {
     "name": "stdout",
     "output_type": "stream",
     "text": [
      "Run with HyperParameters(learning_rate=0.001, batch_size=128, num_epochs=30, optimise='Adam', loss='binary_crossentropy', num_filter=32, strides=1, padding='same', dropout_rate=0.1, layers=3, default_activation='relu')\n",
      "30\n"
     ]
    },
    {
     "name": "stderr",
     "output_type": "stream",
     "text": [
      "Epoch Progress: 100%|██████████| 30/30 [00:18<00:00,  1.66epoch/s, loss=0.25, acc=0.897] \n"
     ]
    },
    {
     "name": "stdout",
     "output_type": "stream",
     "text": [
      "Run with HyperParameters(learning_rate=0.001, batch_size=128, num_epochs=30, optimise='Adam', loss='binary_crossentropy', num_filter=32, strides=2, padding='same', dropout_rate=0.1, layers=3, default_activation='relu')\n",
      "30\n"
     ]
    },
    {
     "name": "stderr",
     "output_type": "stream",
     "text": [
      "Epoch Progress: 100%|██████████| 30/30 [00:05<00:00,  5.09epoch/s, loss=0.513, acc=0.731]\n"
     ]
    },
    {
     "name": "stdout",
     "output_type": "stream",
     "text": [
      "Run with HyperParameters(learning_rate=0.001, batch_size=128, num_epochs=30, optimise='Adam', loss='binary_crossentropy', num_filter=32, strides=1, padding='same', dropout_rate=0.4, layers=3, default_activation='relu')\n",
      "30\n"
     ]
    },
    {
     "name": "stderr",
     "output_type": "stream",
     "text": [
      "Epoch Progress: 100%|██████████| 30/30 [00:12<00:00,  2.44epoch/s, loss=0.341, acc=0.859]\n"
     ]
    },
    {
     "name": "stdout",
     "output_type": "stream",
     "text": [
      "Run with HyperParameters(learning_rate=0.001, batch_size=128, num_epochs=30, optimise='Adam', loss='binary_crossentropy', num_filter=32, strides=2, padding='same', dropout_rate=0.4, layers=3, default_activation='relu')\n",
      "30\n"
     ]
    },
    {
     "name": "stderr",
     "output_type": "stream",
     "text": [
      "Epoch Progress: 100%|██████████| 30/30 [00:06<00:00,  4.91epoch/s, loss=0.554, acc=0.731]\n"
     ]
    },
    {
     "name": "stdout",
     "output_type": "stream",
     "text": [
      "Run with HyperParameters(learning_rate=0.001, batch_size=128, num_epochs=30, optimise='Adam', loss='binary_crossentropy', num_filter=64, strides=1, padding='same', dropout_rate=0.1, layers=2, default_activation='relu')\n",
      "30\n"
     ]
    },
    {
     "name": "stderr",
     "output_type": "stream",
     "text": [
      "Epoch Progress: 100%|██████████| 30/30 [00:23<00:00,  1.30epoch/s, loss=0.297, acc=0.91] \n"
     ]
    },
    {
     "name": "stdout",
     "output_type": "stream",
     "text": [
      "Run with HyperParameters(learning_rate=0.001, batch_size=128, num_epochs=30, optimise='Adam', loss='binary_crossentropy', num_filter=64, strides=2, padding='same', dropout_rate=0.1, layers=2, default_activation='relu')\n",
      "30\n"
     ]
    },
    {
     "name": "stderr",
     "output_type": "stream",
     "text": [
      "Epoch Progress: 100%|██████████| 30/30 [00:11<00:00,  2.56epoch/s, loss=0.404, acc=0.833]\n"
     ]
    },
    {
     "name": "stdout",
     "output_type": "stream",
     "text": [
      "Run with HyperParameters(learning_rate=0.001, batch_size=128, num_epochs=30, optimise='Adam', loss='binary_crossentropy', num_filter=64, strides=1, padding='same', dropout_rate=0.4, layers=2, default_activation='relu')\n",
      "30\n"
     ]
    },
    {
     "name": "stderr",
     "output_type": "stream",
     "text": [
      "Epoch Progress: 100%|██████████| 30/30 [00:22<00:00,  1.33epoch/s, loss=0.328, acc=0.833]\n"
     ]
    },
    {
     "name": "stdout",
     "output_type": "stream",
     "text": [
      "Run with HyperParameters(learning_rate=0.001, batch_size=128, num_epochs=30, optimise='Adam', loss='binary_crossentropy', num_filter=64, strides=2, padding='same', dropout_rate=0.4, layers=2, default_activation='relu')\n",
      "30\n"
     ]
    },
    {
     "name": "stderr",
     "output_type": "stream",
     "text": [
      "Epoch Progress: 100%|██████████| 30/30 [00:10<00:00,  2.93epoch/s, loss=0.399, acc=0.833]\n"
     ]
    },
    {
     "name": "stdout",
     "output_type": "stream",
     "text": [
      "Run with HyperParameters(learning_rate=0.001, batch_size=128, num_epochs=30, optimise='Adam', loss='binary_crossentropy', num_filter=64, strides=1, padding='same', dropout_rate=0.1, layers=3, default_activation='relu')\n",
      "30\n"
     ]
    },
    {
     "name": "stderr",
     "output_type": "stream",
     "text": [
      "Epoch Progress: 100%|██████████| 30/30 [00:25<00:00,  1.17epoch/s, loss=0.149, acc=0.936]\n"
     ]
    },
    {
     "name": "stdout",
     "output_type": "stream",
     "text": [
      "Run with HyperParameters(learning_rate=0.001, batch_size=128, num_epochs=30, optimise='Adam', loss='binary_crossentropy', num_filter=64, strides=2, padding='same', dropout_rate=0.1, layers=3, default_activation='relu')\n",
      "30\n"
     ]
    },
    {
     "name": "stderr",
     "output_type": "stream",
     "text": [
      "Epoch Progress: 100%|██████████| 30/30 [00:10<00:00,  2.96epoch/s, loss=0.404, acc=0.833]\n"
     ]
    },
    {
     "name": "stdout",
     "output_type": "stream",
     "text": [
      "Run with HyperParameters(learning_rate=0.001, batch_size=128, num_epochs=30, optimise='Adam', loss='binary_crossentropy', num_filter=64, strides=1, padding='same', dropout_rate=0.4, layers=3, default_activation='relu')\n",
      "30\n"
     ]
    },
    {
     "name": "stderr",
     "output_type": "stream",
     "text": [
      "Epoch Progress: 100%|██████████| 30/30 [00:25<00:00,  1.19epoch/s, loss=0.314, acc=0.872]\n"
     ]
    },
    {
     "name": "stdout",
     "output_type": "stream",
     "text": [
      "Run with HyperParameters(learning_rate=0.001, batch_size=128, num_epochs=30, optimise='Adam', loss='binary_crossentropy', num_filter=64, strides=2, padding='same', dropout_rate=0.4, layers=3, default_activation='relu')\n",
      "30\n"
     ]
    },
    {
     "name": "stderr",
     "output_type": "stream",
     "text": [
      "Epoch Progress: 100%|██████████| 30/30 [00:11<00:00,  2.61epoch/s, loss=0.435, acc=0.808]\n"
     ]
    },
    {
     "name": "stdout",
     "output_type": "stream",
     "text": [
      "Run with HyperParameters(learning_rate=0.0001, batch_size=128, num_epochs=30, optimise='Adam', loss='binary_crossentropy', num_filter=16, strides=1, padding='same', dropout_rate=0.1, layers=2, default_activation='relu')\n",
      "30\n"
     ]
    },
    {
     "name": "stderr",
     "output_type": "stream",
     "text": [
      "Epoch Progress: 100%|██████████| 30/30 [00:04<00:00,  6.25epoch/s, loss=0.253, acc=0.91] \n"
     ]
    },
    {
     "name": "stdout",
     "output_type": "stream",
     "text": [
      "Run with HyperParameters(learning_rate=0.0001, batch_size=128, num_epochs=30, optimise='Adam', loss='binary_crossentropy', num_filter=16, strides=2, padding='same', dropout_rate=0.1, layers=2, default_activation='relu')\n",
      "30\n"
     ]
    },
    {
     "name": "stderr",
     "output_type": "stream",
     "text": [
      "Epoch Progress: 100%|██████████| 30/30 [00:02<00:00, 11.86epoch/s, loss=0.545, acc=0.731]\n"
     ]
    },
    {
     "name": "stdout",
     "output_type": "stream",
     "text": [
      "Run with HyperParameters(learning_rate=0.0001, batch_size=128, num_epochs=30, optimise='Adam', loss='binary_crossentropy', num_filter=16, strides=1, padding='same', dropout_rate=0.4, layers=2, default_activation='relu')\n",
      "30\n"
     ]
    },
    {
     "name": "stderr",
     "output_type": "stream",
     "text": [
      "Epoch Progress: 100%|██████████| 30/30 [00:04<00:00,  7.13epoch/s, loss=0.303, acc=0.872]\n"
     ]
    },
    {
     "name": "stdout",
     "output_type": "stream",
     "text": [
      "Run with HyperParameters(learning_rate=0.0001, batch_size=128, num_epochs=30, optimise='Adam', loss='binary_crossentropy', num_filter=16, strides=2, padding='same', dropout_rate=0.4, layers=2, default_activation='relu')\n",
      "30\n"
     ]
    },
    {
     "name": "stderr",
     "output_type": "stream",
     "text": [
      "Epoch Progress: 100%|██████████| 30/30 [00:02<00:00, 13.42epoch/s, loss=0.548, acc=0.731]\n"
     ]
    },
    {
     "name": "stdout",
     "output_type": "stream",
     "text": [
      "Run with HyperParameters(learning_rate=0.0001, batch_size=128, num_epochs=30, optimise='Adam', loss='binary_crossentropy', num_filter=16, strides=1, padding='same', dropout_rate=0.1, layers=3, default_activation='relu')\n",
      "30\n"
     ]
    },
    {
     "name": "stderr",
     "output_type": "stream",
     "text": [
      "Epoch Progress: 100%|██████████| 30/30 [00:05<00:00,  5.78epoch/s, loss=0.0935, acc=0.987]\n"
     ]
    },
    {
     "name": "stdout",
     "output_type": "stream",
     "text": [
      "Run with HyperParameters(learning_rate=0.0001, batch_size=128, num_epochs=30, optimise='Adam', loss='binary_crossentropy', num_filter=16, strides=2, padding='same', dropout_rate=0.1, layers=3, default_activation='relu')\n",
      "30\n"
     ]
    },
    {
     "name": "stderr",
     "output_type": "stream",
     "text": [
      "Epoch Progress: 100%|██████████| 30/30 [00:02<00:00, 12.62epoch/s, loss=0.544, acc=0.731]\n"
     ]
    },
    {
     "name": "stdout",
     "output_type": "stream",
     "text": [
      "Run with HyperParameters(learning_rate=0.0001, batch_size=128, num_epochs=30, optimise='Adam', loss='binary_crossentropy', num_filter=16, strides=1, padding='same', dropout_rate=0.4, layers=3, default_activation='relu')\n",
      "30\n"
     ]
    },
    {
     "name": "stderr",
     "output_type": "stream",
     "text": [
      "Epoch Progress: 100%|██████████| 30/30 [00:06<00:00,  4.79epoch/s, loss=0.367, acc=0.808]\n"
     ]
    },
    {
     "name": "stdout",
     "output_type": "stream",
     "text": [
      "Run with HyperParameters(learning_rate=0.0001, batch_size=128, num_epochs=30, optimise='Adam', loss='binary_crossentropy', num_filter=16, strides=2, padding='same', dropout_rate=0.4, layers=3, default_activation='relu')\n",
      "30\n"
     ]
    },
    {
     "name": "stderr",
     "output_type": "stream",
     "text": [
      "Epoch Progress: 100%|██████████| 30/30 [00:02<00:00, 11.37epoch/s, loss=0.572, acc=0.731]\n"
     ]
    },
    {
     "name": "stdout",
     "output_type": "stream",
     "text": [
      "Run with HyperParameters(learning_rate=0.0001, batch_size=128, num_epochs=30, optimise='Adam', loss='binary_crossentropy', num_filter=32, strides=1, padding='same', dropout_rate=0.1, layers=2, default_activation='relu')\n",
      "30\n"
     ]
    },
    {
     "name": "stderr",
     "output_type": "stream",
     "text": [
      "Epoch Progress: 100%|██████████| 30/30 [00:09<00:00,  3.30epoch/s, loss=0.173, acc=0.91] \n"
     ]
    },
    {
     "name": "stdout",
     "output_type": "stream",
     "text": [
      "Run with HyperParameters(learning_rate=0.0001, batch_size=128, num_epochs=30, optimise='Adam', loss='binary_crossentropy', num_filter=32, strides=2, padding='same', dropout_rate=0.1, layers=2, default_activation='relu')\n",
      "30\n"
     ]
    },
    {
     "name": "stderr",
     "output_type": "stream",
     "text": [
      "Epoch Progress: 100%|██████████| 30/30 [00:04<00:00,  7.01epoch/s, loss=0.384, acc=0.833]\n"
     ]
    },
    {
     "name": "stdout",
     "output_type": "stream",
     "text": [
      "Run with HyperParameters(learning_rate=0.0001, batch_size=128, num_epochs=30, optimise='Adam', loss='binary_crossentropy', num_filter=32, strides=1, padding='same', dropout_rate=0.4, layers=2, default_activation='relu')\n",
      "30\n"
     ]
    },
    {
     "name": "stderr",
     "output_type": "stream",
     "text": [
      "Epoch Progress: 100%|██████████| 30/30 [00:08<00:00,  3.53epoch/s, loss=0.433, acc=0.731]\n"
     ]
    },
    {
     "name": "stdout",
     "output_type": "stream",
     "text": [
      "Run with HyperParameters(learning_rate=0.0001, batch_size=128, num_epochs=30, optimise='Adam', loss='binary_crossentropy', num_filter=32, strides=2, padding='same', dropout_rate=0.4, layers=2, default_activation='relu')\n",
      "30\n"
     ]
    },
    {
     "name": "stderr",
     "output_type": "stream",
     "text": [
      "Epoch Progress: 100%|██████████| 30/30 [00:05<00:00,  5.51epoch/s, loss=0.458, acc=0.782]\n"
     ]
    },
    {
     "name": "stdout",
     "output_type": "stream",
     "text": [
      "Run with HyperParameters(learning_rate=0.0001, batch_size=128, num_epochs=30, optimise='Adam', loss='binary_crossentropy', num_filter=32, strides=1, padding='same', dropout_rate=0.1, layers=3, default_activation='relu')\n",
      "30\n"
     ]
    },
    {
     "name": "stderr",
     "output_type": "stream",
     "text": [
      "Epoch Progress: 100%|██████████| 30/30 [00:10<00:00,  2.85epoch/s, loss=0.131, acc=0.949]\n"
     ]
    },
    {
     "name": "stdout",
     "output_type": "stream",
     "text": [
      "Run with HyperParameters(learning_rate=0.0001, batch_size=128, num_epochs=30, optimise='Adam', loss='binary_crossentropy', num_filter=32, strides=2, padding='same', dropout_rate=0.1, layers=3, default_activation='relu')\n",
      "30\n"
     ]
    },
    {
     "name": "stderr",
     "output_type": "stream",
     "text": [
      "Epoch Progress: 100%|██████████| 30/30 [00:04<00:00,  7.10epoch/s, loss=0.485, acc=0.795]\n"
     ]
    },
    {
     "name": "stdout",
     "output_type": "stream",
     "text": [
      "Run with HyperParameters(learning_rate=0.0001, batch_size=128, num_epochs=30, optimise='Adam', loss='binary_crossentropy', num_filter=32, strides=1, padding='same', dropout_rate=0.4, layers=3, default_activation='relu')\n",
      "30\n"
     ]
    },
    {
     "name": "stderr",
     "output_type": "stream",
     "text": [
      "Epoch Progress: 100%|██████████| 30/30 [00:10<00:00,  2.99epoch/s, loss=0.269, acc=0.885]\n"
     ]
    },
    {
     "name": "stdout",
     "output_type": "stream",
     "text": [
      "Run with HyperParameters(learning_rate=0.0001, batch_size=128, num_epochs=30, optimise='Adam', loss='binary_crossentropy', num_filter=32, strides=2, padding='same', dropout_rate=0.4, layers=3, default_activation='relu')\n",
      "30\n"
     ]
    },
    {
     "name": "stderr",
     "output_type": "stream",
     "text": [
      "Epoch Progress: 100%|██████████| 30/30 [00:05<00:00,  5.43epoch/s, loss=0.551, acc=0.731]\n"
     ]
    },
    {
     "name": "stdout",
     "output_type": "stream",
     "text": [
      "Run with HyperParameters(learning_rate=0.0001, batch_size=128, num_epochs=30, optimise='Adam', loss='binary_crossentropy', num_filter=64, strides=1, padding='same', dropout_rate=0.1, layers=2, default_activation='relu')\n",
      "30\n"
     ]
    },
    {
     "name": "stderr",
     "output_type": "stream",
     "text": [
      "Epoch Progress: 100%|██████████| 30/30 [00:23<00:00,  1.29epoch/s, loss=0.237, acc=0.923]\n"
     ]
    },
    {
     "name": "stdout",
     "output_type": "stream",
     "text": [
      "Run with HyperParameters(learning_rate=0.0001, batch_size=128, num_epochs=30, optimise='Adam', loss='binary_crossentropy', num_filter=64, strides=2, padding='same', dropout_rate=0.1, layers=2, default_activation='relu')\n",
      "30\n"
     ]
    },
    {
     "name": "stderr",
     "output_type": "stream",
     "text": [
      "Epoch Progress: 100%|██████████| 30/30 [00:11<00:00,  2.65epoch/s, loss=0.352, acc=0.821]\n"
     ]
    },
    {
     "name": "stdout",
     "output_type": "stream",
     "text": [
      "Run with HyperParameters(learning_rate=0.0001, batch_size=128, num_epochs=30, optimise='Adam', loss='binary_crossentropy', num_filter=64, strides=1, padding='same', dropout_rate=0.4, layers=2, default_activation='relu')\n",
      "30\n"
     ]
    },
    {
     "name": "stderr",
     "output_type": "stream",
     "text": [
      "Epoch Progress: 100%|██████████| 30/30 [00:22<00:00,  1.35epoch/s, loss=0.278, acc=0.897]\n"
     ]
    },
    {
     "name": "stdout",
     "output_type": "stream",
     "text": [
      "Run with HyperParameters(learning_rate=0.0001, batch_size=128, num_epochs=30, optimise='Adam', loss='binary_crossentropy', num_filter=64, strides=2, padding='same', dropout_rate=0.4, layers=2, default_activation='relu')\n",
      "30\n"
     ]
    },
    {
     "name": "stderr",
     "output_type": "stream",
     "text": [
      "Epoch Progress: 100%|██████████| 30/30 [00:11<00:00,  2.54epoch/s, loss=0.304, acc=0.897]\n"
     ]
    },
    {
     "name": "stdout",
     "output_type": "stream",
     "text": [
      "Run with HyperParameters(learning_rate=0.0001, batch_size=128, num_epochs=30, optimise='Adam', loss='binary_crossentropy', num_filter=64, strides=1, padding='same', dropout_rate=0.1, layers=3, default_activation='relu')\n",
      "30\n"
     ]
    },
    {
     "name": "stderr",
     "output_type": "stream",
     "text": [
      "Epoch Progress: 100%|██████████| 30/30 [00:25<00:00,  1.16epoch/s, loss=0.37, acc=0.821] \n"
     ]
    },
    {
     "name": "stdout",
     "output_type": "stream",
     "text": [
      "Run with HyperParameters(learning_rate=0.0001, batch_size=128, num_epochs=30, optimise='Adam', loss='binary_crossentropy', num_filter=64, strides=2, padding='same', dropout_rate=0.1, layers=3, default_activation='relu')\n",
      "30\n"
     ]
    },
    {
     "name": "stderr",
     "output_type": "stream",
     "text": [
      "Epoch Progress: 100%|██████████| 30/30 [00:11<00:00,  2.57epoch/s, loss=0.377, acc=0.897]\n"
     ]
    },
    {
     "name": "stdout",
     "output_type": "stream",
     "text": [
      "Run with HyperParameters(learning_rate=0.0001, batch_size=128, num_epochs=30, optimise='Adam', loss='binary_crossentropy', num_filter=64, strides=1, padding='same', dropout_rate=0.4, layers=3, default_activation='relu')\n",
      "30\n"
     ]
    },
    {
     "name": "stderr",
     "output_type": "stream",
     "text": [
      "Epoch Progress: 100%|██████████| 30/30 [00:27<00:00,  1.10epoch/s, loss=0.377, acc=0.885]\n"
     ]
    },
    {
     "name": "stdout",
     "output_type": "stream",
     "text": [
      "Run with HyperParameters(learning_rate=0.0001, batch_size=128, num_epochs=30, optimise='Adam', loss='binary_crossentropy', num_filter=64, strides=2, padding='same', dropout_rate=0.4, layers=3, default_activation='relu')\n",
      "30\n"
     ]
    },
    {
     "name": "stderr",
     "output_type": "stream",
     "text": [
      "Epoch Progress: 100%|██████████| 30/30 [00:13<00:00,  2.29epoch/s, loss=0.509, acc=0.782]\n"
     ]
    },
    {
     "name": "stdout",
     "output_type": "stream",
     "text": [
      "Run with HyperParameters(learning_rate=0.01, batch_size=128, num_epochs=40, optimise='Adam', loss='binary_crossentropy', num_filter=16, strides=1, padding='same', dropout_rate=0.1, layers=2, default_activation='relu')\n",
      "40\n"
     ]
    },
    {
     "name": "stderr",
     "output_type": "stream",
     "text": [
      "Epoch Progress: 100%|██████████| 40/40 [00:06<00:00,  6.60epoch/s, loss=0.125, acc=0.962]\n"
     ]
    },
    {
     "name": "stdout",
     "output_type": "stream",
     "text": [
      "Run with HyperParameters(learning_rate=0.01, batch_size=128, num_epochs=40, optimise='Adam', loss='binary_crossentropy', num_filter=16, strides=2, padding='same', dropout_rate=0.1, layers=2, default_activation='relu')\n",
      "40\n"
     ]
    },
    {
     "name": "stderr",
     "output_type": "stream",
     "text": [
      "Epoch Progress: 100%|██████████| 40/40 [00:03<00:00, 10.37epoch/s, loss=0.363, acc=0.859]\n"
     ]
    },
    {
     "name": "stdout",
     "output_type": "stream",
     "text": [
      "Run with HyperParameters(learning_rate=0.01, batch_size=128, num_epochs=40, optimise='Adam', loss='binary_crossentropy', num_filter=16, strides=1, padding='same', dropout_rate=0.4, layers=2, default_activation='relu')\n",
      "40\n"
     ]
    },
    {
     "name": "stderr",
     "output_type": "stream",
     "text": [
      "Epoch Progress: 100%|██████████| 40/40 [00:06<00:00,  5.91epoch/s, loss=0.32, acc=0.795] \n"
     ]
    },
    {
     "name": "stdout",
     "output_type": "stream",
     "text": [
      "Run with HyperParameters(learning_rate=0.01, batch_size=128, num_epochs=40, optimise='Adam', loss='binary_crossentropy', num_filter=16, strides=2, padding='same', dropout_rate=0.4, layers=2, default_activation='relu')\n",
      "40\n"
     ]
    },
    {
     "name": "stderr",
     "output_type": "stream",
     "text": [
      "Epoch Progress: 100%|██████████| 40/40 [00:03<00:00, 11.83epoch/s, loss=0.476, acc=0.744]\n"
     ]
    },
    {
     "name": "stdout",
     "output_type": "stream",
     "text": [
      "Run with HyperParameters(learning_rate=0.01, batch_size=128, num_epochs=40, optimise='Adam', loss='binary_crossentropy', num_filter=16, strides=1, padding='same', dropout_rate=0.1, layers=3, default_activation='relu')\n",
      "40\n"
     ]
    },
    {
     "name": "stderr",
     "output_type": "stream",
     "text": [
      "Epoch Progress: 100%|██████████| 40/40 [00:07<00:00,  5.19epoch/s, loss=0.0294, acc=1]    \n"
     ]
    },
    {
     "name": "stdout",
     "output_type": "stream",
     "text": [
      "Run with HyperParameters(learning_rate=0.01, batch_size=128, num_epochs=40, optimise='Adam', loss='binary_crossentropy', num_filter=16, strides=2, padding='same', dropout_rate=0.1, layers=3, default_activation='relu')\n",
      "40\n"
     ]
    },
    {
     "name": "stderr",
     "output_type": "stream",
     "text": [
      "Epoch Progress: 100%|██████████| 40/40 [00:03<00:00, 10.15epoch/s, loss=0.537, acc=0.744]\n"
     ]
    },
    {
     "name": "stdout",
     "output_type": "stream",
     "text": [
      "Run with HyperParameters(learning_rate=0.01, batch_size=128, num_epochs=40, optimise='Adam', loss='binary_crossentropy', num_filter=16, strides=1, padding='same', dropout_rate=0.4, layers=3, default_activation='relu')\n",
      "40\n"
     ]
    },
    {
     "name": "stderr",
     "output_type": "stream",
     "text": [
      "Epoch Progress: 100%|██████████| 40/40 [00:07<00:00,  5.11epoch/s, loss=0.221, acc=0.962]\n"
     ]
    },
    {
     "name": "stdout",
     "output_type": "stream",
     "text": [
      "Run with HyperParameters(learning_rate=0.01, batch_size=128, num_epochs=40, optimise='Adam', loss='binary_crossentropy', num_filter=16, strides=2, padding='same', dropout_rate=0.4, layers=3, default_activation='relu')\n",
      "40\n"
     ]
    },
    {
     "name": "stderr",
     "output_type": "stream",
     "text": [
      "Epoch Progress: 100%|██████████| 40/40 [00:03<00:00, 11.05epoch/s, loss=0.538, acc=0.731]\n"
     ]
    },
    {
     "name": "stdout",
     "output_type": "stream",
     "text": [
      "Run with HyperParameters(learning_rate=0.01, batch_size=128, num_epochs=40, optimise='Adam', loss='binary_crossentropy', num_filter=32, strides=1, padding='same', dropout_rate=0.1, layers=2, default_activation='relu')\n",
      "40\n"
     ]
    },
    {
     "name": "stderr",
     "output_type": "stream",
     "text": [
      "Epoch Progress: 100%|██████████| 40/40 [00:10<00:00,  3.73epoch/s, loss=0.272, acc=0.885]\n"
     ]
    },
    {
     "name": "stdout",
     "output_type": "stream",
     "text": [
      "Run with HyperParameters(learning_rate=0.01, batch_size=128, num_epochs=40, optimise='Adam', loss='binary_crossentropy', num_filter=32, strides=2, padding='same', dropout_rate=0.1, layers=2, default_activation='relu')\n",
      "40\n"
     ]
    },
    {
     "name": "stderr",
     "output_type": "stream",
     "text": [
      "Epoch Progress: 100%|██████████| 40/40 [00:05<00:00,  7.51epoch/s, loss=0.257, acc=0.91] \n"
     ]
    },
    {
     "name": "stdout",
     "output_type": "stream",
     "text": [
      "Run with HyperParameters(learning_rate=0.01, batch_size=128, num_epochs=40, optimise='Adam', loss='binary_crossentropy', num_filter=32, strides=1, padding='same', dropout_rate=0.4, layers=2, default_activation='relu')\n",
      "40\n"
     ]
    },
    {
     "name": "stderr",
     "output_type": "stream",
     "text": [
      "Epoch Progress: 100%|██████████| 40/40 [00:11<00:00,  3.54epoch/s, loss=0.29, acc=0.872] \n"
     ]
    },
    {
     "name": "stdout",
     "output_type": "stream",
     "text": [
      "Run with HyperParameters(learning_rate=0.01, batch_size=128, num_epochs=40, optimise='Adam', loss='binary_crossentropy', num_filter=32, strides=2, padding='same', dropout_rate=0.4, layers=2, default_activation='relu')\n",
      "40\n"
     ]
    },
    {
     "name": "stderr",
     "output_type": "stream",
     "text": [
      "Epoch Progress: 100%|██████████| 40/40 [00:05<00:00,  6.89epoch/s, loss=0.317, acc=0.872]\n"
     ]
    },
    {
     "name": "stdout",
     "output_type": "stream",
     "text": [
      "Run with HyperParameters(learning_rate=0.01, batch_size=128, num_epochs=40, optimise='Adam', loss='binary_crossentropy', num_filter=32, strides=1, padding='same', dropout_rate=0.1, layers=3, default_activation='relu')\n",
      "40\n"
     ]
    },
    {
     "name": "stderr",
     "output_type": "stream",
     "text": [
      "Epoch Progress: 100%|██████████| 40/40 [00:12<00:00,  3.24epoch/s, loss=0.187, acc=0.897]\n"
     ]
    },
    {
     "name": "stdout",
     "output_type": "stream",
     "text": [
      "Run with HyperParameters(learning_rate=0.01, batch_size=128, num_epochs=40, optimise='Adam', loss='binary_crossentropy', num_filter=32, strides=2, padding='same', dropout_rate=0.1, layers=3, default_activation='relu')\n",
      "40\n"
     ]
    },
    {
     "name": "stderr",
     "output_type": "stream",
     "text": [
      "Epoch Progress: 100%|██████████| 40/40 [00:05<00:00,  7.13epoch/s, loss=0.405, acc=0.821]\n"
     ]
    },
    {
     "name": "stdout",
     "output_type": "stream",
     "text": [
      "Run with HyperParameters(learning_rate=0.01, batch_size=128, num_epochs=40, optimise='Adam', loss='binary_crossentropy', num_filter=32, strides=1, padding='same', dropout_rate=0.4, layers=3, default_activation='relu')\n",
      "40\n"
     ]
    },
    {
     "name": "stderr",
     "output_type": "stream",
     "text": [
      "Epoch Progress: 100%|██████████| 40/40 [00:12<00:00,  3.30epoch/s, loss=0.178, acc=0.91] \n"
     ]
    },
    {
     "name": "stdout",
     "output_type": "stream",
     "text": [
      "Run with HyperParameters(learning_rate=0.01, batch_size=128, num_epochs=40, optimise='Adam', loss='binary_crossentropy', num_filter=32, strides=2, padding='same', dropout_rate=0.4, layers=3, default_activation='relu')\n",
      "40\n"
     ]
    },
    {
     "name": "stderr",
     "output_type": "stream",
     "text": [
      "Epoch Progress: 100%|██████████| 40/40 [00:05<00:00,  7.29epoch/s, loss=0.504, acc=0.718]\n"
     ]
    },
    {
     "name": "stdout",
     "output_type": "stream",
     "text": [
      "Run with HyperParameters(learning_rate=0.01, batch_size=128, num_epochs=40, optimise='Adam', loss='binary_crossentropy', num_filter=64, strides=1, padding='same', dropout_rate=0.1, layers=2, default_activation='relu')\n",
      "40\n"
     ]
    },
    {
     "name": "stderr",
     "output_type": "stream",
     "text": [
      "Epoch Progress: 100%|██████████| 40/40 [00:25<00:00,  1.54epoch/s, loss=0.171, acc=0.936]\n"
     ]
    },
    {
     "name": "stdout",
     "output_type": "stream",
     "text": [
      "Run with HyperParameters(learning_rate=0.01, batch_size=128, num_epochs=40, optimise='Adam', loss='binary_crossentropy', num_filter=64, strides=2, padding='same', dropout_rate=0.1, layers=2, default_activation='relu')\n",
      "40\n"
     ]
    },
    {
     "name": "stderr",
     "output_type": "stream",
     "text": [
      "Epoch Progress: 100%|██████████| 40/40 [00:14<00:00,  2.78epoch/s, loss=0.123, acc=0.962]\n"
     ]
    },
    {
     "name": "stdout",
     "output_type": "stream",
     "text": [
      "Run with HyperParameters(learning_rate=0.01, batch_size=128, num_epochs=40, optimise='Adam', loss='binary_crossentropy', num_filter=64, strides=1, padding='same', dropout_rate=0.4, layers=2, default_activation='relu')\n",
      "40\n"
     ]
    },
    {
     "name": "stderr",
     "output_type": "stream",
     "text": [
      "Epoch Progress: 100%|██████████| 40/40 [00:28<00:00,  1.41epoch/s, loss=0.185, acc=0.936]\n"
     ]
    },
    {
     "name": "stdout",
     "output_type": "stream",
     "text": [
      "Run with HyperParameters(learning_rate=0.01, batch_size=128, num_epochs=40, optimise='Adam', loss='binary_crossentropy', num_filter=64, strides=2, padding='same', dropout_rate=0.4, layers=2, default_activation='relu')\n",
      "40\n"
     ]
    },
    {
     "name": "stderr",
     "output_type": "stream",
     "text": [
      "Epoch Progress: 100%|██████████| 40/40 [00:12<00:00,  3.18epoch/s, loss=0.156, acc=0.936]\n"
     ]
    },
    {
     "name": "stdout",
     "output_type": "stream",
     "text": [
      "Run with HyperParameters(learning_rate=0.01, batch_size=128, num_epochs=40, optimise='Adam', loss='binary_crossentropy', num_filter=64, strides=1, padding='same', dropout_rate=0.1, layers=3, default_activation='relu')\n",
      "40\n"
     ]
    },
    {
     "name": "stderr",
     "output_type": "stream",
     "text": [
      "Epoch Progress: 100%|██████████| 40/40 [00:30<00:00,  1.31epoch/s, loss=0.129, acc=0.949]\n"
     ]
    },
    {
     "name": "stdout",
     "output_type": "stream",
     "text": [
      "Run with HyperParameters(learning_rate=0.01, batch_size=128, num_epochs=40, optimise='Adam', loss='binary_crossentropy', num_filter=64, strides=2, padding='same', dropout_rate=0.1, layers=3, default_activation='relu')\n",
      "40\n"
     ]
    },
    {
     "name": "stderr",
     "output_type": "stream",
     "text": [
      "Epoch Progress: 100%|██████████| 40/40 [00:13<00:00,  2.88epoch/s, loss=0.255, acc=0.923]\n"
     ]
    },
    {
     "name": "stdout",
     "output_type": "stream",
     "text": [
      "Run with HyperParameters(learning_rate=0.01, batch_size=128, num_epochs=40, optimise='Adam', loss='binary_crossentropy', num_filter=64, strides=1, padding='same', dropout_rate=0.4, layers=3, default_activation='relu')\n",
      "40\n"
     ]
    },
    {
     "name": "stderr",
     "output_type": "stream",
     "text": [
      "Epoch Progress: 100%|██████████| 40/40 [00:33<00:00,  1.18epoch/s, loss=0.154, acc=0.936]\n"
     ]
    },
    {
     "name": "stdout",
     "output_type": "stream",
     "text": [
      "Run with HyperParameters(learning_rate=0.01, batch_size=128, num_epochs=40, optimise='Adam', loss='binary_crossentropy', num_filter=64, strides=2, padding='same', dropout_rate=0.4, layers=3, default_activation='relu')\n",
      "40\n"
     ]
    },
    {
     "name": "stderr",
     "output_type": "stream",
     "text": [
      "Epoch Progress: 100%|██████████| 40/40 [00:13<00:00,  2.93epoch/s, loss=0.328, acc=0.897]\n"
     ]
    },
    {
     "name": "stdout",
     "output_type": "stream",
     "text": [
      "Run with HyperParameters(learning_rate=0.001, batch_size=128, num_epochs=40, optimise='Adam', loss='binary_crossentropy', num_filter=16, strides=1, padding='same', dropout_rate=0.1, layers=2, default_activation='relu')\n",
      "40\n"
     ]
    },
    {
     "name": "stderr",
     "output_type": "stream",
     "text": [
      "Epoch Progress: 100%|██████████| 40/40 [00:05<00:00,  7.44epoch/s, loss=0.066, acc=0.987] \n"
     ]
    },
    {
     "name": "stdout",
     "output_type": "stream",
     "text": [
      "Run with HyperParameters(learning_rate=0.001, batch_size=128, num_epochs=40, optimise='Adam', loss='binary_crossentropy', num_filter=16, strides=2, padding='same', dropout_rate=0.1, layers=2, default_activation='relu')\n",
      "40\n"
     ]
    },
    {
     "name": "stderr",
     "output_type": "stream",
     "text": [
      "Epoch Progress: 100%|██████████| 40/40 [00:02<00:00, 14.06epoch/s, loss=0.469, acc=0.731]\n"
     ]
    },
    {
     "name": "stdout",
     "output_type": "stream",
     "text": [
      "Run with HyperParameters(learning_rate=0.001, batch_size=128, num_epochs=40, optimise='Adam', loss='binary_crossentropy', num_filter=16, strides=1, padding='same', dropout_rate=0.4, layers=2, default_activation='relu')\n",
      "40\n"
     ]
    },
    {
     "name": "stderr",
     "output_type": "stream",
     "text": [
      "Epoch Progress: 100%|██████████| 40/40 [00:05<00:00,  7.71epoch/s, loss=0.0966, acc=0.974]\n"
     ]
    },
    {
     "name": "stdout",
     "output_type": "stream",
     "text": [
      "Run with HyperParameters(learning_rate=0.001, batch_size=128, num_epochs=40, optimise='Adam', loss='binary_crossentropy', num_filter=16, strides=2, padding='same', dropout_rate=0.4, layers=2, default_activation='relu')\n",
      "40\n"
     ]
    },
    {
     "name": "stderr",
     "output_type": "stream",
     "text": [
      "Epoch Progress: 100%|██████████| 40/40 [00:02<00:00, 14.16epoch/s, loss=0.446, acc=0.756]\n"
     ]
    },
    {
     "name": "stdout",
     "output_type": "stream",
     "text": [
      "Run with HyperParameters(learning_rate=0.001, batch_size=128, num_epochs=40, optimise='Adam', loss='binary_crossentropy', num_filter=16, strides=1, padding='same', dropout_rate=0.1, layers=3, default_activation='relu')\n",
      "40\n"
     ]
    },
    {
     "name": "stderr",
     "output_type": "stream",
     "text": [
      "Epoch Progress: 100%|██████████| 40/40 [00:06<00:00,  6.53epoch/s, loss=0.139, acc=0.962]\n"
     ]
    },
    {
     "name": "stdout",
     "output_type": "stream",
     "text": [
      "Run with HyperParameters(learning_rate=0.001, batch_size=128, num_epochs=40, optimise='Adam', loss='binary_crossentropy', num_filter=16, strides=2, padding='same', dropout_rate=0.1, layers=3, default_activation='relu')\n",
      "40\n"
     ]
    },
    {
     "name": "stderr",
     "output_type": "stream",
     "text": [
      "Epoch Progress: 100%|██████████| 40/40 [00:03<00:00, 13.14epoch/s, loss=0.519, acc=0.731]\n"
     ]
    },
    {
     "name": "stdout",
     "output_type": "stream",
     "text": [
      "Run with HyperParameters(learning_rate=0.001, batch_size=128, num_epochs=40, optimise='Adam', loss='binary_crossentropy', num_filter=16, strides=1, padding='same', dropout_rate=0.4, layers=3, default_activation='relu')\n",
      "40\n"
     ]
    },
    {
     "name": "stderr",
     "output_type": "stream",
     "text": [
      "Epoch Progress: 100%|██████████| 40/40 [00:06<00:00,  6.32epoch/s, loss=0.296, acc=0.872]\n"
     ]
    },
    {
     "name": "stdout",
     "output_type": "stream",
     "text": [
      "Run with HyperParameters(learning_rate=0.001, batch_size=128, num_epochs=40, optimise='Adam', loss='binary_crossentropy', num_filter=16, strides=2, padding='same', dropout_rate=0.4, layers=3, default_activation='relu')\n",
      "40\n"
     ]
    },
    {
     "name": "stderr",
     "output_type": "stream",
     "text": [
      "Epoch Progress: 100%|██████████| 40/40 [00:03<00:00, 13.25epoch/s, loss=0.538, acc=0.731]\n"
     ]
    },
    {
     "name": "stdout",
     "output_type": "stream",
     "text": [
      "Run with HyperParameters(learning_rate=0.001, batch_size=128, num_epochs=40, optimise='Adam', loss='binary_crossentropy', num_filter=32, strides=1, padding='same', dropout_rate=0.1, layers=2, default_activation='relu')\n",
      "40\n"
     ]
    },
    {
     "name": "stderr",
     "output_type": "stream",
     "text": [
      "Epoch Progress: 100%|██████████| 40/40 [00:10<00:00,  3.74epoch/s, loss=0.0169, acc=1]    \n"
     ]
    },
    {
     "name": "stdout",
     "output_type": "stream",
     "text": [
      "Run with HyperParameters(learning_rate=0.001, batch_size=128, num_epochs=40, optimise='Adam', loss='binary_crossentropy', num_filter=32, strides=2, padding='same', dropout_rate=0.1, layers=2, default_activation='relu')\n",
      "40\n"
     ]
    },
    {
     "name": "stderr",
     "output_type": "stream",
     "text": [
      "Epoch Progress: 100%|██████████| 40/40 [00:05<00:00,  7.59epoch/s, loss=0.264, acc=0.91] \n"
     ]
    },
    {
     "name": "stdout",
     "output_type": "stream",
     "text": [
      "Run with HyperParameters(learning_rate=0.001, batch_size=128, num_epochs=40, optimise='Adam', loss='binary_crossentropy', num_filter=32, strides=1, padding='same', dropout_rate=0.4, layers=2, default_activation='relu')\n",
      "40\n"
     ]
    },
    {
     "name": "stderr",
     "output_type": "stream",
     "text": [
      "Epoch Progress: 100%|██████████| 40/40 [00:10<00:00,  3.81epoch/s, loss=0.0212, acc=1]    \n"
     ]
    },
    {
     "name": "stdout",
     "output_type": "stream",
     "text": [
      "Run with HyperParameters(learning_rate=0.001, batch_size=128, num_epochs=40, optimise='Adam', loss='binary_crossentropy', num_filter=32, strides=2, padding='same', dropout_rate=0.4, layers=2, default_activation='relu')\n",
      "40\n"
     ]
    },
    {
     "name": "stderr",
     "output_type": "stream",
     "text": [
      "Epoch Progress: 100%|██████████| 40/40 [00:06<00:00,  6.50epoch/s, loss=0.383, acc=0.885]\n"
     ]
    },
    {
     "name": "stdout",
     "output_type": "stream",
     "text": [
      "Run with HyperParameters(learning_rate=0.001, batch_size=128, num_epochs=40, optimise='Adam', loss='binary_crossentropy', num_filter=32, strides=1, padding='same', dropout_rate=0.1, layers=3, default_activation='relu')\n",
      "40\n"
     ]
    },
    {
     "name": "stderr",
     "output_type": "stream",
     "text": [
      "Epoch Progress: 100%|██████████| 40/40 [00:13<00:00,  2.92epoch/s, loss=0.0486, acc=1]    \n"
     ]
    },
    {
     "name": "stdout",
     "output_type": "stream",
     "text": [
      "Run with HyperParameters(learning_rate=0.001, batch_size=128, num_epochs=40, optimise='Adam', loss='binary_crossentropy', num_filter=32, strides=2, padding='same', dropout_rate=0.1, layers=3, default_activation='relu')\n",
      "40\n"
     ]
    },
    {
     "name": "stderr",
     "output_type": "stream",
     "text": [
      "Epoch Progress: 100%|██████████| 40/40 [00:06<00:00,  6.63epoch/s, loss=0.398, acc=0.846]\n"
     ]
    },
    {
     "name": "stdout",
     "output_type": "stream",
     "text": [
      "Run with HyperParameters(learning_rate=0.001, batch_size=128, num_epochs=40, optimise='Adam', loss='binary_crossentropy', num_filter=32, strides=1, padding='same', dropout_rate=0.4, layers=3, default_activation='relu')\n",
      "40\n"
     ]
    },
    {
     "name": "stderr",
     "output_type": "stream",
     "text": [
      "Epoch Progress: 100%|██████████| 40/40 [00:14<00:00,  2.85epoch/s, loss=0.0473, acc=0.987]\n"
     ]
    },
    {
     "name": "stdout",
     "output_type": "stream",
     "text": [
      "Run with HyperParameters(learning_rate=0.001, batch_size=128, num_epochs=40, optimise='Adam', loss='binary_crossentropy', num_filter=32, strides=2, padding='same', dropout_rate=0.4, layers=3, default_activation='relu')\n",
      "40\n"
     ]
    },
    {
     "name": "stderr",
     "output_type": "stream",
     "text": [
      "Epoch Progress: 100%|██████████| 40/40 [00:06<00:00,  6.21epoch/s, loss=0.522, acc=0.795]\n"
     ]
    },
    {
     "name": "stdout",
     "output_type": "stream",
     "text": [
      "Run with HyperParameters(learning_rate=0.001, batch_size=128, num_epochs=40, optimise='Adam', loss='binary_crossentropy', num_filter=64, strides=1, padding='same', dropout_rate=0.1, layers=2, default_activation='relu')\n",
      "40\n"
     ]
    },
    {
     "name": "stderr",
     "output_type": "stream",
     "text": [
      "Epoch Progress: 100%|██████████| 40/40 [00:26<00:00,  1.48epoch/s, loss=0.157, acc=0.936]\n"
     ]
    },
    {
     "name": "stdout",
     "output_type": "stream",
     "text": [
      "Run with HyperParameters(learning_rate=0.001, batch_size=128, num_epochs=40, optimise='Adam', loss='binary_crossentropy', num_filter=64, strides=2, padding='same', dropout_rate=0.1, layers=2, default_activation='relu')\n",
      "40\n"
     ]
    },
    {
     "name": "stderr",
     "output_type": "stream",
     "text": [
      "Epoch Progress: 100%|██████████| 40/40 [00:13<00:00,  3.01epoch/s, loss=0.205, acc=0.923]\n"
     ]
    },
    {
     "name": "stdout",
     "output_type": "stream",
     "text": [
      "Run with HyperParameters(learning_rate=0.001, batch_size=128, num_epochs=40, optimise='Adam', loss='binary_crossentropy', num_filter=64, strides=1, padding='same', dropout_rate=0.4, layers=2, default_activation='relu')\n",
      "40\n"
     ]
    },
    {
     "name": "stderr",
     "output_type": "stream",
     "text": [
      "Epoch Progress: 100%|██████████| 40/40 [00:29<00:00,  1.34epoch/s, loss=0.104, acc=0.974]\n"
     ]
    },
    {
     "name": "stdout",
     "output_type": "stream",
     "text": [
      "Run with HyperParameters(learning_rate=0.001, batch_size=128, num_epochs=40, optimise='Adam', loss='binary_crossentropy', num_filter=64, strides=2, padding='same', dropout_rate=0.4, layers=2, default_activation='relu')\n",
      "40\n"
     ]
    },
    {
     "name": "stderr",
     "output_type": "stream",
     "text": [
      "Epoch Progress: 100%|██████████| 40/40 [00:18<00:00,  2.14epoch/s, loss=0.206, acc=0.936]\n"
     ]
    },
    {
     "name": "stdout",
     "output_type": "stream",
     "text": [
      "Run with HyperParameters(learning_rate=0.001, batch_size=128, num_epochs=40, optimise='Adam', loss='binary_crossentropy', num_filter=64, strides=1, padding='same', dropout_rate=0.1, layers=3, default_activation='relu')\n",
      "40\n"
     ]
    },
    {
     "name": "stderr",
     "output_type": "stream",
     "text": [
      "Epoch Progress: 100%|██████████| 40/40 [00:39<00:00,  1.01epoch/s, loss=0.269, acc=0.885]\n"
     ]
    },
    {
     "name": "stdout",
     "output_type": "stream",
     "text": [
      "Run with HyperParameters(learning_rate=0.001, batch_size=128, num_epochs=40, optimise='Adam', loss='binary_crossentropy', num_filter=64, strides=2, padding='same', dropout_rate=0.1, layers=3, default_activation='relu')\n",
      "40\n"
     ]
    },
    {
     "name": "stderr",
     "output_type": "stream",
     "text": [
      "Epoch Progress: 100%|██████████| 40/40 [00:15<00:00,  2.57epoch/s, loss=0.281, acc=0.897]\n"
     ]
    },
    {
     "name": "stdout",
     "output_type": "stream",
     "text": [
      "Run with HyperParameters(learning_rate=0.001, batch_size=128, num_epochs=40, optimise='Adam', loss='binary_crossentropy', num_filter=64, strides=1, padding='same', dropout_rate=0.4, layers=3, default_activation='relu')\n",
      "40\n"
     ]
    },
    {
     "name": "stderr",
     "output_type": "stream",
     "text": [
      "Epoch Progress: 100%|██████████| 40/40 [00:34<00:00,  1.15epoch/s, loss=0.246, acc=0.795]\n"
     ]
    },
    {
     "name": "stdout",
     "output_type": "stream",
     "text": [
      "Run with HyperParameters(learning_rate=0.001, batch_size=128, num_epochs=40, optimise='Adam', loss='binary_crossentropy', num_filter=64, strides=2, padding='same', dropout_rate=0.4, layers=3, default_activation='relu')\n",
      "40\n"
     ]
    },
    {
     "name": "stderr",
     "output_type": "stream",
     "text": [
      "Epoch Progress: 100%|██████████| 40/40 [00:13<00:00,  3.02epoch/s, loss=0.299, acc=0.859]\n"
     ]
    },
    {
     "name": "stdout",
     "output_type": "stream",
     "text": [
      "Run with HyperParameters(learning_rate=0.0001, batch_size=128, num_epochs=40, optimise='Adam', loss='binary_crossentropy', num_filter=16, strides=1, padding='same', dropout_rate=0.1, layers=2, default_activation='relu')\n",
      "40\n"
     ]
    },
    {
     "name": "stderr",
     "output_type": "stream",
     "text": [
      "Epoch Progress: 100%|██████████| 40/40 [00:05<00:00,  7.65epoch/s, loss=0.232, acc=0.872]\n"
     ]
    },
    {
     "name": "stdout",
     "output_type": "stream",
     "text": [
      "Run with HyperParameters(learning_rate=0.0001, batch_size=128, num_epochs=40, optimise='Adam', loss='binary_crossentropy', num_filter=16, strides=2, padding='same', dropout_rate=0.1, layers=2, default_activation='relu')\n",
      "40\n"
     ]
    },
    {
     "name": "stderr",
     "output_type": "stream",
     "text": [
      "Epoch Progress: 100%|██████████| 40/40 [00:02<00:00, 13.77epoch/s, loss=0.391, acc=0.872]\n"
     ]
    },
    {
     "name": "stdout",
     "output_type": "stream",
     "text": [
      "Run with HyperParameters(learning_rate=0.0001, batch_size=128, num_epochs=40, optimise='Adam', loss='binary_crossentropy', num_filter=16, strides=1, padding='same', dropout_rate=0.4, layers=2, default_activation='relu')\n",
      "40\n"
     ]
    },
    {
     "name": "stderr",
     "output_type": "stream",
     "text": [
      "Epoch Progress: 100%|██████████| 40/40 [00:05<00:00,  7.80epoch/s, loss=0.0973, acc=0.974]\n"
     ]
    },
    {
     "name": "stdout",
     "output_type": "stream",
     "text": [
      "Run with HyperParameters(learning_rate=0.0001, batch_size=128, num_epochs=40, optimise='Adam', loss='binary_crossentropy', num_filter=16, strides=2, padding='same', dropout_rate=0.4, layers=2, default_activation='relu')\n",
      "40\n"
     ]
    },
    {
     "name": "stderr",
     "output_type": "stream",
     "text": [
      "Epoch Progress: 100%|██████████| 40/40 [00:02<00:00, 13.38epoch/s, loss=0.524, acc=0.731]\n"
     ]
    },
    {
     "name": "stdout",
     "output_type": "stream",
     "text": [
      "Run with HyperParameters(learning_rate=0.0001, batch_size=128, num_epochs=40, optimise='Adam', loss='binary_crossentropy', num_filter=16, strides=1, padding='same', dropout_rate=0.1, layers=3, default_activation='relu')\n",
      "40\n"
     ]
    },
    {
     "name": "stderr",
     "output_type": "stream",
     "text": [
      "Epoch Progress: 100%|██████████| 40/40 [00:06<00:00,  6.38epoch/s, loss=0.0729, acc=0.987]\n"
     ]
    },
    {
     "name": "stdout",
     "output_type": "stream",
     "text": [
      "Run with HyperParameters(learning_rate=0.0001, batch_size=128, num_epochs=40, optimise='Adam', loss='binary_crossentropy', num_filter=16, strides=2, padding='same', dropout_rate=0.1, layers=3, default_activation='relu')\n",
      "40\n"
     ]
    },
    {
     "name": "stderr",
     "output_type": "stream",
     "text": [
      "Epoch Progress: 100%|██████████| 40/40 [00:03<00:00, 13.19epoch/s, loss=0.568, acc=0.731]\n"
     ]
    },
    {
     "name": "stdout",
     "output_type": "stream",
     "text": [
      "Run with HyperParameters(learning_rate=0.0001, batch_size=128, num_epochs=40, optimise='Adam', loss='binary_crossentropy', num_filter=16, strides=1, padding='same', dropout_rate=0.4, layers=3, default_activation='relu')\n",
      "40\n"
     ]
    },
    {
     "name": "stderr",
     "output_type": "stream",
     "text": [
      "Epoch Progress: 100%|██████████| 40/40 [00:06<00:00,  6.18epoch/s, loss=0.114, acc=0.962]\n"
     ]
    },
    {
     "name": "stdout",
     "output_type": "stream",
     "text": [
      "Run with HyperParameters(learning_rate=0.0001, batch_size=128, num_epochs=40, optimise='Adam', loss='binary_crossentropy', num_filter=16, strides=2, padding='same', dropout_rate=0.4, layers=3, default_activation='relu')\n",
      "40\n"
     ]
    },
    {
     "name": "stderr",
     "output_type": "stream",
     "text": [
      "Epoch Progress: 100%|██████████| 40/40 [00:03<00:00, 12.24epoch/s, loss=0.573, acc=0.731]\n"
     ]
    },
    {
     "name": "stdout",
     "output_type": "stream",
     "text": [
      "Run with HyperParameters(learning_rate=0.0001, batch_size=128, num_epochs=40, optimise='Adam', loss='binary_crossentropy', num_filter=32, strides=1, padding='same', dropout_rate=0.1, layers=2, default_activation='relu')\n",
      "40\n"
     ]
    },
    {
     "name": "stderr",
     "output_type": "stream",
     "text": [
      "Epoch Progress: 100%|██████████| 40/40 [00:11<00:00,  3.38epoch/s, loss=0.0814, acc=0.974]\n"
     ]
    },
    {
     "name": "stdout",
     "output_type": "stream",
     "text": [
      "Run with HyperParameters(learning_rate=0.0001, batch_size=128, num_epochs=40, optimise='Adam', loss='binary_crossentropy', num_filter=32, strides=2, padding='same', dropout_rate=0.1, layers=2, default_activation='relu')\n",
      "40\n"
     ]
    },
    {
     "name": "stderr",
     "output_type": "stream",
     "text": [
      "Epoch Progress: 100%|██████████| 40/40 [00:06<00:00,  6.41epoch/s, loss=0.271, acc=0.872]\n"
     ]
    },
    {
     "name": "stdout",
     "output_type": "stream",
     "text": [
      "Run with HyperParameters(learning_rate=0.0001, batch_size=128, num_epochs=40, optimise='Adam', loss='binary_crossentropy', num_filter=32, strides=1, padding='same', dropout_rate=0.4, layers=2, default_activation='relu')\n",
      "40\n"
     ]
    },
    {
     "name": "stderr",
     "output_type": "stream",
     "text": [
      "Epoch Progress: 100%|██████████| 40/40 [00:12<00:00,  3.14epoch/s, loss=0.153, acc=0.974]\n"
     ]
    },
    {
     "name": "stdout",
     "output_type": "stream",
     "text": [
      "Run with HyperParameters(learning_rate=0.0001, batch_size=128, num_epochs=40, optimise='Adam', loss='binary_crossentropy', num_filter=32, strides=2, padding='same', dropout_rate=0.4, layers=2, default_activation='relu')\n",
      "40\n"
     ]
    },
    {
     "name": "stderr",
     "output_type": "stream",
     "text": [
      "Epoch Progress: 100%|██████████| 40/40 [00:06<00:00,  6.37epoch/s, loss=0.358, acc=0.846]\n"
     ]
    },
    {
     "name": "stdout",
     "output_type": "stream",
     "text": [
      "Run with HyperParameters(learning_rate=0.0001, batch_size=128, num_epochs=40, optimise='Adam', loss='binary_crossentropy', num_filter=32, strides=1, padding='same', dropout_rate=0.1, layers=3, default_activation='relu')\n",
      "40\n"
     ]
    },
    {
     "name": "stderr",
     "output_type": "stream",
     "text": [
      "Epoch Progress: 100%|██████████| 40/40 [00:13<00:00,  3.05epoch/s, loss=0.18, acc=0.936] \n"
     ]
    },
    {
     "name": "stdout",
     "output_type": "stream",
     "text": [
      "Run with HyperParameters(learning_rate=0.0001, batch_size=128, num_epochs=40, optimise='Adam', loss='binary_crossentropy', num_filter=32, strides=2, padding='same', dropout_rate=0.1, layers=3, default_activation='relu')\n",
      "40\n"
     ]
    },
    {
     "name": "stderr",
     "output_type": "stream",
     "text": [
      "Epoch Progress: 100%|██████████| 40/40 [00:06<00:00,  6.58epoch/s, loss=0.427, acc=0.808]\n"
     ]
    },
    {
     "name": "stdout",
     "output_type": "stream",
     "text": [
      "Run with HyperParameters(learning_rate=0.0001, batch_size=128, num_epochs=40, optimise='Adam', loss='binary_crossentropy', num_filter=32, strides=1, padding='same', dropout_rate=0.4, layers=3, default_activation='relu')\n",
      "40\n"
     ]
    },
    {
     "name": "stderr",
     "output_type": "stream",
     "text": [
      "Epoch Progress: 100%|██████████| 40/40 [00:13<00:00,  3.04epoch/s, loss=0.0222, acc=1]    \n"
     ]
    },
    {
     "name": "stdout",
     "output_type": "stream",
     "text": [
      "Run with HyperParameters(learning_rate=0.0001, batch_size=128, num_epochs=40, optimise='Adam', loss='binary_crossentropy', num_filter=32, strides=2, padding='same', dropout_rate=0.4, layers=3, default_activation='relu')\n",
      "40\n"
     ]
    },
    {
     "name": "stderr",
     "output_type": "stream",
     "text": [
      "Epoch Progress: 100%|██████████| 40/40 [00:06<00:00,  6.46epoch/s, loss=0.389, acc=0.833]\n"
     ]
    },
    {
     "name": "stdout",
     "output_type": "stream",
     "text": [
      "Run with HyperParameters(learning_rate=0.0001, batch_size=128, num_epochs=40, optimise='Adam', loss='binary_crossentropy', num_filter=64, strides=1, padding='same', dropout_rate=0.1, layers=2, default_activation='relu')\n",
      "40\n"
     ]
    },
    {
     "name": "stderr",
     "output_type": "stream",
     "text": [
      "Epoch Progress: 100%|██████████| 40/40 [00:27<00:00,  1.47epoch/s, loss=0.159, acc=0.923]\n"
     ]
    },
    {
     "name": "stdout",
     "output_type": "stream",
     "text": [
      "Run with HyperParameters(learning_rate=0.0001, batch_size=128, num_epochs=40, optimise='Adam', loss='binary_crossentropy', num_filter=64, strides=2, padding='same', dropout_rate=0.1, layers=2, default_activation='relu')\n",
      "40\n"
     ]
    },
    {
     "name": "stderr",
     "output_type": "stream",
     "text": [
      "Epoch Progress: 100%|██████████| 40/40 [00:13<00:00,  2.94epoch/s, loss=0.276, acc=0.872]\n"
     ]
    },
    {
     "name": "stdout",
     "output_type": "stream",
     "text": [
      "Run with HyperParameters(learning_rate=0.0001, batch_size=128, num_epochs=40, optimise='Adam', loss='binary_crossentropy', num_filter=64, strides=1, padding='same', dropout_rate=0.4, layers=2, default_activation='relu')\n",
      "40\n"
     ]
    },
    {
     "name": "stderr",
     "output_type": "stream",
     "text": [
      "Epoch Progress: 100%|██████████| 40/40 [00:30<00:00,  1.30epoch/s, loss=0.212, acc=0.897]\n"
     ]
    },
    {
     "name": "stdout",
     "output_type": "stream",
     "text": [
      "Run with HyperParameters(learning_rate=0.0001, batch_size=128, num_epochs=40, optimise='Adam', loss='binary_crossentropy', num_filter=64, strides=2, padding='same', dropout_rate=0.4, layers=2, default_activation='relu')\n",
      "40\n"
     ]
    },
    {
     "name": "stderr",
     "output_type": "stream",
     "text": [
      "Epoch Progress: 100%|██████████| 40/40 [00:15<00:00,  2.57epoch/s, loss=0.21, acc=0.936] \n"
     ]
    },
    {
     "name": "stdout",
     "output_type": "stream",
     "text": [
      "Run with HyperParameters(learning_rate=0.0001, batch_size=128, num_epochs=40, optimise='Adam', loss='binary_crossentropy', num_filter=64, strides=1, padding='same', dropout_rate=0.1, layers=3, default_activation='relu')\n",
      "40\n"
     ]
    },
    {
     "name": "stderr",
     "output_type": "stream",
     "text": [
      "Epoch Progress: 100%|██████████| 40/40 [00:33<00:00,  1.20epoch/s, loss=0.193, acc=0.923]\n"
     ]
    },
    {
     "name": "stdout",
     "output_type": "stream",
     "text": [
      "Run with HyperParameters(learning_rate=0.0001, batch_size=128, num_epochs=40, optimise='Adam', loss='binary_crossentropy', num_filter=64, strides=2, padding='same', dropout_rate=0.1, layers=3, default_activation='relu')\n",
      "40\n"
     ]
    },
    {
     "name": "stderr",
     "output_type": "stream",
     "text": [
      "Epoch Progress: 100%|██████████| 40/40 [00:15<00:00,  2.65epoch/s, loss=0.293, acc=0.923]\n"
     ]
    },
    {
     "name": "stdout",
     "output_type": "stream",
     "text": [
      "Run with HyperParameters(learning_rate=0.0001, batch_size=128, num_epochs=40, optimise='Adam', loss='binary_crossentropy', num_filter=64, strides=1, padding='same', dropout_rate=0.4, layers=3, default_activation='relu')\n",
      "40\n"
     ]
    },
    {
     "name": "stderr",
     "output_type": "stream",
     "text": [
      "Epoch Progress: 100%|██████████| 40/40 [00:33<00:00,  1.18epoch/s, loss=0.313, acc=0.833]\n"
     ]
    },
    {
     "name": "stdout",
     "output_type": "stream",
     "text": [
      "Run with HyperParameters(learning_rate=0.0001, batch_size=128, num_epochs=40, optimise='Adam', loss='binary_crossentropy', num_filter=64, strides=2, padding='same', dropout_rate=0.4, layers=3, default_activation='relu')\n",
      "40\n"
     ]
    },
    {
     "name": "stderr",
     "output_type": "stream",
     "text": [
      "Epoch Progress: 100%|██████████| 40/40 [00:13<00:00,  2.90epoch/s, loss=0.339, acc=0.859]"
     ]
    },
    {
     "name": "stdout",
     "output_type": "stream",
     "text": [
      "Hyperparameter test run complete\n"
     ]
    },
    {
     "name": "stderr",
     "output_type": "stream",
     "text": [
      "\n"
     ]
    }
   ],
   "source": [
    "## Create instances of the dataclass from the list\n",
    "for item in test_grid:\n",
    "    ## Define the model which is then run for all learning rates in set\n",
    "    print(\"Run with\",item)\n",
    "    print(item.num_epochs)\n",
    "    \n",
    "    ## initialise tqdm callback\n",
    "    tqdm_callback = ac.TqdmEpochProgress(total_epochs=item.num_epochs)\n",
    "    \n",
    "    ## Simple CNN model to support Learning Rate analysis\n",
    "    ## added desired number of layers\n",
    "    if item.layers == 2:\n",
    "        model = Sequential([\n",
    "            Conv2D(item.num_filter, (3, 3), padding=item.padding,\\\n",
    "                   activation=item.default_activation, input_shape=(28, 28, 1)),  ## Input layer\n",
    "            Conv2D(item.num_filter*2, (3, 3), padding=item.padding,\\\n",
    "                   activation=item.default_activation),                           ## Another convolution layer\n",
    "            MaxPooling2D((2, 2),strides=item.strides),                            ## Reduce the feature maps\n",
    "            Conv2D(item.num_filter, (3, 3), padding=item.padding,\\\n",
    "                   activation=item.default_activation),                           ## Another convolution layer\n",
    "            MaxPooling2D((2, 2),strides=item.strides),                            ## Reduce the feature maps\n",
    "            Flatten(),                                                            ## Flatten\n",
    "            Dropout(item.dropout_rate),                                           ## Drop out to reduce possible over fitting\n",
    "            Dense(item.num_filter*4,activation=item.default_activation),              ## Fully connected layer\n",
    "            Dense(1, activation='sigmoid')                                        ## Output layer for binary classification  \n",
    "        ])\n",
    "    if item.layers == 3:\n",
    "        model = Sequential([\n",
    "            Conv2D(item.num_filter, (3, 3), padding=item.padding,\\\n",
    "                   activation=item.default_activation, input_shape=(28, 28, 1)),  ## Input layer\n",
    "            Conv2D(item.num_filter*2, (3, 3), padding=item.padding,\\\n",
    "                   activation=item.default_activation),                           ## Another convolution layer\n",
    "            MaxPooling2D((2, 2),strides=item.strides),                            ## Reduce the feature maps\n",
    "            Conv2D(item.num_filter, (3, 3), padding=item.padding,\\\n",
    "                   activation=item.default_activation),                           ## Another convolution layer\n",
    "            MaxPooling2D((2, 2),strides=item.strides),                            ## Reduce the feature maps\n",
    "            Conv2D(item.num_filter, (3, 3), padding=item.padding,\\\n",
    "                   activation=item.default_activation),                           ## Another convolution layer\n",
    "            MaxPooling2D((2, 2),strides=item.strides),                            ## Reduce the feature maps\n",
    "            Flatten(),                                                            ## Flatten\n",
    "            Dropout(item.dropout_rate),                                           ## Drop out to reduce possible over fitting\n",
    "            Dense(item.num_filter*4, activation=item.default_activation),             ## Fully connected layer\n",
    "            Dense(1, activation='sigmoid')                                        ## Output layer for binary classification  \n",
    "        ])\n",
    "    if item.layers == 4:\n",
    "        model = Sequential([\n",
    "            Conv2D(item.num_filter, (3, 3), padding=item.padding,\\\n",
    "                   activation=item.default_activation, input_shape=(28, 28, 1)),  ## Input layer\n",
    "            Conv2D(item.num_filter*2, (3, 3), padding=item.padding,\\\n",
    "                   activation=item.default_activation),                           ## Another convolution layer\n",
    "            MaxPooling2D((2, 2),strides=item.strides),                            ## Reduce the feature maps\n",
    "            Conv2D(item.num_filter, (3, 3), padding=item.padding,\\\n",
    "                   activation=item.default_activation),                           ## Another convolution layer\n",
    "            Conv2D(item.num_filter*2, (3, 3), padding=item.padding,\\\n",
    "                   activation=item.default_activation),                           ## Another convolution layer\n",
    "            MaxPooling2D((2, 2),strides=item.strides),                            ## Reduce the feature maps\n",
    "            Conv2D(item.num_filter, (3, 3), padding=item.padding,\\\n",
    "                   activation=item.default_activation),                           ## Another convolution layer\n",
    "            MaxPooling2D((2, 2),strides=item.strides),                            ## Reduce the feature maps\n",
    "            Flatten(),                                                            ## Flatten\n",
    "            Dropout(item.dropout_rate),                                           ## Drop out to reduce possible over fitting\n",
    "            Dense(item.num_filter*4, activation=item.default_activation),             ## Fully connected layer\n",
    "            Dense(1, activation='sigmoid')                                        ## Output layer for binary classification  \n",
    "        ])    \n",
    "        \n",
    "    if verbose == 1:\n",
    "        print(model.summary())\n",
    "        \n",
    "    ## Redirect the summary output to a string\n",
    "    summary_string  = io.StringIO()\n",
    "    model.summary(print_fn=lambda x: summary_string.write(x + \"\\n\"))\n",
    "    summary_content = summary_string.getvalue()\n",
    "    summary_string.close()\n",
    "\n",
    "    ## Compile the model\n",
    "    model.compile(optimizer=item.optimise,                                                   \n",
    "                  loss=item.loss,\n",
    "                  metrics='acc')\n",
    "\n",
    "    ## Fit the model\n",
    "    history = model.fit(val_dataset, \n",
    "                        epochs=item.num_epochs, \n",
    "                        batch_size=item.batch_size, \n",
    "                        verbose=0,\n",
    "                        callbacks = [tqdm_callback])\n",
    "\n",
    "    ## Save results to files\n",
    "    run_list.append(ac.hyper_process(history,summary_content,item))\n",
    "\n",
    "print(\"Hyperparameter test run complete\")"
   ]
  },
  {
   "cell_type": "code",
   "execution_count": 11,
   "metadata": {},
   "outputs": [
    {
     "name": "stdout",
     "output_type": "stream",
     "text": [
      "extracting\n",
      "\n",
      "Run satisfying both smallest min_loss and largest max_acc:\n",
      "    metrics_file summary_file  min_loss  max_acc  last_loss  last_acc  \\\n",
      "104                            0.016935      1.0   0.016935       1.0   \n",
      "\n",
      "     var_loss   var_acc  learning_rate  batch_size  num_epochs  num_filter  \\\n",
      "104  0.043449  0.019872          0.001         128          40          32   \n",
      "\n",
      "     strides padding  dropout_rate  layers optimise                 loss  \\\n",
      "104        1    same           0.1       2     Adam  binary_crossentropy   \n",
      "\n",
      "    default_activation  \n",
      "104               relu  \n",
      "\n",
      "\n",
      "    metrics_file summary_file  min_loss  max_acc  last_loss  last_acc  \\\n",
      "104                            0.016935      1.0   0.016935       1.0   \n",
      "\n",
      "     var_loss   var_acc  learning_rate  batch_size  num_epochs  num_filter  \\\n",
      "104  0.043449  0.019872          0.001         128          40          32   \n",
      "\n",
      "     strides padding  dropout_rate  layers optimise                 loss  \\\n",
      "104        1    same           0.1       2     Adam  binary_crossentropy   \n",
      "\n",
      "    default_activation  \n",
      "104               relu  \n",
      "R^2 Score: 0.49533475748282085\n",
      "Mean Squared Error: 0.0029780970793810034\n",
      "\n",
      "Impact of Hyperparameters on Accuracy (from Linear Regression):\n",
      "  Hyperparameter  Coefficient\n",
      "0  learning_rate    -0.669813\n",
      "1     num_epochs     0.005357\n",
      "2     num_filter     0.001219\n",
      "3        strides    -0.098903\n",
      "4         layers    -0.033625\n",
      "5   dropout_rate    -0.092629\n",
      "6     batch_size     0.000000\n",
      "\n",
      "Hyperparameter Importance for Accuracy (from Random Forest):\n",
      "  Hyperparameter  Importance\n",
      "3        strides    0.360658\n",
      "2     num_filter    0.318097\n",
      "1     num_epochs    0.099393\n",
      "4         layers    0.091464\n",
      "0  learning_rate    0.071136\n",
      "5   dropout_rate    0.059250\n",
      "6     batch_size    0.000000\n"
     ]
    }
   ],
   "source": [
    "best_run,run_df,best_run2 = ac.analyse_run(run_list,\" \",filebase)\n",
    "print(\"\\nRun satisfying both smallest min_loss and largest max_acc:\")\n",
    "print(best_run)\n",
    "print(\"\\n\")\n",
    "print(best_run2)\n",
    "\n",
    "feature_importance,coef = ac.analyse_hyperparameters(run_df)\n",
    "print(\"\\nImpact of Hyperparameters on Accuracy (from Linear Regression):\")\n",
    "print(coef)\n",
    "print(\"\\nHyperparameter Importance for Accuracy (from Random Forest):\")\n",
    "print(feature_importance)"
   ]
  },
  {
   "cell_type": "code",
   "execution_count": null,
   "metadata": {},
   "outputs": [],
   "source": []
  },
  {
   "cell_type": "code",
   "execution_count": null,
   "metadata": {},
   "outputs": [],
   "source": []
  }
 ],
 "metadata": {
  "colab": {
   "collapsed_sections": [
    "928tj4hm_HRl",
    "LY2oUxSh_Nbk",
    "pJ0M8Nzx_Tir",
    "V_0zJR_ZAD0-"
   ],
   "provenance": []
  },
  "kernelspec": {
   "display_name": "Python 3 (ipykernel)",
   "language": "python",
   "name": "python3"
  },
  "language_info": {
   "codemirror_mode": {
    "name": "ipython",
    "version": 3
   },
   "file_extension": ".py",
   "mimetype": "text/x-python",
   "name": "python",
   "nbconvert_exporter": "python",
   "pygments_lexer": "ipython3",
   "version": "3.8.18"
  }
 },
 "nbformat": 4,
 "nbformat_minor": 4
}
