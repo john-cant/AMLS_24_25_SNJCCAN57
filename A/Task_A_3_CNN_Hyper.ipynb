{
 "cells": [
  {
   "cell_type": "markdown",
   "metadata": {
    "id": "qgV_pyyf--49"
   },
   "source": [
    "\n",
    "\n",
    "# AMLS Assignment\n",
    "## Task A_3: CNN on BreastMNIST Dataset - Hyperparameter Selection\n",
    "\n",
    "Explore range and combinations of Hyperparameters for CNN based model on the BreastMNIST dataset."
   ]
  },
  {
   "cell_type": "markdown",
   "metadata": {
    "id": "928tj4hm_HRl"
   },
   "source": [
    "## Import libraries\n",
    "The required libraries for this notebook include numpy, matplotlib, tensorflow, medmnist and also a custom built dataload and utility library."
   ]
  },
  {
   "cell_type": "code",
   "execution_count": 71,
   "metadata": {
    "id": "ZR9HIUUN-601"
   },
   "outputs": [
    {
     "name": "stdout",
     "output_type": "stream",
     "text": [
      "The autoreload extension is already loaded. To reload it, use:\n",
      "  %reload_ext autoreload\n"
     ]
    }
   ],
   "source": [
    "## import libraries\n",
    "## first enable autoreload during development so latest (new) version local code library is reloaded on execution \n",
    "## can be commented out when local code development completed to avoid overhead\n",
    "%load_ext autoreload\n",
    "%autoreload 2\n",
    "    \n",
    "import io\n",
    "import time                          ## to enable delays between file saves\n",
    "import numpy as np                   ## array manipulation\n",
    "import matplotlib.pyplot as plt      ## for graphing\n",
    "## import tensorflow\n",
    "import tensorflow as tf              ## tensor, model functions\n",
    "from tensorflow.keras.models import Sequential\n",
    "from tensorflow.keras.layers import Conv2D, Flatten, Dense, MaxPooling2D, Dropout\n",
    "from tensorflow.keras.optimizers import Adam, SGD, RMSprop\n",
    "from tensorflow.keras.losses import BinaryCrossentropy, Hinge\n",
    "## local code library, - developed for these specific tasks and includes all references to MedMNIST specific library\n",
    "import AMLS_common as ac"
   ]
  },
  {
   "cell_type": "markdown",
   "metadata": {},
   "source": [
    "## Set base parameters\n",
    "Including hyper parameters and data set specifics"
   ]
  },
  {
   "cell_type": "code",
   "execution_count": 72,
   "metadata": {},
   "outputs": [],
   "source": [
    "## set up lists and parameters\n",
    "test_list     = []\n",
    "run_list      = []\n",
    "batch_size    = 128                 ## batch size for datasets\n",
    "patience      = 3                   ## number of overfitting epochs before terminating\n",
    "threshold     = 0.1                 ## overfitting threshold\n",
    "## control and environment (e.g. verbose) parameters\n",
    "filebase      = \"metrics/\"          ## the folder to store the metrics and summary files generated for each run\n",
    "verbose       = 0                   ## if value equals 1 then print additional process information in steps below"
   ]
  },
  {
   "cell_type": "code",
   "execution_count": 73,
   "metadata": {},
   "outputs": [
    {
     "name": "stdout",
     "output_type": "stream",
     "text": [
      "test cases: 576\n"
     ]
    }
   ],
   "source": [
    "## use these lists of values to grid test hyper parameter sensitivity\n",
    "epochs_list   = [10,15,20,25]                   ## set of epochs to run for\n",
    "ks_list       = [2,3]                           ## kernel size\n",
    "lr_list       = [0.001,0.005]                   ## learning rates\n",
    "filter_list   = [16,32,64]                      ## main filter sizes to use\n",
    "ly_list       = [2,3,4]                         ## number of covolution layers\n",
    "dr_list       = [0.1,0.25]                      ## selected dropout rates\n",
    "loss_list     = ['binary_crossentropy']         ## loss functions to use\n",
    "optimise_list = ['Adam']                        ## optimisation functions\n",
    "st_list       = [1,2]                           ## strides\n",
    "## now set up the required hyperparameter sets\n",
    "for lr in lr_list:\n",
    "    for ks in ks_list:\n",
    "        for ep in epochs_list:\n",
    "            for fi in filter_list:\n",
    "                for ly in ly_list:\n",
    "                    for dr in dr_list:\n",
    "                        for st in st_list:\n",
    "                            for op in optimise_list:\n",
    "                                for ls in loss_list:\n",
    "                                    parameter = ac.HyperParameters(learning_rate=lr, \n",
    "                                                                   kernel_size=ks, \n",
    "                                                                   num_epochs=ep, \n",
    "                                                                   num_filter=fi,\n",
    "                                                                   layers=ly,\n",
    "                                                                   dropout_rate=dr,\n",
    "                                                                   strides=st,\n",
    "                                                                   padding=\"same\",\n",
    "                                                                   optimise=op,\n",
    "                                                                   loss=ls)          \n",
    "                                    test_list.append([parameter])\n",
    "## reshape parameters into a test grid that can be read using for loop\n",
    "test_grid = [hp for sublist in test_list for hp in sublist]\n",
    "print(\"test cases:\",len(test_grid))"
   ]
  },
  {
   "cell_type": "markdown",
   "metadata": {
    "id": "LY2oUxSh_Nbk"
   },
   "source": [
    "## Load and preprocess the BreastMNIST Data\n",
    "We load and split the dataset into the component datasets"
   ]
  },
  {
   "cell_type": "code",
   "execution_count": 74,
   "metadata": {
    "colab": {
     "base_uri": "https://localhost:8080/"
    },
    "id": "5PeebuSr_MAs",
    "outputId": "8a71101f-13e8-4381-eaff-f3bd4887b994"
   },
   "outputs": [
    {
     "name": "stdout",
     "output_type": "stream",
     "text": [
      "Using downloaded and verified file: C:\\Users\\johnc\\.medmnist\\breastmnist.npz\n",
      "Using downloaded and verified file: C:\\Users\\johnc\\.medmnist\\breastmnist.npz\n",
      "Using downloaded and verified file: C:\\Users\\johnc\\.medmnist\\breastmnist.npz\n"
     ]
    }
   ],
   "source": [
    "## Loading the data file using custom MedMINST loader\n",
    "data_flag  = 'breastmnist'                             ## defines which dataset to load\n",
    "result_set = ac.medMNIST_load(data_flag,batch_size)    ## batch size currently hardwired\n",
    "\n",
    "## check that the loader returned data correctly and then split out\n",
    "if result_set != []:\n",
    "    train_dataset = result_set[0]               ## training set\n",
    "    test_dataset  = result_set[1]               ## test set\n",
    "    val_dataset   = result_set[2]               ## validation set"
   ]
  },
  {
   "cell_type": "markdown",
   "metadata": {},
   "source": [
    "## Fit the model\n",
    "\n",
    "Using each Hyperparameter in turn from a superset"
   ]
  },
  {
   "cell_type": "code",
   "execution_count": 75,
   "metadata": {},
   "outputs": [
    {
     "name": "stdout",
     "output_type": "stream",
     "text": [
      "Run 1 / 576 with HyperParameters(learning_rate=0.001, kernel_size=2, num_epochs=10, optimise='Adam', loss='binary_crossentropy', num_filter=16, strides=1, padding='same', dropout_rate=0.1, layers=2, default_activation='relu')\n"
     ]
    },
    {
     "name": "stderr",
     "output_type": "stream",
     "text": [
      "Epoch Progress: 100%|██████████| 10/10 [00:05<00:00,  1.69epoch/s, loss=0.469, acc=0.806, val_loss=0.457, val_acc=0.833]\n"
     ]
    },
    {
     "name": "stdout",
     "output_type": "stream",
     "text": [
      "Run 2 / 576 with HyperParameters(learning_rate=0.001, kernel_size=2, num_epochs=10, optimise='Adam', loss='binary_crossentropy', num_filter=16, strides=2, padding='same', dropout_rate=0.1, layers=2, default_activation='relu')\n"
     ]
    },
    {
     "name": "stderr",
     "output_type": "stream",
     "text": [
      "Epoch Progress: 100%|██████████| 10/10 [00:03<00:00,  2.88epoch/s, loss=0.536, acc=0.731, val_loss=0.539, val_acc=0.731]\n"
     ]
    },
    {
     "name": "stdout",
     "output_type": "stream",
     "text": [
      "Run 3 / 576 with HyperParameters(learning_rate=0.001, kernel_size=2, num_epochs=10, optimise='Adam', loss='binary_crossentropy', num_filter=16, strides=1, padding='same', dropout_rate=0.25, layers=2, default_activation='relu')\n"
     ]
    },
    {
     "name": "stderr",
     "output_type": "stream",
     "text": [
      "Epoch Progress: 100%|██████████| 10/10 [00:05<00:00,  1.74epoch/s, loss=0.501, acc=0.749, val_loss=0.519, val_acc=0.782]\n"
     ]
    },
    {
     "name": "stdout",
     "output_type": "stream",
     "text": [
      "Run 4 / 576 with HyperParameters(learning_rate=0.001, kernel_size=2, num_epochs=10, optimise='Adam', loss='binary_crossentropy', num_filter=16, strides=2, padding='same', dropout_rate=0.25, layers=2, default_activation='relu')\n"
     ]
    },
    {
     "name": "stderr",
     "output_type": "stream",
     "text": [
      "Epoch Progress: 100%|██████████| 10/10 [00:03<00:00,  2.90epoch/s, loss=0.537, acc=0.729, val_loss=0.551, val_acc=0.731]\n"
     ]
    },
    {
     "name": "stdout",
     "output_type": "stream",
     "text": [
      "Run 5 / 576 with HyperParameters(learning_rate=0.001, kernel_size=2, num_epochs=10, optimise='Adam', loss='binary_crossentropy', num_filter=16, strides=1, padding='same', dropout_rate=0.1, layers=3, default_activation='relu')\n"
     ]
    },
    {
     "name": "stderr",
     "output_type": "stream",
     "text": [
      "Epoch Progress: 100%|██████████| 10/10 [00:06<00:00,  1.43epoch/s, loss=0.47, acc=0.791, val_loss=0.461, val_acc=0.833] \n"
     ]
    },
    {
     "name": "stdout",
     "output_type": "stream",
     "text": [
      "Run 6 / 576 with HyperParameters(learning_rate=0.001, kernel_size=2, num_epochs=10, optimise='Adam', loss='binary_crossentropy', num_filter=16, strides=2, padding='same', dropout_rate=0.1, layers=3, default_activation='relu')\n"
     ]
    },
    {
     "name": "stderr",
     "output_type": "stream",
     "text": [
      "Epoch Progress: 100%|██████████| 10/10 [00:03<00:00,  2.77epoch/s, loss=0.536, acc=0.734, val_loss=0.547, val_acc=0.731]\n"
     ]
    },
    {
     "name": "stdout",
     "output_type": "stream",
     "text": [
      "Run 7 / 576 with HyperParameters(learning_rate=0.001, kernel_size=2, num_epochs=10, optimise='Adam', loss='binary_crossentropy', num_filter=16, strides=1, padding='same', dropout_rate=0.25, layers=3, default_activation='relu')\n"
     ]
    },
    {
     "name": "stderr",
     "output_type": "stream",
     "text": [
      "Epoch Progress: 100%|██████████| 10/10 [00:07<00:00,  1.41epoch/s, loss=0.511, acc=0.755, val_loss=0.514, val_acc=0.808]\n"
     ]
    },
    {
     "name": "stdout",
     "output_type": "stream",
     "text": [
      "Run 8 / 576 with HyperParameters(learning_rate=0.001, kernel_size=2, num_epochs=10, optimise='Adam', loss='binary_crossentropy', num_filter=16, strides=2, padding='same', dropout_rate=0.25, layers=3, default_activation='relu')\n"
     ]
    },
    {
     "name": "stderr",
     "output_type": "stream",
     "text": [
      "Epoch Progress: 100%|██████████| 10/10 [00:03<00:00,  2.76epoch/s, loss=0.566, acc=0.731, val_loss=0.576, val_acc=0.731]\n"
     ]
    },
    {
     "name": "stdout",
     "output_type": "stream",
     "text": [
      "Run 9 / 576 with HyperParameters(learning_rate=0.001, kernel_size=2, num_epochs=10, optimise='Adam', loss='binary_crossentropy', num_filter=16, strides=1, padding='same', dropout_rate=0.1, layers=4, default_activation='relu')\n"
     ]
    },
    {
     "name": "stderr",
     "output_type": "stream",
     "text": [
      "Epoch Progress: 100%|██████████| 10/10 [00:09<00:00,  1.10epoch/s, loss=0.477, acc=0.786, val_loss=0.47, val_acc=0.821] \n"
     ]
    },
    {
     "name": "stdout",
     "output_type": "stream",
     "text": [
      "Run 10 / 576 with HyperParameters(learning_rate=0.001, kernel_size=2, num_epochs=10, optimise='Adam', loss='binary_crossentropy', num_filter=16, strides=2, padding='same', dropout_rate=0.1, layers=4, default_activation='relu')\n"
     ]
    },
    {
     "name": "stderr",
     "output_type": "stream",
     "text": [
      "Epoch Progress: 100%|██████████| 10/10 [00:04<00:00,  2.47epoch/s, loss=0.546, acc=0.731, val_loss=0.559, val_acc=0.731]\n"
     ]
    },
    {
     "name": "stdout",
     "output_type": "stream",
     "text": [
      "Run 11 / 576 with HyperParameters(learning_rate=0.001, kernel_size=2, num_epochs=10, optimise='Adam', loss='binary_crossentropy', num_filter=16, strides=1, padding='same', dropout_rate=0.25, layers=4, default_activation='relu')\n"
     ]
    },
    {
     "name": "stderr",
     "output_type": "stream",
     "text": [
      "Epoch Progress: 100%|██████████| 10/10 [00:09<00:00,  1.11epoch/s, loss=0.52, acc=0.744, val_loss=0.519, val_acc=0.731] \n"
     ]
    },
    {
     "name": "stdout",
     "output_type": "stream",
     "text": [
      "Run 12 / 576 with HyperParameters(learning_rate=0.001, kernel_size=2, num_epochs=10, optimise='Adam', loss='binary_crossentropy', num_filter=16, strides=2, padding='same', dropout_rate=0.25, layers=4, default_activation='relu')\n"
     ]
    },
    {
     "name": "stderr",
     "output_type": "stream",
     "text": [
      "Epoch Progress: 100%|██████████| 10/10 [00:04<00:00,  2.48epoch/s, loss=0.559, acc=0.731, val_loss=0.576, val_acc=0.731]\n"
     ]
    },
    {
     "name": "stdout",
     "output_type": "stream",
     "text": [
      "Run 13 / 576 with HyperParameters(learning_rate=0.001, kernel_size=2, num_epochs=10, optimise='Adam', loss='binary_crossentropy', num_filter=32, strides=1, padding='same', dropout_rate=0.1, layers=2, default_activation='relu')\n"
     ]
    },
    {
     "name": "stderr",
     "output_type": "stream",
     "text": [
      "Epoch Progress: 100%|██████████| 10/10 [00:10<00:00,  1.06s/epoch, loss=0.458, acc=0.81, val_loss=0.466, val_acc=0.821]\n"
     ]
    },
    {
     "name": "stdout",
     "output_type": "stream",
     "text": [
      "Run 14 / 576 with HyperParameters(learning_rate=0.001, kernel_size=2, num_epochs=10, optimise='Adam', loss='binary_crossentropy', num_filter=32, strides=2, padding='same', dropout_rate=0.1, layers=2, default_activation='relu')\n"
     ]
    },
    {
     "name": "stderr",
     "output_type": "stream",
     "text": [
      "Epoch Progress: 100%|██████████| 10/10 [00:06<00:00,  1.52epoch/s, loss=0.52, acc=0.753, val_loss=0.513, val_acc=0.744] \n"
     ]
    },
    {
     "name": "stdout",
     "output_type": "stream",
     "text": [
      "Run 15 / 576 with HyperParameters(learning_rate=0.001, kernel_size=2, num_epochs=10, optimise='Adam', loss='binary_crossentropy', num_filter=32, strides=1, padding='same', dropout_rate=0.25, layers=2, default_activation='relu')\n"
     ]
    },
    {
     "name": "stderr",
     "output_type": "stream",
     "text": [
      "Epoch Progress: 100%|██████████| 10/10 [00:11<00:00,  1.15s/epoch, loss=0.486, acc=0.791, val_loss=0.52, val_acc=0.821] \n"
     ]
    },
    {
     "name": "stdout",
     "output_type": "stream",
     "text": [
      "Run 16 / 576 with HyperParameters(learning_rate=0.001, kernel_size=2, num_epochs=10, optimise='Adam', loss='binary_crossentropy', num_filter=32, strides=2, padding='same', dropout_rate=0.25, layers=2, default_activation='relu')\n"
     ]
    },
    {
     "name": "stderr",
     "output_type": "stream",
     "text": [
      "Epoch Progress: 100%|██████████| 10/10 [00:06<00:00,  1.46epoch/s, loss=0.524, acc=0.736, val_loss=0.535, val_acc=0.731]\n"
     ]
    },
    {
     "name": "stdout",
     "output_type": "stream",
     "text": [
      "Run 17 / 576 with HyperParameters(learning_rate=0.001, kernel_size=2, num_epochs=10, optimise='Adam', loss='binary_crossentropy', num_filter=32, strides=1, padding='same', dropout_rate=0.1, layers=3, default_activation='relu')\n"
     ]
    },
    {
     "name": "stderr",
     "output_type": "stream",
     "text": [
      "Epoch Progress: 100%|██████████| 10/10 [00:13<00:00,  1.36s/epoch, loss=0.481, acc=0.786, val_loss=0.464, val_acc=0.846]\n"
     ]
    },
    {
     "name": "stdout",
     "output_type": "stream",
     "text": [
      "Run 18 / 576 with HyperParameters(learning_rate=0.001, kernel_size=2, num_epochs=10, optimise='Adam', loss='binary_crossentropy', num_filter=32, strides=2, padding='same', dropout_rate=0.1, layers=3, default_activation='relu')\n"
     ]
    },
    {
     "name": "stderr",
     "output_type": "stream",
     "text": [
      "Epoch Progress: 100%|██████████| 10/10 [00:06<00:00,  1.58epoch/s, loss=0.528, acc=0.734, val_loss=0.531, val_acc=0.744]\n"
     ]
    },
    {
     "name": "stdout",
     "output_type": "stream",
     "text": [
      "Run 19 / 576 with HyperParameters(learning_rate=0.001, kernel_size=2, num_epochs=10, optimise='Adam', loss='binary_crossentropy', num_filter=32, strides=1, padding='same', dropout_rate=0.25, layers=3, default_activation='relu')\n"
     ]
    },
    {
     "name": "stderr",
     "output_type": "stream",
     "text": [
      "Epoch Progress: 100%|██████████| 10/10 [00:13<00:00,  1.34s/epoch, loss=0.518, acc=0.749, val_loss=0.539, val_acc=0.744]\n"
     ]
    },
    {
     "name": "stdout",
     "output_type": "stream",
     "text": [
      "Run 20 / 576 with HyperParameters(learning_rate=0.001, kernel_size=2, num_epochs=10, optimise='Adam', loss='binary_crossentropy', num_filter=32, strides=2, padding='same', dropout_rate=0.25, layers=3, default_activation='relu')\n"
     ]
    },
    {
     "name": "stderr",
     "output_type": "stream",
     "text": [
      "Epoch Progress: 100%|██████████| 10/10 [00:06<00:00,  1.55epoch/s, loss=0.537, acc=0.733, val_loss=0.553, val_acc=0.731]\n"
     ]
    },
    {
     "name": "stdout",
     "output_type": "stream",
     "text": [
      "Run 21 / 576 with HyperParameters(learning_rate=0.001, kernel_size=2, num_epochs=10, optimise='Adam', loss='binary_crossentropy', num_filter=32, strides=1, padding='same', dropout_rate=0.1, layers=4, default_activation='relu')\n"
     ]
    },
    {
     "name": "stderr",
     "output_type": "stream",
     "text": [
      "Epoch Progress: 100%|██████████| 10/10 [00:17<00:00,  1.74s/epoch, loss=0.457, acc=0.797, val_loss=0.46, val_acc=0.846] \n"
     ]
    },
    {
     "name": "stdout",
     "output_type": "stream",
     "text": [
      "Run 22 / 576 with HyperParameters(learning_rate=0.001, kernel_size=2, num_epochs=10, optimise='Adam', loss='binary_crossentropy', num_filter=32, strides=2, padding='same', dropout_rate=0.1, layers=4, default_activation='relu')\n"
     ]
    },
    {
     "name": "stderr",
     "output_type": "stream",
     "text": [
      "Epoch Progress: 100%|██████████| 10/10 [00:06<00:00,  1.43epoch/s, loss=0.53, acc=0.731, val_loss=0.534, val_acc=0.731] \n"
     ]
    },
    {
     "name": "stdout",
     "output_type": "stream",
     "text": [
      "Run 23 / 576 with HyperParameters(learning_rate=0.001, kernel_size=2, num_epochs=10, optimise='Adam', loss='binary_crossentropy', num_filter=32, strides=1, padding='same', dropout_rate=0.25, layers=4, default_activation='relu')\n"
     ]
    },
    {
     "name": "stderr",
     "output_type": "stream",
     "text": [
      "Epoch Progress: 100%|██████████| 10/10 [00:18<00:00,  1.82s/epoch, loss=0.489, acc=0.777, val_loss=0.495, val_acc=0.808]\n"
     ]
    },
    {
     "name": "stdout",
     "output_type": "stream",
     "text": [
      "Run 24 / 576 with HyperParameters(learning_rate=0.001, kernel_size=2, num_epochs=10, optimise='Adam', loss='binary_crossentropy', num_filter=32, strides=2, padding='same', dropout_rate=0.25, layers=4, default_activation='relu')\n"
     ]
    },
    {
     "name": "stderr",
     "output_type": "stream",
     "text": [
      "Epoch Progress: 100%|██████████| 10/10 [00:07<00:00,  1.35epoch/s, loss=0.544, acc=0.731, val_loss=0.55, val_acc=0.731] \n"
     ]
    },
    {
     "name": "stdout",
     "output_type": "stream",
     "text": [
      "Run 25 / 576 with HyperParameters(learning_rate=0.001, kernel_size=2, num_epochs=10, optimise='Adam', loss='binary_crossentropy', num_filter=64, strides=1, padding='same', dropout_rate=0.1, layers=2, default_activation='relu')\n"
     ]
    },
    {
     "name": "stderr",
     "output_type": "stream",
     "text": [
      "Epoch Progress: 100%|██████████| 10/10 [00:25<00:00,  2.58s/epoch, loss=0.488, acc=0.786, val_loss=0.492, val_acc=0.795]\n"
     ]
    },
    {
     "name": "stdout",
     "output_type": "stream",
     "text": [
      "Run 26 / 576 with HyperParameters(learning_rate=0.001, kernel_size=2, num_epochs=10, optimise='Adam', loss='binary_crossentropy', num_filter=64, strides=2, padding='same', dropout_rate=0.1, layers=2, default_activation='relu')\n"
     ]
    },
    {
     "name": "stderr",
     "output_type": "stream",
     "text": [
      "Epoch Progress: 100%|██████████| 10/10 [00:14<00:00,  1.46s/epoch, loss=0.505, acc=0.747, val_loss=0.499, val_acc=0.744]\n"
     ]
    },
    {
     "name": "stdout",
     "output_type": "stream",
     "text": [
      "Run 27 / 576 with HyperParameters(learning_rate=0.001, kernel_size=2, num_epochs=10, optimise='Adam', loss='binary_crossentropy', num_filter=64, strides=1, padding='same', dropout_rate=0.25, layers=2, default_activation='relu')\n"
     ]
    },
    {
     "name": "stderr",
     "output_type": "stream",
     "text": [
      "Epoch Progress: 100%|██████████| 10/10 [00:25<00:00,  2.59s/epoch, loss=0.506, acc=0.756, val_loss=0.545, val_acc=0.782]\n"
     ]
    },
    {
     "name": "stdout",
     "output_type": "stream",
     "text": [
      "Run 28 / 576 with HyperParameters(learning_rate=0.001, kernel_size=2, num_epochs=10, optimise='Adam', loss='binary_crossentropy', num_filter=64, strides=2, padding='same', dropout_rate=0.25, layers=2, default_activation='relu')\n"
     ]
    },
    {
     "name": "stderr",
     "output_type": "stream",
     "text": [
      "Epoch Progress: 100%|██████████| 10/10 [00:14<00:00,  1.45s/epoch, loss=0.506, acc=0.755, val_loss=0.503, val_acc=0.795]\n"
     ]
    },
    {
     "name": "stdout",
     "output_type": "stream",
     "text": [
      "Run 29 / 576 with HyperParameters(learning_rate=0.001, kernel_size=2, num_epochs=10, optimise='Adam', loss='binary_crossentropy', num_filter=64, strides=1, padding='same', dropout_rate=0.1, layers=3, default_activation='relu')\n"
     ]
    },
    {
     "name": "stderr",
     "output_type": "stream",
     "text": [
      "Epoch Progress: 100%|██████████| 10/10 [00:31<00:00,  3.19s/epoch, loss=0.471, acc=0.793, val_loss=0.463, val_acc=0.833]\n"
     ]
    },
    {
     "name": "stdout",
     "output_type": "stream",
     "text": [
      "Run 30 / 576 with HyperParameters(learning_rate=0.001, kernel_size=2, num_epochs=10, optimise='Adam', loss='binary_crossentropy', num_filter=64, strides=2, padding='same', dropout_rate=0.1, layers=3, default_activation='relu')\n"
     ]
    },
    {
     "name": "stderr",
     "output_type": "stream",
     "text": [
      "Epoch Progress: 100%|██████████| 10/10 [00:14<00:00,  1.47s/epoch, loss=0.521, acc=0.751, val_loss=0.52, val_acc=0.769] \n"
     ]
    },
    {
     "name": "stdout",
     "output_type": "stream",
     "text": [
      "Run 31 / 576 with HyperParameters(learning_rate=0.001, kernel_size=2, num_epochs=10, optimise='Adam', loss='binary_crossentropy', num_filter=64, strides=1, padding='same', dropout_rate=0.25, layers=3, default_activation='relu')\n"
     ]
    },
    {
     "name": "stderr",
     "output_type": "stream",
     "text": [
      "Epoch Progress: 100%|██████████| 10/10 [00:34<00:00,  3.48s/epoch, loss=0.471, acc=0.789, val_loss=0.472, val_acc=0.821]\n"
     ]
    },
    {
     "name": "stdout",
     "output_type": "stream",
     "text": [
      "Run 32 / 576 with HyperParameters(learning_rate=0.001, kernel_size=2, num_epochs=10, optimise='Adam', loss='binary_crossentropy', num_filter=64, strides=2, padding='same', dropout_rate=0.25, layers=3, default_activation='relu')\n"
     ]
    },
    {
     "name": "stderr",
     "output_type": "stream",
     "text": [
      "Epoch Progress: 100%|██████████| 10/10 [00:15<00:00,  1.54s/epoch, loss=0.536, acc=0.733, val_loss=0.54, val_acc=0.744] \n"
     ]
    },
    {
     "name": "stdout",
     "output_type": "stream",
     "text": [
      "Run 33 / 576 with HyperParameters(learning_rate=0.001, kernel_size=2, num_epochs=10, optimise='Adam', loss='binary_crossentropy', num_filter=64, strides=1, padding='same', dropout_rate=0.1, layers=4, default_activation='relu')\n"
     ]
    },
    {
     "name": "stderr",
     "output_type": "stream",
     "text": [
      "Epoch Progress: 100%|██████████| 10/10 [00:46<00:00,  4.62s/epoch, loss=0.471, acc=0.788, val_loss=0.471, val_acc=0.769]\n"
     ]
    },
    {
     "name": "stdout",
     "output_type": "stream",
     "text": [
      "Run 34 / 576 with HyperParameters(learning_rate=0.001, kernel_size=2, num_epochs=10, optimise='Adam', loss='binary_crossentropy', num_filter=64, strides=2, padding='same', dropout_rate=0.1, layers=4, default_activation='relu')\n"
     ]
    },
    {
     "name": "stderr",
     "output_type": "stream",
     "text": [
      "Epoch Progress: 100%|██████████| 10/10 [00:16<00:00,  1.63s/epoch, loss=0.533, acc=0.733, val_loss=0.534, val_acc=0.731]\n"
     ]
    },
    {
     "name": "stdout",
     "output_type": "stream",
     "text": [
      "Run 35 / 576 with HyperParameters(learning_rate=0.001, kernel_size=2, num_epochs=10, optimise='Adam', loss='binary_crossentropy', num_filter=64, strides=1, padding='same', dropout_rate=0.25, layers=4, default_activation='relu')\n"
     ]
    },
    {
     "name": "stderr",
     "output_type": "stream",
     "text": [
      "Epoch Progress: 100%|██████████| 10/10 [00:43<00:00,  4.38s/epoch, loss=0.506, acc=0.747, val_loss=0.519, val_acc=0.795]\n"
     ]
    },
    {
     "name": "stdout",
     "output_type": "stream",
     "text": [
      "Run 36 / 576 with HyperParameters(learning_rate=0.001, kernel_size=2, num_epochs=10, optimise='Adam', loss='binary_crossentropy', num_filter=64, strides=2, padding='same', dropout_rate=0.25, layers=4, default_activation='relu')\n"
     ]
    },
    {
     "name": "stderr",
     "output_type": "stream",
     "text": [
      "Epoch Progress: 100%|██████████| 10/10 [00:20<00:00,  2.09s/epoch, loss=0.542, acc=0.731, val_loss=0.557, val_acc=0.731]\n"
     ]
    },
    {
     "name": "stdout",
     "output_type": "stream",
     "text": [
      "Run 37 / 576 with HyperParameters(learning_rate=0.001, kernel_size=2, num_epochs=15, optimise='Adam', loss='binary_crossentropy', num_filter=16, strides=1, padding='same', dropout_rate=0.1, layers=2, default_activation='relu')\n"
     ]
    },
    {
     "name": "stderr",
     "output_type": "stream",
     "text": [
      "Epoch Progress: 100%|██████████| 15/15 [00:08<00:00,  1.73epoch/s, loss=0.432, acc=0.81, val_loss=0.448, val_acc=0.821] \n"
     ]
    },
    {
     "name": "stdout",
     "output_type": "stream",
     "text": [
      "Run 38 / 576 with HyperParameters(learning_rate=0.001, kernel_size=2, num_epochs=15, optimise='Adam', loss='binary_crossentropy', num_filter=16, strides=2, padding='same', dropout_rate=0.1, layers=2, default_activation='relu')\n"
     ]
    },
    {
     "name": "stderr",
     "output_type": "stream",
     "text": [
      "Epoch Progress: 100%|██████████| 15/15 [00:05<00:00,  2.83epoch/s, loss=0.497, acc=0.769, val_loss=0.496, val_acc=0.782]\n"
     ]
    },
    {
     "name": "stdout",
     "output_type": "stream",
     "text": [
      "Run 39 / 576 with HyperParameters(learning_rate=0.001, kernel_size=2, num_epochs=15, optimise='Adam', loss='binary_crossentropy', num_filter=16, strides=1, padding='same', dropout_rate=0.25, layers=2, default_activation='relu')\n"
     ]
    },
    {
     "name": "stderr",
     "output_type": "stream",
     "text": [
      "Epoch Progress: 100%|██████████| 15/15 [00:08<00:00,  1.80epoch/s, loss=0.48, acc=0.791, val_loss=0.492, val_acc=0.795] \n"
     ]
    },
    {
     "name": "stdout",
     "output_type": "stream",
     "text": [
      "Run 40 / 576 with HyperParameters(learning_rate=0.001, kernel_size=2, num_epochs=15, optimise='Adam', loss='binary_crossentropy', num_filter=16, strides=2, padding='same', dropout_rate=0.25, layers=2, default_activation='relu')\n"
     ]
    },
    {
     "name": "stderr",
     "output_type": "stream",
     "text": [
      "Epoch Progress: 100%|██████████| 15/15 [00:05<00:00,  2.89epoch/s, loss=0.508, acc=0.742, val_loss=0.517, val_acc=0.756]\n"
     ]
    },
    {
     "name": "stdout",
     "output_type": "stream",
     "text": [
      "Run 41 / 576 with HyperParameters(learning_rate=0.001, kernel_size=2, num_epochs=15, optimise='Adam', loss='binary_crossentropy', num_filter=16, strides=1, padding='same', dropout_rate=0.1, layers=3, default_activation='relu')\n"
     ]
    },
    {
     "name": "stderr",
     "output_type": "stream",
     "text": [
      "Epoch Progress: 100%|██████████| 15/15 [00:10<00:00,  1.44epoch/s, loss=0.421, acc=0.813, val_loss=0.464, val_acc=0.756]\n"
     ]
    },
    {
     "name": "stdout",
     "output_type": "stream",
     "text": [
      "Run 42 / 576 with HyperParameters(learning_rate=0.001, kernel_size=2, num_epochs=15, optimise='Adam', loss='binary_crossentropy', num_filter=16, strides=2, padding='same', dropout_rate=0.1, layers=3, default_activation='relu')\n"
     ]
    },
    {
     "name": "stderr",
     "output_type": "stream",
     "text": [
      "Epoch Progress: 100%|██████████| 15/15 [00:05<00:00,  2.84epoch/s, loss=0.523, acc=0.738, val_loss=0.534, val_acc=0.769]\n"
     ]
    },
    {
     "name": "stdout",
     "output_type": "stream",
     "text": [
      "Run 43 / 576 with HyperParameters(learning_rate=0.001, kernel_size=2, num_epochs=15, optimise='Adam', loss='binary_crossentropy', num_filter=16, strides=1, padding='same', dropout_rate=0.25, layers=3, default_activation='relu')\n"
     ]
    },
    {
     "name": "stderr",
     "output_type": "stream",
     "text": [
      "Epoch Progress: 100%|██████████| 15/15 [00:10<00:00,  1.46epoch/s, loss=0.469, acc=0.795, val_loss=0.497, val_acc=0.846]\n"
     ]
    },
    {
     "name": "stdout",
     "output_type": "stream",
     "text": [
      "Run 44 / 576 with HyperParameters(learning_rate=0.001, kernel_size=2, num_epochs=15, optimise='Adam', loss='binary_crossentropy', num_filter=16, strides=2, padding='same', dropout_rate=0.25, layers=3, default_activation='relu')\n"
     ]
    },
    {
     "name": "stderr",
     "output_type": "stream",
     "text": [
      "Epoch Progress: 100%|██████████| 15/15 [00:05<00:00,  2.77epoch/s, loss=0.55, acc=0.734, val_loss=0.561, val_acc=0.731] \n"
     ]
    },
    {
     "name": "stdout",
     "output_type": "stream",
     "text": [
      "Run 45 / 576 with HyperParameters(learning_rate=0.001, kernel_size=2, num_epochs=15, optimise='Adam', loss='binary_crossentropy', num_filter=16, strides=1, padding='same', dropout_rate=0.1, layers=4, default_activation='relu')\n"
     ]
    },
    {
     "name": "stderr",
     "output_type": "stream",
     "text": [
      "Epoch Progress: 100%|██████████| 15/15 [00:13<00:00,  1.11epoch/s, loss=0.424, acc=0.808, val_loss=0.449, val_acc=0.859]\n"
     ]
    },
    {
     "name": "stdout",
     "output_type": "stream",
     "text": [
      "Run 46 / 576 with HyperParameters(learning_rate=0.001, kernel_size=2, num_epochs=15, optimise='Adam', loss='binary_crossentropy', num_filter=16, strides=2, padding='same', dropout_rate=0.1, layers=4, default_activation='relu')\n"
     ]
    },
    {
     "name": "stderr",
     "output_type": "stream",
     "text": [
      "Epoch Progress: 100%|██████████| 15/15 [00:06<00:00,  2.39epoch/s, loss=0.521, acc=0.758, val_loss=0.528, val_acc=0.756]\n"
     ]
    },
    {
     "name": "stdout",
     "output_type": "stream",
     "text": [
      "Run 47 / 576 with HyperParameters(learning_rate=0.001, kernel_size=2, num_epochs=15, optimise='Adam', loss='binary_crossentropy', num_filter=16, strides=1, padding='same', dropout_rate=0.25, layers=4, default_activation='relu')\n"
     ]
    },
    {
     "name": "stderr",
     "output_type": "stream",
     "text": [
      "Epoch Progress: 100%|██████████| 15/15 [00:12<00:00,  1.16epoch/s, loss=0.466, acc=0.775, val_loss=0.491, val_acc=0.795]\n"
     ]
    },
    {
     "name": "stdout",
     "output_type": "stream",
     "text": [
      "Run 48 / 576 with HyperParameters(learning_rate=0.001, kernel_size=2, num_epochs=15, optimise='Adam', loss='binary_crossentropy', num_filter=16, strides=2, padding='same', dropout_rate=0.25, layers=4, default_activation='relu')\n"
     ]
    },
    {
     "name": "stderr",
     "output_type": "stream",
     "text": [
      "Epoch Progress: 100%|██████████| 15/15 [00:05<00:00,  2.65epoch/s, loss=0.532, acc=0.751, val_loss=0.528, val_acc=0.808]\n"
     ]
    },
    {
     "name": "stdout",
     "output_type": "stream",
     "text": [
      "Run 49 / 576 with HyperParameters(learning_rate=0.001, kernel_size=2, num_epochs=15, optimise='Adam', loss='binary_crossentropy', num_filter=32, strides=1, padding='same', dropout_rate=0.1, layers=2, default_activation='relu')\n"
     ]
    },
    {
     "name": "stderr",
     "output_type": "stream",
     "text": [
      "Epoch Progress: 100%|██████████| 15/15 [00:16<00:00,  1.09s/epoch, loss=0.399, acc=0.824, val_loss=0.438, val_acc=0.808]\n"
     ]
    },
    {
     "name": "stdout",
     "output_type": "stream",
     "text": [
      "Run 50 / 576 with HyperParameters(learning_rate=0.001, kernel_size=2, num_epochs=15, optimise='Adam', loss='binary_crossentropy', num_filter=32, strides=2, padding='same', dropout_rate=0.1, layers=2, default_activation='relu')\n"
     ]
    },
    {
     "name": "stderr",
     "output_type": "stream",
     "text": [
      "Epoch Progress: 100%|██████████| 15/15 [00:11<00:00,  1.34epoch/s, loss=0.474, acc=0.791, val_loss=0.487, val_acc=0.769]\n"
     ]
    },
    {
     "name": "stdout",
     "output_type": "stream",
     "text": [
      "Run 51 / 576 with HyperParameters(learning_rate=0.001, kernel_size=2, num_epochs=15, optimise='Adam', loss='binary_crossentropy', num_filter=32, strides=1, padding='same', dropout_rate=0.25, layers=2, default_activation='relu')\n"
     ]
    },
    {
     "name": "stderr",
     "output_type": "stream",
     "text": [
      "Epoch Progress: 100%|██████████| 15/15 [00:16<00:00,  1.09s/epoch, loss=0.47, acc=0.778, val_loss=0.53, val_acc=0.808]  \n"
     ]
    },
    {
     "name": "stdout",
     "output_type": "stream",
     "text": [
      "Run 52 / 576 with HyperParameters(learning_rate=0.001, kernel_size=2, num_epochs=15, optimise='Adam', loss='binary_crossentropy', num_filter=32, strides=2, padding='same', dropout_rate=0.25, layers=2, default_activation='relu')\n"
     ]
    },
    {
     "name": "stderr",
     "output_type": "stream",
     "text": [
      "Epoch Progress: 100%|██████████| 15/15 [00:10<00:00,  1.44epoch/s, loss=0.498, acc=0.764, val_loss=0.497, val_acc=0.769]\n"
     ]
    },
    {
     "name": "stdout",
     "output_type": "stream",
     "text": [
      "Run 53 / 576 with HyperParameters(learning_rate=0.001, kernel_size=2, num_epochs=15, optimise='Adam', loss='binary_crossentropy', num_filter=32, strides=1, padding='same', dropout_rate=0.1, layers=3, default_activation='relu')\n"
     ]
    },
    {
     "name": "stderr",
     "output_type": "stream",
     "text": [
      "Epoch Progress: 100%|██████████| 15/15 [00:22<00:00,  1.49s/epoch, loss=0.364, acc=0.846, val_loss=0.42, val_acc=0.833] \n"
     ]
    },
    {
     "name": "stdout",
     "output_type": "stream",
     "text": [
      "Run 54 / 576 with HyperParameters(learning_rate=0.001, kernel_size=2, num_epochs=15, optimise='Adam', loss='binary_crossentropy', num_filter=32, strides=2, padding='same', dropout_rate=0.1, layers=3, default_activation='relu')\n"
     ]
    },
    {
     "name": "stderr",
     "output_type": "stream",
     "text": [
      "Epoch Progress: 100%|██████████| 15/15 [00:09<00:00,  1.55epoch/s, loss=0.524, acc=0.742, val_loss=0.526, val_acc=0.744]\n"
     ]
    },
    {
     "name": "stdout",
     "output_type": "stream",
     "text": [
      "Run 55 / 576 with HyperParameters(learning_rate=0.001, kernel_size=2, num_epochs=15, optimise='Adam', loss='binary_crossentropy', num_filter=32, strides=1, padding='same', dropout_rate=0.25, layers=3, default_activation='relu')\n"
     ]
    },
    {
     "name": "stderr",
     "output_type": "stream",
     "text": [
      "Epoch Progress: 100%|██████████| 15/15 [00:21<00:00,  1.45s/epoch, loss=0.434, acc=0.817, val_loss=0.439, val_acc=0.821]\n"
     ]
    },
    {
     "name": "stdout",
     "output_type": "stream",
     "text": [
      "Run 56 / 576 with HyperParameters(learning_rate=0.001, kernel_size=2, num_epochs=15, optimise='Adam', loss='binary_crossentropy', num_filter=32, strides=2, padding='same', dropout_rate=0.25, layers=3, default_activation='relu')\n"
     ]
    },
    {
     "name": "stderr",
     "output_type": "stream",
     "text": [
      "Epoch Progress: 100%|██████████| 15/15 [00:09<00:00,  1.60epoch/s, loss=0.52, acc=0.764, val_loss=0.519, val_acc=0.731] \n"
     ]
    },
    {
     "name": "stdout",
     "output_type": "stream",
     "text": [
      "Run 57 / 576 with HyperParameters(learning_rate=0.001, kernel_size=2, num_epochs=15, optimise='Adam', loss='binary_crossentropy', num_filter=32, strides=1, padding='same', dropout_rate=0.1, layers=4, default_activation='relu')\n"
     ]
    },
    {
     "name": "stderr",
     "output_type": "stream",
     "text": [
      "Epoch Progress: 100%|██████████| 15/15 [00:30<00:00,  2.02s/epoch, loss=0.356, acc=0.835, val_loss=0.468, val_acc=0.782]\n"
     ]
    },
    {
     "name": "stdout",
     "output_type": "stream",
     "text": [
      "Overfitting detected at epoch 15: Loss Gap = 0.1125\n",
      "Run 58 / 576 with HyperParameters(learning_rate=0.001, kernel_size=2, num_epochs=15, optimise='Adam', loss='binary_crossentropy', num_filter=32, strides=2, padding='same', dropout_rate=0.1, layers=4, default_activation='relu')\n"
     ]
    },
    {
     "name": "stderr",
     "output_type": "stream",
     "text": [
      "Epoch Progress: 100%|██████████| 15/15 [00:11<00:00,  1.36epoch/s, loss=0.512, acc=0.762, val_loss=0.502, val_acc=0.769]\n"
     ]
    },
    {
     "name": "stdout",
     "output_type": "stream",
     "text": [
      "Run 59 / 576 with HyperParameters(learning_rate=0.001, kernel_size=2, num_epochs=15, optimise='Adam', loss='binary_crossentropy', num_filter=32, strides=1, padding='same', dropout_rate=0.25, layers=4, default_activation='relu')\n"
     ]
    },
    {
     "name": "stderr",
     "output_type": "stream",
     "text": [
      "Epoch Progress: 100%|██████████| 15/15 [00:28<00:00,  1.87s/epoch, loss=0.423, acc=0.81, val_loss=0.434, val_acc=0.833] \n"
     ]
    },
    {
     "name": "stdout",
     "output_type": "stream",
     "text": [
      "Run 60 / 576 with HyperParameters(learning_rate=0.001, kernel_size=2, num_epochs=15, optimise='Adam', loss='binary_crossentropy', num_filter=32, strides=2, padding='same', dropout_rate=0.25, layers=4, default_activation='relu')\n"
     ]
    },
    {
     "name": "stderr",
     "output_type": "stream",
     "text": [
      "Epoch Progress: 100%|██████████| 15/15 [00:11<00:00,  1.33epoch/s, loss=0.519, acc=0.745, val_loss=0.527, val_acc=0.795]\n"
     ]
    },
    {
     "name": "stdout",
     "output_type": "stream",
     "text": [
      "Run 61 / 576 with HyperParameters(learning_rate=0.001, kernel_size=2, num_epochs=15, optimise='Adam', loss='binary_crossentropy', num_filter=64, strides=1, padding='same', dropout_rate=0.1, layers=2, default_activation='relu')\n"
     ]
    },
    {
     "name": "stderr",
     "output_type": "stream",
     "text": [
      "Epoch Progress: 100%|██████████| 15/15 [00:45<00:00,  3.00s/epoch, loss=0.355, acc=0.852, val_loss=0.449, val_acc=0.859]\n"
     ]
    },
    {
     "name": "stdout",
     "output_type": "stream",
     "text": [
      "Run 62 / 576 with HyperParameters(learning_rate=0.001, kernel_size=2, num_epochs=15, optimise='Adam', loss='binary_crossentropy', num_filter=64, strides=2, padding='same', dropout_rate=0.1, layers=2, default_activation='relu')\n"
     ]
    },
    {
     "name": "stderr",
     "output_type": "stream",
     "text": [
      "Epoch Progress: 100%|██████████| 15/15 [00:23<00:00,  1.54s/epoch, loss=0.45, acc=0.806, val_loss=0.438, val_acc=0.821] \n"
     ]
    },
    {
     "name": "stdout",
     "output_type": "stream",
     "text": [
      "Run 63 / 576 with HyperParameters(learning_rate=0.001, kernel_size=2, num_epochs=15, optimise='Adam', loss='binary_crossentropy', num_filter=64, strides=1, padding='same', dropout_rate=0.25, layers=2, default_activation='relu')\n"
     ]
    },
    {
     "name": "stderr",
     "output_type": "stream",
     "text": [
      "Epoch Progress: 100%|██████████| 15/15 [00:42<00:00,  2.85s/epoch, loss=0.432, acc=0.815, val_loss=0.444, val_acc=0.846]\n"
     ]
    },
    {
     "name": "stdout",
     "output_type": "stream",
     "text": [
      "Run 64 / 576 with HyperParameters(learning_rate=0.001, kernel_size=2, num_epochs=15, optimise='Adam', loss='binary_crossentropy', num_filter=64, strides=2, padding='same', dropout_rate=0.25, layers=2, default_activation='relu')\n"
     ]
    },
    {
     "name": "stderr",
     "output_type": "stream",
     "text": [
      "Epoch Progress: 100%|██████████| 15/15 [00:24<00:00,  1.62s/epoch, loss=0.446, acc=0.806, val_loss=0.449, val_acc=0.859]\n"
     ]
    },
    {
     "name": "stdout",
     "output_type": "stream",
     "text": [
      "Run 65 / 576 with HyperParameters(learning_rate=0.001, kernel_size=2, num_epochs=15, optimise='Adam', loss='binary_crossentropy', num_filter=64, strides=1, padding='same', dropout_rate=0.1, layers=3, default_activation='relu')\n"
     ]
    },
    {
     "name": "stderr",
     "output_type": "stream",
     "text": [
      "Epoch Progress: 100%|██████████| 15/15 [00:51<00:00,  3.45s/epoch, loss=0.404, acc=0.821, val_loss=0.433, val_acc=0.808]\n"
     ]
    },
    {
     "name": "stdout",
     "output_type": "stream",
     "text": [
      "Run 66 / 576 with HyperParameters(learning_rate=0.001, kernel_size=2, num_epochs=15, optimise='Adam', loss='binary_crossentropy', num_filter=64, strides=2, padding='same', dropout_rate=0.1, layers=3, default_activation='relu')\n"
     ]
    },
    {
     "name": "stderr",
     "output_type": "stream",
     "text": [
      "Epoch Progress: 100%|██████████| 15/15 [00:31<00:00,  2.07s/epoch, loss=0.477, acc=0.788, val_loss=0.443, val_acc=0.833]\n"
     ]
    },
    {
     "name": "stdout",
     "output_type": "stream",
     "text": [
      "Run 67 / 576 with HyperParameters(learning_rate=0.001, kernel_size=2, num_epochs=15, optimise='Adam', loss='binary_crossentropy', num_filter=64, strides=1, padding='same', dropout_rate=0.25, layers=3, default_activation='relu')\n"
     ]
    },
    {
     "name": "stderr",
     "output_type": "stream",
     "text": [
      "Epoch Progress: 100%|██████████| 15/15 [00:54<00:00,  3.62s/epoch, loss=0.391, acc=0.826, val_loss=0.435, val_acc=0.821]\n"
     ]
    },
    {
     "name": "stdout",
     "output_type": "stream",
     "text": [
      "Run 68 / 576 with HyperParameters(learning_rate=0.001, kernel_size=2, num_epochs=15, optimise='Adam', loss='binary_crossentropy', num_filter=64, strides=2, padding='same', dropout_rate=0.25, layers=3, default_activation='relu')\n"
     ]
    },
    {
     "name": "stderr",
     "output_type": "stream",
     "text": [
      "Epoch Progress: 100%|██████████| 15/15 [00:24<00:00,  1.64s/epoch, loss=0.506, acc=0.758, val_loss=0.507, val_acc=0.795]\n"
     ]
    },
    {
     "name": "stdout",
     "output_type": "stream",
     "text": [
      "Run 69 / 576 with HyperParameters(learning_rate=0.001, kernel_size=2, num_epochs=15, optimise='Adam', loss='binary_crossentropy', num_filter=64, strides=1, padding='same', dropout_rate=0.1, layers=4, default_activation='relu')\n"
     ]
    },
    {
     "name": "stderr",
     "output_type": "stream",
     "text": [
      "Epoch Progress: 100%|██████████| 15/15 [01:15<00:00,  5.06s/epoch, loss=0.341, acc=0.852, val_loss=0.455, val_acc=0.808]\n"
     ]
    },
    {
     "name": "stdout",
     "output_type": "stream",
     "text": [
      "Overfitting detected at epoch 15: Loss Gap = 0.1142\n",
      "Run 70 / 576 with HyperParameters(learning_rate=0.001, kernel_size=2, num_epochs=15, optimise='Adam', loss='binary_crossentropy', num_filter=64, strides=2, padding='same', dropout_rate=0.1, layers=4, default_activation='relu')\n"
     ]
    },
    {
     "name": "stderr",
     "output_type": "stream",
     "text": [
      "Epoch Progress: 100%|██████████| 15/15 [00:28<00:00,  1.93s/epoch, loss=0.486, acc=0.795, val_loss=0.453, val_acc=0.846]\n"
     ]
    },
    {
     "name": "stdout",
     "output_type": "stream",
     "text": [
      "Run 71 / 576 with HyperParameters(learning_rate=0.001, kernel_size=2, num_epochs=15, optimise='Adam', loss='binary_crossentropy', num_filter=64, strides=1, padding='same', dropout_rate=0.25, layers=4, default_activation='relu')\n"
     ]
    },
    {
     "name": "stderr",
     "output_type": "stream",
     "text": [
      "Epoch Progress: 100%|██████████| 15/15 [01:15<00:00,  5.05s/epoch, loss=0.481, acc=0.782, val_loss=0.469, val_acc=0.808]\n"
     ]
    },
    {
     "name": "stdout",
     "output_type": "stream",
     "text": [
      "Run 72 / 576 with HyperParameters(learning_rate=0.001, kernel_size=2, num_epochs=15, optimise='Adam', loss='binary_crossentropy', num_filter=64, strides=2, padding='same', dropout_rate=0.25, layers=4, default_activation='relu')\n"
     ]
    },
    {
     "name": "stderr",
     "output_type": "stream",
     "text": [
      "Epoch Progress: 100%|██████████| 15/15 [00:28<00:00,  1.88s/epoch, loss=0.49, acc=0.778, val_loss=0.45, val_acc=0.846]  \n"
     ]
    },
    {
     "name": "stdout",
     "output_type": "stream",
     "text": [
      "Run 73 / 576 with HyperParameters(learning_rate=0.001, kernel_size=2, num_epochs=20, optimise='Adam', loss='binary_crossentropy', num_filter=16, strides=1, padding='same', dropout_rate=0.1, layers=2, default_activation='relu')\n"
     ]
    },
    {
     "name": "stderr",
     "output_type": "stream",
     "text": [
      "Epoch Progress: 100%|██████████| 20/20 [00:13<00:00,  1.50epoch/s, loss=0.394, acc=0.83, val_loss=0.479, val_acc=0.808] \n"
     ]
    },
    {
     "name": "stdout",
     "output_type": "stream",
     "text": [
      "Run 74 / 576 with HyperParameters(learning_rate=0.001, kernel_size=2, num_epochs=20, optimise='Adam', loss='binary_crossentropy', num_filter=16, strides=2, padding='same', dropout_rate=0.1, layers=2, default_activation='relu')\n"
     ]
    },
    {
     "name": "stderr",
     "output_type": "stream",
     "text": [
      "Epoch Progress: 100%|██████████| 20/20 [00:07<00:00,  2.76epoch/s, loss=0.485, acc=0.784, val_loss=0.479, val_acc=0.821]\n"
     ]
    },
    {
     "name": "stdout",
     "output_type": "stream",
     "text": [
      "Run 75 / 576 with HyperParameters(learning_rate=0.001, kernel_size=2, num_epochs=20, optimise='Adam', loss='binary_crossentropy', num_filter=16, strides=1, padding='same', dropout_rate=0.25, layers=2, default_activation='relu')\n"
     ]
    },
    {
     "name": "stderr",
     "output_type": "stream",
     "text": [
      "Epoch Progress: 100%|██████████| 20/20 [00:12<00:00,  1.64epoch/s, loss=0.431, acc=0.828, val_loss=0.482, val_acc=0.808]\n"
     ]
    },
    {
     "name": "stdout",
     "output_type": "stream",
     "text": [
      "Run 76 / 576 with HyperParameters(learning_rate=0.001, kernel_size=2, num_epochs=20, optimise='Adam', loss='binary_crossentropy', num_filter=16, strides=2, padding='same', dropout_rate=0.25, layers=2, default_activation='relu')\n"
     ]
    },
    {
     "name": "stderr",
     "output_type": "stream",
     "text": [
      "Epoch Progress: 100%|██████████| 20/20 [00:07<00:00,  2.50epoch/s, loss=0.487, acc=0.782, val_loss=0.497, val_acc=0.795]\n"
     ]
    },
    {
     "name": "stdout",
     "output_type": "stream",
     "text": [
      "Run 77 / 576 with HyperParameters(learning_rate=0.001, kernel_size=2, num_epochs=20, optimise='Adam', loss='binary_crossentropy', num_filter=16, strides=1, padding='same', dropout_rate=0.1, layers=3, default_activation='relu')\n"
     ]
    },
    {
     "name": "stderr",
     "output_type": "stream",
     "text": [
      "Epoch Progress: 100%|██████████| 20/20 [00:16<00:00,  1.23epoch/s, loss=0.385, acc=0.83, val_loss=0.445, val_acc=0.846] \n"
     ]
    },
    {
     "name": "stdout",
     "output_type": "stream",
     "text": [
      "Run 78 / 576 with HyperParameters(learning_rate=0.001, kernel_size=2, num_epochs=20, optimise='Adam', loss='binary_crossentropy', num_filter=16, strides=2, padding='same', dropout_rate=0.1, layers=3, default_activation='relu')\n"
     ]
    },
    {
     "name": "stderr",
     "output_type": "stream",
     "text": [
      "Epoch Progress: 100%|██████████| 20/20 [00:07<00:00,  2.50epoch/s, loss=0.519, acc=0.747, val_loss=0.514, val_acc=0.782]\n"
     ]
    },
    {
     "name": "stdout",
     "output_type": "stream",
     "text": [
      "Run 79 / 576 with HyperParameters(learning_rate=0.001, kernel_size=2, num_epochs=20, optimise='Adam', loss='binary_crossentropy', num_filter=16, strides=1, padding='same', dropout_rate=0.25, layers=3, default_activation='relu')\n"
     ]
    },
    {
     "name": "stderr",
     "output_type": "stream",
     "text": [
      "Epoch Progress: 100%|██████████| 20/20 [00:16<00:00,  1.24epoch/s, loss=0.344, acc=0.87, val_loss=0.414, val_acc=0.821] \n"
     ]
    },
    {
     "name": "stdout",
     "output_type": "stream",
     "text": [
      "Run 80 / 576 with HyperParameters(learning_rate=0.001, kernel_size=2, num_epochs=20, optimise='Adam', loss='binary_crossentropy', num_filter=16, strides=2, padding='same', dropout_rate=0.25, layers=3, default_activation='relu')\n"
     ]
    },
    {
     "name": "stderr",
     "output_type": "stream",
     "text": [
      "Epoch Progress: 100%|██████████| 20/20 [00:10<00:00,  1.88epoch/s, loss=0.519, acc=0.731, val_loss=0.543, val_acc=0.756]\n"
     ]
    },
    {
     "name": "stdout",
     "output_type": "stream",
     "text": [
      "Run 81 / 576 with HyperParameters(learning_rate=0.001, kernel_size=2, num_epochs=20, optimise='Adam', loss='binary_crossentropy', num_filter=16, strides=1, padding='same', dropout_rate=0.1, layers=4, default_activation='relu')\n"
     ]
    },
    {
     "name": "stderr",
     "output_type": "stream",
     "text": [
      "Epoch Progress:  95%|█████████▌| 19/20 [00:24<00:01,  1.26s/epoch, loss=0.36, acc=0.835, val_loss=0.482, val_acc=0.808] "
     ]
    },
    {
     "name": "stdout",
     "output_type": "stream",
     "text": [
      "Overfitting detected at epoch 19: Loss Gap = 0.1213\n"
     ]
    },
    {
     "name": "stderr",
     "output_type": "stream",
     "text": [
      "Epoch Progress: 100%|██████████| 20/20 [00:25<00:00,  1.28s/epoch, loss=0.345, acc=0.855, val_loss=0.487, val_acc=0.808]\n"
     ]
    },
    {
     "name": "stdout",
     "output_type": "stream",
     "text": [
      "Overfitting detected at epoch 20: Loss Gap = 0.1419\n",
      "Run 82 / 576 with HyperParameters(learning_rate=0.001, kernel_size=2, num_epochs=20, optimise='Adam', loss='binary_crossentropy', num_filter=16, strides=2, padding='same', dropout_rate=0.1, layers=4, default_activation='relu')\n"
     ]
    },
    {
     "name": "stderr",
     "output_type": "stream",
     "text": [
      "Epoch Progress: 100%|██████████| 20/20 [00:10<00:00,  1.85epoch/s, loss=0.539, acc=0.731, val_loss=0.545, val_acc=0.731]\n"
     ]
    },
    {
     "name": "stdout",
     "output_type": "stream",
     "text": [
      "Run 83 / 576 with HyperParameters(learning_rate=0.001, kernel_size=2, num_epochs=20, optimise='Adam', loss='binary_crossentropy', num_filter=16, strides=1, padding='same', dropout_rate=0.25, layers=4, default_activation='relu')\n"
     ]
    },
    {
     "name": "stderr",
     "output_type": "stream",
     "text": [
      "Epoch Progress: 100%|██████████| 20/20 [00:24<00:00,  1.24s/epoch, loss=0.404, acc=0.821, val_loss=0.478, val_acc=0.731]\n"
     ]
    },
    {
     "name": "stdout",
     "output_type": "stream",
     "text": [
      "Run 84 / 576 with HyperParameters(learning_rate=0.001, kernel_size=2, num_epochs=20, optimise='Adam', loss='binary_crossentropy', num_filter=16, strides=2, padding='same', dropout_rate=0.25, layers=4, default_activation='relu')\n"
     ]
    },
    {
     "name": "stderr",
     "output_type": "stream",
     "text": [
      "Epoch Progress: 100%|██████████| 20/20 [00:10<00:00,  1.99epoch/s, loss=0.53, acc=0.747, val_loss=0.52, val_acc=0.795]  \n"
     ]
    },
    {
     "name": "stdout",
     "output_type": "stream",
     "text": [
      "Run 85 / 576 with HyperParameters(learning_rate=0.001, kernel_size=2, num_epochs=20, optimise='Adam', loss='binary_crossentropy', num_filter=32, strides=1, padding='same', dropout_rate=0.1, layers=2, default_activation='relu')\n"
     ]
    },
    {
     "name": "stderr",
     "output_type": "stream",
     "text": [
      "Epoch Progress: 100%|██████████| 20/20 [00:27<00:00,  1.36s/epoch, loss=0.319, acc=0.861, val_loss=0.428, val_acc=0.833]\n"
     ]
    },
    {
     "name": "stdout",
     "output_type": "stream",
     "text": [
      "Overfitting detected at epoch 20: Loss Gap = 0.1092\n",
      "Run 86 / 576 with HyperParameters(learning_rate=0.001, kernel_size=2, num_epochs=20, optimise='Adam', loss='binary_crossentropy', num_filter=32, strides=2, padding='same', dropout_rate=0.1, layers=2, default_activation='relu')\n"
     ]
    },
    {
     "name": "stderr",
     "output_type": "stream",
     "text": [
      "Epoch Progress: 100%|██████████| 20/20 [00:14<00:00,  1.33epoch/s, loss=0.437, acc=0.815, val_loss=0.441, val_acc=0.821]\n"
     ]
    },
    {
     "name": "stdout",
     "output_type": "stream",
     "text": [
      "Run 87 / 576 with HyperParameters(learning_rate=0.001, kernel_size=2, num_epochs=20, optimise='Adam', loss='binary_crossentropy', num_filter=32, strides=1, padding='same', dropout_rate=0.25, layers=2, default_activation='relu')\n"
     ]
    },
    {
     "name": "stderr",
     "output_type": "stream",
     "text": [
      "Epoch Progress:  75%|███████▌  | 15/20 [00:20<00:06,  1.37s/epoch, loss=0.353, acc=0.857, val_loss=0.463, val_acc=0.782]"
     ]
    },
    {
     "name": "stdout",
     "output_type": "stream",
     "text": [
      "Overfitting detected at epoch 15: Loss Gap = 0.1099\n"
     ]
    },
    {
     "name": "stderr",
     "output_type": "stream",
     "text": [
      "Epoch Progress:  80%|████████  | 16/20 [00:21<00:05,  1.40s/epoch, loss=0.332, acc=0.861, val_loss=0.442, val_acc=0.782]"
     ]
    },
    {
     "name": "stdout",
     "output_type": "stream",
     "text": [
      "Overfitting detected at epoch 16: Loss Gap = 0.1100\n"
     ]
    },
    {
     "name": "stderr",
     "output_type": "stream",
     "text": [
      "Epoch Progress:  85%|████████▌ | 17/20 [00:23<00:04,  1.35s/epoch, loss=0.304, acc=0.879, val_loss=0.42, val_acc=0.808] \n"
     ]
    },
    {
     "name": "stdout",
     "output_type": "stream",
     "text": [
      "Overfitting detected at epoch 17: Loss Gap = 0.1161\n",
      "Stopping training due to persistent overfitting.\n",
      "Run 88 / 576 with HyperParameters(learning_rate=0.001, kernel_size=2, num_epochs=20, optimise='Adam', loss='binary_crossentropy', num_filter=32, strides=2, padding='same', dropout_rate=0.25, layers=2, default_activation='relu')\n"
     ]
    },
    {
     "name": "stderr",
     "output_type": "stream",
     "text": [
      "Epoch Progress: 100%|██████████| 20/20 [00:14<00:00,  1.41epoch/s, loss=0.49, acc=0.788, val_loss=0.499, val_acc=0.795] \n"
     ]
    },
    {
     "name": "stdout",
     "output_type": "stream",
     "text": [
      "Run 89 / 576 with HyperParameters(learning_rate=0.001, kernel_size=2, num_epochs=20, optimise='Adam', loss='binary_crossentropy', num_filter=32, strides=1, padding='same', dropout_rate=0.1, layers=3, default_activation='relu')\n"
     ]
    },
    {
     "name": "stderr",
     "output_type": "stream",
     "text": [
      "Epoch Progress:  90%|█████████ | 18/20 [00:28<00:03,  1.52s/epoch, loss=0.339, acc=0.852, val_loss=0.505, val_acc=0.756]"
     ]
    },
    {
     "name": "stdout",
     "output_type": "stream",
     "text": [
      "Overfitting detected at epoch 18: Loss Gap = 0.1654\n"
     ]
    },
    {
     "name": "stderr",
     "output_type": "stream",
     "text": [
      "Epoch Progress: 100%|██████████| 20/20 [00:31<00:00,  1.57s/epoch, loss=0.284, acc=0.885, val_loss=0.433, val_acc=0.833]\n"
     ]
    },
    {
     "name": "stdout",
     "output_type": "stream",
     "text": [
      "Overfitting detected at epoch 20: Loss Gap = 0.1490\n",
      "Run 90 / 576 with HyperParameters(learning_rate=0.001, kernel_size=2, num_epochs=20, optimise='Adam', loss='binary_crossentropy', num_filter=32, strides=2, padding='same', dropout_rate=0.1, layers=3, default_activation='relu')\n"
     ]
    },
    {
     "name": "stderr",
     "output_type": "stream",
     "text": [
      "Epoch Progress: 100%|██████████| 20/20 [00:13<00:00,  1.48epoch/s, loss=0.48, acc=0.797, val_loss=0.465, val_acc=0.821] \n"
     ]
    },
    {
     "name": "stdout",
     "output_type": "stream",
     "text": [
      "Run 91 / 576 with HyperParameters(learning_rate=0.001, kernel_size=2, num_epochs=20, optimise='Adam', loss='binary_crossentropy', num_filter=32, strides=1, padding='same', dropout_rate=0.25, layers=3, default_activation='relu')\n"
     ]
    },
    {
     "name": "stderr",
     "output_type": "stream",
     "text": [
      "Epoch Progress:  95%|█████████▌| 19/20 [00:29<00:01,  1.50s/epoch, loss=0.351, acc=0.852, val_loss=0.491, val_acc=0.744]"
     ]
    },
    {
     "name": "stdout",
     "output_type": "stream",
     "text": [
      "Overfitting detected at epoch 19: Loss Gap = 0.1405\n"
     ]
    },
    {
     "name": "stderr",
     "output_type": "stream",
     "text": [
      "Epoch Progress: 100%|██████████| 20/20 [00:31<00:00,  1.57s/epoch, loss=0.319, acc=0.852, val_loss=0.482, val_acc=0.795]\n"
     ]
    },
    {
     "name": "stdout",
     "output_type": "stream",
     "text": [
      "Overfitting detected at epoch 20: Loss Gap = 0.1629\n",
      "Run 92 / 576 with HyperParameters(learning_rate=0.001, kernel_size=2, num_epochs=20, optimise='Adam', loss='binary_crossentropy', num_filter=32, strides=2, padding='same', dropout_rate=0.25, layers=3, default_activation='relu')\n"
     ]
    },
    {
     "name": "stderr",
     "output_type": "stream",
     "text": [
      "Epoch Progress: 100%|██████████| 20/20 [00:14<00:00,  1.40epoch/s, loss=0.488, acc=0.775, val_loss=0.491, val_acc=0.782]\n"
     ]
    },
    {
     "name": "stdout",
     "output_type": "stream",
     "text": [
      "Run 93 / 576 with HyperParameters(learning_rate=0.001, kernel_size=2, num_epochs=20, optimise='Adam', loss='binary_crossentropy', num_filter=32, strides=1, padding='same', dropout_rate=0.1, layers=4, default_activation='relu')\n"
     ]
    },
    {
     "name": "stderr",
     "output_type": "stream",
     "text": [
      "Epoch Progress:  90%|█████████ | 18/20 [00:37<00:04,  2.07s/epoch, loss=0.339, acc=0.842, val_loss=0.449, val_acc=0.833]"
     ]
    },
    {
     "name": "stdout",
     "output_type": "stream",
     "text": [
      "Overfitting detected at epoch 18: Loss Gap = 0.1105\n"
     ]
    },
    {
     "name": "stderr",
     "output_type": "stream",
     "text": [
      "Epoch Progress:  95%|█████████▌| 19/20 [00:39<00:02,  2.05s/epoch, loss=0.315, acc=0.859, val_loss=0.425, val_acc=0.846]"
     ]
    },
    {
     "name": "stdout",
     "output_type": "stream",
     "text": [
      "Overfitting detected at epoch 19: Loss Gap = 0.1099\n"
     ]
    },
    {
     "name": "stderr",
     "output_type": "stream",
     "text": [
      "Epoch Progress: 100%|██████████| 20/20 [00:41<00:00,  2.06s/epoch, loss=0.319, acc=0.857, val_loss=0.456, val_acc=0.846]\n"
     ]
    },
    {
     "name": "stdout",
     "output_type": "stream",
     "text": [
      "Overfitting detected at epoch 20: Loss Gap = 0.1366\n",
      "Stopping training due to persistent overfitting.\n",
      "Run 94 / 576 with HyperParameters(learning_rate=0.001, kernel_size=2, num_epochs=20, optimise='Adam', loss='binary_crossentropy', num_filter=32, strides=2, padding='same', dropout_rate=0.1, layers=4, default_activation='relu')\n"
     ]
    },
    {
     "name": "stderr",
     "output_type": "stream",
     "text": [
      "Epoch Progress: 100%|██████████| 20/20 [00:15<00:00,  1.27epoch/s, loss=0.473, acc=0.788, val_loss=0.459, val_acc=0.833]\n"
     ]
    },
    {
     "name": "stdout",
     "output_type": "stream",
     "text": [
      "Run 95 / 576 with HyperParameters(learning_rate=0.001, kernel_size=2, num_epochs=20, optimise='Adam', loss='binary_crossentropy', num_filter=32, strides=1, padding='same', dropout_rate=0.25, layers=4, default_activation='relu')\n"
     ]
    },
    {
     "name": "stderr",
     "output_type": "stream",
     "text": [
      "Epoch Progress: 100%|██████████| 20/20 [00:40<00:00,  2.04s/epoch, loss=0.417, acc=0.813, val_loss=0.462, val_acc=0.795]\n"
     ]
    },
    {
     "name": "stdout",
     "output_type": "stream",
     "text": [
      "Run 96 / 576 with HyperParameters(learning_rate=0.001, kernel_size=2, num_epochs=20, optimise='Adam', loss='binary_crossentropy', num_filter=32, strides=2, padding='same', dropout_rate=0.25, layers=4, default_activation='relu')\n"
     ]
    },
    {
     "name": "stderr",
     "output_type": "stream",
     "text": [
      "Epoch Progress: 100%|██████████| 20/20 [00:16<00:00,  1.18epoch/s, loss=0.493, acc=0.771, val_loss=0.476, val_acc=0.795]\n"
     ]
    },
    {
     "name": "stdout",
     "output_type": "stream",
     "text": [
      "Run 97 / 576 with HyperParameters(learning_rate=0.001, kernel_size=2, num_epochs=20, optimise='Adam', loss='binary_crossentropy', num_filter=64, strides=1, padding='same', dropout_rate=0.1, layers=2, default_activation='relu')\n"
     ]
    },
    {
     "name": "stderr",
     "output_type": "stream",
     "text": [
      "Epoch Progress:  80%|████████  | 16/20 [00:54<00:13,  3.34s/epoch, loss=0.294, acc=0.888, val_loss=0.425, val_acc=0.859]"
     ]
    },
    {
     "name": "stdout",
     "output_type": "stream",
     "text": [
      "Overfitting detected at epoch 16: Loss Gap = 0.1310\n"
     ]
    },
    {
     "name": "stderr",
     "output_type": "stream",
     "text": [
      "Epoch Progress:  85%|████████▌ | 17/20 [00:57<00:09,  3.29s/epoch, loss=0.292, acc=0.877, val_loss=0.427, val_acc=0.859]"
     ]
    },
    {
     "name": "stdout",
     "output_type": "stream",
     "text": [
      "Overfitting detected at epoch 17: Loss Gap = 0.1345\n"
     ]
    },
    {
     "name": "stderr",
     "output_type": "stream",
     "text": [
      "Epoch Progress:  90%|█████████ | 18/20 [01:00<00:06,  3.36s/epoch, loss=0.278, acc=0.894, val_loss=0.397, val_acc=0.833]\n"
     ]
    },
    {
     "name": "stdout",
     "output_type": "stream",
     "text": [
      "Overfitting detected at epoch 18: Loss Gap = 0.1192\n",
      "Stopping training due to persistent overfitting.\n",
      "Run 98 / 576 with HyperParameters(learning_rate=0.001, kernel_size=2, num_epochs=20, optimise='Adam', loss='binary_crossentropy', num_filter=64, strides=2, padding='same', dropout_rate=0.1, layers=2, default_activation='relu')\n"
     ]
    },
    {
     "name": "stderr",
     "output_type": "stream",
     "text": [
      "Epoch Progress: 100%|██████████| 20/20 [00:36<00:00,  1.80s/epoch, loss=0.398, acc=0.839, val_loss=0.424, val_acc=0.846]"
     ]
    },
    {
     "name": "stdout",
     "output_type": "stream",
     "text": [
      "Run 99 / 576 with HyperParameters(learning_rate=0.001, kernel_size=2, num_epochs=20, optimise='Adam', loss='binary_crossentropy', num_filter=64, strides=1, padding='same', dropout_rate=0.25, layers=2, default_activation='relu')\n"
     ]
    },
    {
     "name": "stderr",
     "output_type": "stream",
     "text": [
      "\n",
      "Epoch Progress:  75%|███████▌  | 15/20 [01:01<00:18,  3.79s/epoch, loss=0.388, acc=0.846, val_loss=0.489, val_acc=0.795]"
     ]
    },
    {
     "name": "stdout",
     "output_type": "stream",
     "text": [
      "Overfitting detected at epoch 15: Loss Gap = 0.1015\n"
     ]
    },
    {
     "name": "stderr",
     "output_type": "stream",
     "text": [
      "Epoch Progress:  80%|████████  | 16/20 [01:05<00:15,  3.94s/epoch, loss=0.361, acc=0.864, val_loss=0.479, val_acc=0.821]"
     ]
    },
    {
     "name": "stdout",
     "output_type": "stream",
     "text": [
      "Overfitting detected at epoch 16: Loss Gap = 0.1177\n"
     ]
    },
    {
     "name": "stderr",
     "output_type": "stream",
     "text": [
      "Epoch Progress:  85%|████████▌ | 17/20 [01:09<00:12,  4.10s/epoch, loss=0.349, acc=0.859, val_loss=0.472, val_acc=0.833]"
     ]
    },
    {
     "name": "stdout",
     "output_type": "stream",
     "text": [
      "Overfitting detected at epoch 17: Loss Gap = 0.1231\n",
      "Stopping training due to persistent overfitting.\n",
      "Run 100 / 576 with HyperParameters(learning_rate=0.001, kernel_size=2, num_epochs=20, optimise='Adam', loss='binary_crossentropy', num_filter=64, strides=2, padding='same', dropout_rate=0.25, layers=2, default_activation='relu')\n"
     ]
    },
    {
     "name": "stderr",
     "output_type": "stream",
     "text": [
      "\n",
      "Epoch Progress: 100%|██████████| 20/20 [00:42<00:00,  2.14s/epoch, loss=0.387, acc=0.832, val_loss=0.432, val_acc=0.833]\n"
     ]
    },
    {
     "name": "stdout",
     "output_type": "stream",
     "text": [
      "Run 101 / 576 with HyperParameters(learning_rate=0.001, kernel_size=2, num_epochs=20, optimise='Adam', loss='binary_crossentropy', num_filter=64, strides=1, padding='same', dropout_rate=0.1, layers=3, default_activation='relu')\n"
     ]
    },
    {
     "name": "stderr",
     "output_type": "stream",
     "text": [
      "Epoch Progress:  90%|█████████ | 18/20 [01:14<00:08,  4.03s/epoch, loss=0.342, acc=0.855, val_loss=0.458, val_acc=0.821]"
     ]
    },
    {
     "name": "stdout",
     "output_type": "stream",
     "text": [
      "Overfitting detected at epoch 18: Loss Gap = 0.1164\n"
     ]
    },
    {
     "name": "stderr",
     "output_type": "stream",
     "text": [
      "Epoch Progress: 100%|██████████| 20/20 [01:22<00:00,  4.11s/epoch, loss=0.278, acc=0.877, val_loss=0.414, val_acc=0.872]\n"
     ]
    },
    {
     "name": "stdout",
     "output_type": "stream",
     "text": [
      "Overfitting detected at epoch 20: Loss Gap = 0.1365\n",
      "Run 102 / 576 with HyperParameters(learning_rate=0.001, kernel_size=2, num_epochs=20, optimise='Adam', loss='binary_crossentropy', num_filter=64, strides=2, padding='same', dropout_rate=0.1, layers=3, default_activation='relu')\n"
     ]
    },
    {
     "name": "stderr",
     "output_type": "stream",
     "text": [
      "Epoch Progress: 100%|██████████| 20/20 [01:05<00:00,  3.27s/epoch, loss=0.423, acc=0.822, val_loss=0.416, val_acc=0.808]\n"
     ]
    },
    {
     "name": "stdout",
     "output_type": "stream",
     "text": [
      "Run 103 / 576 with HyperParameters(learning_rate=0.001, kernel_size=2, num_epochs=20, optimise='Adam', loss='binary_crossentropy', num_filter=64, strides=1, padding='same', dropout_rate=0.25, layers=3, default_activation='relu')\n"
     ]
    },
    {
     "name": "stderr",
     "output_type": "stream",
     "text": [
      "Epoch Progress: 100%|██████████| 20/20 [02:05<00:00,  6.29s/epoch, loss=0.374, acc=0.83, val_loss=0.454, val_acc=0.846] \n"
     ]
    },
    {
     "name": "stdout",
     "output_type": "stream",
     "text": [
      "Run 104 / 576 with HyperParameters(learning_rate=0.001, kernel_size=2, num_epochs=20, optimise='Adam', loss='binary_crossentropy', num_filter=64, strides=2, padding='same', dropout_rate=0.25, layers=3, default_activation='relu')\n"
     ]
    },
    {
     "name": "stderr",
     "output_type": "stream",
     "text": [
      "Epoch Progress: 100%|██████████| 20/20 [01:00<00:00,  3.00s/epoch, loss=0.476, acc=0.784, val_loss=0.454, val_acc=0.846]\n"
     ]
    },
    {
     "name": "stdout",
     "output_type": "stream",
     "text": [
      "Run 105 / 576 with HyperParameters(learning_rate=0.001, kernel_size=2, num_epochs=20, optimise='Adam', loss='binary_crossentropy', num_filter=64, strides=1, padding='same', dropout_rate=0.1, layers=4, default_activation='relu')\n"
     ]
    },
    {
     "name": "stderr",
     "output_type": "stream",
     "text": [
      "Epoch Progress:  80%|████████  | 16/20 [02:12<00:32,  8.19s/epoch, loss=0.305, acc=0.863, val_loss=0.462, val_acc=0.833]"
     ]
    },
    {
     "name": "stdout",
     "output_type": "stream",
     "text": [
      "Overfitting detected at epoch 16: Loss Gap = 0.1567\n"
     ]
    },
    {
     "name": "stderr",
     "output_type": "stream",
     "text": [
      "Epoch Progress:  85%|████████▌ | 17/20 [02:20<00:24,  8.14s/epoch, loss=0.296, acc=0.864, val_loss=0.399, val_acc=0.846]"
     ]
    },
    {
     "name": "stdout",
     "output_type": "stream",
     "text": [
      "Overfitting detected at epoch 17: Loss Gap = 0.1033\n"
     ]
    },
    {
     "name": "stderr",
     "output_type": "stream",
     "text": [
      "Epoch Progress:  90%|█████████ | 18/20 [02:28<00:16,  8.27s/epoch, loss=0.274, acc=0.886, val_loss=0.452, val_acc=0.808]\n"
     ]
    },
    {
     "name": "stdout",
     "output_type": "stream",
     "text": [
      "Overfitting detected at epoch 18: Loss Gap = 0.1779\n",
      "Stopping training due to persistent overfitting.\n",
      "Run 106 / 576 with HyperParameters(learning_rate=0.001, kernel_size=2, num_epochs=20, optimise='Adam', loss='binary_crossentropy', num_filter=64, strides=2, padding='same', dropout_rate=0.1, layers=4, default_activation='relu')\n"
     ]
    },
    {
     "name": "stderr",
     "output_type": "stream",
     "text": [
      "Epoch Progress: 100%|██████████| 20/20 [00:59<00:00,  2.99s/epoch, loss=0.435, acc=0.817, val_loss=0.412, val_acc=0.859]\n"
     ]
    },
    {
     "name": "stdout",
     "output_type": "stream",
     "text": [
      "Run 107 / 576 with HyperParameters(learning_rate=0.001, kernel_size=2, num_epochs=20, optimise='Adam', loss='binary_crossentropy', num_filter=64, strides=1, padding='same', dropout_rate=0.25, layers=4, default_activation='relu')\n"
     ]
    },
    {
     "name": "stderr",
     "output_type": "stream",
     "text": [
      "Epoch Progress: 100%|██████████| 20/20 [02:35<00:00,  7.78s/epoch, loss=0.331, acc=0.863, val_loss=0.433, val_acc=0.821]\n"
     ]
    },
    {
     "name": "stdout",
     "output_type": "stream",
     "text": [
      "Overfitting detected at epoch 20: Loss Gap = 0.1022\n",
      "Run 108 / 576 with HyperParameters(learning_rate=0.001, kernel_size=2, num_epochs=20, optimise='Adam', loss='binary_crossentropy', num_filter=64, strides=2, padding='same', dropout_rate=0.25, layers=4, default_activation='relu')\n"
     ]
    },
    {
     "name": "stderr",
     "output_type": "stream",
     "text": [
      "Epoch Progress: 100%|██████████| 20/20 [00:57<00:00,  2.90s/epoch, loss=0.454, acc=0.81, val_loss=0.423, val_acc=0.872] \n"
     ]
    },
    {
     "name": "stdout",
     "output_type": "stream",
     "text": [
      "Run 109 / 576 with HyperParameters(learning_rate=0.001, kernel_size=2, num_epochs=25, optimise='Adam', loss='binary_crossentropy', num_filter=16, strides=1, padding='same', dropout_rate=0.1, layers=2, default_activation='relu')\n"
     ]
    },
    {
     "name": "stderr",
     "output_type": "stream",
     "text": [
      "Epoch Progress:  88%|████████▊ | 22/25 [00:26<00:02,  1.01epoch/s, loss=0.356, acc=0.863, val_loss=0.457, val_acc=0.782]"
     ]
    },
    {
     "name": "stdout",
     "output_type": "stream",
     "text": [
      "Overfitting detected at epoch 22: Loss Gap = 0.1004\n"
     ]
    },
    {
     "name": "stderr",
     "output_type": "stream",
     "text": [
      "Epoch Progress:  92%|█████████▏| 23/25 [00:27<00:02,  1.06s/epoch, loss=0.34, acc=0.863, val_loss=0.461, val_acc=0.782] "
     ]
    },
    {
     "name": "stdout",
     "output_type": "stream",
     "text": [
      "Overfitting detected at epoch 23: Loss Gap = 0.1206\n"
     ]
    },
    {
     "name": "stderr",
     "output_type": "stream",
     "text": [
      "Epoch Progress:  96%|█████████▌| 24/25 [00:28<00:01,  1.20s/epoch, loss=0.346, acc=0.853, val_loss=0.454, val_acc=0.795]\n"
     ]
    },
    {
     "name": "stdout",
     "output_type": "stream",
     "text": [
      "Overfitting detected at epoch 24: Loss Gap = 0.1080\n",
      "Stopping training due to persistent overfitting.\n",
      "Run 110 / 576 with HyperParameters(learning_rate=0.001, kernel_size=2, num_epochs=25, optimise='Adam', loss='binary_crossentropy', num_filter=16, strides=2, padding='same', dropout_rate=0.1, layers=2, default_activation='relu')\n"
     ]
    },
    {
     "name": "stderr",
     "output_type": "stream",
     "text": [
      "Epoch Progress: 100%|██████████| 25/25 [00:12<00:00,  2.08epoch/s, loss=0.448, acc=0.804, val_loss=0.457, val_acc=0.821]\n"
     ]
    },
    {
     "name": "stdout",
     "output_type": "stream",
     "text": [
      "Run 111 / 576 with HyperParameters(learning_rate=0.001, kernel_size=2, num_epochs=25, optimise='Adam', loss='binary_crossentropy', num_filter=16, strides=1, padding='same', dropout_rate=0.25, layers=2, default_activation='relu')\n"
     ]
    },
    {
     "name": "stderr",
     "output_type": "stream",
     "text": [
      "Epoch Progress:  88%|████████▊ | 22/25 [00:17<00:02,  1.27epoch/s, loss=0.409, acc=0.83, val_loss=0.511, val_acc=0.705] "
     ]
    },
    {
     "name": "stdout",
     "output_type": "stream",
     "text": [
      "Overfitting detected at epoch 22: Loss Gap = 0.1016\n"
     ]
    },
    {
     "name": "stderr",
     "output_type": "stream",
     "text": [
      "Epoch Progress: 100%|██████████| 25/25 [00:19<00:00,  1.29epoch/s, loss=0.383, acc=0.832, val_loss=0.509, val_acc=0.718]\n"
     ]
    },
    {
     "name": "stdout",
     "output_type": "stream",
     "text": [
      "Overfitting detected at epoch 25: Loss Gap = 0.1263\n",
      "Run 112 / 576 with HyperParameters(learning_rate=0.001, kernel_size=2, num_epochs=25, optimise='Adam', loss='binary_crossentropy', num_filter=16, strides=2, padding='same', dropout_rate=0.25, layers=2, default_activation='relu')\n"
     ]
    },
    {
     "name": "stderr",
     "output_type": "stream",
     "text": [
      "Epoch Progress: 100%|██████████| 25/25 [00:14<00:00,  1.73epoch/s, loss=0.488, acc=0.786, val_loss=0.484, val_acc=0.808]\n"
     ]
    },
    {
     "name": "stdout",
     "output_type": "stream",
     "text": [
      "Run 113 / 576 with HyperParameters(learning_rate=0.001, kernel_size=2, num_epochs=25, optimise='Adam', loss='binary_crossentropy', num_filter=16, strides=1, padding='same', dropout_rate=0.1, layers=3, default_activation='relu')\n"
     ]
    },
    {
     "name": "stderr",
     "output_type": "stream",
     "text": [
      "Epoch Progress:  88%|████████▊ | 22/25 [00:23<00:02,  1.02epoch/s, loss=0.35, acc=0.844, val_loss=0.457, val_acc=0.795] "
     ]
    },
    {
     "name": "stdout",
     "output_type": "stream",
     "text": [
      "Overfitting detected at epoch 22: Loss Gap = 0.1073\n"
     ]
    },
    {
     "name": "stderr",
     "output_type": "stream",
     "text": [
      "Epoch Progress:  92%|█████████▏| 23/25 [00:24<00:01,  1.01epoch/s, loss=0.351, acc=0.852, val_loss=0.478, val_acc=0.769]"
     ]
    },
    {
     "name": "stdout",
     "output_type": "stream",
     "text": [
      "Overfitting detected at epoch 23: Loss Gap = 0.1266\n"
     ]
    },
    {
     "name": "stderr",
     "output_type": "stream",
     "text": [
      "Epoch Progress:  96%|█████████▌| 24/25 [00:25<00:01,  1.07s/epoch, loss=0.334, acc=0.859, val_loss=0.451, val_acc=0.782]"
     ]
    },
    {
     "name": "stdout",
     "output_type": "stream",
     "text": [
      "Overfitting detected at epoch 24: Loss Gap = 0.1173\n",
      "Stopping training due to persistent overfitting.\n",
      "Run 114 / 576 with HyperParameters(learning_rate=0.001, kernel_size=2, num_epochs=25, optimise='Adam', loss='binary_crossentropy', num_filter=16, strides=2, padding='same', dropout_rate=0.1, layers=3, default_activation='relu')\n"
     ]
    },
    {
     "name": "stderr",
     "output_type": "stream",
     "text": [
      "\n",
      "Epoch Progress: 100%|██████████| 25/25 [00:11<00:00,  2.14epoch/s, loss=0.496, acc=0.778, val_loss=0.481, val_acc=0.769]\n"
     ]
    },
    {
     "name": "stdout",
     "output_type": "stream",
     "text": [
      "Run 115 / 576 with HyperParameters(learning_rate=0.001, kernel_size=2, num_epochs=25, optimise='Adam', loss='binary_crossentropy', num_filter=16, strides=1, padding='same', dropout_rate=0.25, layers=3, default_activation='relu')\n"
     ]
    },
    {
     "name": "stderr",
     "output_type": "stream",
     "text": [
      "Epoch Progress:  96%|█████████▌| 24/25 [00:20<00:00,  1.27epoch/s, loss=0.383, acc=0.833, val_loss=0.506, val_acc=0.718]"
     ]
    },
    {
     "name": "stdout",
     "output_type": "stream",
     "text": [
      "Overfitting detected at epoch 24: Loss Gap = 0.1236\n"
     ]
    },
    {
     "name": "stderr",
     "output_type": "stream",
     "text": [
      "Epoch Progress: 100%|██████████| 25/25 [00:21<00:00,  1.17epoch/s, loss=0.351, acc=0.855, val_loss=0.473, val_acc=0.821]\n"
     ]
    },
    {
     "name": "stdout",
     "output_type": "stream",
     "text": [
      "Overfitting detected at epoch 25: Loss Gap = 0.1219\n",
      "Run 116 / 576 with HyperParameters(learning_rate=0.001, kernel_size=2, num_epochs=25, optimise='Adam', loss='binary_crossentropy', num_filter=16, strides=2, padding='same', dropout_rate=0.25, layers=3, default_activation='relu')\n"
     ]
    },
    {
     "name": "stderr",
     "output_type": "stream",
     "text": [
      "Epoch Progress: 100%|██████████| 25/25 [00:09<00:00,  2.69epoch/s, loss=0.504, acc=0.767, val_loss=0.51, val_acc=0.744] \n"
     ]
    },
    {
     "name": "stdout",
     "output_type": "stream",
     "text": [
      "Run 117 / 576 with HyperParameters(learning_rate=0.001, kernel_size=2, num_epochs=25, optimise='Adam', loss='binary_crossentropy', num_filter=16, strides=1, padding='same', dropout_rate=0.1, layers=4, default_activation='relu')\n"
     ]
    },
    {
     "name": "stderr",
     "output_type": "stream",
     "text": [
      "Epoch Progress:  88%|████████▊ | 22/25 [00:23<00:03,  1.06s/epoch, loss=0.336, acc=0.848, val_loss=0.438, val_acc=0.821]"
     ]
    },
    {
     "name": "stdout",
     "output_type": "stream",
     "text": [
      "Overfitting detected at epoch 22: Loss Gap = 0.1025\n"
     ]
    },
    {
     "name": "stderr",
     "output_type": "stream",
     "text": [
      "Epoch Progress:  92%|█████████▏| 23/25 [00:24<00:02,  1.07s/epoch, loss=0.332, acc=0.863, val_loss=0.477, val_acc=0.821]"
     ]
    },
    {
     "name": "stdout",
     "output_type": "stream",
     "text": [
      "Overfitting detected at epoch 23: Loss Gap = 0.1452\n"
     ]
    },
    {
     "name": "stderr",
     "output_type": "stream",
     "text": [
      "Epoch Progress:  96%|█████████▌| 24/25 [00:25<00:01,  1.08s/epoch, loss=0.317, acc=0.857, val_loss=0.463, val_acc=0.808]\n"
     ]
    },
    {
     "name": "stdout",
     "output_type": "stream",
     "text": [
      "Overfitting detected at epoch 24: Loss Gap = 0.1458\n",
      "Stopping training due to persistent overfitting.\n",
      "Run 118 / 576 with HyperParameters(learning_rate=0.001, kernel_size=2, num_epochs=25, optimise='Adam', loss='binary_crossentropy', num_filter=16, strides=2, padding='same', dropout_rate=0.1, layers=4, default_activation='relu')\n"
     ]
    },
    {
     "name": "stderr",
     "output_type": "stream",
     "text": [
      "Epoch Progress: 100%|██████████| 25/25 [00:10<00:00,  2.45epoch/s, loss=0.49, acc=0.773, val_loss=0.472, val_acc=0.795] \n"
     ]
    },
    {
     "name": "stdout",
     "output_type": "stream",
     "text": [
      "Run 119 / 576 with HyperParameters(learning_rate=0.001, kernel_size=2, num_epochs=25, optimise='Adam', loss='binary_crossentropy', num_filter=16, strides=1, padding='same', dropout_rate=0.25, layers=4, default_activation='relu')\n"
     ]
    },
    {
     "name": "stderr",
     "output_type": "stream",
     "text": [
      "Epoch Progress:  20%|██        | 5/25 [00:06<00:23,  1.20s/epoch, loss=0.534, acc=0.742, val_loss=0.637, val_acc=0.731]"
     ]
    },
    {
     "name": "stdout",
     "output_type": "stream",
     "text": [
      "Overfitting detected at epoch 5: Loss Gap = 0.1030\n"
     ]
    },
    {
     "name": "stderr",
     "output_type": "stream",
     "text": [
      "Epoch Progress: 100%|██████████| 25/25 [00:26<00:00,  1.07s/epoch, loss=0.362, acc=0.848, val_loss=0.431, val_acc=0.821]\n"
     ]
    },
    {
     "name": "stdout",
     "output_type": "stream",
     "text": [
      "Run 120 / 576 with HyperParameters(learning_rate=0.001, kernel_size=2, num_epochs=25, optimise='Adam', loss='binary_crossentropy', num_filter=16, strides=2, padding='same', dropout_rate=0.25, layers=4, default_activation='relu')\n"
     ]
    },
    {
     "name": "stderr",
     "output_type": "stream",
     "text": [
      "Epoch Progress: 100%|██████████| 25/25 [00:11<00:00,  2.24epoch/s, loss=0.54, acc=0.74, val_loss=0.533, val_acc=0.769]  \n"
     ]
    },
    {
     "name": "stdout",
     "output_type": "stream",
     "text": [
      "Run 121 / 576 with HyperParameters(learning_rate=0.001, kernel_size=2, num_epochs=25, optimise='Adam', loss='binary_crossentropy', num_filter=32, strides=1, padding='same', dropout_rate=0.1, layers=2, default_activation='relu')\n"
     ]
    },
    {
     "name": "stderr",
     "output_type": "stream",
     "text": [
      "Epoch Progress:  68%|██████▊   | 17/25 [00:21<00:09,  1.18s/epoch, loss=0.33, acc=0.866, val_loss=0.442, val_acc=0.782] "
     ]
    },
    {
     "name": "stdout",
     "output_type": "stream",
     "text": [
      "Overfitting detected at epoch 17: Loss Gap = 0.1116\n"
     ]
    },
    {
     "name": "stderr",
     "output_type": "stream",
     "text": [
      "Epoch Progress:  72%|███████▏  | 18/25 [00:22<00:08,  1.19s/epoch, loss=0.323, acc=0.879, val_loss=0.468, val_acc=0.808]"
     ]
    },
    {
     "name": "stdout",
     "output_type": "stream",
     "text": [
      "Overfitting detected at epoch 18: Loss Gap = 0.1444\n"
     ]
    },
    {
     "name": "stderr",
     "output_type": "stream",
     "text": [
      "Epoch Progress:  76%|███████▌  | 19/25 [00:24<00:07,  1.27s/epoch, loss=0.305, acc=0.866, val_loss=0.437, val_acc=0.808]\n"
     ]
    },
    {
     "name": "stdout",
     "output_type": "stream",
     "text": [
      "Overfitting detected at epoch 19: Loss Gap = 0.1320\n",
      "Stopping training due to persistent overfitting.\n",
      "Run 122 / 576 with HyperParameters(learning_rate=0.001, kernel_size=2, num_epochs=25, optimise='Adam', loss='binary_crossentropy', num_filter=32, strides=2, padding='same', dropout_rate=0.1, layers=2, default_activation='relu')\n"
     ]
    },
    {
     "name": "stderr",
     "output_type": "stream",
     "text": [
      "Epoch Progress: 100%|██████████| 25/25 [00:17<00:00,  1.44epoch/s, loss=0.413, acc=0.822, val_loss=0.466, val_acc=0.808]\n"
     ]
    },
    {
     "name": "stdout",
     "output_type": "stream",
     "text": [
      "Run 123 / 576 with HyperParameters(learning_rate=0.001, kernel_size=2, num_epochs=25, optimise='Adam', loss='binary_crossentropy', num_filter=32, strides=1, padding='same', dropout_rate=0.25, layers=2, default_activation='relu')\n"
     ]
    },
    {
     "name": "stderr",
     "output_type": "stream",
     "text": [
      "Epoch Progress:  72%|███████▏  | 18/25 [00:22<00:08,  1.21s/epoch, loss=0.368, acc=0.839, val_loss=0.502, val_acc=0.731]"
     ]
    },
    {
     "name": "stdout",
     "output_type": "stream",
     "text": [
      "Overfitting detected at epoch 18: Loss Gap = 0.1348\n"
     ]
    },
    {
     "name": "stderr",
     "output_type": "stream",
     "text": [
      "Epoch Progress:  76%|███████▌  | 19/25 [00:23<00:07,  1.20s/epoch, loss=0.351, acc=0.837, val_loss=0.481, val_acc=0.833]"
     ]
    },
    {
     "name": "stdout",
     "output_type": "stream",
     "text": [
      "Overfitting detected at epoch 19: Loss Gap = 0.1296\n"
     ]
    },
    {
     "name": "stderr",
     "output_type": "stream",
     "text": [
      "Epoch Progress:  80%|████████  | 20/25 [00:25<00:06,  1.26s/epoch, loss=0.314, acc=0.875, val_loss=0.477, val_acc=0.795]\n"
     ]
    },
    {
     "name": "stdout",
     "output_type": "stream",
     "text": [
      "Overfitting detected at epoch 20: Loss Gap = 0.1630\n",
      "Stopping training due to persistent overfitting.\n",
      "Run 124 / 576 with HyperParameters(learning_rate=0.001, kernel_size=2, num_epochs=25, optimise='Adam', loss='binary_crossentropy', num_filter=32, strides=2, padding='same', dropout_rate=0.25, layers=2, default_activation='relu')\n"
     ]
    },
    {
     "name": "stderr",
     "output_type": "stream",
     "text": [
      "Epoch Progress: 100%|██████████| 25/25 [00:17<00:00,  1.45epoch/s, loss=0.446, acc=0.795, val_loss=0.468, val_acc=0.833]\n"
     ]
    },
    {
     "name": "stdout",
     "output_type": "stream",
     "text": [
      "Run 125 / 576 with HyperParameters(learning_rate=0.001, kernel_size=2, num_epochs=25, optimise='Adam', loss='binary_crossentropy', num_filter=32, strides=1, padding='same', dropout_rate=0.1, layers=3, default_activation='relu')\n"
     ]
    },
    {
     "name": "stderr",
     "output_type": "stream",
     "text": [
      "Epoch Progress:  68%|██████▊   | 17/25 [00:26<00:12,  1.55s/epoch, loss=0.368, acc=0.864, val_loss=0.49, val_acc=0.795] "
     ]
    },
    {
     "name": "stdout",
     "output_type": "stream",
     "text": [
      "Overfitting detected at epoch 17: Loss Gap = 0.1228\n"
     ]
    },
    {
     "name": "stderr",
     "output_type": "stream",
     "text": [
      "Epoch Progress:  76%|███████▌  | 19/25 [00:29<00:09,  1.52s/epoch, loss=0.315, acc=0.859, val_loss=0.461, val_acc=0.808]"
     ]
    },
    {
     "name": "stdout",
     "output_type": "stream",
     "text": [
      "Overfitting detected at epoch 19: Loss Gap = 0.1459\n"
     ]
    },
    {
     "name": "stderr",
     "output_type": "stream",
     "text": [
      "Epoch Progress:  80%|████████  | 20/25 [00:31<00:07,  1.50s/epoch, loss=0.308, acc=0.866, val_loss=0.445, val_acc=0.846]"
     ]
    },
    {
     "name": "stdout",
     "output_type": "stream",
     "text": [
      "Overfitting detected at epoch 20: Loss Gap = 0.1367\n"
     ]
    },
    {
     "name": "stderr",
     "output_type": "stream",
     "text": [
      "Epoch Progress:  84%|████████▍ | 21/25 [00:32<00:06,  1.55s/epoch, loss=0.272, acc=0.897, val_loss=0.497, val_acc=0.795]\n"
     ]
    },
    {
     "name": "stdout",
     "output_type": "stream",
     "text": [
      "Overfitting detected at epoch 21: Loss Gap = 0.2245\n",
      "Stopping training due to persistent overfitting.\n",
      "Run 126 / 576 with HyperParameters(learning_rate=0.001, kernel_size=2, num_epochs=25, optimise='Adam', loss='binary_crossentropy', num_filter=32, strides=2, padding='same', dropout_rate=0.1, layers=3, default_activation='relu')\n"
     ]
    },
    {
     "name": "stderr",
     "output_type": "stream",
     "text": [
      "Epoch Progress: 100%|██████████| 25/25 [00:17<00:00,  1.43epoch/s, loss=0.453, acc=0.797, val_loss=0.464, val_acc=0.821]\n"
     ]
    },
    {
     "name": "stdout",
     "output_type": "stream",
     "text": [
      "Run 127 / 576 with HyperParameters(learning_rate=0.001, kernel_size=2, num_epochs=25, optimise='Adam', loss='binary_crossentropy', num_filter=32, strides=1, padding='same', dropout_rate=0.25, layers=3, default_activation='relu')\n"
     ]
    },
    {
     "name": "stderr",
     "output_type": "stream",
     "text": [
      "Epoch Progress:  80%|████████  | 20/25 [00:43<00:10,  2.16s/epoch, loss=0.338, acc=0.859, val_loss=0.484, val_acc=0.782]"
     ]
    },
    {
     "name": "stdout",
     "output_type": "stream",
     "text": [
      "Overfitting detected at epoch 20: Loss Gap = 0.1459\n"
     ]
    },
    {
     "name": "stderr",
     "output_type": "stream",
     "text": [
      "Epoch Progress:  84%|████████▍ | 21/25 [00:45<00:08,  2.16s/epoch, loss=0.332, acc=0.846, val_loss=0.485, val_acc=0.795]"
     ]
    },
    {
     "name": "stdout",
     "output_type": "stream",
     "text": [
      "Overfitting detected at epoch 21: Loss Gap = 0.1534\n"
     ]
    },
    {
     "name": "stderr",
     "output_type": "stream",
     "text": [
      "Epoch Progress:  88%|████████▊ | 22/25 [00:47<00:06,  2.17s/epoch, loss=0.303, acc=0.868, val_loss=0.419, val_acc=0.859]\n"
     ]
    },
    {
     "name": "stdout",
     "output_type": "stream",
     "text": [
      "Overfitting detected at epoch 22: Loss Gap = 0.1159\n",
      "Stopping training due to persistent overfitting.\n",
      "Run 128 / 576 with HyperParameters(learning_rate=0.001, kernel_size=2, num_epochs=25, optimise='Adam', loss='binary_crossentropy', num_filter=32, strides=2, padding='same', dropout_rate=0.25, layers=3, default_activation='relu')\n"
     ]
    },
    {
     "name": "stderr",
     "output_type": "stream",
     "text": [
      "Epoch Progress: 100%|██████████| 25/25 [00:24<00:00,  1.01epoch/s, loss=0.45, acc=0.802, val_loss=0.432, val_acc=0.808] \n"
     ]
    },
    {
     "name": "stdout",
     "output_type": "stream",
     "text": [
      "Run 129 / 576 with HyperParameters(learning_rate=0.001, kernel_size=2, num_epochs=25, optimise='Adam', loss='binary_crossentropy', num_filter=32, strides=1, padding='same', dropout_rate=0.1, layers=4, default_activation='relu')\n"
     ]
    },
    {
     "name": "stderr",
     "output_type": "stream",
     "text": [
      "Epoch Progress:  76%|███████▌  | 19/25 [00:54<00:17,  2.90s/epoch, loss=0.321, acc=0.866, val_loss=0.441, val_acc=0.808]"
     ]
    },
    {
     "name": "stdout",
     "output_type": "stream",
     "text": [
      "Overfitting detected at epoch 19: Loss Gap = 0.1205\n"
     ]
    },
    {
     "name": "stderr",
     "output_type": "stream",
     "text": [
      "Epoch Progress:  80%|████████  | 20/25 [00:57<00:14,  2.85s/epoch, loss=0.302, acc=0.866, val_loss=0.44, val_acc=0.782] "
     ]
    },
    {
     "name": "stdout",
     "output_type": "stream",
     "text": [
      "Overfitting detected at epoch 20: Loss Gap = 0.1387\n"
     ]
    },
    {
     "name": "stderr",
     "output_type": "stream",
     "text": [
      "Epoch Progress:  84%|████████▍ | 21/25 [01:00<00:11,  2.87s/epoch, loss=0.27, acc=0.89, val_loss=0.413, val_acc=0.821] \n"
     ]
    },
    {
     "name": "stdout",
     "output_type": "stream",
     "text": [
      "Overfitting detected at epoch 21: Loss Gap = 0.1426\n",
      "Stopping training due to persistent overfitting.\n",
      "Run 130 / 576 with HyperParameters(learning_rate=0.001, kernel_size=2, num_epochs=25, optimise='Adam', loss='binary_crossentropy', num_filter=32, strides=2, padding='same', dropout_rate=0.1, layers=4, default_activation='relu')\n"
     ]
    },
    {
     "name": "stderr",
     "output_type": "stream",
     "text": [
      "Epoch Progress: 100%|██████████| 25/25 [00:25<00:00,  1.01s/epoch, loss=0.436, acc=0.821, val_loss=0.441, val_acc=0.808]\n"
     ]
    },
    {
     "name": "stdout",
     "output_type": "stream",
     "text": [
      "Run 131 / 576 with HyperParameters(learning_rate=0.001, kernel_size=2, num_epochs=25, optimise='Adam', loss='binary_crossentropy', num_filter=32, strides=1, padding='same', dropout_rate=0.25, layers=4, default_activation='relu')\n"
     ]
    },
    {
     "name": "stderr",
     "output_type": "stream",
     "text": [
      "Epoch Progress:  84%|████████▍ | 21/25 [00:55<00:10,  2.72s/epoch, loss=0.291, acc=0.874, val_loss=0.447, val_acc=0.782]"
     ]
    },
    {
     "name": "stdout",
     "output_type": "stream",
     "text": [
      "Overfitting detected at epoch 21: Loss Gap = 0.1552\n"
     ]
    },
    {
     "name": "stderr",
     "output_type": "stream",
     "text": [
      "Epoch Progress:  88%|████████▊ | 22/25 [00:58<00:07,  2.65s/epoch, loss=0.29, acc=0.888, val_loss=0.403, val_acc=0.846] "
     ]
    },
    {
     "name": "stdout",
     "output_type": "stream",
     "text": [
      "Overfitting detected at epoch 22: Loss Gap = 0.1135\n"
     ]
    },
    {
     "name": "stderr",
     "output_type": "stream",
     "text": [
      "Epoch Progress:  92%|█████████▏| 23/25 [01:00<00:05,  2.64s/epoch, loss=0.281, acc=0.881, val_loss=0.458, val_acc=0.833]\n"
     ]
    },
    {
     "name": "stdout",
     "output_type": "stream",
     "text": [
      "Overfitting detected at epoch 23: Loss Gap = 0.1773\n",
      "Stopping training due to persistent overfitting.\n",
      "Run 132 / 576 with HyperParameters(learning_rate=0.001, kernel_size=2, num_epochs=25, optimise='Adam', loss='binary_crossentropy', num_filter=32, strides=2, padding='same', dropout_rate=0.25, layers=4, default_activation='relu')\n"
     ]
    },
    {
     "name": "stderr",
     "output_type": "stream",
     "text": [
      "Epoch Progress: 100%|██████████| 25/25 [00:22<00:00,  1.11epoch/s, loss=0.469, acc=0.786, val_loss=0.484, val_acc=0.782]\n"
     ]
    },
    {
     "name": "stdout",
     "output_type": "stream",
     "text": [
      "Run 133 / 576 with HyperParameters(learning_rate=0.001, kernel_size=2, num_epochs=25, optimise='Adam', loss='binary_crossentropy', num_filter=64, strides=1, padding='same', dropout_rate=0.1, layers=2, default_activation='relu')\n"
     ]
    },
    {
     "name": "stderr",
     "output_type": "stream",
     "text": [
      "Epoch Progress:  68%|██████▊   | 17/25 [01:09<00:31,  3.98s/epoch, loss=0.368, acc=0.848, val_loss=0.479, val_acc=0.795]"
     ]
    },
    {
     "name": "stdout",
     "output_type": "stream",
     "text": [
      "Overfitting detected at epoch 17: Loss Gap = 0.1112\n"
     ]
    },
    {
     "name": "stderr",
     "output_type": "stream",
     "text": [
      "Epoch Progress:  76%|███████▌  | 19/25 [01:17<00:23,  3.95s/epoch, loss=0.313, acc=0.868, val_loss=0.433, val_acc=0.808]"
     ]
    },
    {
     "name": "stdout",
     "output_type": "stream",
     "text": [
      "Overfitting detected at epoch 19: Loss Gap = 0.1190\n"
     ]
    },
    {
     "name": "stderr",
     "output_type": "stream",
     "text": [
      "Epoch Progress:  80%|████████  | 20/25 [01:21<00:19,  3.95s/epoch, loss=0.285, acc=0.897, val_loss=0.444, val_acc=0.808]"
     ]
    },
    {
     "name": "stdout",
     "output_type": "stream",
     "text": [
      "Overfitting detected at epoch 20: Loss Gap = 0.1584\n"
     ]
    },
    {
     "name": "stderr",
     "output_type": "stream",
     "text": [
      "Epoch Progress:  84%|████████▍ | 21/25 [01:25<00:16,  4.08s/epoch, loss=0.274, acc=0.886, val_loss=0.444, val_acc=0.808]\n"
     ]
    },
    {
     "name": "stdout",
     "output_type": "stream",
     "text": [
      "Overfitting detected at epoch 21: Loss Gap = 0.1705\n",
      "Stopping training due to persistent overfitting.\n",
      "Run 134 / 576 with HyperParameters(learning_rate=0.001, kernel_size=2, num_epochs=25, optimise='Adam', loss='binary_crossentropy', num_filter=64, strides=2, padding='same', dropout_rate=0.1, layers=2, default_activation='relu')\n"
     ]
    },
    {
     "name": "stderr",
     "output_type": "stream",
     "text": [
      "Epoch Progress:  96%|█████████▌| 24/25 [00:53<00:02,  2.17s/epoch, loss=0.321, acc=0.85, val_loss=0.437, val_acc=0.821] "
     ]
    },
    {
     "name": "stdout",
     "output_type": "stream",
     "text": [
      "Overfitting detected at epoch 24: Loss Gap = 0.1164\n"
     ]
    },
    {
     "name": "stderr",
     "output_type": "stream",
     "text": [
      "Epoch Progress: 100%|██████████| 25/25 [00:55<00:00,  2.22s/epoch, loss=0.31, acc=0.875, val_loss=0.471, val_acc=0.808]\n"
     ]
    },
    {
     "name": "stdout",
     "output_type": "stream",
     "text": [
      "Overfitting detected at epoch 25: Loss Gap = 0.1604\n",
      "Run 135 / 576 with HyperParameters(learning_rate=0.001, kernel_size=2, num_epochs=25, optimise='Adam', loss='binary_crossentropy', num_filter=64, strides=1, padding='same', dropout_rate=0.25, layers=2, default_activation='relu')\n"
     ]
    },
    {
     "name": "stderr",
     "output_type": "stream",
     "text": [
      "Epoch Progress:  68%|██████▊   | 17/25 [01:04<00:29,  3.66s/epoch, loss=0.353, acc=0.866, val_loss=0.463, val_acc=0.795]"
     ]
    },
    {
     "name": "stdout",
     "output_type": "stream",
     "text": [
      "Overfitting detected at epoch 17: Loss Gap = 0.1102\n"
     ]
    },
    {
     "name": "stderr",
     "output_type": "stream",
     "text": [
      "Epoch Progress:  72%|███████▏  | 18/25 [01:07<00:25,  3.65s/epoch, loss=0.322, acc=0.874, val_loss=0.451, val_acc=0.795]"
     ]
    },
    {
     "name": "stdout",
     "output_type": "stream",
     "text": [
      "Overfitting detected at epoch 18: Loss Gap = 0.1288\n"
     ]
    },
    {
     "name": "stderr",
     "output_type": "stream",
     "text": [
      "Epoch Progress:  76%|███████▌  | 19/25 [01:11<00:22,  3.76s/epoch, loss=0.312, acc=0.872, val_loss=0.417, val_acc=0.872]\n"
     ]
    },
    {
     "name": "stdout",
     "output_type": "stream",
     "text": [
      "Overfitting detected at epoch 19: Loss Gap = 0.1055\n",
      "Stopping training due to persistent overfitting.\n",
      "Run 136 / 576 with HyperParameters(learning_rate=0.001, kernel_size=2, num_epochs=25, optimise='Adam', loss='binary_crossentropy', num_filter=64, strides=2, padding='same', dropout_rate=0.25, layers=2, default_activation='relu')\n"
     ]
    },
    {
     "name": "stderr",
     "output_type": "stream",
     "text": [
      "Epoch Progress: 100%|██████████| 25/25 [00:51<00:00,  2.05s/epoch, loss=0.339, acc=0.842, val_loss=0.422, val_acc=0.833]\n"
     ]
    },
    {
     "name": "stdout",
     "output_type": "stream",
     "text": [
      "Run 137 / 576 with HyperParameters(learning_rate=0.001, kernel_size=2, num_epochs=25, optimise='Adam', loss='binary_crossentropy', num_filter=64, strides=1, padding='same', dropout_rate=0.1, layers=3, default_activation='relu')\n"
     ]
    },
    {
     "name": "stderr",
     "output_type": "stream",
     "text": [
      "Epoch Progress:  76%|███████▌  | 19/25 [01:18<00:25,  4.19s/epoch, loss=0.322, acc=0.844, val_loss=0.463, val_acc=0.846]"
     ]
    },
    {
     "name": "stdout",
     "output_type": "stream",
     "text": [
      "Overfitting detected at epoch 19: Loss Gap = 0.1406\n"
     ]
    },
    {
     "name": "stderr",
     "output_type": "stream",
     "text": [
      "Epoch Progress:  80%|████████  | 20/25 [01:22<00:20,  4.15s/epoch, loss=0.316, acc=0.852, val_loss=0.594, val_acc=0.808]"
     ]
    },
    {
     "name": "stdout",
     "output_type": "stream",
     "text": [
      "Overfitting detected at epoch 20: Loss Gap = 0.2777\n"
     ]
    },
    {
     "name": "stderr",
     "output_type": "stream",
     "text": [
      "Epoch Progress:  88%|████████▊ | 22/25 [01:31<00:12,  4.21s/epoch, loss=0.346, acc=0.841, val_loss=0.488, val_acc=0.744]"
     ]
    },
    {
     "name": "stdout",
     "output_type": "stream",
     "text": [
      "Overfitting detected at epoch 22: Loss Gap = 0.1425\n"
     ]
    },
    {
     "name": "stderr",
     "output_type": "stream",
     "text": [
      "Epoch Progress:  92%|█████████▏| 23/25 [01:35<00:08,  4.20s/epoch, loss=0.317, acc=0.846, val_loss=0.447, val_acc=0.846]"
     ]
    },
    {
     "name": "stdout",
     "output_type": "stream",
     "text": [
      "Overfitting detected at epoch 23: Loss Gap = 0.1297\n"
     ]
    },
    {
     "name": "stderr",
     "output_type": "stream",
     "text": [
      "Epoch Progress:  96%|█████████▌| 24/25 [01:39<00:04,  4.16s/epoch, loss=0.282, acc=0.863, val_loss=0.453, val_acc=0.833]\n"
     ]
    },
    {
     "name": "stdout",
     "output_type": "stream",
     "text": [
      "Overfitting detected at epoch 24: Loss Gap = 0.1714\n",
      "Stopping training due to persistent overfitting.\n",
      "Run 138 / 576 with HyperParameters(learning_rate=0.001, kernel_size=2, num_epochs=25, optimise='Adam', loss='binary_crossentropy', num_filter=64, strides=2, padding='same', dropout_rate=0.1, layers=3, default_activation='relu')\n"
     ]
    },
    {
     "name": "stderr",
     "output_type": "stream",
     "text": [
      "Epoch Progress: 100%|██████████| 25/25 [00:47<00:00,  1.91s/epoch, loss=0.395, acc=0.841, val_loss=0.399, val_acc=0.846]\n"
     ]
    },
    {
     "name": "stdout",
     "output_type": "stream",
     "text": [
      "Run 139 / 576 with HyperParameters(learning_rate=0.001, kernel_size=2, num_epochs=25, optimise='Adam', loss='binary_crossentropy', num_filter=64, strides=1, padding='same', dropout_rate=0.25, layers=3, default_activation='relu')\n"
     ]
    },
    {
     "name": "stderr",
     "output_type": "stream",
     "text": [
      "Epoch Progress:  88%|████████▊ | 22/25 [01:29<00:11,  4.00s/epoch, loss=0.357, acc=0.852, val_loss=0.462, val_acc=0.833]"
     ]
    },
    {
     "name": "stdout",
     "output_type": "stream",
     "text": [
      "Overfitting detected at epoch 22: Loss Gap = 0.1049\n"
     ]
    },
    {
     "name": "stderr",
     "output_type": "stream",
     "text": [
      "Epoch Progress: 100%|██████████| 25/25 [01:41<00:00,  4.05s/epoch, loss=0.296, acc=0.881, val_loss=0.42, val_acc=0.846] \n"
     ]
    },
    {
     "name": "stdout",
     "output_type": "stream",
     "text": [
      "Overfitting detected at epoch 25: Loss Gap = 0.1237\n",
      "Run 140 / 576 with HyperParameters(learning_rate=0.001, kernel_size=2, num_epochs=25, optimise='Adam', loss='binary_crossentropy', num_filter=64, strides=2, padding='same', dropout_rate=0.25, layers=3, default_activation='relu')\n"
     ]
    },
    {
     "name": "stderr",
     "output_type": "stream",
     "text": [
      "Epoch Progress: 100%|██████████| 25/25 [00:48<00:00,  1.94s/epoch, loss=0.423, acc=0.826, val_loss=0.436, val_acc=0.821]\n"
     ]
    },
    {
     "name": "stdout",
     "output_type": "stream",
     "text": [
      "Run 141 / 576 with HyperParameters(learning_rate=0.001, kernel_size=2, num_epochs=25, optimise='Adam', loss='binary_crossentropy', num_filter=64, strides=1, padding='same', dropout_rate=0.1, layers=4, default_activation='relu')\n"
     ]
    },
    {
     "name": "stderr",
     "output_type": "stream",
     "text": [
      "Epoch Progress:  84%|████████▍ | 21/25 [01:57<00:21,  5.47s/epoch, loss=0.377, acc=0.822, val_loss=0.525, val_acc=0.795]"
     ]
    },
    {
     "name": "stdout",
     "output_type": "stream",
     "text": [
      "Overfitting detected at epoch 21: Loss Gap = 0.1482\n"
     ]
    },
    {
     "name": "stderr",
     "output_type": "stream",
     "text": [
      "Epoch Progress:  92%|█████████▏| 23/25 [02:08<00:10,  5.42s/epoch, loss=0.367, acc=0.824, val_loss=0.472, val_acc=0.821]"
     ]
    },
    {
     "name": "stdout",
     "output_type": "stream",
     "text": [
      "Overfitting detected at epoch 23: Loss Gap = 0.1042\n"
     ]
    },
    {
     "name": "stderr",
     "output_type": "stream",
     "text": [
      "Epoch Progress:  96%|█████████▌| 24/25 [02:13<00:05,  5.48s/epoch, loss=0.322, acc=0.842, val_loss=0.492, val_acc=0.833]"
     ]
    },
    {
     "name": "stdout",
     "output_type": "stream",
     "text": [
      "Overfitting detected at epoch 24: Loss Gap = 0.1699\n"
     ]
    },
    {
     "name": "stderr",
     "output_type": "stream",
     "text": [
      "Epoch Progress: 100%|██████████| 25/25 [02:19<00:00,  5.57s/epoch, loss=0.32, acc=0.864, val_loss=0.459, val_acc=0.808] \n"
     ]
    },
    {
     "name": "stdout",
     "output_type": "stream",
     "text": [
      "Overfitting detected at epoch 25: Loss Gap = 0.1395\n",
      "Stopping training due to persistent overfitting.\n",
      "Run 142 / 576 with HyperParameters(learning_rate=0.001, kernel_size=2, num_epochs=25, optimise='Adam', loss='binary_crossentropy', num_filter=64, strides=2, padding='same', dropout_rate=0.1, layers=4, default_activation='relu')\n"
     ]
    },
    {
     "name": "stderr",
     "output_type": "stream",
     "text": [
      "Epoch Progress: 100%|██████████| 25/25 [00:56<00:00,  2.24s/epoch, loss=0.357, acc=0.852, val_loss=0.395, val_acc=0.859]\n"
     ]
    },
    {
     "name": "stdout",
     "output_type": "stream",
     "text": [
      "Run 143 / 576 with HyperParameters(learning_rate=0.001, kernel_size=2, num_epochs=25, optimise='Adam', loss='binary_crossentropy', num_filter=64, strides=1, padding='same', dropout_rate=0.25, layers=4, default_activation='relu')\n"
     ]
    },
    {
     "name": "stderr",
     "output_type": "stream",
     "text": [
      "Epoch Progress:  72%|███████▏  | 18/25 [01:37<00:36,  5.17s/epoch, loss=0.392, acc=0.815, val_loss=0.511, val_acc=0.782]"
     ]
    },
    {
     "name": "stdout",
     "output_type": "stream",
     "text": [
      "Overfitting detected at epoch 18: Loss Gap = 0.1195\n"
     ]
    },
    {
     "name": "stderr",
     "output_type": "stream",
     "text": [
      "Epoch Progress:  84%|████████▍ | 21/25 [01:52<00:20,  5.17s/epoch, loss=0.28, acc=0.883, val_loss=0.412, val_acc=0.833] "
     ]
    },
    {
     "name": "stdout",
     "output_type": "stream",
     "text": [
      "Overfitting detected at epoch 21: Loss Gap = 0.1313\n"
     ]
    },
    {
     "name": "stderr",
     "output_type": "stream",
     "text": [
      "Epoch Progress:  88%|████████▊ | 22/25 [01:58<00:15,  5.19s/epoch, loss=0.281, acc=0.875, val_loss=0.433, val_acc=0.833]"
     ]
    },
    {
     "name": "stdout",
     "output_type": "stream",
     "text": [
      "Overfitting detected at epoch 22: Loss Gap = 0.1513\n"
     ]
    },
    {
     "name": "stderr",
     "output_type": "stream",
     "text": [
      "Epoch Progress:  92%|█████████▏| 23/25 [02:03<00:10,  5.37s/epoch, loss=0.283, acc=0.892, val_loss=0.459, val_acc=0.833]\n"
     ]
    },
    {
     "name": "stdout",
     "output_type": "stream",
     "text": [
      "Overfitting detected at epoch 23: Loss Gap = 0.1763\n",
      "Stopping training due to persistent overfitting.\n",
      "Run 144 / 576 with HyperParameters(learning_rate=0.001, kernel_size=2, num_epochs=25, optimise='Adam', loss='binary_crossentropy', num_filter=64, strides=2, padding='same', dropout_rate=0.25, layers=4, default_activation='relu')\n"
     ]
    },
    {
     "name": "stderr",
     "output_type": "stream",
     "text": [
      "Epoch Progress: 100%|██████████| 25/25 [00:51<00:00,  2.06s/epoch, loss=0.394, acc=0.844, val_loss=0.417, val_acc=0.833]\n"
     ]
    },
    {
     "name": "stdout",
     "output_type": "stream",
     "text": [
      "Run 145 / 576 with HyperParameters(learning_rate=0.001, kernel_size=3, num_epochs=10, optimise='Adam', loss='binary_crossentropy', num_filter=16, strides=1, padding='same', dropout_rate=0.1, layers=2, default_activation='relu')\n"
     ]
    },
    {
     "name": "stderr",
     "output_type": "stream",
     "text": [
      "Epoch Progress: 100%|██████████| 10/10 [00:09<00:00,  1.07epoch/s, loss=0.453, acc=0.786, val_loss=0.463, val_acc=0.885]\n"
     ]
    },
    {
     "name": "stdout",
     "output_type": "stream",
     "text": [
      "Run 146 / 576 with HyperParameters(learning_rate=0.001, kernel_size=3, num_epochs=10, optimise='Adam', loss='binary_crossentropy', num_filter=16, strides=2, padding='same', dropout_rate=0.1, layers=2, default_activation='relu')\n"
     ]
    },
    {
     "name": "stderr",
     "output_type": "stream",
     "text": [
      "Epoch Progress: 100%|██████████| 10/10 [00:06<00:00,  1.57epoch/s, loss=0.553, acc=0.731, val_loss=0.562, val_acc=0.731]\n"
     ]
    },
    {
     "name": "stdout",
     "output_type": "stream",
     "text": [
      "Run 147 / 576 with HyperParameters(learning_rate=0.001, kernel_size=3, num_epochs=10, optimise='Adam', loss='binary_crossentropy', num_filter=16, strides=1, padding='same', dropout_rate=0.25, layers=2, default_activation='relu')\n"
     ]
    },
    {
     "name": "stderr",
     "output_type": "stream",
     "text": [
      "Epoch Progress: 100%|██████████| 10/10 [00:09<00:00,  1.02epoch/s, loss=0.496, acc=0.74, val_loss=0.541, val_acc=0.833]\n"
     ]
    },
    {
     "name": "stdout",
     "output_type": "stream",
     "text": [
      "Run 148 / 576 with HyperParameters(learning_rate=0.001, kernel_size=3, num_epochs=10, optimise='Adam', loss='binary_crossentropy', num_filter=16, strides=2, padding='same', dropout_rate=0.25, layers=2, default_activation='relu')\n"
     ]
    },
    {
     "name": "stderr",
     "output_type": "stream",
     "text": [
      "Epoch Progress: 100%|██████████| 10/10 [00:06<00:00,  1.66epoch/s, loss=0.535, acc=0.729, val_loss=0.548, val_acc=0.731]\n"
     ]
    },
    {
     "name": "stdout",
     "output_type": "stream",
     "text": [
      "Run 149 / 576 with HyperParameters(learning_rate=0.001, kernel_size=3, num_epochs=10, optimise='Adam', loss='binary_crossentropy', num_filter=16, strides=1, padding='same', dropout_rate=0.1, layers=3, default_activation='relu')\n"
     ]
    },
    {
     "name": "stderr",
     "output_type": "stream",
     "text": [
      "Epoch Progress: 100%|██████████| 10/10 [00:12<00:00,  1.21s/epoch, loss=0.468, acc=0.789, val_loss=0.441, val_acc=0.846]\n"
     ]
    },
    {
     "name": "stdout",
     "output_type": "stream",
     "text": [
      "Run 150 / 576 with HyperParameters(learning_rate=0.001, kernel_size=3, num_epochs=10, optimise='Adam', loss='binary_crossentropy', num_filter=16, strides=2, padding='same', dropout_rate=0.1, layers=3, default_activation='relu')\n"
     ]
    },
    {
     "name": "stderr",
     "output_type": "stream",
     "text": [
      "Epoch Progress: 100%|██████████| 10/10 [00:06<00:00,  1.55epoch/s, loss=0.544, acc=0.733, val_loss=0.547, val_acc=0.731]\n"
     ]
    },
    {
     "name": "stdout",
     "output_type": "stream",
     "text": [
      "Run 151 / 576 with HyperParameters(learning_rate=0.001, kernel_size=3, num_epochs=10, optimise='Adam', loss='binary_crossentropy', num_filter=16, strides=1, padding='same', dropout_rate=0.25, layers=3, default_activation='relu')\n"
     ]
    },
    {
     "name": "stderr",
     "output_type": "stream",
     "text": [
      "Epoch Progress: 100%|██████████| 10/10 [00:20<00:00,  2.07s/epoch, loss=0.484, acc=0.733, val_loss=0.506, val_acc=0.731]\n"
     ]
    },
    {
     "name": "stdout",
     "output_type": "stream",
     "text": [
      "Run 152 / 576 with HyperParameters(learning_rate=0.001, kernel_size=3, num_epochs=10, optimise='Adam', loss='binary_crossentropy', num_filter=16, strides=2, padding='same', dropout_rate=0.25, layers=3, default_activation='relu')\n"
     ]
    },
    {
     "name": "stderr",
     "output_type": "stream",
     "text": [
      "Epoch Progress: 100%|██████████| 10/10 [00:10<00:00,  1.06s/epoch, loss=0.537, acc=0.733, val_loss=0.555, val_acc=0.731]\n"
     ]
    },
    {
     "name": "stdout",
     "output_type": "stream",
     "text": [
      "Run 153 / 576 with HyperParameters(learning_rate=0.001, kernel_size=3, num_epochs=10, optimise='Adam', loss='binary_crossentropy', num_filter=16, strides=1, padding='same', dropout_rate=0.1, layers=4, default_activation='relu')\n"
     ]
    },
    {
     "name": "stderr",
     "output_type": "stream",
     "text": [
      "Epoch Progress: 100%|██████████| 10/10 [00:21<00:00,  2.18s/epoch, loss=0.465, acc=0.804, val_loss=0.427, val_acc=0.872]\n"
     ]
    },
    {
     "name": "stdout",
     "output_type": "stream",
     "text": [
      "Run 154 / 576 with HyperParameters(learning_rate=0.001, kernel_size=3, num_epochs=10, optimise='Adam', loss='binary_crossentropy', num_filter=16, strides=2, padding='same', dropout_rate=0.1, layers=4, default_activation='relu')\n"
     ]
    },
    {
     "name": "stderr",
     "output_type": "stream",
     "text": [
      "Epoch Progress: 100%|██████████| 10/10 [00:10<00:00,  1.06s/epoch, loss=0.538, acc=0.736, val_loss=0.545, val_acc=0.744]\n"
     ]
    },
    {
     "name": "stdout",
     "output_type": "stream",
     "text": [
      "Run 155 / 576 with HyperParameters(learning_rate=0.001, kernel_size=3, num_epochs=10, optimise='Adam', loss='binary_crossentropy', num_filter=16, strides=1, padding='same', dropout_rate=0.25, layers=4, default_activation='relu')\n"
     ]
    },
    {
     "name": "stderr",
     "output_type": "stream",
     "text": [
      "Epoch Progress: 100%|██████████| 10/10 [00:19<00:00,  1.93s/epoch, loss=0.498, acc=0.745, val_loss=0.501, val_acc=0.808]\n"
     ]
    },
    {
     "name": "stdout",
     "output_type": "stream",
     "text": [
      "Run 156 / 576 with HyperParameters(learning_rate=0.001, kernel_size=3, num_epochs=10, optimise='Adam', loss='binary_crossentropy', num_filter=16, strides=2, padding='same', dropout_rate=0.25, layers=4, default_activation='relu')\n"
     ]
    },
    {
     "name": "stderr",
     "output_type": "stream",
     "text": [
      "Epoch Progress: 100%|██████████| 10/10 [00:09<00:00,  1.02epoch/s, loss=0.553, acc=0.731, val_loss=0.551, val_acc=0.731]\n"
     ]
    },
    {
     "name": "stdout",
     "output_type": "stream",
     "text": [
      "Run 157 / 576 with HyperParameters(learning_rate=0.001, kernel_size=3, num_epochs=10, optimise='Adam', loss='binary_crossentropy', num_filter=32, strides=1, padding='same', dropout_rate=0.1, layers=2, default_activation='relu')\n"
     ]
    },
    {
     "name": "stderr",
     "output_type": "stream",
     "text": [
      "Epoch Progress: 100%|██████████| 10/10 [00:25<00:00,  2.56s/epoch, loss=0.471, acc=0.788, val_loss=0.459, val_acc=0.833]\n"
     ]
    },
    {
     "name": "stdout",
     "output_type": "stream",
     "text": [
      "Run 158 / 576 with HyperParameters(learning_rate=0.001, kernel_size=3, num_epochs=10, optimise='Adam', loss='binary_crossentropy', num_filter=32, strides=2, padding='same', dropout_rate=0.1, layers=2, default_activation='relu')\n"
     ]
    },
    {
     "name": "stderr",
     "output_type": "stream",
     "text": [
      "Epoch Progress: 100%|██████████| 10/10 [00:15<00:00,  1.58s/epoch, loss=0.513, acc=0.762, val_loss=0.512, val_acc=0.731]\n"
     ]
    },
    {
     "name": "stdout",
     "output_type": "stream",
     "text": [
      "Run 159 / 576 with HyperParameters(learning_rate=0.001, kernel_size=3, num_epochs=10, optimise='Adam', loss='binary_crossentropy', num_filter=32, strides=1, padding='same', dropout_rate=0.25, layers=2, default_activation='relu')\n"
     ]
    },
    {
     "name": "stderr",
     "output_type": "stream",
     "text": [
      "Epoch Progress: 100%|██████████| 10/10 [00:23<00:00,  2.38s/epoch, loss=0.422, acc=0.811, val_loss=0.413, val_acc=0.859]\n"
     ]
    },
    {
     "name": "stdout",
     "output_type": "stream",
     "text": [
      "Run 160 / 576 with HyperParameters(learning_rate=0.001, kernel_size=3, num_epochs=10, optimise='Adam', loss='binary_crossentropy', num_filter=32, strides=2, padding='same', dropout_rate=0.25, layers=2, default_activation='relu')\n"
     ]
    },
    {
     "name": "stderr",
     "output_type": "stream",
     "text": [
      "Epoch Progress: 100%|██████████| 10/10 [00:14<00:00,  1.43s/epoch, loss=0.52, acc=0.734, val_loss=0.527, val_acc=0.731] \n"
     ]
    },
    {
     "name": "stdout",
     "output_type": "stream",
     "text": [
      "Run 161 / 576 with HyperParameters(learning_rate=0.001, kernel_size=3, num_epochs=10, optimise='Adam', loss='binary_crossentropy', num_filter=32, strides=1, padding='same', dropout_rate=0.1, layers=3, default_activation='relu')\n"
     ]
    },
    {
     "name": "stderr",
     "output_type": "stream",
     "text": [
      "Epoch Progress: 100%|██████████| 10/10 [00:26<00:00,  2.65s/epoch, loss=0.48, acc=0.78, val_loss=0.466, val_acc=0.795] \n"
     ]
    },
    {
     "name": "stdout",
     "output_type": "stream",
     "text": [
      "Run 162 / 576 with HyperParameters(learning_rate=0.001, kernel_size=3, num_epochs=10, optimise='Adam', loss='binary_crossentropy', num_filter=32, strides=2, padding='same', dropout_rate=0.1, layers=3, default_activation='relu')\n"
     ]
    },
    {
     "name": "stderr",
     "output_type": "stream",
     "text": [
      "Epoch Progress: 100%|██████████| 10/10 [00:13<00:00,  1.37s/epoch, loss=0.526, acc=0.733, val_loss=0.53, val_acc=0.756] \n"
     ]
    },
    {
     "name": "stdout",
     "output_type": "stream",
     "text": [
      "Run 163 / 576 with HyperParameters(learning_rate=0.001, kernel_size=3, num_epochs=10, optimise='Adam', loss='binary_crossentropy', num_filter=32, strides=1, padding='same', dropout_rate=0.25, layers=3, default_activation='relu')\n"
     ]
    },
    {
     "name": "stderr",
     "output_type": "stream",
     "text": [
      "Epoch Progress: 100%|██████████| 10/10 [00:24<00:00,  2.41s/epoch, loss=0.467, acc=0.773, val_loss=0.501, val_acc=0.769]\n"
     ]
    },
    {
     "name": "stdout",
     "output_type": "stream",
     "text": [
      "Run 164 / 576 with HyperParameters(learning_rate=0.001, kernel_size=3, num_epochs=10, optimise='Adam', loss='binary_crossentropy', num_filter=32, strides=2, padding='same', dropout_rate=0.25, layers=3, default_activation='relu')\n"
     ]
    },
    {
     "name": "stderr",
     "output_type": "stream",
     "text": [
      "Epoch Progress: 100%|██████████| 10/10 [00:15<00:00,  1.55s/epoch, loss=0.532, acc=0.733, val_loss=0.535, val_acc=0.769]\n"
     ]
    },
    {
     "name": "stdout",
     "output_type": "stream",
     "text": [
      "Run 165 / 576 with HyperParameters(learning_rate=0.001, kernel_size=3, num_epochs=10, optimise='Adam', loss='binary_crossentropy', num_filter=32, strides=1, padding='same', dropout_rate=0.1, layers=4, default_activation='relu')\n"
     ]
    },
    {
     "name": "stderr",
     "output_type": "stream",
     "text": [
      "Epoch Progress: 100%|██████████| 10/10 [00:40<00:00,  4.05s/epoch, loss=0.473, acc=0.767, val_loss=0.42, val_acc=0.846] \n"
     ]
    },
    {
     "name": "stdout",
     "output_type": "stream",
     "text": [
      "Run 166 / 576 with HyperParameters(learning_rate=0.001, kernel_size=3, num_epochs=10, optimise='Adam', loss='binary_crossentropy', num_filter=32, strides=2, padding='same', dropout_rate=0.1, layers=4, default_activation='relu')\n"
     ]
    },
    {
     "name": "stderr",
     "output_type": "stream",
     "text": [
      "Epoch Progress: 100%|██████████| 10/10 [00:19<00:00,  1.94s/epoch, loss=0.539, acc=0.731, val_loss=0.546, val_acc=0.731]\n"
     ]
    },
    {
     "name": "stdout",
     "output_type": "stream",
     "text": [
      "Run 167 / 576 with HyperParameters(learning_rate=0.001, kernel_size=3, num_epochs=10, optimise='Adam', loss='binary_crossentropy', num_filter=32, strides=1, padding='same', dropout_rate=0.25, layers=4, default_activation='relu')\n"
     ]
    },
    {
     "name": "stderr",
     "output_type": "stream",
     "text": [
      "Epoch Progress: 100%|██████████| 10/10 [00:39<00:00,  3.93s/epoch, loss=0.494, acc=0.74, val_loss=0.5, val_acc=0.769]   \n"
     ]
    },
    {
     "name": "stdout",
     "output_type": "stream",
     "text": [
      "Run 168 / 576 with HyperParameters(learning_rate=0.001, kernel_size=3, num_epochs=10, optimise='Adam', loss='binary_crossentropy', num_filter=32, strides=2, padding='same', dropout_rate=0.25, layers=4, default_activation='relu')\n"
     ]
    },
    {
     "name": "stderr",
     "output_type": "stream",
     "text": [
      "Epoch Progress: 100%|██████████| 10/10 [00:15<00:00,  1.54s/epoch, loss=0.543, acc=0.731, val_loss=0.549, val_acc=0.731]\n"
     ]
    },
    {
     "name": "stdout",
     "output_type": "stream",
     "text": [
      "Run 169 / 576 with HyperParameters(learning_rate=0.001, kernel_size=3, num_epochs=10, optimise='Adam', loss='binary_crossentropy', num_filter=64, strides=1, padding='same', dropout_rate=0.1, layers=2, default_activation='relu')\n"
     ]
    },
    {
     "name": "stderr",
     "output_type": "stream",
     "text": [
      "Epoch Progress: 100%|██████████| 10/10 [00:54<00:00,  5.44s/epoch, loss=0.467, acc=0.8, val_loss=0.463, val_acc=0.795]  \n"
     ]
    },
    {
     "name": "stdout",
     "output_type": "stream",
     "text": [
      "Run 170 / 576 with HyperParameters(learning_rate=0.001, kernel_size=3, num_epochs=10, optimise='Adam', loss='binary_crossentropy', num_filter=64, strides=2, padding='same', dropout_rate=0.1, layers=2, default_activation='relu')\n"
     ]
    },
    {
     "name": "stderr",
     "output_type": "stream",
     "text": [
      "Epoch Progress: 100%|██████████| 10/10 [00:32<00:00,  3.26s/epoch, loss=0.481, acc=0.767, val_loss=0.46, val_acc=0.769] \n"
     ]
    },
    {
     "name": "stdout",
     "output_type": "stream",
     "text": [
      "Run 171 / 576 with HyperParameters(learning_rate=0.001, kernel_size=3, num_epochs=10, optimise='Adam', loss='binary_crossentropy', num_filter=64, strides=1, padding='same', dropout_rate=0.25, layers=2, default_activation='relu')\n"
     ]
    },
    {
     "name": "stderr",
     "output_type": "stream",
     "text": [
      "Epoch Progress: 100%|██████████| 10/10 [00:50<00:00,  5.05s/epoch, loss=0.506, acc=0.734, val_loss=0.522, val_acc=0.744]\n"
     ]
    },
    {
     "name": "stdout",
     "output_type": "stream",
     "text": [
      "Run 172 / 576 with HyperParameters(learning_rate=0.001, kernel_size=3, num_epochs=10, optimise='Adam', loss='binary_crossentropy', num_filter=64, strides=2, padding='same', dropout_rate=0.25, layers=2, default_activation='relu')\n"
     ]
    },
    {
     "name": "stderr",
     "output_type": "stream",
     "text": [
      "Epoch Progress: 100%|██████████| 10/10 [00:31<00:00,  3.15s/epoch, loss=0.505, acc=0.755, val_loss=0.5, val_acc=0.795]  \n"
     ]
    },
    {
     "name": "stdout",
     "output_type": "stream",
     "text": [
      "Run 173 / 576 with HyperParameters(learning_rate=0.001, kernel_size=3, num_epochs=10, optimise='Adam', loss='binary_crossentropy', num_filter=64, strides=1, padding='same', dropout_rate=0.1, layers=3, default_activation='relu')\n"
     ]
    },
    {
     "name": "stderr",
     "output_type": "stream",
     "text": [
      "Epoch Progress: 100%|██████████| 10/10 [01:02<00:00,  6.24s/epoch, loss=0.478, acc=0.793, val_loss=0.464, val_acc=0.833]\n"
     ]
    },
    {
     "name": "stdout",
     "output_type": "stream",
     "text": [
      "Run 174 / 576 with HyperParameters(learning_rate=0.001, kernel_size=3, num_epochs=10, optimise='Adam', loss='binary_crossentropy', num_filter=64, strides=2, padding='same', dropout_rate=0.1, layers=3, default_activation='relu')\n"
     ]
    },
    {
     "name": "stderr",
     "output_type": "stream",
     "text": [
      "Epoch Progress: 100%|██████████| 10/10 [00:33<00:00,  3.32s/epoch, loss=0.499, acc=0.78, val_loss=0.493, val_acc=0.769] \n"
     ]
    },
    {
     "name": "stdout",
     "output_type": "stream",
     "text": [
      "Run 175 / 576 with HyperParameters(learning_rate=0.001, kernel_size=3, num_epochs=10, optimise='Adam', loss='binary_crossentropy', num_filter=64, strides=1, padding='same', dropout_rate=0.25, layers=3, default_activation='relu')\n"
     ]
    },
    {
     "name": "stderr",
     "output_type": "stream",
     "text": [
      "Epoch Progress: 100%|██████████| 10/10 [01:03<00:00,  6.31s/epoch, loss=0.515, acc=0.758, val_loss=0.523, val_acc=0.731]\n"
     ]
    },
    {
     "name": "stdout",
     "output_type": "stream",
     "text": [
      "Run 176 / 576 with HyperParameters(learning_rate=0.001, kernel_size=3, num_epochs=10, optimise='Adam', loss='binary_crossentropy', num_filter=64, strides=2, padding='same', dropout_rate=0.25, layers=3, default_activation='relu')\n"
     ]
    },
    {
     "name": "stderr",
     "output_type": "stream",
     "text": [
      "Epoch Progress: 100%|██████████| 10/10 [00:31<00:00,  3.17s/epoch, loss=0.518, acc=0.742, val_loss=0.515, val_acc=0.782]\n"
     ]
    },
    {
     "name": "stdout",
     "output_type": "stream",
     "text": [
      "Run 177 / 576 with HyperParameters(learning_rate=0.001, kernel_size=3, num_epochs=10, optimise='Adam', loss='binary_crossentropy', num_filter=64, strides=1, padding='same', dropout_rate=0.1, layers=4, default_activation='relu')\n"
     ]
    },
    {
     "name": "stderr",
     "output_type": "stream",
     "text": [
      "Epoch Progress: 100%|██████████| 10/10 [02:47<00:00, 16.70s/epoch, loss=0.498, acc=0.766, val_loss=0.488, val_acc=0.821]\n"
     ]
    },
    {
     "name": "stdout",
     "output_type": "stream",
     "text": [
      "Run 178 / 576 with HyperParameters(learning_rate=0.001, kernel_size=3, num_epochs=10, optimise='Adam', loss='binary_crossentropy', num_filter=64, strides=2, padding='same', dropout_rate=0.1, layers=4, default_activation='relu')\n"
     ]
    },
    {
     "name": "stderr",
     "output_type": "stream",
     "text": [
      "Epoch Progress: 100%|██████████| 10/10 [01:11<00:00,  7.11s/epoch, loss=0.508, acc=0.766, val_loss=0.52, val_acc=0.769] \n"
     ]
    },
    {
     "name": "stdout",
     "output_type": "stream",
     "text": [
      "Run 179 / 576 with HyperParameters(learning_rate=0.001, kernel_size=3, num_epochs=10, optimise='Adam', loss='binary_crossentropy', num_filter=64, strides=1, padding='same', dropout_rate=0.25, layers=4, default_activation='relu')\n"
     ]
    },
    {
     "name": "stderr",
     "output_type": "stream",
     "text": [
      "Epoch Progress: 100%|██████████| 10/10 [02:43<00:00, 16.32s/epoch, loss=0.519, acc=0.738, val_loss=0.506, val_acc=0.769]\n"
     ]
    },
    {
     "name": "stdout",
     "output_type": "stream",
     "text": [
      "Run 180 / 576 with HyperParameters(learning_rate=0.001, kernel_size=3, num_epochs=10, optimise='Adam', loss='binary_crossentropy', num_filter=64, strides=2, padding='same', dropout_rate=0.25, layers=4, default_activation='relu')\n"
     ]
    },
    {
     "name": "stderr",
     "output_type": "stream",
     "text": [
      "Epoch Progress: 100%|██████████| 10/10 [01:09<00:00,  6.92s/epoch, loss=0.522, acc=0.744, val_loss=0.529, val_acc=0.731]\n"
     ]
    },
    {
     "name": "stdout",
     "output_type": "stream",
     "text": [
      "Run 181 / 576 with HyperParameters(learning_rate=0.001, kernel_size=3, num_epochs=15, optimise='Adam', loss='binary_crossentropy', num_filter=16, strides=1, padding='same', dropout_rate=0.1, layers=2, default_activation='relu')\n"
     ]
    },
    {
     "name": "stderr",
     "output_type": "stream",
     "text": [
      "Epoch Progress: 100%|██████████| 15/15 [00:20<00:00,  1.36s/epoch, loss=0.365, acc=0.846, val_loss=0.429, val_acc=0.808]\n"
     ]
    },
    {
     "name": "stdout",
     "output_type": "stream",
     "text": [
      "Run 182 / 576 with HyperParameters(learning_rate=0.001, kernel_size=3, num_epochs=15, optimise='Adam', loss='binary_crossentropy', num_filter=16, strides=2, padding='same', dropout_rate=0.1, layers=2, default_activation='relu')\n"
     ]
    },
    {
     "name": "stderr",
     "output_type": "stream",
     "text": [
      "Epoch Progress: 100%|██████████| 15/15 [00:13<00:00,  1.11epoch/s, loss=0.49, acc=0.771, val_loss=0.464, val_acc=0.821] \n"
     ]
    },
    {
     "name": "stdout",
     "output_type": "stream",
     "text": [
      "Run 183 / 576 with HyperParameters(learning_rate=0.001, kernel_size=3, num_epochs=15, optimise='Adam', loss='binary_crossentropy', num_filter=16, strides=1, padding='same', dropout_rate=0.25, layers=2, default_activation='relu')\n"
     ]
    },
    {
     "name": "stderr",
     "output_type": "stream",
     "text": [
      "Epoch Progress: 100%|██████████| 15/15 [00:19<00:00,  1.32s/epoch, loss=0.405, acc=0.822, val_loss=0.453, val_acc=0.859]\n"
     ]
    },
    {
     "name": "stdout",
     "output_type": "stream",
     "text": [
      "Run 184 / 576 with HyperParameters(learning_rate=0.001, kernel_size=3, num_epochs=15, optimise='Adam', loss='binary_crossentropy', num_filter=16, strides=2, padding='same', dropout_rate=0.25, layers=2, default_activation='relu')\n"
     ]
    },
    {
     "name": "stderr",
     "output_type": "stream",
     "text": [
      "Epoch Progress: 100%|██████████| 15/15 [00:12<00:00,  1.16epoch/s, loss=0.522, acc=0.742, val_loss=0.525, val_acc=0.744]\n"
     ]
    },
    {
     "name": "stdout",
     "output_type": "stream",
     "text": [
      "Run 185 / 576 with HyperParameters(learning_rate=0.001, kernel_size=3, num_epochs=15, optimise='Adam', loss='binary_crossentropy', num_filter=16, strides=1, padding='same', dropout_rate=0.1, layers=3, default_activation='relu')\n"
     ]
    },
    {
     "name": "stderr",
     "output_type": "stream",
     "text": [
      "Epoch Progress: 100%|██████████| 15/15 [00:22<00:00,  1.49s/epoch, loss=0.359, acc=0.833, val_loss=0.378, val_acc=0.859]\n"
     ]
    },
    {
     "name": "stdout",
     "output_type": "stream",
     "text": [
      "Run 186 / 576 with HyperParameters(learning_rate=0.001, kernel_size=3, num_epochs=15, optimise='Adam', loss='binary_crossentropy', num_filter=16, strides=2, padding='same', dropout_rate=0.1, layers=3, default_activation='relu')\n"
     ]
    },
    {
     "name": "stderr",
     "output_type": "stream",
     "text": [
      "Epoch Progress: 100%|██████████| 15/15 [00:11<00:00,  1.33epoch/s, loss=0.506, acc=0.747, val_loss=0.511, val_acc=0.731]\n"
     ]
    },
    {
     "name": "stdout",
     "output_type": "stream",
     "text": [
      "Run 187 / 576 with HyperParameters(learning_rate=0.001, kernel_size=3, num_epochs=15, optimise='Adam', loss='binary_crossentropy', num_filter=16, strides=1, padding='same', dropout_rate=0.25, layers=3, default_activation='relu')\n"
     ]
    },
    {
     "name": "stderr",
     "output_type": "stream",
     "text": [
      "Epoch Progress: 100%|██████████| 15/15 [00:19<00:00,  1.33s/epoch, loss=0.402, acc=0.815, val_loss=0.446, val_acc=0.833]\n"
     ]
    },
    {
     "name": "stdout",
     "output_type": "stream",
     "text": [
      "Run 188 / 576 with HyperParameters(learning_rate=0.001, kernel_size=3, num_epochs=15, optimise='Adam', loss='binary_crossentropy', num_filter=16, strides=2, padding='same', dropout_rate=0.25, layers=3, default_activation='relu')\n"
     ]
    },
    {
     "name": "stderr",
     "output_type": "stream",
     "text": [
      "Epoch Progress: 100%|██████████| 15/15 [00:09<00:00,  1.55epoch/s, loss=0.516, acc=0.729, val_loss=0.531, val_acc=0.769]\n"
     ]
    },
    {
     "name": "stdout",
     "output_type": "stream",
     "text": [
      "Run 189 / 576 with HyperParameters(learning_rate=0.001, kernel_size=3, num_epochs=15, optimise='Adam', loss='binary_crossentropy', num_filter=16, strides=1, padding='same', dropout_rate=0.1, layers=4, default_activation='relu')\n"
     ]
    },
    {
     "name": "stderr",
     "output_type": "stream",
     "text": [
      "Epoch Progress: 100%|██████████| 15/15 [00:22<00:00,  1.47s/epoch, loss=0.388, acc=0.817, val_loss=0.431, val_acc=0.833]\n"
     ]
    },
    {
     "name": "stdout",
     "output_type": "stream",
     "text": [
      "Run 190 / 576 with HyperParameters(learning_rate=0.001, kernel_size=3, num_epochs=15, optimise='Adam', loss='binary_crossentropy', num_filter=16, strides=2, padding='same', dropout_rate=0.1, layers=4, default_activation='relu')\n"
     ]
    },
    {
     "name": "stderr",
     "output_type": "stream",
     "text": [
      "Epoch Progress: 100%|██████████| 15/15 [00:09<00:00,  1.52epoch/s, loss=0.5, acc=0.767, val_loss=0.486, val_acc=0.769]  \n"
     ]
    },
    {
     "name": "stdout",
     "output_type": "stream",
     "text": [
      "Run 191 / 576 with HyperParameters(learning_rate=0.001, kernel_size=3, num_epochs=15, optimise='Adam', loss='binary_crossentropy', num_filter=16, strides=1, padding='same', dropout_rate=0.25, layers=4, default_activation='relu')\n"
     ]
    },
    {
     "name": "stderr",
     "output_type": "stream",
     "text": [
      "Epoch Progress: 100%|██████████| 15/15 [00:21<00:00,  1.41s/epoch, loss=0.471, acc=0.795, val_loss=0.463, val_acc=0.833]\n"
     ]
    },
    {
     "name": "stdout",
     "output_type": "stream",
     "text": [
      "Run 192 / 576 with HyperParameters(learning_rate=0.001, kernel_size=3, num_epochs=15, optimise='Adam', loss='binary_crossentropy', num_filter=16, strides=2, padding='same', dropout_rate=0.25, layers=4, default_activation='relu')\n"
     ]
    },
    {
     "name": "stderr",
     "output_type": "stream",
     "text": [
      "Epoch Progress: 100%|██████████| 15/15 [00:09<00:00,  1.56epoch/s, loss=0.509, acc=0.762, val_loss=0.507, val_acc=0.756]\n"
     ]
    },
    {
     "name": "stdout",
     "output_type": "stream",
     "text": [
      "Run 193 / 576 with HyperParameters(learning_rate=0.001, kernel_size=3, num_epochs=15, optimise='Adam', loss='binary_crossentropy', num_filter=32, strides=1, padding='same', dropout_rate=0.1, layers=2, default_activation='relu')\n"
     ]
    },
    {
     "name": "stderr",
     "output_type": "stream",
     "text": [
      "Epoch Progress: 100%|██████████| 15/15 [00:27<00:00,  1.83s/epoch, loss=0.396, acc=0.826, val_loss=0.42, val_acc=0.872] \n"
     ]
    },
    {
     "name": "stdout",
     "output_type": "stream",
     "text": [
      "Run 194 / 576 with HyperParameters(learning_rate=0.001, kernel_size=3, num_epochs=15, optimise='Adam', loss='binary_crossentropy', num_filter=32, strides=2, padding='same', dropout_rate=0.1, layers=2, default_activation='relu')\n"
     ]
    },
    {
     "name": "stderr",
     "output_type": "stream",
     "text": [
      "Epoch Progress: 100%|██████████| 15/15 [00:17<00:00,  1.15s/epoch, loss=0.449, acc=0.806, val_loss=0.424, val_acc=0.872]\n"
     ]
    },
    {
     "name": "stdout",
     "output_type": "stream",
     "text": [
      "Run 195 / 576 with HyperParameters(learning_rate=0.001, kernel_size=3, num_epochs=15, optimise='Adam', loss='binary_crossentropy', num_filter=32, strides=1, padding='same', dropout_rate=0.25, layers=2, default_activation='relu')\n"
     ]
    },
    {
     "name": "stderr",
     "output_type": "stream",
     "text": [
      "Epoch Progress: 100%|██████████| 15/15 [00:27<00:00,  1.82s/epoch, loss=0.443, acc=0.802, val_loss=0.438, val_acc=0.833]\n"
     ]
    },
    {
     "name": "stdout",
     "output_type": "stream",
     "text": [
      "Run 196 / 576 with HyperParameters(learning_rate=0.001, kernel_size=3, num_epochs=15, optimise='Adam', loss='binary_crossentropy', num_filter=32, strides=2, padding='same', dropout_rate=0.25, layers=2, default_activation='relu')\n"
     ]
    },
    {
     "name": "stderr",
     "output_type": "stream",
     "text": [
      "Epoch Progress: 100%|██████████| 15/15 [00:17<00:00,  1.19s/epoch, loss=0.503, acc=0.749, val_loss=0.503, val_acc=0.782]\n"
     ]
    },
    {
     "name": "stdout",
     "output_type": "stream",
     "text": [
      "Run 197 / 576 with HyperParameters(learning_rate=0.001, kernel_size=3, num_epochs=15, optimise='Adam', loss='binary_crossentropy', num_filter=32, strides=1, padding='same', dropout_rate=0.1, layers=3, default_activation='relu')\n"
     ]
    },
    {
     "name": "stderr",
     "output_type": "stream",
     "text": [
      "Epoch Progress:  93%|█████████▎| 14/15 [00:31<00:02,  2.18s/epoch, loss=0.344, acc=0.855, val_loss=0.484, val_acc=0.846]"
     ]
    },
    {
     "name": "stdout",
     "output_type": "stream",
     "text": [
      "Overfitting detected at epoch 14: Loss Gap = 0.1406\n"
     ]
    },
    {
     "name": "stderr",
     "output_type": "stream",
     "text": [
      "Epoch Progress: 100%|██████████| 15/15 [00:33<00:00,  2.26s/epoch, loss=0.374, acc=0.821, val_loss=0.404, val_acc=0.821]\n"
     ]
    },
    {
     "name": "stdout",
     "output_type": "stream",
     "text": [
      "Run 198 / 576 with HyperParameters(learning_rate=0.001, kernel_size=3, num_epochs=15, optimise='Adam', loss='binary_crossentropy', num_filter=32, strides=2, padding='same', dropout_rate=0.1, layers=3, default_activation='relu')\n"
     ]
    },
    {
     "name": "stderr",
     "output_type": "stream",
     "text": [
      "Epoch Progress: 100%|██████████| 15/15 [00:18<00:00,  1.25s/epoch, loss=0.495, acc=0.769, val_loss=0.498, val_acc=0.769]\n"
     ]
    },
    {
     "name": "stdout",
     "output_type": "stream",
     "text": [
      "Run 199 / 576 with HyperParameters(learning_rate=0.001, kernel_size=3, num_epochs=15, optimise='Adam', loss='binary_crossentropy', num_filter=32, strides=1, padding='same', dropout_rate=0.25, layers=3, default_activation='relu')\n"
     ]
    },
    {
     "name": "stderr",
     "output_type": "stream",
     "text": [
      "Epoch Progress: 100%|██████████| 15/15 [00:35<00:00,  2.35s/epoch, loss=0.416, acc=0.819, val_loss=0.418, val_acc=0.821]\n"
     ]
    },
    {
     "name": "stdout",
     "output_type": "stream",
     "text": [
      "Run 200 / 576 with HyperParameters(learning_rate=0.001, kernel_size=3, num_epochs=15, optimise='Adam', loss='binary_crossentropy', num_filter=32, strides=2, padding='same', dropout_rate=0.25, layers=3, default_activation='relu')\n"
     ]
    },
    {
     "name": "stderr",
     "output_type": "stream",
     "text": [
      "Epoch Progress: 100%|██████████| 15/15 [00:18<00:00,  1.23s/epoch, loss=0.504, acc=0.747, val_loss=0.517, val_acc=0.769]\n"
     ]
    },
    {
     "name": "stdout",
     "output_type": "stream",
     "text": [
      "Run 201 / 576 with HyperParameters(learning_rate=0.001, kernel_size=3, num_epochs=15, optimise='Adam', loss='binary_crossentropy', num_filter=32, strides=1, padding='same', dropout_rate=0.1, layers=4, default_activation='relu')\n"
     ]
    },
    {
     "name": "stderr",
     "output_type": "stream",
     "text": [
      "Epoch Progress:  93%|█████████▎| 14/15 [00:43<00:02,  2.98s/epoch, loss=0.374, acc=0.85, val_loss=0.481, val_acc=0.859] "
     ]
    },
    {
     "name": "stdout",
     "output_type": "stream",
     "text": [
      "Overfitting detected at epoch 14: Loss Gap = 0.1068\n"
     ]
    },
    {
     "name": "stderr",
     "output_type": "stream",
     "text": [
      "Epoch Progress: 100%|██████████| 15/15 [00:46<00:00,  3.08s/epoch, loss=0.327, acc=0.857, val_loss=0.585, val_acc=0.833]\n"
     ]
    },
    {
     "name": "stdout",
     "output_type": "stream",
     "text": [
      "Overfitting detected at epoch 15: Loss Gap = 0.2575\n",
      "Run 202 / 576 with HyperParameters(learning_rate=0.001, kernel_size=3, num_epochs=15, optimise='Adam', loss='binary_crossentropy', num_filter=32, strides=2, padding='same', dropout_rate=0.1, layers=4, default_activation='relu')\n"
     ]
    },
    {
     "name": "stderr",
     "output_type": "stream",
     "text": [
      "Epoch Progress: 100%|██████████| 15/15 [00:19<00:00,  1.33s/epoch, loss=0.481, acc=0.78, val_loss=0.472, val_acc=0.795] \n"
     ]
    },
    {
     "name": "stdout",
     "output_type": "stream",
     "text": [
      "Run 203 / 576 with HyperParameters(learning_rate=0.001, kernel_size=3, num_epochs=15, optimise='Adam', loss='binary_crossentropy', num_filter=32, strides=1, padding='same', dropout_rate=0.25, layers=4, default_activation='relu')\n"
     ]
    },
    {
     "name": "stderr",
     "output_type": "stream",
     "text": [
      "Epoch Progress: 100%|██████████| 15/15 [00:44<00:00,  2.94s/epoch, loss=0.449, acc=0.778, val_loss=0.482, val_acc=0.808]\n"
     ]
    },
    {
     "name": "stdout",
     "output_type": "stream",
     "text": [
      "Run 204 / 576 with HyperParameters(learning_rate=0.001, kernel_size=3, num_epochs=15, optimise='Adam', loss='binary_crossentropy', num_filter=32, strides=2, padding='same', dropout_rate=0.25, layers=4, default_activation='relu')\n"
     ]
    },
    {
     "name": "stderr",
     "output_type": "stream",
     "text": [
      "Epoch Progress: 100%|██████████| 15/15 [00:20<00:00,  1.37s/epoch, loss=0.524, acc=0.751, val_loss=0.504, val_acc=0.782]\n"
     ]
    },
    {
     "name": "stdout",
     "output_type": "stream",
     "text": [
      "Run 205 / 576 with HyperParameters(learning_rate=0.001, kernel_size=3, num_epochs=15, optimise='Adam', loss='binary_crossentropy', num_filter=64, strides=1, padding='same', dropout_rate=0.1, layers=2, default_activation='relu')\n"
     ]
    },
    {
     "name": "stderr",
     "output_type": "stream",
     "text": [
      "Epoch Progress: 100%|██████████| 15/15 [02:38<00:00, 10.55s/epoch, loss=0.37, acc=0.841, val_loss=0.412, val_acc=0.846] \n"
     ]
    },
    {
     "name": "stdout",
     "output_type": "stream",
     "text": [
      "Run 206 / 576 with HyperParameters(learning_rate=0.001, kernel_size=3, num_epochs=15, optimise='Adam', loss='binary_crossentropy', num_filter=64, strides=2, padding='same', dropout_rate=0.1, layers=2, default_activation='relu')\n"
     ]
    },
    {
     "name": "stderr",
     "output_type": "stream",
     "text": [
      "Epoch Progress: 100%|██████████| 15/15 [01:33<00:00,  6.26s/epoch, loss=0.4, acc=0.83, val_loss=0.427, val_acc=0.859]   \n"
     ]
    },
    {
     "name": "stdout",
     "output_type": "stream",
     "text": [
      "Run 207 / 576 with HyperParameters(learning_rate=0.001, kernel_size=3, num_epochs=15, optimise='Adam', loss='binary_crossentropy', num_filter=64, strides=1, padding='same', dropout_rate=0.25, layers=2, default_activation='relu')\n"
     ]
    },
    {
     "name": "stderr",
     "output_type": "stream",
     "text": [
      "Epoch Progress: 100%|██████████| 15/15 [02:29<00:00,  9.97s/epoch, loss=0.371, acc=0.842, val_loss=0.447, val_acc=0.846]\n"
     ]
    },
    {
     "name": "stdout",
     "output_type": "stream",
     "text": [
      "Run 208 / 576 with HyperParameters(learning_rate=0.001, kernel_size=3, num_epochs=15, optimise='Adam', loss='binary_crossentropy', num_filter=64, strides=2, padding='same', dropout_rate=0.25, layers=2, default_activation='relu')\n"
     ]
    },
    {
     "name": "stderr",
     "output_type": "stream",
     "text": [
      "Epoch Progress: 100%|██████████| 15/15 [01:35<00:00,  6.39s/epoch, loss=0.413, acc=0.813, val_loss=0.421, val_acc=0.833]\n"
     ]
    },
    {
     "name": "stdout",
     "output_type": "stream",
     "text": [
      "Run 209 / 576 with HyperParameters(learning_rate=0.001, kernel_size=3, num_epochs=15, optimise='Adam', loss='binary_crossentropy', num_filter=64, strides=1, padding='same', dropout_rate=0.1, layers=3, default_activation='relu')\n"
     ]
    },
    {
     "name": "stderr",
     "output_type": "stream",
     "text": [
      "Epoch Progress: 100%|██████████| 15/15 [02:56<00:00, 11.79s/epoch, loss=0.44, acc=0.799, val_loss=0.451, val_acc=0.808] \n"
     ]
    },
    {
     "name": "stdout",
     "output_type": "stream",
     "text": [
      "Run 210 / 576 with HyperParameters(learning_rate=0.001, kernel_size=3, num_epochs=15, optimise='Adam', loss='binary_crossentropy', num_filter=64, strides=2, padding='same', dropout_rate=0.1, layers=3, default_activation='relu')\n"
     ]
    },
    {
     "name": "stderr",
     "output_type": "stream",
     "text": [
      "Epoch Progress: 100%|██████████| 15/15 [01:33<00:00,  6.20s/epoch, loss=0.475, acc=0.78, val_loss=0.44, val_acc=0.821]  \n"
     ]
    },
    {
     "name": "stdout",
     "output_type": "stream",
     "text": [
      "Run 211 / 576 with HyperParameters(learning_rate=0.001, kernel_size=3, num_epochs=15, optimise='Adam', loss='binary_crossentropy', num_filter=64, strides=1, padding='same', dropout_rate=0.25, layers=3, default_activation='relu')\n"
     ]
    },
    {
     "name": "stderr",
     "output_type": "stream",
     "text": [
      "Epoch Progress: 100%|██████████| 15/15 [02:40<00:00, 10.67s/epoch, loss=0.477, acc=0.795, val_loss=0.47, val_acc=0.833] \n"
     ]
    },
    {
     "name": "stdout",
     "output_type": "stream",
     "text": [
      "Run 212 / 576 with HyperParameters(learning_rate=0.001, kernel_size=3, num_epochs=15, optimise='Adam', loss='binary_crossentropy', num_filter=64, strides=2, padding='same', dropout_rate=0.25, layers=3, default_activation='relu')\n"
     ]
    },
    {
     "name": "stderr",
     "output_type": "stream",
     "text": [
      "Epoch Progress: 100%|██████████| 15/15 [01:21<00:00,  5.46s/epoch, loss=0.458, acc=0.78, val_loss=0.467, val_acc=0.808] \n"
     ]
    },
    {
     "name": "stdout",
     "output_type": "stream",
     "text": [
      "Run 213 / 576 with HyperParameters(learning_rate=0.001, kernel_size=3, num_epochs=15, optimise='Adam', loss='binary_crossentropy', num_filter=64, strides=1, padding='same', dropout_rate=0.1, layers=4, default_activation='relu')\n"
     ]
    },
    {
     "name": "stderr",
     "output_type": "stream",
     "text": [
      "Epoch Progress: 100%|██████████| 15/15 [03:23<00:00, 13.54s/epoch, loss=0.453, acc=0.782, val_loss=0.436, val_acc=0.833]\n"
     ]
    },
    {
     "name": "stdout",
     "output_type": "stream",
     "text": [
      "Run 214 / 576 with HyperParameters(learning_rate=0.001, kernel_size=3, num_epochs=15, optimise='Adam', loss='binary_crossentropy', num_filter=64, strides=2, padding='same', dropout_rate=0.1, layers=4, default_activation='relu')\n"
     ]
    },
    {
     "name": "stderr",
     "output_type": "stream",
     "text": [
      "Epoch Progress: 100%|██████████| 15/15 [01:24<00:00,  5.61s/epoch, loss=0.444, acc=0.806, val_loss=0.418, val_acc=0.821]\n"
     ]
    },
    {
     "name": "stdout",
     "output_type": "stream",
     "text": [
      "Run 215 / 576 with HyperParameters(learning_rate=0.001, kernel_size=3, num_epochs=15, optimise='Adam', loss='binary_crossentropy', num_filter=64, strides=1, padding='same', dropout_rate=0.25, layers=4, default_activation='relu')\n"
     ]
    },
    {
     "name": "stderr",
     "output_type": "stream",
     "text": [
      "Epoch Progress: 100%|██████████| 15/15 [03:06<00:00, 12.45s/epoch, loss=0.509, acc=0.753, val_loss=0.505, val_acc=0.769]\n"
     ]
    },
    {
     "name": "stdout",
     "output_type": "stream",
     "text": [
      "Run 216 / 576 with HyperParameters(learning_rate=0.001, kernel_size=3, num_epochs=15, optimise='Adam', loss='binary_crossentropy', num_filter=64, strides=2, padding='same', dropout_rate=0.25, layers=4, default_activation='relu')\n"
     ]
    },
    {
     "name": "stderr",
     "output_type": "stream",
     "text": [
      "Epoch Progress: 100%|██████████| 15/15 [01:13<00:00,  4.88s/epoch, loss=0.473, acc=0.771, val_loss=0.432, val_acc=0.846]\n"
     ]
    },
    {
     "name": "stdout",
     "output_type": "stream",
     "text": [
      "Run 217 / 576 with HyperParameters(learning_rate=0.001, kernel_size=3, num_epochs=20, optimise='Adam', loss='binary_crossentropy', num_filter=16, strides=1, padding='same', dropout_rate=0.1, layers=2, default_activation='relu')\n"
     ]
    },
    {
     "name": "stderr",
     "output_type": "stream",
     "text": [
      "Epoch Progress:  95%|█████████▌| 19/20 [00:19<00:01,  1.02s/epoch, loss=0.342, acc=0.855, val_loss=0.447, val_acc=0.833]"
     ]
    },
    {
     "name": "stdout",
     "output_type": "stream",
     "text": [
      "Overfitting detected at epoch 19: Loss Gap = 0.1045\n"
     ]
    },
    {
     "name": "stderr",
     "output_type": "stream",
     "text": [
      "Epoch Progress: 100%|██████████| 20/20 [00:20<00:00,  1.05s/epoch, loss=0.343, acc=0.861, val_loss=0.45, val_acc=0.795] \n"
     ]
    },
    {
     "name": "stdout",
     "output_type": "stream",
     "text": [
      "Overfitting detected at epoch 20: Loss Gap = 0.1073\n",
      "Run 218 / 576 with HyperParameters(learning_rate=0.001, kernel_size=3, num_epochs=20, optimise='Adam', loss='binary_crossentropy', num_filter=16, strides=2, padding='same', dropout_rate=0.1, layers=2, default_activation='relu')\n"
     ]
    },
    {
     "name": "stderr",
     "output_type": "stream",
     "text": [
      "Epoch Progress: 100%|██████████| 20/20 [00:12<00:00,  1.55epoch/s, loss=0.437, acc=0.806, val_loss=0.447, val_acc=0.782]\n"
     ]
    },
    {
     "name": "stdout",
     "output_type": "stream",
     "text": [
      "Run 219 / 576 with HyperParameters(learning_rate=0.001, kernel_size=3, num_epochs=20, optimise='Adam', loss='binary_crossentropy', num_filter=16, strides=1, padding='same', dropout_rate=0.25, layers=2, default_activation='relu')\n"
     ]
    },
    {
     "name": "stderr",
     "output_type": "stream",
     "text": [
      "Epoch Progress: 100%|██████████| 20/20 [00:18<00:00,  1.08epoch/s, loss=0.4, acc=0.848, val_loss=0.456, val_acc=0.821]  \n"
     ]
    },
    {
     "name": "stdout",
     "output_type": "stream",
     "text": [
      "Run 220 / 576 with HyperParameters(learning_rate=0.001, kernel_size=3, num_epochs=20, optimise='Adam', loss='binary_crossentropy', num_filter=16, strides=2, padding='same', dropout_rate=0.25, layers=2, default_activation='relu')\n"
     ]
    },
    {
     "name": "stderr",
     "output_type": "stream",
     "text": [
      "Epoch Progress: 100%|██████████| 20/20 [00:11<00:00,  1.72epoch/s, loss=0.496, acc=0.769, val_loss=0.496, val_acc=0.808]\n"
     ]
    },
    {
     "name": "stdout",
     "output_type": "stream",
     "text": [
      "Run 221 / 576 with HyperParameters(learning_rate=0.001, kernel_size=3, num_epochs=20, optimise='Adam', loss='binary_crossentropy', num_filter=16, strides=1, padding='same', dropout_rate=0.1, layers=3, default_activation='relu')\n"
     ]
    },
    {
     "name": "stderr",
     "output_type": "stream",
     "text": [
      "Epoch Progress: 100%|██████████| 20/20 [00:23<00:00,  1.17s/epoch, loss=0.35, acc=0.859, val_loss=0.438, val_acc=0.821] \n"
     ]
    },
    {
     "name": "stdout",
     "output_type": "stream",
     "text": [
      "Run 222 / 576 with HyperParameters(learning_rate=0.001, kernel_size=3, num_epochs=20, optimise='Adam', loss='binary_crossentropy', num_filter=16, strides=2, padding='same', dropout_rate=0.1, layers=3, default_activation='relu')\n"
     ]
    },
    {
     "name": "stderr",
     "output_type": "stream",
     "text": [
      "Epoch Progress: 100%|██████████| 20/20 [00:11<00:00,  1.68epoch/s, loss=0.481, acc=0.777, val_loss=0.478, val_acc=0.808]\n"
     ]
    },
    {
     "name": "stdout",
     "output_type": "stream",
     "text": [
      "Run 223 / 576 with HyperParameters(learning_rate=0.001, kernel_size=3, num_epochs=20, optimise='Adam', loss='binary_crossentropy', num_filter=16, strides=1, padding='same', dropout_rate=0.25, layers=3, default_activation='relu')\n"
     ]
    },
    {
     "name": "stderr",
     "output_type": "stream",
     "text": [
      "Epoch Progress: 100%|██████████| 20/20 [00:22<00:00,  1.13s/epoch, loss=0.39, acc=0.824, val_loss=0.435, val_acc=0.795] \n"
     ]
    },
    {
     "name": "stdout",
     "output_type": "stream",
     "text": [
      "Run 224 / 576 with HyperParameters(learning_rate=0.001, kernel_size=3, num_epochs=20, optimise='Adam', loss='binary_crossentropy', num_filter=16, strides=2, padding='same', dropout_rate=0.25, layers=3, default_activation='relu')\n"
     ]
    },
    {
     "name": "stderr",
     "output_type": "stream",
     "text": [
      "Epoch Progress: 100%|██████████| 20/20 [00:11<00:00,  1.69epoch/s, loss=0.513, acc=0.74, val_loss=0.526, val_acc=0.756] \n"
     ]
    },
    {
     "name": "stdout",
     "output_type": "stream",
     "text": [
      "Run 225 / 576 with HyperParameters(learning_rate=0.001, kernel_size=3, num_epochs=20, optimise='Adam', loss='binary_crossentropy', num_filter=16, strides=1, padding='same', dropout_rate=0.1, layers=4, default_activation='relu')\n"
     ]
    },
    {
     "name": "stderr",
     "output_type": "stream",
     "text": [
      "Epoch Progress:  95%|█████████▌| 19/20 [00:27<00:01,  1.40s/epoch, loss=0.255, acc=0.914, val_loss=0.39, val_acc=0.872] "
     ]
    },
    {
     "name": "stdout",
     "output_type": "stream",
     "text": [
      "Overfitting detected at epoch 19: Loss Gap = 0.1351\n"
     ]
    },
    {
     "name": "stderr",
     "output_type": "stream",
     "text": [
      "Epoch Progress: 100%|██████████| 20/20 [00:28<00:00,  1.43s/epoch, loss=0.236, acc=0.916, val_loss=0.445, val_acc=0.885]\n"
     ]
    },
    {
     "name": "stdout",
     "output_type": "stream",
     "text": [
      "Overfitting detected at epoch 20: Loss Gap = 0.2090\n",
      "Run 226 / 576 with HyperParameters(learning_rate=0.001, kernel_size=3, num_epochs=20, optimise='Adam', loss='binary_crossentropy', num_filter=16, strides=2, padding='same', dropout_rate=0.1, layers=4, default_activation='relu')\n"
     ]
    },
    {
     "name": "stderr",
     "output_type": "stream",
     "text": [
      "Epoch Progress: 100%|██████████| 20/20 [00:12<00:00,  1.55epoch/s, loss=0.494, acc=0.777, val_loss=0.482, val_acc=0.769]\n"
     ]
    },
    {
     "name": "stdout",
     "output_type": "stream",
     "text": [
      "Run 227 / 576 with HyperParameters(learning_rate=0.001, kernel_size=3, num_epochs=20, optimise='Adam', loss='binary_crossentropy', num_filter=16, strides=1, padding='same', dropout_rate=0.25, layers=4, default_activation='relu')\n"
     ]
    },
    {
     "name": "stderr",
     "output_type": "stream",
     "text": [
      "Epoch Progress: 100%|██████████| 20/20 [00:28<00:00,  1.43s/epoch, loss=0.34, acc=0.861, val_loss=0.443, val_acc=0.859] \n"
     ]
    },
    {
     "name": "stdout",
     "output_type": "stream",
     "text": [
      "Overfitting detected at epoch 20: Loss Gap = 0.1032\n",
      "Run 228 / 576 with HyperParameters(learning_rate=0.001, kernel_size=3, num_epochs=20, optimise='Adam', loss='binary_crossentropy', num_filter=16, strides=2, padding='same', dropout_rate=0.25, layers=4, default_activation='relu')\n"
     ]
    },
    {
     "name": "stderr",
     "output_type": "stream",
     "text": [
      "Epoch Progress: 100%|██████████| 20/20 [00:12<00:00,  1.55epoch/s, loss=0.498, acc=0.771, val_loss=0.505, val_acc=0.744]\n"
     ]
    },
    {
     "name": "stdout",
     "output_type": "stream",
     "text": [
      "Run 229 / 576 with HyperParameters(learning_rate=0.001, kernel_size=3, num_epochs=20, optimise='Adam', loss='binary_crossentropy', num_filter=32, strides=1, padding='same', dropout_rate=0.1, layers=2, default_activation='relu')\n"
     ]
    },
    {
     "name": "stderr",
     "output_type": "stream",
     "text": [
      "Epoch Progress:  90%|█████████ | 18/20 [00:32<00:03,  1.74s/epoch, loss=0.275, acc=0.881, val_loss=0.41, val_acc=0.808] "
     ]
    },
    {
     "name": "stdout",
     "output_type": "stream",
     "text": [
      "Overfitting detected at epoch 18: Loss Gap = 0.1348\n"
     ]
    },
    {
     "name": "stderr",
     "output_type": "stream",
     "text": [
      "Epoch Progress:  95%|█████████▌| 19/20 [00:33<00:01,  1.74s/epoch, loss=0.26, acc=0.881, val_loss=0.393, val_acc=0.859]"
     ]
    },
    {
     "name": "stdout",
     "output_type": "stream",
     "text": [
      "Overfitting detected at epoch 19: Loss Gap = 0.1339\n"
     ]
    },
    {
     "name": "stderr",
     "output_type": "stream",
     "text": [
      "Epoch Progress: 100%|██████████| 20/20 [00:35<00:00,  1.78s/epoch, loss=0.221, acc=0.919, val_loss=0.402, val_acc=0.885]\n"
     ]
    },
    {
     "name": "stdout",
     "output_type": "stream",
     "text": [
      "Overfitting detected at epoch 20: Loss Gap = 0.1814\n",
      "Stopping training due to persistent overfitting.\n",
      "Run 230 / 576 with HyperParameters(learning_rate=0.001, kernel_size=3, num_epochs=20, optimise='Adam', loss='binary_crossentropy', num_filter=32, strides=2, padding='same', dropout_rate=0.1, layers=2, default_activation='relu')\n"
     ]
    },
    {
     "name": "stderr",
     "output_type": "stream",
     "text": [
      "Epoch Progress: 100%|██████████| 20/20 [00:23<00:00,  1.20s/epoch, loss=0.444, acc=0.806, val_loss=0.46, val_acc=0.808] \n"
     ]
    },
    {
     "name": "stdout",
     "output_type": "stream",
     "text": [
      "Run 231 / 576 with HyperParameters(learning_rate=0.001, kernel_size=3, num_epochs=20, optimise='Adam', loss='binary_crossentropy', num_filter=32, strides=1, padding='same', dropout_rate=0.25, layers=2, default_activation='relu')\n"
     ]
    },
    {
     "name": "stderr",
     "output_type": "stream",
     "text": [
      "Epoch Progress: 100%|██████████| 20/20 [00:36<00:00,  1.85s/epoch, loss=0.321, acc=0.875, val_loss=0.41, val_acc=0.846] \n"
     ]
    },
    {
     "name": "stdout",
     "output_type": "stream",
     "text": [
      "Run 232 / 576 with HyperParameters(learning_rate=0.001, kernel_size=3, num_epochs=20, optimise='Adam', loss='binary_crossentropy', num_filter=32, strides=2, padding='same', dropout_rate=0.25, layers=2, default_activation='relu')\n"
     ]
    },
    {
     "name": "stderr",
     "output_type": "stream",
     "text": [
      "Epoch Progress: 100%|██████████| 20/20 [00:23<00:00,  1.18s/epoch, loss=0.439, acc=0.81, val_loss=0.433, val_acc=0.859] \n"
     ]
    },
    {
     "name": "stdout",
     "output_type": "stream",
     "text": [
      "Run 233 / 576 with HyperParameters(learning_rate=0.001, kernel_size=3, num_epochs=20, optimise='Adam', loss='binary_crossentropy', num_filter=32, strides=1, padding='same', dropout_rate=0.1, layers=3, default_activation='relu')\n"
     ]
    },
    {
     "name": "stderr",
     "output_type": "stream",
     "text": [
      "Epoch Progress:  80%|████████  | 16/20 [01:07<00:14,  3.74s/epoch, loss=0.366, acc=0.839, val_loss=0.54, val_acc=0.833] "
     ]
    },
    {
     "name": "stdout",
     "output_type": "stream",
     "text": [
      "Overfitting detected at epoch 16: Loss Gap = 0.1742\n"
     ]
    },
    {
     "name": "stderr",
     "output_type": "stream",
     "text": [
      "Epoch Progress:  95%|█████████▌| 19/20 [01:18<00:03,  3.77s/epoch, loss=0.351, acc=0.841, val_loss=0.461, val_acc=0.846]"
     ]
    },
    {
     "name": "stdout",
     "output_type": "stream",
     "text": [
      "Overfitting detected at epoch 19: Loss Gap = 0.1101\n"
     ]
    },
    {
     "name": "stderr",
     "output_type": "stream",
     "text": [
      "Epoch Progress: 100%|██████████| 20/20 [01:22<00:00,  4.12s/epoch, loss=0.323, acc=0.861, val_loss=0.387, val_acc=0.859]\n"
     ]
    },
    {
     "name": "stdout",
     "output_type": "stream",
     "text": [
      "Run 234 / 576 with HyperParameters(learning_rate=0.001, kernel_size=3, num_epochs=20, optimise='Adam', loss='binary_crossentropy', num_filter=32, strides=2, padding='same', dropout_rate=0.1, layers=3, default_activation='relu')\n"
     ]
    },
    {
     "name": "stderr",
     "output_type": "stream",
     "text": [
      "Epoch Progress: 100%|██████████| 20/20 [00:41<00:00,  2.07s/epoch, loss=0.421, acc=0.811, val_loss=0.405, val_acc=0.859]\n"
     ]
    },
    {
     "name": "stdout",
     "output_type": "stream",
     "text": [
      "Run 235 / 576 with HyperParameters(learning_rate=0.001, kernel_size=3, num_epochs=20, optimise='Adam', loss='binary_crossentropy', num_filter=32, strides=1, padding='same', dropout_rate=0.25, layers=3, default_activation='relu')\n"
     ]
    },
    {
     "name": "stderr",
     "output_type": "stream",
     "text": [
      "Epoch Progress:  90%|█████████ | 18/20 [01:06<00:07,  3.60s/epoch, loss=0.308, acc=0.866, val_loss=0.441, val_acc=0.833]"
     ]
    },
    {
     "name": "stdout",
     "output_type": "stream",
     "text": [
      "Overfitting detected at epoch 18: Loss Gap = 0.1329\n"
     ]
    },
    {
     "name": "stderr",
     "output_type": "stream",
     "text": [
      "Epoch Progress:  95%|█████████▌| 19/20 [01:10<00:03,  3.60s/epoch, loss=0.291, acc=0.886, val_loss=0.392, val_acc=0.846]"
     ]
    },
    {
     "name": "stdout",
     "output_type": "stream",
     "text": [
      "Overfitting detected at epoch 19: Loss Gap = 0.1006\n"
     ]
    },
    {
     "name": "stderr",
     "output_type": "stream",
     "text": [
      "Epoch Progress: 100%|██████████| 20/20 [01:13<00:00,  3.69s/epoch, loss=0.276, acc=0.89, val_loss=0.418, val_acc=0.846] \n"
     ]
    },
    {
     "name": "stdout",
     "output_type": "stream",
     "text": [
      "Overfitting detected at epoch 20: Loss Gap = 0.1419\n",
      "Stopping training due to persistent overfitting.\n",
      "Run 236 / 576 with HyperParameters(learning_rate=0.001, kernel_size=3, num_epochs=20, optimise='Adam', loss='binary_crossentropy', num_filter=32, strides=2, padding='same', dropout_rate=0.25, layers=3, default_activation='relu')\n"
     ]
    },
    {
     "name": "stderr",
     "output_type": "stream",
     "text": [
      "Epoch Progress: 100%|██████████| 20/20 [00:43<00:00,  2.18s/epoch, loss=0.464, acc=0.777, val_loss=0.452, val_acc=0.821]\n"
     ]
    },
    {
     "name": "stdout",
     "output_type": "stream",
     "text": [
      "Run 237 / 576 with HyperParameters(learning_rate=0.001, kernel_size=3, num_epochs=20, optimise='Adam', loss='binary_crossentropy', num_filter=32, strides=1, padding='same', dropout_rate=0.1, layers=4, default_activation='relu')\n"
     ]
    },
    {
     "name": "stderr",
     "output_type": "stream",
     "text": [
      "Epoch Progress:  80%|████████  | 16/20 [01:28<00:21,  5.40s/epoch, loss=0.317, acc=0.852, val_loss=0.424, val_acc=0.833]"
     ]
    },
    {
     "name": "stdout",
     "output_type": "stream",
     "text": [
      "Overfitting detected at epoch 16: Loss Gap = 0.1068\n"
     ]
    },
    {
     "name": "stderr",
     "output_type": "stream",
     "text": [
      "Epoch Progress:  85%|████████▌ | 17/20 [01:33<00:15,  5.27s/epoch, loss=0.314, acc=0.857, val_loss=0.558, val_acc=0.782]"
     ]
    },
    {
     "name": "stdout",
     "output_type": "stream",
     "text": [
      "Overfitting detected at epoch 17: Loss Gap = 0.2439\n"
     ]
    },
    {
     "name": "stderr",
     "output_type": "stream",
     "text": [
      "Epoch Progress:  90%|█████████ | 18/20 [01:38<00:10,  5.47s/epoch, loss=0.36, acc=0.833, val_loss=0.55, val_acc=0.808]  \n"
     ]
    },
    {
     "name": "stdout",
     "output_type": "stream",
     "text": [
      "Overfitting detected at epoch 18: Loss Gap = 0.1902\n",
      "Stopping training due to persistent overfitting.\n",
      "Run 238 / 576 with HyperParameters(learning_rate=0.001, kernel_size=3, num_epochs=20, optimise='Adam', loss='binary_crossentropy', num_filter=32, strides=2, padding='same', dropout_rate=0.1, layers=4, default_activation='relu')\n"
     ]
    },
    {
     "name": "stderr",
     "output_type": "stream",
     "text": [
      "Epoch Progress: 100%|██████████| 20/20 [00:45<00:00,  2.26s/epoch, loss=0.445, acc=0.811, val_loss=0.435, val_acc=0.795]\n"
     ]
    },
    {
     "name": "stdout",
     "output_type": "stream",
     "text": [
      "Run 239 / 576 with HyperParameters(learning_rate=0.001, kernel_size=3, num_epochs=20, optimise='Adam', loss='binary_crossentropy', num_filter=32, strides=1, padding='same', dropout_rate=0.25, layers=4, default_activation='relu')\n"
     ]
    },
    {
     "name": "stderr",
     "output_type": "stream",
     "text": [
      "Epoch Progress: 100%|██████████| 20/20 [01:38<00:00,  4.92s/epoch, loss=0.318, acc=0.859, val_loss=0.513, val_acc=0.833]\n"
     ]
    },
    {
     "name": "stdout",
     "output_type": "stream",
     "text": [
      "Overfitting detected at epoch 20: Loss Gap = 0.1949\n",
      "Run 240 / 576 with HyperParameters(learning_rate=0.001, kernel_size=3, num_epochs=20, optimise='Adam', loss='binary_crossentropy', num_filter=32, strides=2, padding='same', dropout_rate=0.25, layers=4, default_activation='relu')\n"
     ]
    },
    {
     "name": "stderr",
     "output_type": "stream",
     "text": [
      "Epoch Progress: 100%|██████████| 20/20 [00:41<00:00,  2.08s/epoch, loss=0.477, acc=0.788, val_loss=0.457, val_acc=0.833]\n"
     ]
    },
    {
     "name": "stdout",
     "output_type": "stream",
     "text": [
      "Run 241 / 576 with HyperParameters(learning_rate=0.001, kernel_size=3, num_epochs=20, optimise='Adam', loss='binary_crossentropy', num_filter=64, strides=1, padding='same', dropout_rate=0.1, layers=2, default_activation='relu')\n"
     ]
    },
    {
     "name": "stderr",
     "output_type": "stream",
     "text": [
      "Epoch Progress:  85%|████████▌ | 17/20 [02:30<00:26,  8.76s/epoch, loss=0.337, acc=0.85, val_loss=0.446, val_acc=0.846] "
     ]
    },
    {
     "name": "stdout",
     "output_type": "stream",
     "text": [
      "Overfitting detected at epoch 17: Loss Gap = 0.1084\n"
     ]
    },
    {
     "name": "stderr",
     "output_type": "stream",
     "text": [
      "Epoch Progress: 100%|██████████| 20/20 [02:56<00:00,  8.80s/epoch, loss=0.271, acc=0.885, val_loss=0.486, val_acc=0.859]\n"
     ]
    },
    {
     "name": "stdout",
     "output_type": "stream",
     "text": [
      "Overfitting detected at epoch 20: Loss Gap = 0.2147\n",
      "Run 242 / 576 with HyperParameters(learning_rate=0.001, kernel_size=3, num_epochs=20, optimise='Adam', loss='binary_crossentropy', num_filter=64, strides=2, padding='same', dropout_rate=0.1, layers=2, default_activation='relu')\n"
     ]
    },
    {
     "name": "stderr",
     "output_type": "stream",
     "text": [
      "Epoch Progress: 100%|██████████| 20/20 [01:46<00:00,  5.33s/epoch, loss=0.358, acc=0.841, val_loss=0.415, val_acc=0.821]\n"
     ]
    },
    {
     "name": "stdout",
     "output_type": "stream",
     "text": [
      "Run 243 / 576 with HyperParameters(learning_rate=0.001, kernel_size=3, num_epochs=20, optimise='Adam', loss='binary_crossentropy', num_filter=64, strides=1, padding='same', dropout_rate=0.25, layers=2, default_activation='relu')\n"
     ]
    },
    {
     "name": "stderr",
     "output_type": "stream",
     "text": [
      "Epoch Progress: 100%|██████████| 20/20 [02:42<00:00,  8.11s/epoch, loss=0.359, acc=0.852, val_loss=0.438, val_acc=0.821]\n"
     ]
    },
    {
     "name": "stdout",
     "output_type": "stream",
     "text": [
      "Run 244 / 576 with HyperParameters(learning_rate=0.001, kernel_size=3, num_epochs=20, optimise='Adam', loss='binary_crossentropy', num_filter=64, strides=2, padding='same', dropout_rate=0.25, layers=2, default_activation='relu')\n"
     ]
    },
    {
     "name": "stderr",
     "output_type": "stream",
     "text": [
      "Epoch Progress: 100%|██████████| 20/20 [01:42<00:00,  5.14s/epoch, loss=0.372, acc=0.842, val_loss=0.393, val_acc=0.846]\n"
     ]
    },
    {
     "name": "stdout",
     "output_type": "stream",
     "text": [
      "Run 245 / 576 with HyperParameters(learning_rate=0.001, kernel_size=3, num_epochs=20, optimise='Adam', loss='binary_crossentropy', num_filter=64, strides=1, padding='same', dropout_rate=0.1, layers=3, default_activation='relu')\n"
     ]
    },
    {
     "name": "stderr",
     "output_type": "stream",
     "text": [
      "Epoch Progress:  95%|█████████▌| 19/20 [02:59<00:09,  9.26s/epoch, loss=0.329, acc=0.85, val_loss=0.48, val_acc=0.833]  "
     ]
    },
    {
     "name": "stdout",
     "output_type": "stream",
     "text": [
      "Overfitting detected at epoch 19: Loss Gap = 0.1507\n"
     ]
    },
    {
     "name": "stderr",
     "output_type": "stream",
     "text": [
      "Epoch Progress: 100%|██████████| 20/20 [03:08<00:00,  9.43s/epoch, loss=0.304, acc=0.866, val_loss=0.454, val_acc=0.808]\n"
     ]
    },
    {
     "name": "stdout",
     "output_type": "stream",
     "text": [
      "Overfitting detected at epoch 20: Loss Gap = 0.1498\n",
      "Run 246 / 576 with HyperParameters(learning_rate=0.001, kernel_size=3, num_epochs=20, optimise='Adam', loss='binary_crossentropy', num_filter=64, strides=2, padding='same', dropout_rate=0.1, layers=3, default_activation='relu')\n"
     ]
    },
    {
     "name": "stderr",
     "output_type": "stream",
     "text": [
      "Epoch Progress: 100%|██████████| 20/20 [01:32<00:00,  4.65s/epoch, loss=0.387, acc=0.826, val_loss=0.391, val_acc=0.885]\n"
     ]
    },
    {
     "name": "stdout",
     "output_type": "stream",
     "text": [
      "Run 247 / 576 with HyperParameters(learning_rate=0.001, kernel_size=3, num_epochs=20, optimise='Adam', loss='binary_crossentropy', num_filter=64, strides=1, padding='same', dropout_rate=0.25, layers=3, default_activation='relu')\n"
     ]
    },
    {
     "name": "stderr",
     "output_type": "stream",
     "text": [
      "Epoch Progress: 100%|██████████| 20/20 [02:49<00:00,  8.48s/epoch, loss=0.458, acc=0.791, val_loss=0.454, val_acc=0.795]\n"
     ]
    },
    {
     "name": "stdout",
     "output_type": "stream",
     "text": [
      "Run 248 / 576 with HyperParameters(learning_rate=0.001, kernel_size=3, num_epochs=20, optimise='Adam', loss='binary_crossentropy', num_filter=64, strides=2, padding='same', dropout_rate=0.25, layers=3, default_activation='relu')\n"
     ]
    },
    {
     "name": "stderr",
     "output_type": "stream",
     "text": [
      "Epoch Progress: 100%|██████████| 20/20 [01:27<00:00,  4.37s/epoch, loss=0.405, acc=0.817, val_loss=0.392, val_acc=0.872]\n"
     ]
    },
    {
     "name": "stdout",
     "output_type": "stream",
     "text": [
      "Run 249 / 576 with HyperParameters(learning_rate=0.001, kernel_size=3, num_epochs=20, optimise='Adam', loss='binary_crossentropy', num_filter=64, strides=1, padding='same', dropout_rate=0.1, layers=4, default_activation='relu')\n"
     ]
    },
    {
     "name": "stderr",
     "output_type": "stream",
     "text": [
      "Epoch Progress:  85%|████████▌ | 17/20 [03:04<00:32, 10.90s/epoch, loss=0.394, acc=0.822, val_loss=0.513, val_acc=0.872]"
     ]
    },
    {
     "name": "stdout",
     "output_type": "stream",
     "text": [
      "Overfitting detected at epoch 17: Loss Gap = 0.1190\n"
     ]
    },
    {
     "name": "stderr",
     "output_type": "stream",
     "text": [
      "Epoch Progress:  90%|█████████ | 18/20 [03:15<00:21, 10.90s/epoch, loss=0.375, acc=0.817, val_loss=0.501, val_acc=0.846]"
     ]
    },
    {
     "name": "stdout",
     "output_type": "stream",
     "text": [
      "Overfitting detected at epoch 18: Loss Gap = 0.1251\n"
     ]
    },
    {
     "name": "stderr",
     "output_type": "stream",
     "text": [
      "Epoch Progress: 100%|██████████| 20/20 [03:36<00:00, 10.84s/epoch, loss=0.357, acc=0.841, val_loss=0.403, val_acc=0.872]\n"
     ]
    },
    {
     "name": "stdout",
     "output_type": "stream",
     "text": [
      "Run 250 / 576 with HyperParameters(learning_rate=0.001, kernel_size=3, num_epochs=20, optimise='Adam', loss='binary_crossentropy', num_filter=64, strides=2, padding='same', dropout_rate=0.1, layers=4, default_activation='relu')\n"
     ]
    },
    {
     "name": "stderr",
     "output_type": "stream",
     "text": [
      "Epoch Progress: 100%|██████████| 20/20 [01:23<00:00,  4.19s/epoch, loss=0.421, acc=0.821, val_loss=0.387, val_acc=0.872]\n"
     ]
    },
    {
     "name": "stdout",
     "output_type": "stream",
     "text": [
      "Run 251 / 576 with HyperParameters(learning_rate=0.001, kernel_size=3, num_epochs=20, optimise='Adam', loss='binary_crossentropy', num_filter=64, strides=1, padding='same', dropout_rate=0.25, layers=4, default_activation='relu')\n"
     ]
    },
    {
     "name": "stderr",
     "output_type": "stream",
     "text": [
      "Epoch Progress: 100%|██████████| 20/20 [03:22<00:00, 10.15s/epoch, loss=0.426, acc=0.815, val_loss=0.407, val_acc=0.859]\n"
     ]
    },
    {
     "name": "stdout",
     "output_type": "stream",
     "text": [
      "Run 252 / 576 with HyperParameters(learning_rate=0.001, kernel_size=3, num_epochs=20, optimise='Adam', loss='binary_crossentropy', num_filter=64, strides=2, padding='same', dropout_rate=0.25, layers=4, default_activation='relu')\n"
     ]
    },
    {
     "name": "stderr",
     "output_type": "stream",
     "text": [
      "Epoch Progress: 100%|██████████| 20/20 [01:19<00:00,  3.96s/epoch, loss=0.379, acc=0.83, val_loss=0.424, val_acc=0.846] \n"
     ]
    },
    {
     "name": "stdout",
     "output_type": "stream",
     "text": [
      "Run 253 / 576 with HyperParameters(learning_rate=0.001, kernel_size=3, num_epochs=25, optimise='Adam', loss='binary_crossentropy', num_filter=16, strides=1, padding='same', dropout_rate=0.1, layers=2, default_activation='relu')\n"
     ]
    },
    {
     "name": "stderr",
     "output_type": "stream",
     "text": [
      "Epoch Progress:  84%|████████▍ | 21/25 [00:19<00:03,  1.12epoch/s, loss=0.312, acc=0.872, val_loss=0.452, val_acc=0.795]"
     ]
    },
    {
     "name": "stdout",
     "output_type": "stream",
     "text": [
      "Overfitting detected at epoch 21: Loss Gap = 0.1409\n"
     ]
    },
    {
     "name": "stderr",
     "output_type": "stream",
     "text": [
      "Epoch Progress:  88%|████████▊ | 22/25 [00:20<00:02,  1.12epoch/s, loss=0.305, acc=0.881, val_loss=0.437, val_acc=0.795]"
     ]
    },
    {
     "name": "stdout",
     "output_type": "stream",
     "text": [
      "Overfitting detected at epoch 22: Loss Gap = 0.1317\n"
     ]
    },
    {
     "name": "stderr",
     "output_type": "stream",
     "text": [
      "Epoch Progress:  92%|█████████▏| 23/25 [00:21<00:01,  1.06epoch/s, loss=0.279, acc=0.897, val_loss=0.446, val_acc=0.821]\n"
     ]
    },
    {
     "name": "stdout",
     "output_type": "stream",
     "text": [
      "Overfitting detected at epoch 23: Loss Gap = 0.1665\n",
      "Stopping training due to persistent overfitting.\n",
      "Run 254 / 576 with HyperParameters(learning_rate=0.001, kernel_size=3, num_epochs=25, optimise='Adam', loss='binary_crossentropy', num_filter=16, strides=2, padding='same', dropout_rate=0.1, layers=2, default_activation='relu')\n"
     ]
    },
    {
     "name": "stderr",
     "output_type": "stream",
     "text": [
      "Epoch Progress: 100%|██████████| 25/25 [00:14<00:00,  1.70epoch/s, loss=0.427, acc=0.804, val_loss=0.422, val_acc=0.859]\n"
     ]
    },
    {
     "name": "stdout",
     "output_type": "stream",
     "text": [
      "Run 255 / 576 with HyperParameters(learning_rate=0.001, kernel_size=3, num_epochs=25, optimise='Adam', loss='binary_crossentropy', num_filter=16, strides=1, padding='same', dropout_rate=0.25, layers=2, default_activation='relu')\n"
     ]
    },
    {
     "name": "stderr",
     "output_type": "stream",
     "text": [
      "Epoch Progress:  88%|████████▊ | 22/25 [00:20<00:02,  1.13epoch/s, loss=0.316, acc=0.864, val_loss=0.445, val_acc=0.821]"
     ]
    },
    {
     "name": "stdout",
     "output_type": "stream",
     "text": [
      "Overfitting detected at epoch 22: Loss Gap = 0.1292\n"
     ]
    },
    {
     "name": "stderr",
     "output_type": "stream",
     "text": [
      "Epoch Progress:  92%|█████████▏| 23/25 [00:21<00:01,  1.12epoch/s, loss=0.321, acc=0.861, val_loss=0.438, val_acc=0.821]"
     ]
    },
    {
     "name": "stdout",
     "output_type": "stream",
     "text": [
      "Overfitting detected at epoch 23: Loss Gap = 0.1166\n"
     ]
    },
    {
     "name": "stderr",
     "output_type": "stream",
     "text": [
      "Epoch Progress:  96%|█████████▌| 24/25 [00:22<00:00,  1.08epoch/s, loss=0.327, acc=0.874, val_loss=0.433, val_acc=0.795]\n"
     ]
    },
    {
     "name": "stdout",
     "output_type": "stream",
     "text": [
      "Overfitting detected at epoch 24: Loss Gap = 0.1052\n",
      "Stopping training due to persistent overfitting.\n",
      "Run 256 / 576 with HyperParameters(learning_rate=0.001, kernel_size=3, num_epochs=25, optimise='Adam', loss='binary_crossentropy', num_filter=16, strides=2, padding='same', dropout_rate=0.25, layers=2, default_activation='relu')\n"
     ]
    },
    {
     "name": "stderr",
     "output_type": "stream",
     "text": [
      "Epoch Progress: 100%|██████████| 25/25 [00:14<00:00,  1.67epoch/s, loss=0.499, acc=0.784, val_loss=0.501, val_acc=0.756]\n"
     ]
    },
    {
     "name": "stdout",
     "output_type": "stream",
     "text": [
      "Run 257 / 576 with HyperParameters(learning_rate=0.001, kernel_size=3, num_epochs=25, optimise='Adam', loss='binary_crossentropy', num_filter=16, strides=1, padding='same', dropout_rate=0.1, layers=3, default_activation='relu')\n"
     ]
    },
    {
     "name": "stderr",
     "output_type": "stream",
     "text": [
      "Epoch Progress:  88%|████████▊ | 22/25 [00:27<00:03,  1.12s/epoch, loss=0.295, acc=0.883, val_loss=0.402, val_acc=0.846]"
     ]
    },
    {
     "name": "stdout",
     "output_type": "stream",
     "text": [
      "Overfitting detected at epoch 22: Loss Gap = 0.1067\n"
     ]
    },
    {
     "name": "stderr",
     "output_type": "stream",
     "text": [
      "Epoch Progress:  92%|█████████▏| 23/25 [00:29<00:02,  1.11s/epoch, loss=0.276, acc=0.881, val_loss=0.399, val_acc=0.846]"
     ]
    },
    {
     "name": "stdout",
     "output_type": "stream",
     "text": [
      "Overfitting detected at epoch 23: Loss Gap = 0.1231\n"
     ]
    },
    {
     "name": "stderr",
     "output_type": "stream",
     "text": [
      "Epoch Progress:  96%|█████████▌| 24/25 [00:30<00:01,  1.26s/epoch, loss=0.26, acc=0.903, val_loss=0.398, val_acc=0.872] \n"
     ]
    },
    {
     "name": "stdout",
     "output_type": "stream",
     "text": [
      "Overfitting detected at epoch 24: Loss Gap = 0.1377\n",
      "Stopping training due to persistent overfitting.\n",
      "Run 258 / 576 with HyperParameters(learning_rate=0.001, kernel_size=3, num_epochs=25, optimise='Adam', loss='binary_crossentropy', num_filter=16, strides=2, padding='same', dropout_rate=0.1, layers=3, default_activation='relu')\n"
     ]
    },
    {
     "name": "stderr",
     "output_type": "stream",
     "text": [
      "Epoch Progress: 100%|██████████| 25/25 [00:14<00:00,  1.70epoch/s, loss=0.482, acc=0.773, val_loss=0.493, val_acc=0.795]\n"
     ]
    },
    {
     "name": "stdout",
     "output_type": "stream",
     "text": [
      "Run 259 / 576 with HyperParameters(learning_rate=0.001, kernel_size=3, num_epochs=25, optimise='Adam', loss='binary_crossentropy', num_filter=16, strides=1, padding='same', dropout_rate=0.25, layers=3, default_activation='relu')\n"
     ]
    },
    {
     "name": "stderr",
     "output_type": "stream",
     "text": [
      "Epoch Progress: 100%|██████████| 25/25 [00:30<00:00,  1.22s/epoch, loss=0.266, acc=0.89, val_loss=0.375, val_acc=0.859] \n"
     ]
    },
    {
     "name": "stdout",
     "output_type": "stream",
     "text": [
      "Overfitting detected at epoch 25: Loss Gap = 0.1094\n",
      "Run 260 / 576 with HyperParameters(learning_rate=0.001, kernel_size=3, num_epochs=25, optimise='Adam', loss='binary_crossentropy', num_filter=16, strides=2, padding='same', dropout_rate=0.25, layers=3, default_activation='relu')\n"
     ]
    },
    {
     "name": "stderr",
     "output_type": "stream",
     "text": [
      "Epoch Progress: 100%|██████████| 25/25 [00:15<00:00,  1.65epoch/s, loss=0.511, acc=0.769, val_loss=0.494, val_acc=0.769]\n"
     ]
    },
    {
     "name": "stdout",
     "output_type": "stream",
     "text": [
      "Run 261 / 576 with HyperParameters(learning_rate=0.001, kernel_size=3, num_epochs=25, optimise='Adam', loss='binary_crossentropy', num_filter=16, strides=1, padding='same', dropout_rate=0.1, layers=4, default_activation='relu')\n"
     ]
    },
    {
     "name": "stderr",
     "output_type": "stream",
     "text": [
      "Epoch Progress:  76%|███████▌  | 19/25 [00:29<00:08,  1.46s/epoch, loss=0.344, acc=0.857, val_loss=0.459, val_acc=0.833]"
     ]
    },
    {
     "name": "stdout",
     "output_type": "stream",
     "text": [
      "Overfitting detected at epoch 19: Loss Gap = 0.1147\n"
     ]
    },
    {
     "name": "stderr",
     "output_type": "stream",
     "text": [
      "Epoch Progress:  80%|████████  | 20/25 [00:30<00:07,  1.45s/epoch, loss=0.333, acc=0.866, val_loss=0.496, val_acc=0.846]"
     ]
    },
    {
     "name": "stdout",
     "output_type": "stream",
     "text": [
      "Overfitting detected at epoch 20: Loss Gap = 0.1630\n"
     ]
    },
    {
     "name": "stderr",
     "output_type": "stream",
     "text": [
      "Epoch Progress:  84%|████████▍ | 21/25 [00:31<00:06,  1.52s/epoch, loss=0.319, acc=0.87, val_loss=0.468, val_acc=0.833] \n"
     ]
    },
    {
     "name": "stdout",
     "output_type": "stream",
     "text": [
      "Overfitting detected at epoch 21: Loss Gap = 0.1490\n",
      "Stopping training due to persistent overfitting.\n",
      "Run 262 / 576 with HyperParameters(learning_rate=0.001, kernel_size=3, num_epochs=25, optimise='Adam', loss='binary_crossentropy', num_filter=16, strides=2, padding='same', dropout_rate=0.1, layers=4, default_activation='relu')\n"
     ]
    },
    {
     "name": "stderr",
     "output_type": "stream",
     "text": [
      "Epoch Progress: 100%|██████████| 25/25 [00:45<00:00,  1.82s/epoch, loss=0.432, acc=0.806, val_loss=0.429, val_acc=0.859]\n"
     ]
    },
    {
     "name": "stdout",
     "output_type": "stream",
     "text": [
      "Run 263 / 576 with HyperParameters(learning_rate=0.001, kernel_size=3, num_epochs=25, optimise='Adam', loss='binary_crossentropy', num_filter=16, strides=1, padding='same', dropout_rate=0.25, layers=4, default_activation='relu')\n"
     ]
    },
    {
     "name": "stderr",
     "output_type": "stream",
     "text": [
      "Epoch Progress:  92%|█████████▏| 23/25 [00:57<00:05,  2.54s/epoch, loss=0.29, acc=0.879, val_loss=0.404, val_acc=0.846] "
     ]
    },
    {
     "name": "stdout",
     "output_type": "stream",
     "text": [
      "Overfitting detected at epoch 23: Loss Gap = 0.1136\n"
     ]
    },
    {
     "name": "stderr",
     "output_type": "stream",
     "text": [
      "Epoch Progress:  96%|█████████▌| 24/25 [01:00<00:02,  2.52s/epoch, loss=0.266, acc=0.899, val_loss=0.427, val_acc=0.859]"
     ]
    },
    {
     "name": "stdout",
     "output_type": "stream",
     "text": [
      "Overfitting detected at epoch 24: Loss Gap = 0.1611\n"
     ]
    },
    {
     "name": "stderr",
     "output_type": "stream",
     "text": [
      "Epoch Progress: 100%|██████████| 25/25 [01:02<00:00,  2.50s/epoch, loss=0.267, acc=0.892, val_loss=0.454, val_acc=0.846]\n"
     ]
    },
    {
     "name": "stdout",
     "output_type": "stream",
     "text": [
      "Overfitting detected at epoch 25: Loss Gap = 0.1872\n",
      "Stopping training due to persistent overfitting.\n",
      "Run 264 / 576 with HyperParameters(learning_rate=0.001, kernel_size=3, num_epochs=25, optimise='Adam', loss='binary_crossentropy', num_filter=16, strides=2, padding='same', dropout_rate=0.25, layers=4, default_activation='relu')\n"
     ]
    },
    {
     "name": "stderr",
     "output_type": "stream",
     "text": [
      "Epoch Progress: 100%|██████████| 25/25 [00:28<00:00,  1.15s/epoch, loss=0.496, acc=0.769, val_loss=0.469, val_acc=0.846]\n"
     ]
    },
    {
     "name": "stdout",
     "output_type": "stream",
     "text": [
      "Run 265 / 576 with HyperParameters(learning_rate=0.001, kernel_size=3, num_epochs=25, optimise='Adam', loss='binary_crossentropy', num_filter=32, strides=1, padding='same', dropout_rate=0.1, layers=2, default_activation='relu')\n"
     ]
    },
    {
     "name": "stderr",
     "output_type": "stream",
     "text": [
      "Epoch Progress:  72%|███████▏  | 18/25 [00:55<00:21,  3.01s/epoch, loss=0.328, acc=0.863, val_loss=0.43, val_acc=0.808] "
     ]
    },
    {
     "name": "stdout",
     "output_type": "stream",
     "text": [
      "Overfitting detected at epoch 18: Loss Gap = 0.1019\n"
     ]
    },
    {
     "name": "stderr",
     "output_type": "stream",
     "text": [
      "Epoch Progress:  76%|███████▌  | 19/25 [00:58<00:18,  3.09s/epoch, loss=0.308, acc=0.89, val_loss=0.458, val_acc=0.769]"
     ]
    },
    {
     "name": "stdout",
     "output_type": "stream",
     "text": [
      "Overfitting detected at epoch 19: Loss Gap = 0.1496\n"
     ]
    },
    {
     "name": "stderr",
     "output_type": "stream",
     "text": [
      "Epoch Progress:  80%|████████  | 20/25 [01:01<00:15,  3.10s/epoch, loss=0.295, acc=0.877, val_loss=0.475, val_acc=0.756]\n"
     ]
    },
    {
     "name": "stdout",
     "output_type": "stream",
     "text": [
      "Overfitting detected at epoch 20: Loss Gap = 0.1800\n",
      "Stopping training due to persistent overfitting.\n",
      "Run 266 / 576 with HyperParameters(learning_rate=0.001, kernel_size=3, num_epochs=25, optimise='Adam', loss='binary_crossentropy', num_filter=32, strides=2, padding='same', dropout_rate=0.1, layers=2, default_activation='relu')\n"
     ]
    },
    {
     "name": "stderr",
     "output_type": "stream",
     "text": [
      "Epoch Progress: 100%|██████████| 25/25 [00:50<00:00,  2.00s/epoch, loss=0.373, acc=0.841, val_loss=0.407, val_acc=0.846]\n"
     ]
    },
    {
     "name": "stdout",
     "output_type": "stream",
     "text": [
      "Run 267 / 576 with HyperParameters(learning_rate=0.001, kernel_size=3, num_epochs=25, optimise='Adam', loss='binary_crossentropy', num_filter=32, strides=1, padding='same', dropout_rate=0.25, layers=2, default_activation='relu')\n"
     ]
    },
    {
     "name": "stderr",
     "output_type": "stream",
     "text": [
      "Epoch Progress:  76%|███████▌  | 19/25 [00:55<00:17,  2.92s/epoch, loss=0.318, acc=0.872, val_loss=0.422, val_acc=0.795]"
     ]
    },
    {
     "name": "stdout",
     "output_type": "stream",
     "text": [
      "Overfitting detected at epoch 19: Loss Gap = 0.1040\n"
     ]
    },
    {
     "name": "stderr",
     "output_type": "stream",
     "text": [
      "Epoch Progress:  84%|████████▍ | 21/25 [01:01<00:11,  2.93s/epoch, loss=0.241, acc=0.903, val_loss=0.366, val_acc=0.846]"
     ]
    },
    {
     "name": "stdout",
     "output_type": "stream",
     "text": [
      "Overfitting detected at epoch 21: Loss Gap = 0.1249\n"
     ]
    },
    {
     "name": "stderr",
     "output_type": "stream",
     "text": [
      "Epoch Progress:  88%|████████▊ | 22/25 [01:04<00:08,  2.95s/epoch, loss=0.249, acc=0.894, val_loss=0.389, val_acc=0.872]"
     ]
    },
    {
     "name": "stdout",
     "output_type": "stream",
     "text": [
      "Overfitting detected at epoch 22: Loss Gap = 0.1400\n"
     ]
    },
    {
     "name": "stderr",
     "output_type": "stream",
     "text": [
      "Epoch Progress:  92%|█████████▏| 23/25 [01:07<00:05,  2.92s/epoch, loss=0.22, acc=0.91, val_loss=0.438, val_acc=0.795]  \n"
     ]
    },
    {
     "name": "stdout",
     "output_type": "stream",
     "text": [
      "Overfitting detected at epoch 23: Loss Gap = 0.2181\n",
      "Stopping training due to persistent overfitting.\n",
      "Run 268 / 576 with HyperParameters(learning_rate=0.001, kernel_size=3, num_epochs=25, optimise='Adam', loss='binary_crossentropy', num_filter=32, strides=2, padding='same', dropout_rate=0.25, layers=2, default_activation='relu')\n"
     ]
    },
    {
     "name": "stderr",
     "output_type": "stream",
     "text": [
      "Epoch Progress: 100%|██████████| 25/25 [00:48<00:00,  1.93s/epoch, loss=0.397, acc=0.824, val_loss=0.411, val_acc=0.872]\n"
     ]
    },
    {
     "name": "stdout",
     "output_type": "stream",
     "text": [
      "Run 269 / 576 with HyperParameters(learning_rate=0.001, kernel_size=3, num_epochs=25, optimise='Adam', loss='binary_crossentropy', num_filter=32, strides=1, padding='same', dropout_rate=0.1, layers=3, default_activation='relu')\n"
     ]
    },
    {
     "name": "stderr",
     "output_type": "stream",
     "text": [
      "Epoch Progress:  72%|███████▏  | 18/25 [01:02<00:24,  3.43s/epoch, loss=0.336, acc=0.844, val_loss=0.448, val_acc=0.846]"
     ]
    },
    {
     "name": "stdout",
     "output_type": "stream",
     "text": [
      "Overfitting detected at epoch 18: Loss Gap = 0.1119\n"
     ]
    },
    {
     "name": "stderr",
     "output_type": "stream",
     "text": [
      "Epoch Progress:  80%|████████  | 20/25 [01:08<00:16,  3.32s/epoch, loss=0.314, acc=0.875, val_loss=0.414, val_acc=0.846]"
     ]
    },
    {
     "name": "stdout",
     "output_type": "stream",
     "text": [
      "Overfitting detected at epoch 20: Loss Gap = 0.1002\n"
     ]
    },
    {
     "name": "stderr",
     "output_type": "stream",
     "text": [
      "Epoch Progress:  84%|████████▍ | 21/25 [01:12<00:13,  3.34s/epoch, loss=0.289, acc=0.89, val_loss=0.413, val_acc=0.833] "
     ]
    },
    {
     "name": "stdout",
     "output_type": "stream",
     "text": [
      "Overfitting detected at epoch 21: Loss Gap = 0.1242\n"
     ]
    },
    {
     "name": "stderr",
     "output_type": "stream",
     "text": [
      "Epoch Progress:  88%|████████▊ | 22/25 [01:15<00:10,  3.44s/epoch, loss=0.271, acc=0.899, val_loss=0.429, val_acc=0.846]\n"
     ]
    },
    {
     "name": "stdout",
     "output_type": "stream",
     "text": [
      "Overfitting detected at epoch 22: Loss Gap = 0.1575\n",
      "Stopping training due to persistent overfitting.\n",
      "Run 270 / 576 with HyperParameters(learning_rate=0.001, kernel_size=3, num_epochs=25, optimise='Adam', loss='binary_crossentropy', num_filter=32, strides=2, padding='same', dropout_rate=0.1, layers=3, default_activation='relu')\n"
     ]
    },
    {
     "name": "stderr",
     "output_type": "stream",
     "text": [
      "Epoch Progress: 100%|██████████| 25/25 [00:47<00:00,  1.90s/epoch, loss=0.429, acc=0.81, val_loss=0.392, val_acc=0.872] \n"
     ]
    },
    {
     "name": "stdout",
     "output_type": "stream",
     "text": [
      "Run 271 / 576 with HyperParameters(learning_rate=0.001, kernel_size=3, num_epochs=25, optimise='Adam', loss='binary_crossentropy', num_filter=32, strides=1, padding='same', dropout_rate=0.25, layers=3, default_activation='relu')\n"
     ]
    },
    {
     "name": "stderr",
     "output_type": "stream",
     "text": [
      "Epoch Progress:  84%|████████▍ | 21/25 [01:06<00:12,  3.21s/epoch, loss=0.307, acc=0.857, val_loss=0.412, val_acc=0.769]"
     ]
    },
    {
     "name": "stdout",
     "output_type": "stream",
     "text": [
      "Overfitting detected at epoch 21: Loss Gap = 0.1043\n"
     ]
    },
    {
     "name": "stderr",
     "output_type": "stream",
     "text": [
      "Epoch Progress:  92%|█████████▏| 23/25 [01:13<00:06,  3.24s/epoch, loss=0.269, acc=0.896, val_loss=0.385, val_acc=0.872]"
     ]
    },
    {
     "name": "stdout",
     "output_type": "stream",
     "text": [
      "Overfitting detected at epoch 23: Loss Gap = 0.1161\n"
     ]
    },
    {
     "name": "stderr",
     "output_type": "stream",
     "text": [
      "Epoch Progress:  96%|█████████▌| 24/25 [01:16<00:03,  3.25s/epoch, loss=0.268, acc=0.89, val_loss=0.41, val_acc=0.885]  "
     ]
    },
    {
     "name": "stdout",
     "output_type": "stream",
     "text": [
      "Overfitting detected at epoch 24: Loss Gap = 0.1429\n"
     ]
    },
    {
     "name": "stderr",
     "output_type": "stream",
     "text": [
      "Epoch Progress: 100%|██████████| 25/25 [01:19<00:00,  3.18s/epoch, loss=0.249, acc=0.908, val_loss=0.383, val_acc=0.821]\n"
     ]
    },
    {
     "name": "stdout",
     "output_type": "stream",
     "text": [
      "Overfitting detected at epoch 25: Loss Gap = 0.1336\n",
      "Stopping training due to persistent overfitting.\n",
      "Run 272 / 576 with HyperParameters(learning_rate=0.001, kernel_size=3, num_epochs=25, optimise='Adam', loss='binary_crossentropy', num_filter=32, strides=2, padding='same', dropout_rate=0.25, layers=3, default_activation='relu')\n"
     ]
    },
    {
     "name": "stderr",
     "output_type": "stream",
     "text": [
      "Epoch Progress: 100%|██████████| 25/25 [00:42<00:00,  1.72s/epoch, loss=0.462, acc=0.791, val_loss=0.429, val_acc=0.859]\n"
     ]
    },
    {
     "name": "stdout",
     "output_type": "stream",
     "text": [
      "Run 273 / 576 with HyperParameters(learning_rate=0.001, kernel_size=3, num_epochs=25, optimise='Adam', loss='binary_crossentropy', num_filter=32, strides=1, padding='same', dropout_rate=0.1, layers=4, default_activation='relu')\n"
     ]
    },
    {
     "name": "stderr",
     "output_type": "stream",
     "text": [
      "Epoch Progress:  72%|███████▏  | 18/25 [01:16<00:29,  4.20s/epoch, loss=0.298, acc=0.874, val_loss=0.455, val_acc=0.821]"
     ]
    },
    {
     "name": "stdout",
     "output_type": "stream",
     "text": [
      "Overfitting detected at epoch 18: Loss Gap = 0.1567\n"
     ]
    },
    {
     "name": "stderr",
     "output_type": "stream",
     "text": [
      "Epoch Progress:  76%|███████▌  | 19/25 [01:20<00:25,  4.18s/epoch, loss=0.288, acc=0.901, val_loss=0.504, val_acc=0.833]"
     ]
    },
    {
     "name": "stdout",
     "output_type": "stream",
     "text": [
      "Overfitting detected at epoch 19: Loss Gap = 0.2157\n"
     ]
    },
    {
     "name": "stderr",
     "output_type": "stream",
     "text": [
      "Epoch Progress:  80%|████████  | 20/25 [01:24<00:21,  4.24s/epoch, loss=0.278, acc=0.881, val_loss=0.581, val_acc=0.859]\n"
     ]
    },
    {
     "name": "stdout",
     "output_type": "stream",
     "text": [
      "Overfitting detected at epoch 20: Loss Gap = 0.3035\n",
      "Stopping training due to persistent overfitting.\n",
      "Run 274 / 576 with HyperParameters(learning_rate=0.001, kernel_size=3, num_epochs=25, optimise='Adam', loss='binary_crossentropy', num_filter=32, strides=2, padding='same', dropout_rate=0.1, layers=4, default_activation='relu')\n"
     ]
    },
    {
     "name": "stderr",
     "output_type": "stream",
     "text": [
      "Epoch Progress: 100%|██████████| 25/25 [00:46<00:00,  1.86s/epoch, loss=0.372, acc=0.848, val_loss=0.369, val_acc=0.872]\n"
     ]
    },
    {
     "name": "stdout",
     "output_type": "stream",
     "text": [
      "Run 275 / 576 with HyperParameters(learning_rate=0.001, kernel_size=3, num_epochs=25, optimise='Adam', loss='binary_crossentropy', num_filter=32, strides=1, padding='same', dropout_rate=0.25, layers=4, default_activation='relu')\n"
     ]
    },
    {
     "name": "stderr",
     "output_type": "stream",
     "text": [
      "Epoch Progress:  88%|████████▊ | 22/25 [01:27<00:11,  3.93s/epoch, loss=0.311, acc=0.872, val_loss=0.428, val_acc=0.846]"
     ]
    },
    {
     "name": "stdout",
     "output_type": "stream",
     "text": [
      "Overfitting detected at epoch 22: Loss Gap = 0.1165\n"
     ]
    },
    {
     "name": "stderr",
     "output_type": "stream",
     "text": [
      "Epoch Progress:  92%|█████████▏| 23/25 [01:31<00:07,  3.94s/epoch, loss=0.31, acc=0.863, val_loss=0.476, val_acc=0.821] "
     ]
    },
    {
     "name": "stdout",
     "output_type": "stream",
     "text": [
      "Overfitting detected at epoch 23: Loss Gap = 0.1661\n"
     ]
    },
    {
     "name": "stderr",
     "output_type": "stream",
     "text": [
      "Epoch Progress: 100%|██████████| 25/25 [01:39<00:00,  3.98s/epoch, loss=0.313, acc=0.868, val_loss=0.424, val_acc=0.833]\n"
     ]
    },
    {
     "name": "stdout",
     "output_type": "stream",
     "text": [
      "Overfitting detected at epoch 25: Loss Gap = 0.1112\n",
      "Run 276 / 576 with HyperParameters(learning_rate=0.001, kernel_size=3, num_epochs=25, optimise='Adam', loss='binary_crossentropy', num_filter=32, strides=2, padding='same', dropout_rate=0.25, layers=4, default_activation='relu')\n"
     ]
    },
    {
     "name": "stderr",
     "output_type": "stream",
     "text": [
      "Epoch Progress: 100%|██████████| 25/25 [00:43<00:00,  1.72s/epoch, loss=0.383, acc=0.822, val_loss=0.386, val_acc=0.859]\n"
     ]
    },
    {
     "name": "stdout",
     "output_type": "stream",
     "text": [
      "Run 277 / 576 with HyperParameters(learning_rate=0.001, kernel_size=3, num_epochs=25, optimise='Adam', loss='binary_crossentropy', num_filter=64, strides=1, padding='same', dropout_rate=0.1, layers=2, default_activation='relu')\n"
     ]
    },
    {
     "name": "stderr",
     "output_type": "stream",
     "text": [
      "Epoch Progress:  76%|███████▌  | 19/25 [02:03<00:38,  6.40s/epoch, loss=0.347, acc=0.839, val_loss=0.469, val_acc=0.846]"
     ]
    },
    {
     "name": "stdout",
     "output_type": "stream",
     "text": [
      "Overfitting detected at epoch 19: Loss Gap = 0.1215\n"
     ]
    },
    {
     "name": "stderr",
     "output_type": "stream",
     "text": [
      "Epoch Progress:  84%|████████▍ | 21/25 [02:15<00:25,  6.38s/epoch, loss=0.312, acc=0.868, val_loss=0.455, val_acc=0.846]"
     ]
    },
    {
     "name": "stdout",
     "output_type": "stream",
     "text": [
      "Overfitting detected at epoch 21: Loss Gap = 0.1430\n"
     ]
    },
    {
     "name": "stderr",
     "output_type": "stream",
     "text": [
      "Epoch Progress:  88%|████████▊ | 22/25 [02:22<00:19,  6.40s/epoch, loss=0.283, acc=0.886, val_loss=0.432, val_acc=0.859]"
     ]
    },
    {
     "name": "stdout",
     "output_type": "stream",
     "text": [
      "Overfitting detected at epoch 22: Loss Gap = 0.1486\n"
     ]
    },
    {
     "name": "stderr",
     "output_type": "stream",
     "text": [
      "Epoch Progress:  92%|█████████▏| 23/25 [02:28<00:12,  6.46s/epoch, loss=0.253, acc=0.901, val_loss=0.414, val_acc=0.808]\n"
     ]
    },
    {
     "name": "stdout",
     "output_type": "stream",
     "text": [
      "Overfitting detected at epoch 23: Loss Gap = 0.1602\n",
      "Stopping training due to persistent overfitting.\n",
      "Run 278 / 576 with HyperParameters(learning_rate=0.001, kernel_size=3, num_epochs=25, optimise='Adam', loss='binary_crossentropy', num_filter=64, strides=2, padding='same', dropout_rate=0.1, layers=2, default_activation='relu')\n"
     ]
    },
    {
     "name": "stderr",
     "output_type": "stream",
     "text": [
      "Epoch Progress:  96%|█████████▌| 24/25 [01:34<00:03,  3.98s/epoch, loss=0.287, acc=0.872, val_loss=0.444, val_acc=0.859]"
     ]
    },
    {
     "name": "stdout",
     "output_type": "stream",
     "text": [
      "Overfitting detected at epoch 24: Loss Gap = 0.1567\n"
     ]
    },
    {
     "name": "stderr",
     "output_type": "stream",
     "text": [
      "Epoch Progress: 100%|██████████| 25/25 [01:38<00:00,  3.94s/epoch, loss=0.294, acc=0.883, val_loss=0.419, val_acc=0.833]"
     ]
    },
    {
     "name": "stdout",
     "output_type": "stream",
     "text": [
      "Overfitting detected at epoch 25: Loss Gap = 0.1254\n",
      "Run 279 / 576 with HyperParameters(learning_rate=0.001, kernel_size=3, num_epochs=25, optimise='Adam', loss='binary_crossentropy', num_filter=64, strides=1, padding='same', dropout_rate=0.25, layers=2, default_activation='relu')\n"
     ]
    },
    {
     "name": "stderr",
     "output_type": "stream",
     "text": [
      "\n",
      "Epoch Progress:  96%|█████████▌| 24/25 [02:23<00:06,  6.06s/epoch, loss=0.363, acc=0.855, val_loss=0.485, val_acc=0.756]"
     ]
    },
    {
     "name": "stdout",
     "output_type": "stream",
     "text": [
      "Overfitting detected at epoch 24: Loss Gap = 0.1221\n"
     ]
    },
    {
     "name": "stderr",
     "output_type": "stream",
     "text": [
      "Epoch Progress: 100%|██████████| 25/25 [02:29<00:00,  5.97s/epoch, loss=0.331, acc=0.868, val_loss=0.447, val_acc=0.808]\n"
     ]
    },
    {
     "name": "stdout",
     "output_type": "stream",
     "text": [
      "Overfitting detected at epoch 25: Loss Gap = 0.1157\n",
      "Run 280 / 576 with HyperParameters(learning_rate=0.001, kernel_size=3, num_epochs=25, optimise='Adam', loss='binary_crossentropy', num_filter=64, strides=2, padding='same', dropout_rate=0.25, layers=2, default_activation='relu')\n"
     ]
    },
    {
     "name": "stderr",
     "output_type": "stream",
     "text": [
      "Epoch Progress: 100%|██████████| 25/25 [01:31<00:00,  3.65s/epoch, loss=0.345, acc=0.852, val_loss=0.454, val_acc=0.782]"
     ]
    },
    {
     "name": "stdout",
     "output_type": "stream",
     "text": [
      "Overfitting detected at epoch 25: Loss Gap = 0.1091\n",
      "Run 281 / 576 with HyperParameters(learning_rate=0.001, kernel_size=3, num_epochs=25, optimise='Adam', loss='binary_crossentropy', num_filter=64, strides=1, padding='same', dropout_rate=0.1, layers=3, default_activation='relu')\n"
     ]
    },
    {
     "name": "stderr",
     "output_type": "stream",
     "text": [
      "\n",
      "Epoch Progress:  52%|█████▏    | 13/25 [01:30<01:26,  7.23s/epoch, loss=0.373, acc=0.832, val_loss=0.483, val_acc=0.872]"
     ]
    },
    {
     "name": "stdout",
     "output_type": "stream",
     "text": [
      "Overfitting detected at epoch 13: Loss Gap = 0.1105\n"
     ]
    },
    {
     "name": "stderr",
     "output_type": "stream",
     "text": [
      "Epoch Progress:  56%|█████▌    | 14/25 [01:37<01:17,  7.06s/epoch, loss=0.369, acc=0.826, val_loss=0.536, val_acc=0.821]"
     ]
    },
    {
     "name": "stdout",
     "output_type": "stream",
     "text": [
      "Overfitting detected at epoch 14: Loss Gap = 0.1671\n"
     ]
    },
    {
     "name": "stderr",
     "output_type": "stream",
     "text": [
      "Epoch Progress:  64%|██████▍   | 16/25 [01:53<01:07,  7.45s/epoch, loss=0.384, acc=0.832, val_loss=0.488, val_acc=0.808]"
     ]
    },
    {
     "name": "stdout",
     "output_type": "stream",
     "text": [
      "Overfitting detected at epoch 16: Loss Gap = 0.1040\n"
     ]
    },
    {
     "name": "stderr",
     "output_type": "stream",
     "text": [
      "Epoch Progress:  72%|███████▏  | 18/25 [02:07<00:50,  7.21s/epoch, loss=0.326, acc=0.846, val_loss=0.492, val_acc=0.833]"
     ]
    },
    {
     "name": "stdout",
     "output_type": "stream",
     "text": [
      "Overfitting detected at epoch 18: Loss Gap = 0.1664\n"
     ]
    },
    {
     "name": "stderr",
     "output_type": "stream",
     "text": [
      "Epoch Progress:  80%|████████  | 20/25 [02:21<00:35,  7.08s/epoch, loss=0.266, acc=0.883, val_loss=0.442, val_acc=0.821]"
     ]
    },
    {
     "name": "stdout",
     "output_type": "stream",
     "text": [
      "Overfitting detected at epoch 20: Loss Gap = 0.1765\n"
     ]
    },
    {
     "name": "stderr",
     "output_type": "stream",
     "text": [
      "Epoch Progress:  84%|████████▍ | 21/25 [02:28<00:28,  7.02s/epoch, loss=0.224, acc=0.916, val_loss=0.425, val_acc=0.846]"
     ]
    },
    {
     "name": "stdout",
     "output_type": "stream",
     "text": [
      "Overfitting detected at epoch 21: Loss Gap = 0.2008\n"
     ]
    },
    {
     "name": "stderr",
     "output_type": "stream",
     "text": [
      "Epoch Progress:  88%|████████▊ | 22/25 [02:34<00:21,  7.04s/epoch, loss=0.205, acc=0.916, val_loss=0.505, val_acc=0.821]\n"
     ]
    },
    {
     "name": "stdout",
     "output_type": "stream",
     "text": [
      "Overfitting detected at epoch 22: Loss Gap = 0.3004\n",
      "Stopping training due to persistent overfitting.\n",
      "Run 282 / 576 with HyperParameters(learning_rate=0.001, kernel_size=3, num_epochs=25, optimise='Adam', loss='binary_crossentropy', num_filter=64, strides=2, padding='same', dropout_rate=0.1, layers=3, default_activation='relu')\n"
     ]
    },
    {
     "name": "stderr",
     "output_type": "stream",
     "text": [
      "Epoch Progress: 100%|██████████| 25/25 [01:27<00:00,  3.51s/epoch, loss=0.342, acc=0.861, val_loss=0.369, val_acc=0.872]\n"
     ]
    },
    {
     "name": "stdout",
     "output_type": "stream",
     "text": [
      "Run 283 / 576 with HyperParameters(learning_rate=0.001, kernel_size=3, num_epochs=25, optimise='Adam', loss='binary_crossentropy', num_filter=64, strides=1, padding='same', dropout_rate=0.25, layers=3, default_activation='relu')\n"
     ]
    },
    {
     "name": "stderr",
     "output_type": "stream",
     "text": [
      "Epoch Progress: 100%|██████████| 25/25 [02:45<00:00,  6.61s/epoch, loss=0.247, acc=0.901, val_loss=0.378, val_acc=0.846]\n"
     ]
    },
    {
     "name": "stdout",
     "output_type": "stream",
     "text": [
      "Overfitting detected at epoch 25: Loss Gap = 0.1305\n",
      "Run 284 / 576 with HyperParameters(learning_rate=0.001, kernel_size=3, num_epochs=25, optimise='Adam', loss='binary_crossentropy', num_filter=64, strides=2, padding='same', dropout_rate=0.25, layers=3, default_activation='relu')\n"
     ]
    },
    {
     "name": "stderr",
     "output_type": "stream",
     "text": [
      "Epoch Progress: 100%|██████████| 25/25 [01:23<00:00,  3.33s/epoch, loss=0.327, acc=0.872, val_loss=0.356, val_acc=0.885]\n"
     ]
    },
    {
     "name": "stdout",
     "output_type": "stream",
     "text": [
      "Run 285 / 576 with HyperParameters(learning_rate=0.001, kernel_size=3, num_epochs=25, optimise='Adam', loss='binary_crossentropy', num_filter=64, strides=1, padding='same', dropout_rate=0.1, layers=4, default_activation='relu')\n"
     ]
    },
    {
     "name": "stderr",
     "output_type": "stream",
     "text": [
      "Epoch Progress:  76%|███████▌  | 19/25 [02:45<00:51,  8.63s/epoch, loss=0.343, acc=0.852, val_loss=0.444, val_acc=0.846]"
     ]
    },
    {
     "name": "stdout",
     "output_type": "stream",
     "text": [
      "Overfitting detected at epoch 19: Loss Gap = 0.1006\n"
     ]
    },
    {
     "name": "stderr",
     "output_type": "stream",
     "text": [
      "Epoch Progress:  80%|████████  | 20/25 [02:54<00:42,  8.52s/epoch, loss=0.321, acc=0.853, val_loss=0.466, val_acc=0.833]"
     ]
    },
    {
     "name": "stdout",
     "output_type": "stream",
     "text": [
      "Overfitting detected at epoch 20: Loss Gap = 0.1455\n"
     ]
    },
    {
     "name": "stderr",
     "output_type": "stream",
     "text": [
      "Epoch Progress:  84%|████████▍ | 21/25 [03:02<00:34,  8.68s/epoch, loss=0.314, acc=0.872, val_loss=0.528, val_acc=0.821]\n"
     ]
    },
    {
     "name": "stdout",
     "output_type": "stream",
     "text": [
      "Overfitting detected at epoch 21: Loss Gap = 0.2139\n",
      "Stopping training due to persistent overfitting.\n",
      "Run 286 / 576 with HyperParameters(learning_rate=0.001, kernel_size=3, num_epochs=25, optimise='Adam', loss='binary_crossentropy', num_filter=64, strides=2, padding='same', dropout_rate=0.1, layers=4, default_activation='relu')\n"
     ]
    },
    {
     "name": "stderr",
     "output_type": "stream",
     "text": [
      "Epoch Progress:  84%|████████▍ | 21/25 [01:13<00:13,  3.43s/epoch, loss=0.304, acc=0.868, val_loss=0.421, val_acc=0.859]"
     ]
    },
    {
     "name": "stdout",
     "output_type": "stream",
     "text": [
      "Overfitting detected at epoch 21: Loss Gap = 0.1176\n"
     ]
    },
    {
     "name": "stderr",
     "output_type": "stream",
     "text": [
      "Epoch Progress:  88%|████████▊ | 22/25 [01:16<00:10,  3.44s/epoch, loss=0.292, acc=0.885, val_loss=0.54, val_acc=0.833] "
     ]
    },
    {
     "name": "stdout",
     "output_type": "stream",
     "text": [
      "Overfitting detected at epoch 22: Loss Gap = 0.2479\n"
     ]
    },
    {
     "name": "stderr",
     "output_type": "stream",
     "text": [
      "Epoch Progress: 100%|██████████| 25/25 [01:26<00:00,  3.47s/epoch, loss=0.307, acc=0.868, val_loss=0.446, val_acc=0.808]"
     ]
    },
    {
     "name": "stdout",
     "output_type": "stream",
     "text": [
      "Overfitting detected at epoch 25: Loss Gap = 0.1393\n",
      "Run 287 / 576 with HyperParameters(learning_rate=0.001, kernel_size=3, num_epochs=25, optimise='Adam', loss='binary_crossentropy', num_filter=64, strides=1, padding='same', dropout_rate=0.25, layers=4, default_activation='relu')\n"
     ]
    },
    {
     "name": "stderr",
     "output_type": "stream",
     "text": [
      "\n",
      "Epoch Progress: 100%|██████████| 25/25 [03:30<00:00,  8.44s/epoch, loss=0.368, acc=0.824, val_loss=0.392, val_acc=0.846]\n"
     ]
    },
    {
     "name": "stdout",
     "output_type": "stream",
     "text": [
      "Run 288 / 576 with HyperParameters(learning_rate=0.001, kernel_size=3, num_epochs=25, optimise='Adam', loss='binary_crossentropy', num_filter=64, strides=2, padding='same', dropout_rate=0.25, layers=4, default_activation='relu')\n"
     ]
    },
    {
     "name": "stderr",
     "output_type": "stream",
     "text": [
      "Epoch Progress: 100%|██████████| 25/25 [01:32<00:00,  3.70s/epoch, loss=0.324, acc=0.868, val_loss=0.371, val_acc=0.859]\n"
     ]
    },
    {
     "name": "stdout",
     "output_type": "stream",
     "text": [
      "Run 289 / 576 with HyperParameters(learning_rate=0.005, kernel_size=2, num_epochs=10, optimise='Adam', loss='binary_crossentropy', num_filter=16, strides=1, padding='same', dropout_rate=0.1, layers=2, default_activation='relu')\n"
     ]
    },
    {
     "name": "stderr",
     "output_type": "stream",
     "text": [
      "Epoch Progress: 100%|██████████| 10/10 [00:06<00:00,  1.46epoch/s, loss=0.452, acc=0.802, val_loss=0.458, val_acc=0.833]\n"
     ]
    },
    {
     "name": "stdout",
     "output_type": "stream",
     "text": [
      "Run 290 / 576 with HyperParameters(learning_rate=0.005, kernel_size=2, num_epochs=10, optimise='Adam', loss='binary_crossentropy', num_filter=16, strides=2, padding='same', dropout_rate=0.1, layers=2, default_activation='relu')\n"
     ]
    },
    {
     "name": "stderr",
     "output_type": "stream",
     "text": [
      "Epoch Progress: 100%|██████████| 10/10 [00:04<00:00,  2.28epoch/s, loss=0.536, acc=0.731, val_loss=0.547, val_acc=0.731]\n"
     ]
    },
    {
     "name": "stdout",
     "output_type": "stream",
     "text": [
      "Run 291 / 576 with HyperParameters(learning_rate=0.005, kernel_size=2, num_epochs=10, optimise='Adam', loss='binary_crossentropy', num_filter=16, strides=1, padding='same', dropout_rate=0.25, layers=2, default_activation='relu')\n"
     ]
    },
    {
     "name": "stderr",
     "output_type": "stream",
     "text": [
      "Epoch Progress: 100%|██████████| 10/10 [00:07<00:00,  1.42epoch/s, loss=0.486, acc=0.762, val_loss=0.521, val_acc=0.808]\n"
     ]
    },
    {
     "name": "stdout",
     "output_type": "stream",
     "text": [
      "Run 292 / 576 with HyperParameters(learning_rate=0.005, kernel_size=2, num_epochs=10, optimise='Adam', loss='binary_crossentropy', num_filter=16, strides=2, padding='same', dropout_rate=0.25, layers=2, default_activation='relu')\n"
     ]
    },
    {
     "name": "stderr",
     "output_type": "stream",
     "text": [
      "Epoch Progress: 100%|██████████| 10/10 [00:03<00:00,  2.52epoch/s, loss=0.553, acc=0.731, val_loss=0.556, val_acc=0.731]\n"
     ]
    },
    {
     "name": "stdout",
     "output_type": "stream",
     "text": [
      "Run 293 / 576 with HyperParameters(learning_rate=0.005, kernel_size=2, num_epochs=10, optimise='Adam', loss='binary_crossentropy', num_filter=16, strides=1, padding='same', dropout_rate=0.1, layers=3, default_activation='relu')\n"
     ]
    },
    {
     "name": "stderr",
     "output_type": "stream",
     "text": [
      "Epoch Progress: 100%|██████████| 10/10 [00:40<00:00,  4.01s/epoch, loss=0.46, acc=0.797, val_loss=0.457, val_acc=0.859] \n"
     ]
    },
    {
     "name": "stdout",
     "output_type": "stream",
     "text": [
      "Run 294 / 576 with HyperParameters(learning_rate=0.005, kernel_size=2, num_epochs=10, optimise='Adam', loss='binary_crossentropy', num_filter=16, strides=2, padding='same', dropout_rate=0.1, layers=3, default_activation='relu')\n"
     ]
    },
    {
     "name": "stderr",
     "output_type": "stream",
     "text": [
      "Epoch Progress: 100%|██████████| 10/10 [00:07<00:00,  1.32epoch/s, loss=0.551, acc=0.731, val_loss=0.556, val_acc=0.731]\n"
     ]
    },
    {
     "name": "stdout",
     "output_type": "stream",
     "text": [
      "Run 295 / 576 with HyperParameters(learning_rate=0.005, kernel_size=2, num_epochs=10, optimise='Adam', loss='binary_crossentropy', num_filter=16, strides=1, padding='same', dropout_rate=0.25, layers=3, default_activation='relu')\n"
     ]
    },
    {
     "name": "stderr",
     "output_type": "stream",
     "text": [
      "Epoch Progress: 100%|██████████| 10/10 [00:13<00:00,  1.30s/epoch, loss=0.486, acc=0.777, val_loss=0.529, val_acc=0.833]\n"
     ]
    },
    {
     "name": "stdout",
     "output_type": "stream",
     "text": [
      "Run 296 / 576 with HyperParameters(learning_rate=0.005, kernel_size=2, num_epochs=10, optimise='Adam', loss='binary_crossentropy', num_filter=16, strides=2, padding='same', dropout_rate=0.25, layers=3, default_activation='relu')\n"
     ]
    },
    {
     "name": "stderr",
     "output_type": "stream",
     "text": [
      "Epoch Progress: 100%|██████████| 10/10 [00:07<00:00,  1.42epoch/s, loss=0.578, acc=0.731, val_loss=0.573, val_acc=0.731]\n"
     ]
    },
    {
     "name": "stdout",
     "output_type": "stream",
     "text": [
      "Run 297 / 576 with HyperParameters(learning_rate=0.005, kernel_size=2, num_epochs=10, optimise='Adam', loss='binary_crossentropy', num_filter=16, strides=1, padding='same', dropout_rate=0.1, layers=4, default_activation='relu')\n"
     ]
    },
    {
     "name": "stderr",
     "output_type": "stream",
     "text": [
      "Epoch Progress: 100%|██████████| 10/10 [00:15<00:00,  1.53s/epoch, loss=0.494, acc=0.731, val_loss=0.49, val_acc=0.731] \n"
     ]
    },
    {
     "name": "stdout",
     "output_type": "stream",
     "text": [
      "Run 298 / 576 with HyperParameters(learning_rate=0.005, kernel_size=2, num_epochs=10, optimise='Adam', loss='binary_crossentropy', num_filter=16, strides=2, padding='same', dropout_rate=0.1, layers=4, default_activation='relu')\n"
     ]
    },
    {
     "name": "stderr",
     "output_type": "stream",
     "text": [
      "Epoch Progress: 100%|██████████| 10/10 [00:06<00:00,  1.43epoch/s, loss=0.55, acc=0.731, val_loss=0.553, val_acc=0.731] \n"
     ]
    },
    {
     "name": "stdout",
     "output_type": "stream",
     "text": [
      "Run 299 / 576 with HyperParameters(learning_rate=0.005, kernel_size=2, num_epochs=10, optimise='Adam', loss='binary_crossentropy', num_filter=16, strides=1, padding='same', dropout_rate=0.25, layers=4, default_activation='relu')\n"
     ]
    },
    {
     "name": "stderr",
     "output_type": "stream",
     "text": [
      "Epoch Progress:  50%|█████     | 5/10 [00:07<00:07,  1.46s/epoch, loss=0.553, acc=0.733, val_loss=0.654, val_acc=0.731]"
     ]
    },
    {
     "name": "stdout",
     "output_type": "stream",
     "text": [
      "Overfitting detected at epoch 5: Loss Gap = 0.1014\n"
     ]
    },
    {
     "name": "stderr",
     "output_type": "stream",
     "text": [
      "Epoch Progress:  70%|███████   | 7/10 [00:10<00:04,  1.45s/epoch, loss=0.532, acc=0.736, val_loss=0.659, val_acc=0.731]"
     ]
    },
    {
     "name": "stdout",
     "output_type": "stream",
     "text": [
      "Overfitting detected at epoch 7: Loss Gap = 0.1266\n"
     ]
    },
    {
     "name": "stderr",
     "output_type": "stream",
     "text": [
      "Epoch Progress: 100%|██████████| 10/10 [00:14<00:00,  1.47s/epoch, loss=0.509, acc=0.751, val_loss=0.584, val_acc=0.744]\n"
     ]
    },
    {
     "name": "stdout",
     "output_type": "stream",
     "text": [
      "Run 300 / 576 with HyperParameters(learning_rate=0.005, kernel_size=2, num_epochs=10, optimise='Adam', loss='binary_crossentropy', num_filter=16, strides=2, padding='same', dropout_rate=0.25, layers=4, default_activation='relu')\n"
     ]
    },
    {
     "name": "stderr",
     "output_type": "stream",
     "text": [
      "Epoch Progress: 100%|██████████| 10/10 [00:06<00:00,  1.55epoch/s, loss=0.559, acc=0.731, val_loss=0.57, val_acc=0.731] \n"
     ]
    },
    {
     "name": "stdout",
     "output_type": "stream",
     "text": [
      "Run 301 / 576 with HyperParameters(learning_rate=0.005, kernel_size=2, num_epochs=10, optimise='Adam', loss='binary_crossentropy', num_filter=32, strides=1, padding='same', dropout_rate=0.1, layers=2, default_activation='relu')\n"
     ]
    },
    {
     "name": "stderr",
     "output_type": "stream",
     "text": [
      "Epoch Progress: 100%|██████████| 10/10 [00:16<00:00,  1.64s/epoch, loss=0.486, acc=0.766, val_loss=0.508, val_acc=0.808]\n"
     ]
    },
    {
     "name": "stdout",
     "output_type": "stream",
     "text": [
      "Run 302 / 576 with HyperParameters(learning_rate=0.005, kernel_size=2, num_epochs=10, optimise='Adam', loss='binary_crossentropy', num_filter=32, strides=2, padding='same', dropout_rate=0.1, layers=2, default_activation='relu')\n"
     ]
    },
    {
     "name": "stderr",
     "output_type": "stream",
     "text": [
      "Epoch Progress: 100%|██████████| 10/10 [00:09<00:00,  1.07epoch/s, loss=0.516, acc=0.747, val_loss=0.516, val_acc=0.756]\n"
     ]
    },
    {
     "name": "stdout",
     "output_type": "stream",
     "text": [
      "Run 303 / 576 with HyperParameters(learning_rate=0.005, kernel_size=2, num_epochs=10, optimise='Adam', loss='binary_crossentropy', num_filter=32, strides=1, padding='same', dropout_rate=0.25, layers=2, default_activation='relu')\n"
     ]
    },
    {
     "name": "stderr",
     "output_type": "stream",
     "text": [
      "Epoch Progress: 100%|██████████| 10/10 [00:15<00:00,  1.58s/epoch, loss=0.487, acc=0.756, val_loss=0.569, val_acc=0.782]\n"
     ]
    },
    {
     "name": "stdout",
     "output_type": "stream",
     "text": [
      "Run 304 / 576 with HyperParameters(learning_rate=0.005, kernel_size=2, num_epochs=10, optimise='Adam', loss='binary_crossentropy', num_filter=32, strides=2, padding='same', dropout_rate=0.25, layers=2, default_activation='relu')\n"
     ]
    },
    {
     "name": "stderr",
     "output_type": "stream",
     "text": [
      "Epoch Progress: 100%|██████████| 10/10 [00:08<00:00,  1.14epoch/s, loss=0.53, acc=0.731, val_loss=0.538, val_acc=0.731] \n"
     ]
    },
    {
     "name": "stdout",
     "output_type": "stream",
     "text": [
      "Run 305 / 576 with HyperParameters(learning_rate=0.005, kernel_size=2, num_epochs=10, optimise='Adam', loss='binary_crossentropy', num_filter=32, strides=1, padding='same', dropout_rate=0.1, layers=3, default_activation='relu')\n"
     ]
    },
    {
     "name": "stderr",
     "output_type": "stream",
     "text": [
      "Epoch Progress: 100%|██████████| 10/10 [00:18<00:00,  1.81s/epoch, loss=0.435, acc=0.811, val_loss=0.438, val_acc=0.808]\n"
     ]
    },
    {
     "name": "stdout",
     "output_type": "stream",
     "text": [
      "Run 306 / 576 with HyperParameters(learning_rate=0.005, kernel_size=2, num_epochs=10, optimise='Adam', loss='binary_crossentropy', num_filter=32, strides=2, padding='same', dropout_rate=0.1, layers=3, default_activation='relu')\n"
     ]
    },
    {
     "name": "stderr",
     "output_type": "stream",
     "text": [
      "Epoch Progress: 100%|██████████| 10/10 [00:08<00:00,  1.21epoch/s, loss=0.524, acc=0.736, val_loss=0.528, val_acc=0.756]\n"
     ]
    },
    {
     "name": "stdout",
     "output_type": "stream",
     "text": [
      "Run 307 / 576 with HyperParameters(learning_rate=0.005, kernel_size=2, num_epochs=10, optimise='Adam', loss='binary_crossentropy', num_filter=32, strides=1, padding='same', dropout_rate=0.25, layers=3, default_activation='relu')\n"
     ]
    },
    {
     "name": "stderr",
     "output_type": "stream",
     "text": [
      "Epoch Progress: 100%|██████████| 10/10 [00:17<00:00,  1.73s/epoch, loss=0.473, acc=0.788, val_loss=0.461, val_acc=0.833]\n"
     ]
    },
    {
     "name": "stdout",
     "output_type": "stream",
     "text": [
      "Run 308 / 576 with HyperParameters(learning_rate=0.005, kernel_size=2, num_epochs=10, optimise='Adam', loss='binary_crossentropy', num_filter=32, strides=2, padding='same', dropout_rate=0.25, layers=3, default_activation='relu')\n"
     ]
    },
    {
     "name": "stderr",
     "output_type": "stream",
     "text": [
      "Epoch Progress: 100%|██████████| 10/10 [00:07<00:00,  1.29epoch/s, loss=0.535, acc=0.736, val_loss=0.536, val_acc=0.769]\n"
     ]
    },
    {
     "name": "stdout",
     "output_type": "stream",
     "text": [
      "Run 309 / 576 with HyperParameters(learning_rate=0.005, kernel_size=2, num_epochs=10, optimise='Adam', loss='binary_crossentropy', num_filter=32, strides=1, padding='same', dropout_rate=0.1, layers=4, default_activation='relu')\n"
     ]
    },
    {
     "name": "stderr",
     "output_type": "stream",
     "text": [
      "Epoch Progress: 100%|██████████| 10/10 [00:21<00:00,  2.12s/epoch, loss=0.47, acc=0.799, val_loss=0.457, val_acc=0.846]\n"
     ]
    },
    {
     "name": "stdout",
     "output_type": "stream",
     "text": [
      "Run 310 / 576 with HyperParameters(learning_rate=0.005, kernel_size=2, num_epochs=10, optimise='Adam', loss='binary_crossentropy', num_filter=32, strides=2, padding='same', dropout_rate=0.1, layers=4, default_activation='relu')\n"
     ]
    },
    {
     "name": "stderr",
     "output_type": "stream",
     "text": [
      "Epoch Progress: 100%|██████████| 10/10 [00:07<00:00,  1.26epoch/s, loss=0.558, acc=0.731, val_loss=0.564, val_acc=0.731]\n"
     ]
    },
    {
     "name": "stdout",
     "output_type": "stream",
     "text": [
      "Run 311 / 576 with HyperParameters(learning_rate=0.005, kernel_size=2, num_epochs=10, optimise='Adam', loss='binary_crossentropy', num_filter=32, strides=1, padding='same', dropout_rate=0.25, layers=4, default_activation='relu')\n"
     ]
    },
    {
     "name": "stderr",
     "output_type": "stream",
     "text": [
      "Epoch Progress: 100%|██████████| 10/10 [00:20<00:00,  2.10s/epoch, loss=0.489, acc=0.756, val_loss=0.544, val_acc=0.782]\n"
     ]
    },
    {
     "name": "stdout",
     "output_type": "stream",
     "text": [
      "Run 312 / 576 with HyperParameters(learning_rate=0.005, kernel_size=2, num_epochs=10, optimise='Adam', loss='binary_crossentropy', num_filter=32, strides=2, padding='same', dropout_rate=0.25, layers=4, default_activation='relu')\n"
     ]
    },
    {
     "name": "stderr",
     "output_type": "stream",
     "text": [
      "Epoch Progress: 100%|██████████| 10/10 [00:08<00:00,  1.20epoch/s, loss=0.547, acc=0.731, val_loss=0.556, val_acc=0.731]\n"
     ]
    },
    {
     "name": "stdout",
     "output_type": "stream",
     "text": [
      "Run 313 / 576 with HyperParameters(learning_rate=0.005, kernel_size=2, num_epochs=10, optimise='Adam', loss='binary_crossentropy', num_filter=64, strides=1, padding='same', dropout_rate=0.1, layers=2, default_activation='relu')\n"
     ]
    },
    {
     "name": "stderr",
     "output_type": "stream",
     "text": [
      "Epoch Progress: 100%|██████████| 10/10 [00:32<00:00,  3.29s/epoch, loss=0.446, acc=0.802, val_loss=0.442, val_acc=0.859]\n"
     ]
    },
    {
     "name": "stdout",
     "output_type": "stream",
     "text": [
      "Run 314 / 576 with HyperParameters(learning_rate=0.005, kernel_size=2, num_epochs=10, optimise='Adam', loss='binary_crossentropy', num_filter=64, strides=2, padding='same', dropout_rate=0.1, layers=2, default_activation='relu')\n"
     ]
    },
    {
     "name": "stderr",
     "output_type": "stream",
     "text": [
      "Epoch Progress: 100%|██████████| 10/10 [00:19<00:00,  1.94s/epoch, loss=0.497, acc=0.764, val_loss=0.489, val_acc=0.769]\n"
     ]
    },
    {
     "name": "stdout",
     "output_type": "stream",
     "text": [
      "Run 315 / 576 with HyperParameters(learning_rate=0.005, kernel_size=2, num_epochs=10, optimise='Adam', loss='binary_crossentropy', num_filter=64, strides=1, padding='same', dropout_rate=0.25, layers=2, default_activation='relu')\n"
     ]
    },
    {
     "name": "stderr",
     "output_type": "stream",
     "text": [
      "Epoch Progress: 100%|██████████| 10/10 [00:33<00:00,  3.34s/epoch, loss=0.476, acc=0.749, val_loss=0.525, val_acc=0.782]\n"
     ]
    },
    {
     "name": "stdout",
     "output_type": "stream",
     "text": [
      "Run 316 / 576 with HyperParameters(learning_rate=0.005, kernel_size=2, num_epochs=10, optimise='Adam', loss='binary_crossentropy', num_filter=64, strides=2, padding='same', dropout_rate=0.25, layers=2, default_activation='relu')\n"
     ]
    },
    {
     "name": "stderr",
     "output_type": "stream",
     "text": [
      "Epoch Progress: 100%|██████████| 10/10 [00:19<00:00,  1.94s/epoch, loss=0.504, acc=0.773, val_loss=0.506, val_acc=0.808]\n"
     ]
    },
    {
     "name": "stdout",
     "output_type": "stream",
     "text": [
      "Run 317 / 576 with HyperParameters(learning_rate=0.005, kernel_size=2, num_epochs=10, optimise='Adam', loss='binary_crossentropy', num_filter=64, strides=1, padding='same', dropout_rate=0.1, layers=3, default_activation='relu')\n"
     ]
    },
    {
     "name": "stderr",
     "output_type": "stream",
     "text": [
      "Epoch Progress: 100%|██████████| 10/10 [00:39<00:00,  3.99s/epoch, loss=0.466, acc=0.773, val_loss=0.438, val_acc=0.846]\n"
     ]
    },
    {
     "name": "stdout",
     "output_type": "stream",
     "text": [
      "Run 318 / 576 with HyperParameters(learning_rate=0.005, kernel_size=2, num_epochs=10, optimise='Adam', loss='binary_crossentropy', num_filter=64, strides=2, padding='same', dropout_rate=0.1, layers=3, default_activation='relu')\n"
     ]
    },
    {
     "name": "stderr",
     "output_type": "stream",
     "text": [
      "Epoch Progress: 100%|██████████| 10/10 [00:19<00:00,  1.99s/epoch, loss=0.532, acc=0.736, val_loss=0.535, val_acc=0.744]\n"
     ]
    },
    {
     "name": "stdout",
     "output_type": "stream",
     "text": [
      "Run 319 / 576 with HyperParameters(learning_rate=0.005, kernel_size=2, num_epochs=10, optimise='Adam', loss='binary_crossentropy', num_filter=64, strides=1, padding='same', dropout_rate=0.25, layers=3, default_activation='relu')\n"
     ]
    },
    {
     "name": "stderr",
     "output_type": "stream",
     "text": [
      "Epoch Progress: 100%|██████████| 10/10 [00:40<00:00,  4.04s/epoch, loss=0.494, acc=0.753, val_loss=0.556, val_acc=0.769]\n"
     ]
    },
    {
     "name": "stdout",
     "output_type": "stream",
     "text": [
      "Run 320 / 576 with HyperParameters(learning_rate=0.005, kernel_size=2, num_epochs=10, optimise='Adam', loss='binary_crossentropy', num_filter=64, strides=2, padding='same', dropout_rate=0.25, layers=3, default_activation='relu')\n"
     ]
    },
    {
     "name": "stderr",
     "output_type": "stream",
     "text": [
      "Epoch Progress: 100%|██████████| 10/10 [00:19<00:00,  1.99s/epoch, loss=0.535, acc=0.733, val_loss=0.545, val_acc=0.731]\n"
     ]
    },
    {
     "name": "stdout",
     "output_type": "stream",
     "text": [
      "Run 321 / 576 with HyperParameters(learning_rate=0.005, kernel_size=2, num_epochs=10, optimise='Adam', loss='binary_crossentropy', num_filter=64, strides=1, padding='same', dropout_rate=0.1, layers=4, default_activation='relu')\n"
     ]
    },
    {
     "name": "stderr",
     "output_type": "stream",
     "text": [
      "Epoch Progress: 100%|██████████| 10/10 [00:56<00:00,  5.67s/epoch, loss=0.49, acc=0.764, val_loss=0.485, val_acc=0.769]\n"
     ]
    },
    {
     "name": "stdout",
     "output_type": "stream",
     "text": [
      "Run 322 / 576 with HyperParameters(learning_rate=0.005, kernel_size=2, num_epochs=10, optimise='Adam', loss='binary_crossentropy', num_filter=64, strides=2, padding='same', dropout_rate=0.1, layers=4, default_activation='relu')\n"
     ]
    },
    {
     "name": "stderr",
     "output_type": "stream",
     "text": [
      "Epoch Progress: 100%|██████████| 10/10 [00:21<00:00,  2.15s/epoch, loss=0.525, acc=0.738, val_loss=0.531, val_acc=0.744]\n"
     ]
    },
    {
     "name": "stdout",
     "output_type": "stream",
     "text": [
      "Run 323 / 576 with HyperParameters(learning_rate=0.005, kernel_size=2, num_epochs=10, optimise='Adam', loss='binary_crossentropy', num_filter=64, strides=1, padding='same', dropout_rate=0.25, layers=4, default_activation='relu')\n"
     ]
    },
    {
     "name": "stderr",
     "output_type": "stream",
     "text": [
      "Epoch Progress: 100%|██████████| 10/10 [00:57<00:00,  5.71s/epoch, loss=0.502, acc=0.777, val_loss=0.494, val_acc=0.795]\n"
     ]
    },
    {
     "name": "stdout",
     "output_type": "stream",
     "text": [
      "Run 324 / 576 with HyperParameters(learning_rate=0.005, kernel_size=2, num_epochs=10, optimise='Adam', loss='binary_crossentropy', num_filter=64, strides=2, padding='same', dropout_rate=0.25, layers=4, default_activation='relu')\n"
     ]
    },
    {
     "name": "stderr",
     "output_type": "stream",
     "text": [
      "Epoch Progress: 100%|██████████| 10/10 [00:58<00:00,  5.83s/epoch, loss=0.532, acc=0.731, val_loss=0.537, val_acc=0.731]\n"
     ]
    },
    {
     "name": "stdout",
     "output_type": "stream",
     "text": [
      "Run 325 / 576 with HyperParameters(learning_rate=0.005, kernel_size=2, num_epochs=15, optimise='Adam', loss='binary_crossentropy', num_filter=16, strides=1, padding='same', dropout_rate=0.1, layers=2, default_activation='relu')\n"
     ]
    },
    {
     "name": "stderr",
     "output_type": "stream",
     "text": [
      "Epoch Progress: 100%|██████████| 15/15 [00:17<00:00,  1.14s/epoch, loss=0.411, acc=0.83, val_loss=0.452, val_acc=0.833] \n"
     ]
    },
    {
     "name": "stdout",
     "output_type": "stream",
     "text": [
      "Run 326 / 576 with HyperParameters(learning_rate=0.005, kernel_size=2, num_epochs=15, optimise='Adam', loss='binary_crossentropy', num_filter=16, strides=2, padding='same', dropout_rate=0.1, layers=2, default_activation='relu')\n"
     ]
    },
    {
     "name": "stderr",
     "output_type": "stream",
     "text": [
      "Epoch Progress: 100%|██████████| 15/15 [00:10<00:00,  1.38epoch/s, loss=0.532, acc=0.731, val_loss=0.536, val_acc=0.731]\n"
     ]
    },
    {
     "name": "stdout",
     "output_type": "stream",
     "text": [
      "Run 327 / 576 with HyperParameters(learning_rate=0.005, kernel_size=2, num_epochs=15, optimise='Adam', loss='binary_crossentropy', num_filter=16, strides=1, padding='same', dropout_rate=0.25, layers=2, default_activation='relu')\n"
     ]
    },
    {
     "name": "stderr",
     "output_type": "stream",
     "text": [
      "Epoch Progress: 100%|██████████| 15/15 [00:16<00:00,  1.09s/epoch, loss=0.443, acc=0.819, val_loss=0.46, val_acc=0.859] \n"
     ]
    },
    {
     "name": "stdout",
     "output_type": "stream",
     "text": [
      "Run 328 / 576 with HyperParameters(learning_rate=0.005, kernel_size=2, num_epochs=15, optimise='Adam', loss='binary_crossentropy', num_filter=16, strides=2, padding='same', dropout_rate=0.25, layers=2, default_activation='relu')\n"
     ]
    },
    {
     "name": "stderr",
     "output_type": "stream",
     "text": [
      "Epoch Progress: 100%|██████████| 15/15 [00:10<00:00,  1.44epoch/s, loss=0.511, acc=0.738, val_loss=0.524, val_acc=0.756]\n"
     ]
    },
    {
     "name": "stdout",
     "output_type": "stream",
     "text": [
      "Run 329 / 576 with HyperParameters(learning_rate=0.005, kernel_size=2, num_epochs=15, optimise='Adam', loss='binary_crossentropy', num_filter=16, strides=1, padding='same', dropout_rate=0.1, layers=3, default_activation='relu')\n"
     ]
    },
    {
     "name": "stderr",
     "output_type": "stream",
     "text": [
      "Epoch Progress: 100%|██████████| 15/15 [00:18<00:00,  1.25s/epoch, loss=0.441, acc=0.811, val_loss=0.449, val_acc=0.821]\n"
     ]
    },
    {
     "name": "stdout",
     "output_type": "stream",
     "text": [
      "Run 330 / 576 with HyperParameters(learning_rate=0.005, kernel_size=2, num_epochs=15, optimise='Adam', loss='binary_crossentropy', num_filter=16, strides=2, padding='same', dropout_rate=0.1, layers=3, default_activation='relu')\n"
     ]
    },
    {
     "name": "stderr",
     "output_type": "stream",
     "text": [
      "Epoch Progress: 100%|██████████| 15/15 [00:09<00:00,  1.52epoch/s, loss=0.534, acc=0.731, val_loss=0.552, val_acc=0.731]\n"
     ]
    },
    {
     "name": "stdout",
     "output_type": "stream",
     "text": [
      "Run 331 / 576 with HyperParameters(learning_rate=0.005, kernel_size=2, num_epochs=15, optimise='Adam', loss='binary_crossentropy', num_filter=16, strides=1, padding='same', dropout_rate=0.25, layers=3, default_activation='relu')\n"
     ]
    },
    {
     "name": "stderr",
     "output_type": "stream",
     "text": [
      "Epoch Progress: 100%|██████████| 15/15 [00:17<00:00,  1.15s/epoch, loss=0.483, acc=0.78, val_loss=0.507, val_acc=0.795] \n"
     ]
    },
    {
     "name": "stdout",
     "output_type": "stream",
     "text": [
      "Run 332 / 576 with HyperParameters(learning_rate=0.005, kernel_size=2, num_epochs=15, optimise='Adam', loss='binary_crossentropy', num_filter=16, strides=2, padding='same', dropout_rate=0.25, layers=3, default_activation='relu')\n"
     ]
    },
    {
     "name": "stderr",
     "output_type": "stream",
     "text": [
      "Epoch Progress: 100%|██████████| 15/15 [00:08<00:00,  1.67epoch/s, loss=0.553, acc=0.731, val_loss=0.574, val_acc=0.731]\n"
     ]
    },
    {
     "name": "stdout",
     "output_type": "stream",
     "text": [
      "Run 333 / 576 with HyperParameters(learning_rate=0.005, kernel_size=2, num_epochs=15, optimise='Adam', loss='binary_crossentropy', num_filter=16, strides=1, padding='same', dropout_rate=0.1, layers=4, default_activation='relu')\n"
     ]
    },
    {
     "name": "stderr",
     "output_type": "stream",
     "text": [
      "Epoch Progress: 100%|██████████| 15/15 [00:20<00:00,  1.39s/epoch, loss=0.444, acc=0.8, val_loss=0.464, val_acc=0.821]  \n"
     ]
    },
    {
     "name": "stdout",
     "output_type": "stream",
     "text": [
      "Run 334 / 576 with HyperParameters(learning_rate=0.005, kernel_size=2, num_epochs=15, optimise='Adam', loss='binary_crossentropy', num_filter=16, strides=2, padding='same', dropout_rate=0.1, layers=4, default_activation='relu')\n"
     ]
    },
    {
     "name": "stderr",
     "output_type": "stream",
     "text": [
      "Epoch Progress: 100%|██████████| 15/15 [00:09<00:00,  1.61epoch/s, loss=0.536, acc=0.731, val_loss=0.551, val_acc=0.731]\n"
     ]
    },
    {
     "name": "stdout",
     "output_type": "stream",
     "text": [
      "Run 335 / 576 with HyperParameters(learning_rate=0.005, kernel_size=2, num_epochs=15, optimise='Adam', loss='binary_crossentropy', num_filter=16, strides=1, padding='same', dropout_rate=0.25, layers=4, default_activation='relu')\n"
     ]
    },
    {
     "name": "stderr",
     "output_type": "stream",
     "text": [
      "Epoch Progress: 100%|██████████| 15/15 [00:20<00:00,  1.33s/epoch, loss=0.48, acc=0.78, val_loss=0.497, val_acc=0.821]  \n"
     ]
    },
    {
     "name": "stdout",
     "output_type": "stream",
     "text": [
      "Run 336 / 576 with HyperParameters(learning_rate=0.005, kernel_size=2, num_epochs=15, optimise='Adam', loss='binary_crossentropy', num_filter=16, strides=2, padding='same', dropout_rate=0.25, layers=4, default_activation='relu')\n"
     ]
    },
    {
     "name": "stderr",
     "output_type": "stream",
     "text": [
      "Epoch Progress: 100%|██████████| 15/15 [00:08<00:00,  1.76epoch/s, loss=0.543, acc=0.733, val_loss=0.545, val_acc=0.744]\n"
     ]
    },
    {
     "name": "stdout",
     "output_type": "stream",
     "text": [
      "Run 337 / 576 with HyperParameters(learning_rate=0.005, kernel_size=2, num_epochs=15, optimise='Adam', loss='binary_crossentropy', num_filter=32, strides=1, padding='same', dropout_rate=0.1, layers=2, default_activation='relu')\n"
     ]
    },
    {
     "name": "stderr",
     "output_type": "stream",
     "text": [
      "Epoch Progress: 100%|██████████| 15/15 [00:22<00:00,  1.51s/epoch, loss=0.379, acc=0.835, val_loss=0.415, val_acc=0.833]\n"
     ]
    },
    {
     "name": "stdout",
     "output_type": "stream",
     "text": [
      "Run 338 / 576 with HyperParameters(learning_rate=0.005, kernel_size=2, num_epochs=15, optimise='Adam', loss='binary_crossentropy', num_filter=32, strides=2, padding='same', dropout_rate=0.1, layers=2, default_activation='relu')\n"
     ]
    },
    {
     "name": "stderr",
     "output_type": "stream",
     "text": [
      "Epoch Progress: 100%|██████████| 15/15 [00:12<00:00,  1.23epoch/s, loss=0.483, acc=0.782, val_loss=0.464, val_acc=0.808]\n"
     ]
    },
    {
     "name": "stdout",
     "output_type": "stream",
     "text": [
      "Run 339 / 576 with HyperParameters(learning_rate=0.005, kernel_size=2, num_epochs=15, optimise='Adam', loss='binary_crossentropy', num_filter=32, strides=1, padding='same', dropout_rate=0.25, layers=2, default_activation='relu')\n"
     ]
    },
    {
     "name": "stderr",
     "output_type": "stream",
     "text": [
      "Epoch Progress: 100%|██████████| 15/15 [00:21<00:00,  1.44s/epoch, loss=0.449, acc=0.793, val_loss=0.527, val_acc=0.731]\n"
     ]
    },
    {
     "name": "stdout",
     "output_type": "stream",
     "text": [
      "Run 340 / 576 with HyperParameters(learning_rate=0.005, kernel_size=2, num_epochs=15, optimise='Adam', loss='binary_crossentropy', num_filter=32, strides=2, padding='same', dropout_rate=0.25, layers=2, default_activation='relu')\n"
     ]
    },
    {
     "name": "stderr",
     "output_type": "stream",
     "text": [
      "Epoch Progress: 100%|██████████| 15/15 [00:11<00:00,  1.30epoch/s, loss=0.502, acc=0.769, val_loss=0.495, val_acc=0.808]\n"
     ]
    },
    {
     "name": "stdout",
     "output_type": "stream",
     "text": [
      "Run 341 / 576 with HyperParameters(learning_rate=0.005, kernel_size=2, num_epochs=15, optimise='Adam', loss='binary_crossentropy', num_filter=32, strides=1, padding='same', dropout_rate=0.1, layers=3, default_activation='relu')\n"
     ]
    },
    {
     "name": "stderr",
     "output_type": "stream",
     "text": [
      "Epoch Progress: 100%|██████████| 15/15 [00:24<00:00,  1.65s/epoch, loss=0.416, acc=0.804, val_loss=0.447, val_acc=0.782]\n"
     ]
    },
    {
     "name": "stdout",
     "output_type": "stream",
     "text": [
      "Run 342 / 576 with HyperParameters(learning_rate=0.005, kernel_size=2, num_epochs=15, optimise='Adam', loss='binary_crossentropy', num_filter=32, strides=2, padding='same', dropout_rate=0.1, layers=3, default_activation='relu')\n"
     ]
    },
    {
     "name": "stderr",
     "output_type": "stream",
     "text": [
      "Epoch Progress: 100%|██████████| 15/15 [00:10<00:00,  1.39epoch/s, loss=0.513, acc=0.771, val_loss=0.499, val_acc=0.795]\n"
     ]
    },
    {
     "name": "stdout",
     "output_type": "stream",
     "text": [
      "Run 343 / 576 with HyperParameters(learning_rate=0.005, kernel_size=2, num_epochs=15, optimise='Adam', loss='binary_crossentropy', num_filter=32, strides=1, padding='same', dropout_rate=0.25, layers=3, default_activation='relu')\n"
     ]
    },
    {
     "name": "stderr",
     "output_type": "stream",
     "text": [
      "Epoch Progress: 100%|██████████| 15/15 [00:23<00:00,  1.54s/epoch, loss=0.446, acc=0.799, val_loss=0.477, val_acc=0.808]\n"
     ]
    },
    {
     "name": "stdout",
     "output_type": "stream",
     "text": [
      "Run 344 / 576 with HyperParameters(learning_rate=0.005, kernel_size=2, num_epochs=15, optimise='Adam', loss='binary_crossentropy', num_filter=32, strides=2, padding='same', dropout_rate=0.25, layers=3, default_activation='relu')\n"
     ]
    },
    {
     "name": "stderr",
     "output_type": "stream",
     "text": [
      "Epoch Progress: 100%|██████████| 15/15 [00:10<00:00,  1.42epoch/s, loss=0.518, acc=0.756, val_loss=0.527, val_acc=0.769]\n"
     ]
    },
    {
     "name": "stdout",
     "output_type": "stream",
     "text": [
      "Run 345 / 576 with HyperParameters(learning_rate=0.005, kernel_size=2, num_epochs=15, optimise='Adam', loss='binary_crossentropy', num_filter=32, strides=1, padding='same', dropout_rate=0.1, layers=4, default_activation='relu')\n"
     ]
    },
    {
     "name": "stderr",
     "output_type": "stream",
     "text": [
      "Epoch Progress: 100%|██████████| 15/15 [00:30<00:00,  2.02s/epoch, loss=0.409, acc=0.804, val_loss=0.427, val_acc=0.808]\n"
     ]
    },
    {
     "name": "stdout",
     "output_type": "stream",
     "text": [
      "Run 346 / 576 with HyperParameters(learning_rate=0.005, kernel_size=2, num_epochs=15, optimise='Adam', loss='binary_crossentropy', num_filter=32, strides=2, padding='same', dropout_rate=0.1, layers=4, default_activation='relu')\n"
     ]
    },
    {
     "name": "stderr",
     "output_type": "stream",
     "text": [
      "Epoch Progress: 100%|██████████| 15/15 [00:11<00:00,  1.27epoch/s, loss=0.518, acc=0.731, val_loss=0.516, val_acc=0.744]\n"
     ]
    },
    {
     "name": "stdout",
     "output_type": "stream",
     "text": [
      "Run 347 / 576 with HyperParameters(learning_rate=0.005, kernel_size=2, num_epochs=15, optimise='Adam', loss='binary_crossentropy', num_filter=32, strides=1, padding='same', dropout_rate=0.25, layers=4, default_activation='relu')\n"
     ]
    },
    {
     "name": "stderr",
     "output_type": "stream",
     "text": [
      "Epoch Progress: 100%|██████████| 15/15 [00:30<00:00,  2.05s/epoch, loss=0.351, acc=0.85, val_loss=0.447, val_acc=0.833] \n"
     ]
    },
    {
     "name": "stdout",
     "output_type": "stream",
     "text": [
      "Run 348 / 576 with HyperParameters(learning_rate=0.005, kernel_size=2, num_epochs=15, optimise='Adam', loss='binary_crossentropy', num_filter=32, strides=2, padding='same', dropout_rate=0.25, layers=4, default_activation='relu')\n"
     ]
    },
    {
     "name": "stderr",
     "output_type": "stream",
     "text": [
      "Epoch Progress: 100%|██████████| 15/15 [00:11<00:00,  1.28epoch/s, loss=0.538, acc=0.731, val_loss=0.551, val_acc=0.731]\n"
     ]
    },
    {
     "name": "stdout",
     "output_type": "stream",
     "text": [
      "Run 349 / 576 with HyperParameters(learning_rate=0.005, kernel_size=2, num_epochs=15, optimise='Adam', loss='binary_crossentropy', num_filter=64, strides=1, padding='same', dropout_rate=0.1, layers=2, default_activation='relu')\n"
     ]
    },
    {
     "name": "stderr",
     "output_type": "stream",
     "text": [
      "Epoch Progress: 100%|██████████| 15/15 [00:50<00:00,  3.34s/epoch, loss=0.386, acc=0.835, val_loss=0.433, val_acc=0.821]\n"
     ]
    },
    {
     "name": "stdout",
     "output_type": "stream",
     "text": [
      "Run 350 / 576 with HyperParameters(learning_rate=0.005, kernel_size=2, num_epochs=15, optimise='Adam', loss='binary_crossentropy', num_filter=64, strides=2, padding='same', dropout_rate=0.1, layers=2, default_activation='relu')\n"
     ]
    },
    {
     "name": "stderr",
     "output_type": "stream",
     "text": [
      "Epoch Progress: 100%|██████████| 15/15 [00:29<00:00,  2.00s/epoch, loss=0.431, acc=0.817, val_loss=0.439, val_acc=0.846]\n"
     ]
    },
    {
     "name": "stdout",
     "output_type": "stream",
     "text": [
      "Run 351 / 576 with HyperParameters(learning_rate=0.005, kernel_size=2, num_epochs=15, optimise='Adam', loss='binary_crossentropy', num_filter=64, strides=1, padding='same', dropout_rate=0.25, layers=2, default_activation='relu')\n"
     ]
    },
    {
     "name": "stderr",
     "output_type": "stream",
     "text": [
      "Epoch Progress: 100%|██████████| 15/15 [00:58<00:00,  3.93s/epoch, loss=0.455, acc=0.8, val_loss=0.487, val_acc=0.821]  \n"
     ]
    },
    {
     "name": "stdout",
     "output_type": "stream",
     "text": [
      "Run 352 / 576 with HyperParameters(learning_rate=0.005, kernel_size=2, num_epochs=15, optimise='Adam', loss='binary_crossentropy', num_filter=64, strides=2, padding='same', dropout_rate=0.25, layers=2, default_activation='relu')\n"
     ]
    },
    {
     "name": "stderr",
     "output_type": "stream",
     "text": [
      "Epoch Progress: 100%|██████████| 15/15 [00:33<00:00,  2.22s/epoch, loss=0.466, acc=0.8, val_loss=0.476, val_acc=0.808]  \n"
     ]
    },
    {
     "name": "stdout",
     "output_type": "stream",
     "text": [
      "Run 353 / 576 with HyperParameters(learning_rate=0.005, kernel_size=2, num_epochs=15, optimise='Adam', loss='binary_crossentropy', num_filter=64, strides=1, padding='same', dropout_rate=0.1, layers=3, default_activation='relu')\n"
     ]
    },
    {
     "name": "stderr",
     "output_type": "stream",
     "text": [
      "Epoch Progress: 100%|██████████| 15/15 [01:18<00:00,  5.25s/epoch, loss=0.414, acc=0.813, val_loss=0.442, val_acc=0.833]\n"
     ]
    },
    {
     "name": "stdout",
     "output_type": "stream",
     "text": [
      "Run 354 / 576 with HyperParameters(learning_rate=0.005, kernel_size=2, num_epochs=15, optimise='Adam', loss='binary_crossentropy', num_filter=64, strides=2, padding='same', dropout_rate=0.1, layers=3, default_activation='relu')\n"
     ]
    },
    {
     "name": "stderr",
     "output_type": "stream",
     "text": [
      "Epoch Progress: 100%|██████████| 15/15 [00:36<00:00,  2.41s/epoch, loss=0.498, acc=0.773, val_loss=0.475, val_acc=0.821]\n"
     ]
    },
    {
     "name": "stdout",
     "output_type": "stream",
     "text": [
      "Run 355 / 576 with HyperParameters(learning_rate=0.005, kernel_size=2, num_epochs=15, optimise='Adam', loss='binary_crossentropy', num_filter=64, strides=1, padding='same', dropout_rate=0.25, layers=3, default_activation='relu')\n"
     ]
    },
    {
     "name": "stderr",
     "output_type": "stream",
     "text": [
      "Epoch Progress: 100%|██████████| 15/15 [01:27<00:00,  5.86s/epoch, loss=0.453, acc=0.788, val_loss=0.498, val_acc=0.769]\n"
     ]
    },
    {
     "name": "stdout",
     "output_type": "stream",
     "text": [
      "Run 356 / 576 with HyperParameters(learning_rate=0.005, kernel_size=2, num_epochs=15, optimise='Adam', loss='binary_crossentropy', num_filter=64, strides=2, padding='same', dropout_rate=0.25, layers=3, default_activation='relu')\n"
     ]
    },
    {
     "name": "stderr",
     "output_type": "stream",
     "text": [
      "Epoch Progress: 100%|██████████| 15/15 [00:41<00:00,  2.74s/epoch, loss=0.504, acc=0.777, val_loss=0.487, val_acc=0.782]\n"
     ]
    },
    {
     "name": "stdout",
     "output_type": "stream",
     "text": [
      "Run 357 / 576 with HyperParameters(learning_rate=0.005, kernel_size=2, num_epochs=15, optimise='Adam', loss='binary_crossentropy', num_filter=64, strides=1, padding='same', dropout_rate=0.1, layers=4, default_activation='relu')\n"
     ]
    },
    {
     "name": "stderr",
     "output_type": "stream",
     "text": [
      "Epoch Progress: 100%|██████████| 15/15 [01:38<00:00,  6.55s/epoch, loss=0.401, acc=0.811, val_loss=0.441, val_acc=0.846]\n"
     ]
    },
    {
     "name": "stdout",
     "output_type": "stream",
     "text": [
      "Run 358 / 576 with HyperParameters(learning_rate=0.005, kernel_size=2, num_epochs=15, optimise='Adam', loss='binary_crossentropy', num_filter=64, strides=2, padding='same', dropout_rate=0.1, layers=4, default_activation='relu')\n"
     ]
    },
    {
     "name": "stderr",
     "output_type": "stream",
     "text": [
      "Epoch Progress: 100%|██████████| 15/15 [01:41<00:00,  6.73s/epoch, loss=0.49, acc=0.786, val_loss=0.458, val_acc=0.846] \n"
     ]
    },
    {
     "name": "stdout",
     "output_type": "stream",
     "text": [
      "Run 359 / 576 with HyperParameters(learning_rate=0.005, kernel_size=2, num_epochs=15, optimise='Adam', loss='binary_crossentropy', num_filter=64, strides=1, padding='same', dropout_rate=0.25, layers=4, default_activation='relu')\n"
     ]
    },
    {
     "name": "stderr",
     "output_type": "stream",
     "text": [
      "Epoch Progress: 100%|██████████| 15/15 [03:18<00:00, 13.21s/epoch, loss=0.426, acc=0.822, val_loss=0.449, val_acc=0.846]\n"
     ]
    },
    {
     "name": "stdout",
     "output_type": "stream",
     "text": [
      "Run 360 / 576 with HyperParameters(learning_rate=0.005, kernel_size=2, num_epochs=15, optimise='Adam', loss='binary_crossentropy', num_filter=64, strides=2, padding='same', dropout_rate=0.25, layers=4, default_activation='relu')\n"
     ]
    },
    {
     "name": "stderr",
     "output_type": "stream",
     "text": [
      "Epoch Progress: 100%|██████████| 15/15 [01:12<00:00,  4.81s/epoch, loss=0.497, acc=0.769, val_loss=0.47, val_acc=0.782] \n"
     ]
    },
    {
     "name": "stdout",
     "output_type": "stream",
     "text": [
      "Run 361 / 576 with HyperParameters(learning_rate=0.005, kernel_size=2, num_epochs=20, optimise='Adam', loss='binary_crossentropy', num_filter=16, strides=1, padding='same', dropout_rate=0.1, layers=2, default_activation='relu')\n"
     ]
    },
    {
     "name": "stderr",
     "output_type": "stream",
     "text": [
      "Epoch Progress: 100%|██████████| 20/20 [00:22<00:00,  1.14s/epoch, loss=0.341, acc=0.852, val_loss=0.45, val_acc=0.821] \n"
     ]
    },
    {
     "name": "stdout",
     "output_type": "stream",
     "text": [
      "Overfitting detected at epoch 20: Loss Gap = 0.1098\n",
      "Run 362 / 576 with HyperParameters(learning_rate=0.005, kernel_size=2, num_epochs=20, optimise='Adam', loss='binary_crossentropy', num_filter=16, strides=2, padding='same', dropout_rate=0.1, layers=2, default_activation='relu')\n"
     ]
    },
    {
     "name": "stderr",
     "output_type": "stream",
     "text": [
      "Epoch Progress: 100%|██████████| 20/20 [00:14<00:00,  1.35epoch/s, loss=0.463, acc=0.799, val_loss=0.46, val_acc=0.808] \n"
     ]
    },
    {
     "name": "stdout",
     "output_type": "stream",
     "text": [
      "Run 363 / 576 with HyperParameters(learning_rate=0.005, kernel_size=2, num_epochs=20, optimise='Adam', loss='binary_crossentropy', num_filter=16, strides=1, padding='same', dropout_rate=0.25, layers=2, default_activation='relu')\n"
     ]
    },
    {
     "name": "stderr",
     "output_type": "stream",
     "text": [
      "Epoch Progress: 100%|██████████| 20/20 [00:23<00:00,  1.16s/epoch, loss=0.428, acc=0.804, val_loss=0.504, val_acc=0.744]\n"
     ]
    },
    {
     "name": "stdout",
     "output_type": "stream",
     "text": [
      "Run 364 / 576 with HyperParameters(learning_rate=0.005, kernel_size=2, num_epochs=20, optimise='Adam', loss='binary_crossentropy', num_filter=16, strides=2, padding='same', dropout_rate=0.25, layers=2, default_activation='relu')\n"
     ]
    },
    {
     "name": "stderr",
     "output_type": "stream",
     "text": [
      "Epoch Progress: 100%|██████████| 20/20 [00:13<00:00,  1.51epoch/s, loss=0.493, acc=0.771, val_loss=0.488, val_acc=0.782]\n"
     ]
    },
    {
     "name": "stdout",
     "output_type": "stream",
     "text": [
      "Run 365 / 576 with HyperParameters(learning_rate=0.005, kernel_size=2, num_epochs=20, optimise='Adam', loss='binary_crossentropy', num_filter=16, strides=1, padding='same', dropout_rate=0.1, layers=3, default_activation='relu')\n"
     ]
    },
    {
     "name": "stderr",
     "output_type": "stream",
     "text": [
      "Epoch Progress: 100%|██████████| 20/20 [00:24<00:00,  1.23s/epoch, loss=0.399, acc=0.826, val_loss=0.44, val_acc=0.769] \n"
     ]
    },
    {
     "name": "stdout",
     "output_type": "stream",
     "text": [
      "Run 366 / 576 with HyperParameters(learning_rate=0.005, kernel_size=2, num_epochs=20, optimise='Adam', loss='binary_crossentropy', num_filter=16, strides=2, padding='same', dropout_rate=0.1, layers=3, default_activation='relu')\n"
     ]
    },
    {
     "name": "stderr",
     "output_type": "stream",
     "text": [
      "Epoch Progress: 100%|██████████| 20/20 [00:12<00:00,  1.64epoch/s, loss=0.502, acc=0.769, val_loss=0.514, val_acc=0.731]\n"
     ]
    },
    {
     "name": "stdout",
     "output_type": "stream",
     "text": [
      "Run 367 / 576 with HyperParameters(learning_rate=0.005, kernel_size=2, num_epochs=20, optimise='Adam', loss='binary_crossentropy', num_filter=16, strides=1, padding='same', dropout_rate=0.25, layers=3, default_activation='relu')\n"
     ]
    },
    {
     "name": "stderr",
     "output_type": "stream",
     "text": [
      "Epoch Progress: 100%|██████████| 20/20 [00:22<00:00,  1.15s/epoch, loss=0.459, acc=0.795, val_loss=0.477, val_acc=0.795]\n"
     ]
    },
    {
     "name": "stdout",
     "output_type": "stream",
     "text": [
      "Run 368 / 576 with HyperParameters(learning_rate=0.005, kernel_size=2, num_epochs=20, optimise='Adam', loss='binary_crossentropy', num_filter=16, strides=2, padding='same', dropout_rate=0.25, layers=3, default_activation='relu')\n"
     ]
    },
    {
     "name": "stderr",
     "output_type": "stream",
     "text": [
      "Epoch Progress: 100%|██████████| 20/20 [00:11<00:00,  1.72epoch/s, loss=0.531, acc=0.736, val_loss=0.533, val_acc=0.731]\n"
     ]
    },
    {
     "name": "stdout",
     "output_type": "stream",
     "text": [
      "Run 369 / 576 with HyperParameters(learning_rate=0.005, kernel_size=2, num_epochs=20, optimise='Adam', loss='binary_crossentropy', num_filter=16, strides=1, padding='same', dropout_rate=0.1, layers=4, default_activation='relu')\n"
     ]
    },
    {
     "name": "stderr",
     "output_type": "stream",
     "text": [
      "Epoch Progress: 100%|██████████| 20/20 [00:27<00:00,  1.39s/epoch, loss=0.357, acc=0.857, val_loss=0.437, val_acc=0.795]\n"
     ]
    },
    {
     "name": "stdout",
     "output_type": "stream",
     "text": [
      "Run 370 / 576 with HyperParameters(learning_rate=0.005, kernel_size=2, num_epochs=20, optimise='Adam', loss='binary_crossentropy', num_filter=16, strides=2, padding='same', dropout_rate=0.1, layers=4, default_activation='relu')\n"
     ]
    },
    {
     "name": "stderr",
     "output_type": "stream",
     "text": [
      "Epoch Progress: 100%|██████████| 20/20 [00:11<00:00,  1.72epoch/s, loss=0.505, acc=0.764, val_loss=0.509, val_acc=0.782]\n"
     ]
    },
    {
     "name": "stdout",
     "output_type": "stream",
     "text": [
      "Run 371 / 576 with HyperParameters(learning_rate=0.005, kernel_size=2, num_epochs=20, optimise='Adam', loss='binary_crossentropy', num_filter=16, strides=1, padding='same', dropout_rate=0.25, layers=4, default_activation='relu')\n"
     ]
    },
    {
     "name": "stderr",
     "output_type": "stream",
     "text": [
      "Epoch Progress: 100%|██████████| 20/20 [00:25<00:00,  1.27s/epoch, loss=0.448, acc=0.791, val_loss=0.462, val_acc=0.821]\n"
     ]
    },
    {
     "name": "stdout",
     "output_type": "stream",
     "text": [
      "Run 372 / 576 with HyperParameters(learning_rate=0.005, kernel_size=2, num_epochs=20, optimise='Adam', loss='binary_crossentropy', num_filter=16, strides=2, padding='same', dropout_rate=0.25, layers=4, default_activation='relu')\n"
     ]
    },
    {
     "name": "stderr",
     "output_type": "stream",
     "text": [
      "Epoch Progress: 100%|██████████| 20/20 [00:11<00:00,  1.75epoch/s, loss=0.527, acc=0.749, val_loss=0.535, val_acc=0.769]\n"
     ]
    },
    {
     "name": "stdout",
     "output_type": "stream",
     "text": [
      "Run 373 / 576 with HyperParameters(learning_rate=0.005, kernel_size=2, num_epochs=20, optimise='Adam', loss='binary_crossentropy', num_filter=32, strides=1, padding='same', dropout_rate=0.1, layers=2, default_activation='relu')\n"
     ]
    },
    {
     "name": "stderr",
     "output_type": "stream",
     "text": [
      "Epoch Progress:  90%|█████████ | 18/20 [00:26<00:02,  1.43s/epoch, loss=0.304, acc=0.877, val_loss=0.419, val_acc=0.808]"
     ]
    },
    {
     "name": "stdout",
     "output_type": "stream",
     "text": [
      "Overfitting detected at epoch 18: Loss Gap = 0.1158\n"
     ]
    },
    {
     "name": "stderr",
     "output_type": "stream",
     "text": [
      "Epoch Progress:  95%|█████████▌| 19/20 [00:28<00:01,  1.59s/epoch, loss=0.28, acc=0.89, val_loss=0.445, val_acc=0.795]  "
     ]
    },
    {
     "name": "stdout",
     "output_type": "stream",
     "text": [
      "Overfitting detected at epoch 19: Loss Gap = 0.1656\n"
     ]
    },
    {
     "name": "stderr",
     "output_type": "stream",
     "text": [
      "Epoch Progress: 100%|██████████| 20/20 [00:29<00:00,  1.49s/epoch, loss=0.263, acc=0.894, val_loss=0.434, val_acc=0.795]\n"
     ]
    },
    {
     "name": "stdout",
     "output_type": "stream",
     "text": [
      "Overfitting detected at epoch 20: Loss Gap = 0.1713\n",
      "Stopping training due to persistent overfitting.\n",
      "Run 374 / 576 with HyperParameters(learning_rate=0.005, kernel_size=2, num_epochs=20, optimise='Adam', loss='binary_crossentropy', num_filter=32, strides=2, padding='same', dropout_rate=0.1, layers=2, default_activation='relu')\n"
     ]
    },
    {
     "name": "stderr",
     "output_type": "stream",
     "text": [
      "Epoch Progress: 100%|██████████| 20/20 [00:20<00:00,  1.04s/epoch, loss=0.44, acc=0.813, val_loss=0.466, val_acc=0.821] \n"
     ]
    },
    {
     "name": "stdout",
     "output_type": "stream",
     "text": [
      "Run 375 / 576 with HyperParameters(learning_rate=0.005, kernel_size=2, num_epochs=20, optimise='Adam', loss='binary_crossentropy', num_filter=32, strides=1, padding='same', dropout_rate=0.25, layers=2, default_activation='relu')\n"
     ]
    },
    {
     "name": "stderr",
     "output_type": "stream",
     "text": [
      "Epoch Progress:  95%|█████████▌| 19/20 [00:27<00:01,  1.38s/epoch, loss=0.358, acc=0.861, val_loss=0.474, val_acc=0.846]"
     ]
    },
    {
     "name": "stdout",
     "output_type": "stream",
     "text": [
      "Overfitting detected at epoch 19: Loss Gap = 0.1162\n"
     ]
    },
    {
     "name": "stderr",
     "output_type": "stream",
     "text": [
      "Epoch Progress: 100%|██████████| 20/20 [00:29<00:00,  1.46s/epoch, loss=0.352, acc=0.842, val_loss=0.469, val_acc=0.833]\n"
     ]
    },
    {
     "name": "stdout",
     "output_type": "stream",
     "text": [
      "Overfitting detected at epoch 20: Loss Gap = 0.1172\n",
      "Run 376 / 576 with HyperParameters(learning_rate=0.005, kernel_size=2, num_epochs=20, optimise='Adam', loss='binary_crossentropy', num_filter=32, strides=2, padding='same', dropout_rate=0.25, layers=2, default_activation='relu')\n"
     ]
    },
    {
     "name": "stderr",
     "output_type": "stream",
     "text": [
      "Epoch Progress: 100%|██████████| 20/20 [00:15<00:00,  1.28epoch/s, loss=0.469, acc=0.78, val_loss=0.488, val_acc=0.795] \n"
     ]
    },
    {
     "name": "stdout",
     "output_type": "stream",
     "text": [
      "Run 377 / 576 with HyperParameters(learning_rate=0.005, kernel_size=2, num_epochs=20, optimise='Adam', loss='binary_crossentropy', num_filter=32, strides=1, padding='same', dropout_rate=0.1, layers=3, default_activation='relu')\n"
     ]
    },
    {
     "name": "stderr",
     "output_type": "stream",
     "text": [
      "Epoch Progress: 100%|██████████| 20/20 [00:32<00:00,  1.63s/epoch, loss=0.361, acc=0.855, val_loss=0.499, val_acc=0.718]\n"
     ]
    },
    {
     "name": "stdout",
     "output_type": "stream",
     "text": [
      "Overfitting detected at epoch 20: Loss Gap = 0.1373\n",
      "Run 378 / 576 with HyperParameters(learning_rate=0.005, kernel_size=2, num_epochs=20, optimise='Adam', loss='binary_crossentropy', num_filter=32, strides=2, padding='same', dropout_rate=0.1, layers=3, default_activation='relu')\n"
     ]
    },
    {
     "name": "stderr",
     "output_type": "stream",
     "text": [
      "Epoch Progress: 100%|██████████| 20/20 [00:15<00:00,  1.27epoch/s, loss=0.479, acc=0.786, val_loss=0.464, val_acc=0.808]\n"
     ]
    },
    {
     "name": "stdout",
     "output_type": "stream",
     "text": [
      "Run 379 / 576 with HyperParameters(learning_rate=0.005, kernel_size=2, num_epochs=20, optimise='Adam', loss='binary_crossentropy', num_filter=32, strides=1, padding='same', dropout_rate=0.25, layers=3, default_activation='relu')\n"
     ]
    },
    {
     "name": "stderr",
     "output_type": "stream",
     "text": [
      "Epoch Progress: 100%|██████████| 20/20 [00:34<00:00,  1.73s/epoch, loss=0.317, acc=0.868, val_loss=0.409, val_acc=0.821]\n"
     ]
    },
    {
     "name": "stdout",
     "output_type": "stream",
     "text": [
      "Run 380 / 576 with HyperParameters(learning_rate=0.005, kernel_size=2, num_epochs=20, optimise='Adam', loss='binary_crossentropy', num_filter=32, strides=2, padding='same', dropout_rate=0.25, layers=3, default_activation='relu')\n"
     ]
    },
    {
     "name": "stderr",
     "output_type": "stream",
     "text": [
      "Epoch Progress: 100%|██████████| 20/20 [00:14<00:00,  1.42epoch/s, loss=0.486, acc=0.773, val_loss=0.49, val_acc=0.782] \n"
     ]
    },
    {
     "name": "stdout",
     "output_type": "stream",
     "text": [
      "Run 381 / 576 with HyperParameters(learning_rate=0.005, kernel_size=2, num_epochs=20, optimise='Adam', loss='binary_crossentropy', num_filter=32, strides=1, padding='same', dropout_rate=0.1, layers=4, default_activation='relu')\n"
     ]
    },
    {
     "name": "stderr",
     "output_type": "stream",
     "text": [
      "Epoch Progress:  95%|█████████▌| 19/20 [00:39<00:02,  2.07s/epoch, loss=0.282, acc=0.886, val_loss=0.423, val_acc=0.833]"
     ]
    },
    {
     "name": "stdout",
     "output_type": "stream",
     "text": [
      "Overfitting detected at epoch 19: Loss Gap = 0.1411\n"
     ]
    },
    {
     "name": "stderr",
     "output_type": "stream",
     "text": [
      "Epoch Progress: 100%|██████████| 20/20 [00:41<00:00,  2.10s/epoch, loss=0.268, acc=0.875, val_loss=0.418, val_acc=0.833]"
     ]
    },
    {
     "name": "stdout",
     "output_type": "stream",
     "text": [
      "Overfitting detected at epoch 20: Loss Gap = 0.1500\n",
      "Run 382 / 576 with HyperParameters(learning_rate=0.005, kernel_size=2, num_epochs=20, optimise='Adam', loss='binary_crossentropy', num_filter=32, strides=2, padding='same', dropout_rate=0.1, layers=4, default_activation='relu')\n"
     ]
    },
    {
     "name": "stderr",
     "output_type": "stream",
     "text": [
      "\n",
      "Epoch Progress: 100%|██████████| 20/20 [00:16<00:00,  1.19epoch/s, loss=0.486, acc=0.778, val_loss=0.46, val_acc=0.833] \n"
     ]
    },
    {
     "name": "stdout",
     "output_type": "stream",
     "text": [
      "Run 383 / 576 with HyperParameters(learning_rate=0.005, kernel_size=2, num_epochs=20, optimise='Adam', loss='binary_crossentropy', num_filter=32, strides=1, padding='same', dropout_rate=0.25, layers=4, default_activation='relu')\n"
     ]
    },
    {
     "name": "stderr",
     "output_type": "stream",
     "text": [
      "Epoch Progress:  85%|████████▌ | 17/20 [00:36<00:06,  2.10s/epoch, loss=0.365, acc=0.844, val_loss=0.504, val_acc=0.821]"
     ]
    },
    {
     "name": "stdout",
     "output_type": "stream",
     "text": [
      "Overfitting detected at epoch 17: Loss Gap = 0.1390\n"
     ]
    },
    {
     "name": "stderr",
     "output_type": "stream",
     "text": [
      "Epoch Progress:  95%|█████████▌| 19/20 [00:40<00:02,  2.09s/epoch, loss=0.336, acc=0.844, val_loss=0.47, val_acc=0.821] "
     ]
    },
    {
     "name": "stdout",
     "output_type": "stream",
     "text": [
      "Overfitting detected at epoch 19: Loss Gap = 0.1347\n"
     ]
    },
    {
     "name": "stderr",
     "output_type": "stream",
     "text": [
      "Epoch Progress: 100%|██████████| 20/20 [00:42<00:00,  2.14s/epoch, loss=0.322, acc=0.853, val_loss=0.449, val_acc=0.808]\n"
     ]
    },
    {
     "name": "stdout",
     "output_type": "stream",
     "text": [
      "Overfitting detected at epoch 20: Loss Gap = 0.1277\n",
      "Run 384 / 576 with HyperParameters(learning_rate=0.005, kernel_size=2, num_epochs=20, optimise='Adam', loss='binary_crossentropy', num_filter=32, strides=2, padding='same', dropout_rate=0.25, layers=4, default_activation='relu')\n"
     ]
    },
    {
     "name": "stderr",
     "output_type": "stream",
     "text": [
      "Epoch Progress: 100%|██████████| 20/20 [00:15<00:00,  1.26epoch/s, loss=0.493, acc=0.766, val_loss=0.489, val_acc=0.769]\n"
     ]
    },
    {
     "name": "stdout",
     "output_type": "stream",
     "text": [
      "Run 385 / 576 with HyperParameters(learning_rate=0.005, kernel_size=2, num_epochs=20, optimise='Adam', loss='binary_crossentropy', num_filter=64, strides=1, padding='same', dropout_rate=0.1, layers=2, default_activation='relu')\n"
     ]
    },
    {
     "name": "stderr",
     "output_type": "stream",
     "text": [
      "Epoch Progress:  95%|█████████▌| 19/20 [01:04<00:03,  3.41s/epoch, loss=0.347, acc=0.844, val_loss=0.458, val_acc=0.821]"
     ]
    },
    {
     "name": "stdout",
     "output_type": "stream",
     "text": [
      "Overfitting detected at epoch 19: Loss Gap = 0.1105\n"
     ]
    },
    {
     "name": "stderr",
     "output_type": "stream",
     "text": [
      "Epoch Progress: 100%|██████████| 20/20 [01:07<00:00,  3.40s/epoch, loss=0.308, acc=0.874, val_loss=0.446, val_acc=0.833]\n"
     ]
    },
    {
     "name": "stdout",
     "output_type": "stream",
     "text": [
      "Overfitting detected at epoch 20: Loss Gap = 0.1376\n",
      "Run 386 / 576 with HyperParameters(learning_rate=0.005, kernel_size=2, num_epochs=20, optimise='Adam', loss='binary_crossentropy', num_filter=64, strides=2, padding='same', dropout_rate=0.1, layers=2, default_activation='relu')\n"
     ]
    },
    {
     "name": "stderr",
     "output_type": "stream",
     "text": [
      "Epoch Progress: 100%|██████████| 20/20 [00:38<00:00,  1.93s/epoch, loss=0.395, acc=0.811, val_loss=0.431, val_acc=0.821]\n"
     ]
    },
    {
     "name": "stdout",
     "output_type": "stream",
     "text": [
      "Run 387 / 576 with HyperParameters(learning_rate=0.005, kernel_size=2, num_epochs=20, optimise='Adam', loss='binary_crossentropy', num_filter=64, strides=1, padding='same', dropout_rate=0.25, layers=2, default_activation='relu')\n"
     ]
    },
    {
     "name": "stderr",
     "output_type": "stream",
     "text": [
      "Epoch Progress:  75%|███████▌  | 15/20 [00:50<00:16,  3.29s/epoch, loss=0.449, acc=0.789, val_loss=0.554, val_acc=0.769]"
     ]
    },
    {
     "name": "stdout",
     "output_type": "stream",
     "text": [
      "Overfitting detected at epoch 15: Loss Gap = 0.1053\n"
     ]
    },
    {
     "name": "stderr",
     "output_type": "stream",
     "text": [
      "Epoch Progress:  95%|█████████▌| 19/20 [01:03<00:03,  3.27s/epoch, loss=0.361, acc=0.853, val_loss=0.477, val_acc=0.769]"
     ]
    },
    {
     "name": "stdout",
     "output_type": "stream",
     "text": [
      "Overfitting detected at epoch 19: Loss Gap = 0.1159\n"
     ]
    },
    {
     "name": "stderr",
     "output_type": "stream",
     "text": [
      "Epoch Progress: 100%|██████████| 20/20 [01:06<00:00,  3.35s/epoch, loss=0.337, acc=0.853, val_loss=0.457, val_acc=0.833]\n"
     ]
    },
    {
     "name": "stdout",
     "output_type": "stream",
     "text": [
      "Overfitting detected at epoch 20: Loss Gap = 0.1202\n",
      "Run 388 / 576 with HyperParameters(learning_rate=0.005, kernel_size=2, num_epochs=20, optimise='Adam', loss='binary_crossentropy', num_filter=64, strides=2, padding='same', dropout_rate=0.25, layers=2, default_activation='relu')\n"
     ]
    },
    {
     "name": "stderr",
     "output_type": "stream",
     "text": [
      "Epoch Progress: 100%|██████████| 20/20 [00:38<00:00,  1.93s/epoch, loss=0.416, acc=0.819, val_loss=0.433, val_acc=0.821]\n"
     ]
    },
    {
     "name": "stdout",
     "output_type": "stream",
     "text": [
      "Run 389 / 576 with HyperParameters(learning_rate=0.005, kernel_size=2, num_epochs=20, optimise='Adam', loss='binary_crossentropy', num_filter=64, strides=1, padding='same', dropout_rate=0.1, layers=3, default_activation='relu')\n"
     ]
    },
    {
     "name": "stderr",
     "output_type": "stream",
     "text": [
      "Epoch Progress:  75%|███████▌  | 15/20 [01:00<00:19,  3.95s/epoch, loss=0.337, acc=0.848, val_loss=0.489, val_acc=0.846]"
     ]
    },
    {
     "name": "stdout",
     "output_type": "stream",
     "text": [
      "Overfitting detected at epoch 15: Loss Gap = 0.1518\n"
     ]
    },
    {
     "name": "stderr",
     "output_type": "stream",
     "text": [
      "Epoch Progress:  85%|████████▌ | 17/20 [01:08<00:11,  3.92s/epoch, loss=0.337, acc=0.844, val_loss=0.457, val_acc=0.795]"
     ]
    },
    {
     "name": "stdout",
     "output_type": "stream",
     "text": [
      "Overfitting detected at epoch 17: Loss Gap = 0.1200\n"
     ]
    },
    {
     "name": "stderr",
     "output_type": "stream",
     "text": [
      "Epoch Progress:  90%|█████████ | 18/20 [01:12<00:07,  3.88s/epoch, loss=0.293, acc=0.877, val_loss=0.44, val_acc=0.846] "
     ]
    },
    {
     "name": "stdout",
     "output_type": "stream",
     "text": [
      "Overfitting detected at epoch 18: Loss Gap = 0.1468\n"
     ]
    },
    {
     "name": "stderr",
     "output_type": "stream",
     "text": [
      "Epoch Progress:  95%|█████████▌| 19/20 [01:16<00:04,  4.02s/epoch, loss=0.268, acc=0.888, val_loss=0.459, val_acc=0.846]\n"
     ]
    },
    {
     "name": "stdout",
     "output_type": "stream",
     "text": [
      "Overfitting detected at epoch 19: Loss Gap = 0.1906\n",
      "Stopping training due to persistent overfitting.\n",
      "Run 390 / 576 with HyperParameters(learning_rate=0.005, kernel_size=2, num_epochs=20, optimise='Adam', loss='binary_crossentropy', num_filter=64, strides=2, padding='same', dropout_rate=0.1, layers=3, default_activation='relu')\n"
     ]
    },
    {
     "name": "stderr",
     "output_type": "stream",
     "text": [
      "Epoch Progress: 100%|██████████| 20/20 [00:38<00:00,  1.93s/epoch, loss=0.429, acc=0.813, val_loss=0.441, val_acc=0.795]\n"
     ]
    },
    {
     "name": "stdout",
     "output_type": "stream",
     "text": [
      "Run 391 / 576 with HyperParameters(learning_rate=0.005, kernel_size=2, num_epochs=20, optimise='Adam', loss='binary_crossentropy', num_filter=64, strides=1, padding='same', dropout_rate=0.25, layers=3, default_activation='relu')\n"
     ]
    },
    {
     "name": "stderr",
     "output_type": "stream",
     "text": [
      "Epoch Progress: 100%|██████████| 20/20 [01:18<00:00,  3.94s/epoch, loss=0.365, acc=0.83, val_loss=0.414, val_acc=0.821] \n"
     ]
    },
    {
     "name": "stdout",
     "output_type": "stream",
     "text": [
      "Run 392 / 576 with HyperParameters(learning_rate=0.005, kernel_size=2, num_epochs=20, optimise='Adam', loss='binary_crossentropy', num_filter=64, strides=2, padding='same', dropout_rate=0.25, layers=3, default_activation='relu')\n"
     ]
    },
    {
     "name": "stderr",
     "output_type": "stream",
     "text": [
      "Epoch Progress: 100%|██████████| 20/20 [00:38<00:00,  1.94s/epoch, loss=0.485, acc=0.78, val_loss=0.465, val_acc=0.833] \n"
     ]
    },
    {
     "name": "stdout",
     "output_type": "stream",
     "text": [
      "Run 393 / 576 with HyperParameters(learning_rate=0.005, kernel_size=2, num_epochs=20, optimise='Adam', loss='binary_crossentropy', num_filter=64, strides=1, padding='same', dropout_rate=0.1, layers=4, default_activation='relu')\n"
     ]
    },
    {
     "name": "stderr",
     "output_type": "stream",
     "text": [
      "Epoch Progress:  75%|███████▌  | 15/20 [03:20<01:03, 12.64s/epoch, loss=0.365, acc=0.833, val_loss=0.473, val_acc=0.782]"
     ]
    },
    {
     "name": "stdout",
     "output_type": "stream",
     "text": [
      "Overfitting detected at epoch 15: Loss Gap = 0.1078\n"
     ]
    },
    {
     "name": "stderr",
     "output_type": "stream",
     "text": [
      "Epoch Progress:  80%|████████  | 16/20 [03:33<00:50, 12.66s/epoch, loss=0.312, acc=0.853, val_loss=0.444, val_acc=0.821]"
     ]
    },
    {
     "name": "stdout",
     "output_type": "stream",
     "text": [
      "Overfitting detected at epoch 16: Loss Gap = 0.1319\n"
     ]
    },
    {
     "name": "stderr",
     "output_type": "stream",
     "text": [
      "Epoch Progress:  85%|████████▌ | 17/20 [03:45<00:39, 13.26s/epoch, loss=0.297, acc=0.872, val_loss=0.457, val_acc=0.846]"
     ]
    },
    {
     "name": "stdout",
     "output_type": "stream",
     "text": [
      "Overfitting detected at epoch 17: Loss Gap = 0.1602\n",
      "Stopping training due to persistent overfitting.\n",
      "Run 394 / 576 with HyperParameters(learning_rate=0.005, kernel_size=2, num_epochs=20, optimise='Adam', loss='binary_crossentropy', num_filter=64, strides=2, padding='same', dropout_rate=0.1, layers=4, default_activation='relu')\n"
     ]
    },
    {
     "name": "stderr",
     "output_type": "stream",
     "text": [
      "\n",
      "Epoch Progress: 100%|██████████| 20/20 [01:32<00:00,  4.64s/epoch, loss=0.41, acc=0.822, val_loss=0.43, val_acc=0.833]  \n"
     ]
    },
    {
     "name": "stdout",
     "output_type": "stream",
     "text": [
      "Run 395 / 576 with HyperParameters(learning_rate=0.005, kernel_size=2, num_epochs=20, optimise='Adam', loss='binary_crossentropy', num_filter=64, strides=1, padding='same', dropout_rate=0.25, layers=4, default_activation='relu')\n"
     ]
    },
    {
     "name": "stderr",
     "output_type": "stream",
     "text": [
      "Epoch Progress:  85%|████████▌ | 17/20 [03:16<00:34, 11.55s/epoch, loss=0.339, acc=0.848, val_loss=0.442, val_acc=0.821]"
     ]
    },
    {
     "name": "stdout",
     "output_type": "stream",
     "text": [
      "Overfitting detected at epoch 17: Loss Gap = 0.1025\n"
     ]
    },
    {
     "name": "stderr",
     "output_type": "stream",
     "text": [
      "Epoch Progress:  90%|█████████ | 18/20 [03:28<00:22, 11.47s/epoch, loss=0.327, acc=0.846, val_loss=0.461, val_acc=0.859]"
     ]
    },
    {
     "name": "stdout",
     "output_type": "stream",
     "text": [
      "Overfitting detected at epoch 18: Loss Gap = 0.1342\n"
     ]
    },
    {
     "name": "stderr",
     "output_type": "stream",
     "text": [
      "Epoch Progress:  95%|█████████▌| 19/20 [03:39<00:11, 11.55s/epoch, loss=0.342, acc=0.853, val_loss=0.529, val_acc=0.833]\n"
     ]
    },
    {
     "name": "stdout",
     "output_type": "stream",
     "text": [
      "Overfitting detected at epoch 19: Loss Gap = 0.1869\n",
      "Stopping training due to persistent overfitting.\n",
      "Run 396 / 576 with HyperParameters(learning_rate=0.005, kernel_size=2, num_epochs=20, optimise='Adam', loss='binary_crossentropy', num_filter=64, strides=2, padding='same', dropout_rate=0.25, layers=4, default_activation='relu')\n"
     ]
    },
    {
     "name": "stderr",
     "output_type": "stream",
     "text": [
      "Epoch Progress: 100%|██████████| 20/20 [01:29<00:00,  4.49s/epoch, loss=0.444, acc=0.813, val_loss=0.428, val_acc=0.833]\n"
     ]
    },
    {
     "name": "stdout",
     "output_type": "stream",
     "text": [
      "Run 397 / 576 with HyperParameters(learning_rate=0.005, kernel_size=2, num_epochs=25, optimise='Adam', loss='binary_crossentropy', num_filter=16, strides=1, padding='same', dropout_rate=0.1, layers=2, default_activation='relu')\n"
     ]
    },
    {
     "name": "stderr",
     "output_type": "stream",
     "text": [
      "Epoch Progress: 100%|██████████| 25/25 [00:28<00:00,  1.15s/epoch, loss=0.362, acc=0.853, val_loss=0.45, val_acc=0.782] \n"
     ]
    },
    {
     "name": "stdout",
     "output_type": "stream",
     "text": [
      "Run 398 / 576 with HyperParameters(learning_rate=0.005, kernel_size=2, num_epochs=25, optimise='Adam', loss='binary_crossentropy', num_filter=16, strides=2, padding='same', dropout_rate=0.1, layers=2, default_activation='relu')\n"
     ]
    },
    {
     "name": "stderr",
     "output_type": "stream",
     "text": [
      "Epoch Progress: 100%|██████████| 25/25 [00:17<00:00,  1.42epoch/s, loss=0.475, acc=0.786, val_loss=0.469, val_acc=0.795]\n"
     ]
    },
    {
     "name": "stdout",
     "output_type": "stream",
     "text": [
      "Run 399 / 576 with HyperParameters(learning_rate=0.005, kernel_size=2, num_epochs=25, optimise='Adam', loss='binary_crossentropy', num_filter=16, strides=1, padding='same', dropout_rate=0.25, layers=2, default_activation='relu')\n"
     ]
    },
    {
     "name": "stderr",
     "output_type": "stream",
     "text": [
      "Epoch Progress: 100%|██████████| 25/25 [00:27<00:00,  1.09s/epoch, loss=0.328, acc=0.864, val_loss=0.443, val_acc=0.744]"
     ]
    },
    {
     "name": "stdout",
     "output_type": "stream",
     "text": [
      "Overfitting detected at epoch 25: Loss Gap = 0.1150\n",
      "Run 400 / 576 with HyperParameters(learning_rate=0.005, kernel_size=2, num_epochs=25, optimise='Adam', loss='binary_crossentropy', num_filter=16, strides=2, padding='same', dropout_rate=0.25, layers=2, default_activation='relu')\n"
     ]
    },
    {
     "name": "stderr",
     "output_type": "stream",
     "text": [
      "\n",
      "Epoch Progress: 100%|██████████| 25/25 [00:23<00:00,  1.07epoch/s, loss=0.473, acc=0.806, val_loss=0.488, val_acc=0.782]\n"
     ]
    },
    {
     "name": "stdout",
     "output_type": "stream",
     "text": [
      "Run 401 / 576 with HyperParameters(learning_rate=0.005, kernel_size=2, num_epochs=25, optimise='Adam', loss='binary_crossentropy', num_filter=16, strides=1, padding='same', dropout_rate=0.1, layers=3, default_activation='relu')\n"
     ]
    },
    {
     "name": "stderr",
     "output_type": "stream",
     "text": [
      "Epoch Progress: 100%|██████████| 25/25 [00:42<00:00,  1.69s/epoch, loss=0.304, acc=0.881, val_loss=0.435, val_acc=0.821]\n"
     ]
    },
    {
     "name": "stdout",
     "output_type": "stream",
     "text": [
      "Overfitting detected at epoch 25: Loss Gap = 0.1307\n",
      "Run 402 / 576 with HyperParameters(learning_rate=0.005, kernel_size=2, num_epochs=25, optimise='Adam', loss='binary_crossentropy', num_filter=16, strides=2, padding='same', dropout_rate=0.1, layers=3, default_activation='relu')\n"
     ]
    },
    {
     "name": "stderr",
     "output_type": "stream",
     "text": [
      "Epoch Progress: 100%|██████████| 25/25 [00:16<00:00,  1.56epoch/s, loss=0.483, acc=0.778, val_loss=0.453, val_acc=0.821]\n"
     ]
    },
    {
     "name": "stdout",
     "output_type": "stream",
     "text": [
      "Run 403 / 576 with HyperParameters(learning_rate=0.005, kernel_size=2, num_epochs=25, optimise='Adam', loss='binary_crossentropy', num_filter=16, strides=1, padding='same', dropout_rate=0.25, layers=3, default_activation='relu')\n"
     ]
    },
    {
     "name": "stderr",
     "output_type": "stream",
     "text": [
      "Epoch Progress: 100%|██████████| 25/25 [00:29<00:00,  1.16s/epoch, loss=0.437, acc=0.806, val_loss=0.467, val_acc=0.859]\n"
     ]
    },
    {
     "name": "stdout",
     "output_type": "stream",
     "text": [
      "Run 404 / 576 with HyperParameters(learning_rate=0.005, kernel_size=2, num_epochs=25, optimise='Adam', loss='binary_crossentropy', num_filter=16, strides=2, padding='same', dropout_rate=0.25, layers=3, default_activation='relu')\n"
     ]
    },
    {
     "name": "stderr",
     "output_type": "stream",
     "text": [
      "Epoch Progress: 100%|██████████| 25/25 [00:14<00:00,  1.74epoch/s, loss=0.504, acc=0.771, val_loss=0.505, val_acc=0.795]\n"
     ]
    },
    {
     "name": "stdout",
     "output_type": "stream",
     "text": [
      "Run 405 / 576 with HyperParameters(learning_rate=0.005, kernel_size=2, num_epochs=25, optimise='Adam', loss='binary_crossentropy', num_filter=16, strides=1, padding='same', dropout_rate=0.1, layers=4, default_activation='relu')\n"
     ]
    },
    {
     "name": "stderr",
     "output_type": "stream",
     "text": [
      "Epoch Progress:  76%|███████▌  | 19/25 [00:25<00:07,  1.31s/epoch, loss=0.349, acc=0.842, val_loss=0.477, val_acc=0.769]"
     ]
    },
    {
     "name": "stdout",
     "output_type": "stream",
     "text": [
      "Overfitting detected at epoch 19: Loss Gap = 0.1274\n"
     ]
    },
    {
     "name": "stderr",
     "output_type": "stream",
     "text": [
      "Epoch Progress:  80%|████████  | 20/25 [00:27<00:06,  1.33s/epoch, loss=0.329, acc=0.866, val_loss=0.441, val_acc=0.795]"
     ]
    },
    {
     "name": "stdout",
     "output_type": "stream",
     "text": [
      "Overfitting detected at epoch 20: Loss Gap = 0.1122\n"
     ]
    },
    {
     "name": "stderr",
     "output_type": "stream",
     "text": [
      "Epoch Progress:  84%|████████▍ | 21/25 [00:28<00:05,  1.36s/epoch, loss=0.317, acc=0.859, val_loss=0.42, val_acc=0.821] \n"
     ]
    },
    {
     "name": "stdout",
     "output_type": "stream",
     "text": [
      "Overfitting detected at epoch 21: Loss Gap = 0.1038\n",
      "Stopping training due to persistent overfitting.\n",
      "Run 406 / 576 with HyperParameters(learning_rate=0.005, kernel_size=2, num_epochs=25, optimise='Adam', loss='binary_crossentropy', num_filter=16, strides=2, padding='same', dropout_rate=0.1, layers=4, default_activation='relu')\n"
     ]
    },
    {
     "name": "stderr",
     "output_type": "stream",
     "text": [
      "Epoch Progress: 100%|██████████| 25/25 [00:14<00:00,  1.74epoch/s, loss=0.498, acc=0.764, val_loss=0.487, val_acc=0.808]\n"
     ]
    },
    {
     "name": "stdout",
     "output_type": "stream",
     "text": [
      "Run 407 / 576 with HyperParameters(learning_rate=0.005, kernel_size=2, num_epochs=25, optimise='Adam', loss='binary_crossentropy', num_filter=16, strides=1, padding='same', dropout_rate=0.25, layers=4, default_activation='relu')\n"
     ]
    },
    {
     "name": "stderr",
     "output_type": "stream",
     "text": [
      "Epoch Progress: 100%|██████████| 25/25 [00:32<00:00,  1.28s/epoch, loss=0.355, acc=0.842, val_loss=0.448, val_acc=0.782]\n"
     ]
    },
    {
     "name": "stdout",
     "output_type": "stream",
     "text": [
      "Run 408 / 576 with HyperParameters(learning_rate=0.005, kernel_size=2, num_epochs=25, optimise='Adam', loss='binary_crossentropy', num_filter=16, strides=2, padding='same', dropout_rate=0.25, layers=4, default_activation='relu')\n"
     ]
    },
    {
     "name": "stderr",
     "output_type": "stream",
     "text": [
      "Epoch Progress: 100%|██████████| 25/25 [00:13<00:00,  1.85epoch/s, loss=0.5, acc=0.782, val_loss=0.485, val_acc=0.833]  \n"
     ]
    },
    {
     "name": "stdout",
     "output_type": "stream",
     "text": [
      "Run 409 / 576 with HyperParameters(learning_rate=0.005, kernel_size=2, num_epochs=25, optimise='Adam', loss='binary_crossentropy', num_filter=32, strides=1, padding='same', dropout_rate=0.1, layers=2, default_activation='relu')\n"
     ]
    },
    {
     "name": "stderr",
     "output_type": "stream",
     "text": [
      "Epoch Progress:  88%|████████▊ | 22/25 [00:31<00:04,  1.37s/epoch, loss=0.329, acc=0.875, val_loss=0.466, val_acc=0.782]"
     ]
    },
    {
     "name": "stdout",
     "output_type": "stream",
     "text": [
      "Overfitting detected at epoch 22: Loss Gap = 0.1373\n"
     ]
    },
    {
     "name": "stderr",
     "output_type": "stream",
     "text": [
      "Epoch Progress:  92%|█████████▏| 23/25 [00:32<00:02,  1.39s/epoch, loss=0.302, acc=0.883, val_loss=0.42, val_acc=0.795] "
     ]
    },
    {
     "name": "stdout",
     "output_type": "stream",
     "text": [
      "Overfitting detected at epoch 23: Loss Gap = 0.1184\n"
     ]
    },
    {
     "name": "stderr",
     "output_type": "stream",
     "text": [
      "Epoch Progress:  96%|█████████▌| 24/25 [00:34<00:01,  1.44s/epoch, loss=0.263, acc=0.892, val_loss=0.436, val_acc=0.795]\n"
     ]
    },
    {
     "name": "stdout",
     "output_type": "stream",
     "text": [
      "Overfitting detected at epoch 24: Loss Gap = 0.1725\n",
      "Stopping training due to persistent overfitting.\n",
      "Run 410 / 576 with HyperParameters(learning_rate=0.005, kernel_size=2, num_epochs=25, optimise='Adam', loss='binary_crossentropy', num_filter=32, strides=2, padding='same', dropout_rate=0.1, layers=2, default_activation='relu')\n"
     ]
    },
    {
     "name": "stderr",
     "output_type": "stream",
     "text": [
      "Epoch Progress: 100%|██████████| 25/25 [00:19<00:00,  1.27epoch/s, loss=0.397, acc=0.832, val_loss=0.435, val_acc=0.846]\n"
     ]
    },
    {
     "name": "stdout",
     "output_type": "stream",
     "text": [
      "Run 411 / 576 with HyperParameters(learning_rate=0.005, kernel_size=2, num_epochs=25, optimise='Adam', loss='binary_crossentropy', num_filter=32, strides=1, padding='same', dropout_rate=0.25, layers=2, default_activation='relu')\n"
     ]
    },
    {
     "name": "stderr",
     "output_type": "stream",
     "text": [
      "Epoch Progress:  92%|█████████▏| 23/25 [00:35<00:03,  1.53s/epoch, loss=0.32, acc=0.868, val_loss=0.427, val_acc=0.808] "
     ]
    },
    {
     "name": "stdout",
     "output_type": "stream",
     "text": [
      "Overfitting detected at epoch 23: Loss Gap = 0.1069\n"
     ]
    },
    {
     "name": "stderr",
     "output_type": "stream",
     "text": [
      "Epoch Progress:  96%|█████████▌| 24/25 [00:36<00:01,  1.58s/epoch, loss=0.326, acc=0.879, val_loss=0.431, val_acc=0.808]"
     ]
    },
    {
     "name": "stdout",
     "output_type": "stream",
     "text": [
      "Overfitting detected at epoch 24: Loss Gap = 0.1052\n"
     ]
    },
    {
     "name": "stderr",
     "output_type": "stream",
     "text": [
      "Epoch Progress: 100%|██████████| 25/25 [00:38<00:00,  1.55s/epoch, loss=0.295, acc=0.877, val_loss=0.434, val_acc=0.808]"
     ]
    },
    {
     "name": "stdout",
     "output_type": "stream",
     "text": [
      "Overfitting detected at epoch 25: Loss Gap = 0.1397\n",
      "Stopping training due to persistent overfitting.\n",
      "Run 412 / 576 with HyperParameters(learning_rate=0.005, kernel_size=2, num_epochs=25, optimise='Adam', loss='binary_crossentropy', num_filter=32, strides=2, padding='same', dropout_rate=0.25, layers=2, default_activation='relu')\n"
     ]
    },
    {
     "name": "stderr",
     "output_type": "stream",
     "text": [
      "\n",
      "Epoch Progress: 100%|██████████| 25/25 [00:22<00:00,  1.13epoch/s, loss=0.43, acc=0.819, val_loss=0.464, val_acc=0.769] \n"
     ]
    },
    {
     "name": "stdout",
     "output_type": "stream",
     "text": [
      "Run 413 / 576 with HyperParameters(learning_rate=0.005, kernel_size=2, num_epochs=25, optimise='Adam', loss='binary_crossentropy', num_filter=32, strides=1, padding='same', dropout_rate=0.1, layers=3, default_activation='relu')\n"
     ]
    },
    {
     "name": "stderr",
     "output_type": "stream",
     "text": [
      "Epoch Progress:  76%|███████▌  | 19/25 [00:35<00:11,  1.86s/epoch, loss=0.349, acc=0.848, val_loss=0.468, val_acc=0.821]"
     ]
    },
    {
     "name": "stdout",
     "output_type": "stream",
     "text": [
      "Overfitting detected at epoch 19: Loss Gap = 0.1192\n"
     ]
    },
    {
     "name": "stderr",
     "output_type": "stream",
     "text": [
      "Epoch Progress:  80%|████████  | 20/25 [00:37<00:09,  1.87s/epoch, loss=0.331, acc=0.861, val_loss=0.434, val_acc=0.872]"
     ]
    },
    {
     "name": "stdout",
     "output_type": "stream",
     "text": [
      "Overfitting detected at epoch 20: Loss Gap = 0.1037\n"
     ]
    },
    {
     "name": "stderr",
     "output_type": "stream",
     "text": [
      "Epoch Progress:  84%|████████▍ | 21/25 [00:39<00:07,  1.89s/epoch, loss=0.304, acc=0.885, val_loss=0.452, val_acc=0.859]\n"
     ]
    },
    {
     "name": "stdout",
     "output_type": "stream",
     "text": [
      "Overfitting detected at epoch 21: Loss Gap = 0.1478\n",
      "Stopping training due to persistent overfitting.\n",
      "Run 414 / 576 with HyperParameters(learning_rate=0.005, kernel_size=2, num_epochs=25, optimise='Adam', loss='binary_crossentropy', num_filter=32, strides=2, padding='same', dropout_rate=0.1, layers=3, default_activation='relu')\n"
     ]
    },
    {
     "name": "stderr",
     "output_type": "stream",
     "text": [
      "Epoch Progress: 100%|██████████| 25/25 [00:19<00:00,  1.26epoch/s, loss=0.423, acc=0.813, val_loss=0.433, val_acc=0.833]\n"
     ]
    },
    {
     "name": "stdout",
     "output_type": "stream",
     "text": [
      "Run 415 / 576 with HyperParameters(learning_rate=0.005, kernel_size=2, num_epochs=25, optimise='Adam', loss='binary_crossentropy', num_filter=32, strides=1, padding='same', dropout_rate=0.25, layers=3, default_activation='relu')\n"
     ]
    },
    {
     "name": "stderr",
     "output_type": "stream",
     "text": [
      "Epoch Progress:  68%|██████▊   | 17/25 [00:31<00:13,  1.68s/epoch, loss=0.326, acc=0.863, val_loss=0.432, val_acc=0.859]"
     ]
    },
    {
     "name": "stdout",
     "output_type": "stream",
     "text": [
      "Overfitting detected at epoch 17: Loss Gap = 0.1056\n"
     ]
    },
    {
     "name": "stderr",
     "output_type": "stream",
     "text": [
      "Epoch Progress:  72%|███████▏  | 18/25 [00:32<00:11,  1.67s/epoch, loss=0.31, acc=0.868, val_loss=0.433, val_acc=0.846] "
     ]
    },
    {
     "name": "stdout",
     "output_type": "stream",
     "text": [
      "Overfitting detected at epoch 18: Loss Gap = 0.1229\n"
     ]
    },
    {
     "name": "stderr",
     "output_type": "stream",
     "text": [
      "Epoch Progress:  76%|███████▌  | 19/25 [00:34<00:10,  1.80s/epoch, loss=0.326, acc=0.872, val_loss=0.432, val_acc=0.846]\n"
     ]
    },
    {
     "name": "stdout",
     "output_type": "stream",
     "text": [
      "Overfitting detected at epoch 19: Loss Gap = 0.1057\n",
      "Stopping training due to persistent overfitting.\n",
      "Run 416 / 576 with HyperParameters(learning_rate=0.005, kernel_size=2, num_epochs=25, optimise='Adam', loss='binary_crossentropy', num_filter=32, strides=2, padding='same', dropout_rate=0.25, layers=3, default_activation='relu')\n"
     ]
    },
    {
     "name": "stderr",
     "output_type": "stream",
     "text": [
      "Epoch Progress: 100%|██████████| 25/25 [00:19<00:00,  1.29epoch/s, loss=0.447, acc=0.815, val_loss=0.467, val_acc=0.782]\n"
     ]
    },
    {
     "name": "stdout",
     "output_type": "stream",
     "text": [
      "Run 417 / 576 with HyperParameters(learning_rate=0.005, kernel_size=2, num_epochs=25, optimise='Adam', loss='binary_crossentropy', num_filter=32, strides=1, padding='same', dropout_rate=0.1, layers=4, default_activation='relu')\n"
     ]
    },
    {
     "name": "stderr",
     "output_type": "stream",
     "text": [
      "Epoch Progress:  96%|█████████▌| 24/25 [00:52<00:02,  2.09s/epoch, loss=0.326, acc=0.846, val_loss=0.435, val_acc=0.821]"
     ]
    },
    {
     "name": "stdout",
     "output_type": "stream",
     "text": [
      "Overfitting detected at epoch 24: Loss Gap = 0.1093\n"
     ]
    },
    {
     "name": "stderr",
     "output_type": "stream",
     "text": [
      "Epoch Progress: 100%|██████████| 25/25 [00:54<00:00,  2.18s/epoch, loss=0.317, acc=0.857, val_loss=0.427, val_acc=0.846]\n"
     ]
    },
    {
     "name": "stdout",
     "output_type": "stream",
     "text": [
      "Overfitting detected at epoch 25: Loss Gap = 0.1101\n",
      "Run 418 / 576 with HyperParameters(learning_rate=0.005, kernel_size=2, num_epochs=25, optimise='Adam', loss='binary_crossentropy', num_filter=32, strides=2, padding='same', dropout_rate=0.1, layers=4, default_activation='relu')\n"
     ]
    },
    {
     "name": "stderr",
     "output_type": "stream",
     "text": [
      "Epoch Progress: 100%|██████████| 25/25 [00:20<00:00,  1.22epoch/s, loss=0.417, acc=0.813, val_loss=0.418, val_acc=0.846]\n"
     ]
    },
    {
     "name": "stdout",
     "output_type": "stream",
     "text": [
      "Run 419 / 576 with HyperParameters(learning_rate=0.005, kernel_size=2, num_epochs=25, optimise='Adam', loss='binary_crossentropy', num_filter=32, strides=1, padding='same', dropout_rate=0.25, layers=4, default_activation='relu')\n"
     ]
    },
    {
     "name": "stderr",
     "output_type": "stream",
     "text": [
      "Epoch Progress:  68%|██████▊   | 17/25 [00:37<00:17,  2.23s/epoch, loss=0.36, acc=0.832, val_loss=0.493, val_acc=0.821] "
     ]
    },
    {
     "name": "stdout",
     "output_type": "stream",
     "text": [
      "Overfitting detected at epoch 17: Loss Gap = 0.1332\n"
     ]
    },
    {
     "name": "stderr",
     "output_type": "stream",
     "text": [
      "Epoch Progress:  76%|███████▌  | 19/25 [00:42<00:14,  2.37s/epoch, loss=0.339, acc=0.859, val_loss=0.472, val_acc=0.808]"
     ]
    },
    {
     "name": "stdout",
     "output_type": "stream",
     "text": [
      "Overfitting detected at epoch 19: Loss Gap = 0.1330\n"
     ]
    },
    {
     "name": "stderr",
     "output_type": "stream",
     "text": [
      "Epoch Progress:  80%|████████  | 20/25 [00:44<00:12,  2.45s/epoch, loss=0.308, acc=0.868, val_loss=0.495, val_acc=0.821]"
     ]
    },
    {
     "name": "stdout",
     "output_type": "stream",
     "text": [
      "Overfitting detected at epoch 20: Loss Gap = 0.1877\n"
     ]
    },
    {
     "name": "stderr",
     "output_type": "stream",
     "text": [
      "Epoch Progress:  84%|████████▍ | 21/25 [00:47<00:09,  2.25s/epoch, loss=0.323, acc=0.848, val_loss=0.428, val_acc=0.833]\n"
     ]
    },
    {
     "name": "stdout",
     "output_type": "stream",
     "text": [
      "Overfitting detected at epoch 21: Loss Gap = 0.1048\n",
      "Stopping training due to persistent overfitting.\n",
      "Run 420 / 576 with HyperParameters(learning_rate=0.005, kernel_size=2, num_epochs=25, optimise='Adam', loss='binary_crossentropy', num_filter=32, strides=2, padding='same', dropout_rate=0.25, layers=4, default_activation='relu')\n"
     ]
    },
    {
     "name": "stderr",
     "output_type": "stream",
     "text": [
      "Epoch Progress: 100%|██████████| 25/25 [00:20<00:00,  1.22epoch/s, loss=0.463, acc=0.788, val_loss=0.454, val_acc=0.833]\n"
     ]
    },
    {
     "name": "stdout",
     "output_type": "stream",
     "text": [
      "Run 421 / 576 with HyperParameters(learning_rate=0.005, kernel_size=2, num_epochs=25, optimise='Adam', loss='binary_crossentropy', num_filter=64, strides=1, padding='same', dropout_rate=0.1, layers=2, default_activation='relu')\n"
     ]
    },
    {
     "name": "stderr",
     "output_type": "stream",
     "text": [
      "Epoch Progress:  72%|███████▏  | 18/25 [01:20<00:31,  4.46s/epoch, loss=0.344, acc=0.848, val_loss=0.461, val_acc=0.833]"
     ]
    },
    {
     "name": "stdout",
     "output_type": "stream",
     "text": [
      "Overfitting detected at epoch 18: Loss Gap = 0.1163\n"
     ]
    },
    {
     "name": "stderr",
     "output_type": "stream",
     "text": [
      "Epoch Progress:  76%|███████▌  | 19/25 [01:25<00:28,  4.74s/epoch, loss=0.34, acc=0.864, val_loss=0.453, val_acc=0.846] "
     ]
    },
    {
     "name": "stdout",
     "output_type": "stream",
     "text": [
      "Overfitting detected at epoch 19: Loss Gap = 0.1134\n"
     ]
    },
    {
     "name": "stderr",
     "output_type": "stream",
     "text": [
      "Epoch Progress:  80%|████████  | 20/25 [01:30<00:22,  4.51s/epoch, loss=0.325, acc=0.853, val_loss=0.446, val_acc=0.808]"
     ]
    },
    {
     "name": "stdout",
     "output_type": "stream",
     "text": [
      "Overfitting detected at epoch 20: Loss Gap = 0.1210\n",
      "Stopping training due to persistent overfitting.\n",
      "Run 422 / 576 with HyperParameters(learning_rate=0.005, kernel_size=2, num_epochs=25, optimise='Adam', loss='binary_crossentropy', num_filter=64, strides=2, padding='same', dropout_rate=0.1, layers=2, default_activation='relu')\n"
     ]
    },
    {
     "name": "stderr",
     "output_type": "stream",
     "text": [
      "\n",
      "Epoch Progress:  92%|█████████▏| 23/25 [00:50<00:04,  2.05s/epoch, loss=0.315, acc=0.866, val_loss=0.456, val_acc=0.846]"
     ]
    },
    {
     "name": "stdout",
     "output_type": "stream",
     "text": [
      "Overfitting detected at epoch 23: Loss Gap = 0.1410\n"
     ]
    },
    {
     "name": "stderr",
     "output_type": "stream",
     "text": [
      "Epoch Progress:  96%|█████████▌| 24/25 [00:52<00:02,  2.08s/epoch, loss=0.313, acc=0.875, val_loss=0.462, val_acc=0.859]"
     ]
    },
    {
     "name": "stdout",
     "output_type": "stream",
     "text": [
      "Overfitting detected at epoch 24: Loss Gap = 0.1481\n"
     ]
    },
    {
     "name": "stderr",
     "output_type": "stream",
     "text": [
      "Epoch Progress: 100%|██████████| 25/25 [00:54<00:00,  2.17s/epoch, loss=0.315, acc=0.857, val_loss=0.428, val_acc=0.821]"
     ]
    },
    {
     "name": "stdout",
     "output_type": "stream",
     "text": [
      "Overfitting detected at epoch 25: Loss Gap = 0.1129\n",
      "Stopping training due to persistent overfitting.\n",
      "Run 423 / 576 with HyperParameters(learning_rate=0.005, kernel_size=2, num_epochs=25, optimise='Adam', loss='binary_crossentropy', num_filter=64, strides=1, padding='same', dropout_rate=0.25, layers=2, default_activation='relu')\n"
     ]
    },
    {
     "name": "stderr",
     "output_type": "stream",
     "text": [
      "\n",
      "Epoch Progress:  68%|██████▊   | 17/25 [01:11<00:35,  4.43s/epoch, loss=0.384, acc=0.83, val_loss=0.492, val_acc=0.795] "
     ]
    },
    {
     "name": "stdout",
     "output_type": "stream",
     "text": [
      "Overfitting detected at epoch 17: Loss Gap = 0.1080\n"
     ]
    },
    {
     "name": "stderr",
     "output_type": "stream",
     "text": [
      "Epoch Progress:  72%|███████▏  | 18/25 [01:14<00:29,  4.21s/epoch, loss=0.363, acc=0.85, val_loss=0.468, val_acc=0.782]"
     ]
    },
    {
     "name": "stdout",
     "output_type": "stream",
     "text": [
      "Overfitting detected at epoch 18: Loss Gap = 0.1042\n"
     ]
    },
    {
     "name": "stderr",
     "output_type": "stream",
     "text": [
      "Epoch Progress:  76%|███████▌  | 19/25 [01:18<00:24,  4.13s/epoch, loss=0.327, acc=0.863, val_loss=0.453, val_acc=0.846]\n"
     ]
    },
    {
     "name": "stdout",
     "output_type": "stream",
     "text": [
      "Overfitting detected at epoch 19: Loss Gap = 0.1263\n",
      "Stopping training due to persistent overfitting.\n",
      "Run 424 / 576 with HyperParameters(learning_rate=0.005, kernel_size=2, num_epochs=25, optimise='Adam', loss='binary_crossentropy', num_filter=64, strides=2, padding='same', dropout_rate=0.25, layers=2, default_activation='relu')\n"
     ]
    },
    {
     "name": "stderr",
     "output_type": "stream",
     "text": [
      "Epoch Progress: 100%|██████████| 25/25 [00:50<00:00,  2.04s/epoch, loss=0.317, acc=0.872, val_loss=0.425, val_acc=0.846]"
     ]
    },
    {
     "name": "stdout",
     "output_type": "stream",
     "text": [
      "Overfitting detected at epoch 25: Loss Gap = 0.1073\n",
      "Run 425 / 576 with HyperParameters(learning_rate=0.005, kernel_size=2, num_epochs=25, optimise='Adam', loss='binary_crossentropy', num_filter=64, strides=1, padding='same', dropout_rate=0.1, layers=3, default_activation='relu')\n"
     ]
    },
    {
     "name": "stderr",
     "output_type": "stream",
     "text": [
      "\n",
      "Epoch Progress:  72%|███████▏  | 18/25 [01:19<00:30,  4.33s/epoch, loss=0.306, acc=0.874, val_loss=0.437, val_acc=0.808]"
     ]
    },
    {
     "name": "stdout",
     "output_type": "stream",
     "text": [
      "Overfitting detected at epoch 18: Loss Gap = 0.1306\n"
     ]
    },
    {
     "name": "stderr",
     "output_type": "stream",
     "text": [
      "Epoch Progress:  76%|███████▌  | 19/25 [01:24<00:25,  4.28s/epoch, loss=0.279, acc=0.89, val_loss=0.412, val_acc=0.833] "
     ]
    },
    {
     "name": "stdout",
     "output_type": "stream",
     "text": [
      "Overfitting detected at epoch 19: Loss Gap = 0.1331\n"
     ]
    },
    {
     "name": "stderr",
     "output_type": "stream",
     "text": [
      "Epoch Progress:  80%|████████  | 20/25 [01:28<00:22,  4.41s/epoch, loss=0.27, acc=0.888, val_loss=0.482, val_acc=0.833]\n"
     ]
    },
    {
     "name": "stdout",
     "output_type": "stream",
     "text": [
      "Overfitting detected at epoch 20: Loss Gap = 0.2127\n",
      "Stopping training due to persistent overfitting.\n",
      "Run 426 / 576 with HyperParameters(learning_rate=0.005, kernel_size=2, num_epochs=25, optimise='Adam', loss='binary_crossentropy', num_filter=64, strides=2, padding='same', dropout_rate=0.1, layers=3, default_activation='relu')\n"
     ]
    },
    {
     "name": "stderr",
     "output_type": "stream",
     "text": [
      "Epoch Progress: 100%|██████████| 25/25 [00:51<00:00,  2.08s/epoch, loss=0.384, acc=0.837, val_loss=0.443, val_acc=0.846]\n"
     ]
    },
    {
     "name": "stdout",
     "output_type": "stream",
     "text": [
      "Run 427 / 576 with HyperParameters(learning_rate=0.005, kernel_size=2, num_epochs=25, optimise='Adam', loss='binary_crossentropy', num_filter=64, strides=1, padding='same', dropout_rate=0.25, layers=3, default_activation='relu')\n"
     ]
    },
    {
     "name": "stderr",
     "output_type": "stream",
     "text": [
      "Epoch Progress:  68%|██████▊   | 17/25 [01:14<00:35,  4.48s/epoch, loss=0.351, acc=0.848, val_loss=0.498, val_acc=0.821]"
     ]
    },
    {
     "name": "stdout",
     "output_type": "stream",
     "text": [
      "Overfitting detected at epoch 17: Loss Gap = 0.1477\n"
     ]
    },
    {
     "name": "stderr",
     "output_type": "stream",
     "text": [
      "Epoch Progress:  80%|████████  | 20/25 [01:27<00:21,  4.27s/epoch, loss=0.303, acc=0.87, val_loss=0.451, val_acc=0.821] "
     ]
    },
    {
     "name": "stdout",
     "output_type": "stream",
     "text": [
      "Overfitting detected at epoch 20: Loss Gap = 0.1480\n"
     ]
    },
    {
     "name": "stderr",
     "output_type": "stream",
     "text": [
      "Epoch Progress:  84%|████████▍ | 21/25 [01:31<00:16,  4.21s/epoch, loss=0.269, acc=0.888, val_loss=0.4, val_acc=0.833] "
     ]
    },
    {
     "name": "stdout",
     "output_type": "stream",
     "text": [
      "Overfitting detected at epoch 21: Loss Gap = 0.1311\n"
     ]
    },
    {
     "name": "stderr",
     "output_type": "stream",
     "text": [
      "Epoch Progress:  88%|████████▊ | 22/25 [01:35<00:13,  4.35s/epoch, loss=0.28, acc=0.883, val_loss=0.385, val_acc=0.846]\n"
     ]
    },
    {
     "name": "stdout",
     "output_type": "stream",
     "text": [
      "Overfitting detected at epoch 22: Loss Gap = 0.1051\n",
      "Stopping training due to persistent overfitting.\n",
      "Run 428 / 576 with HyperParameters(learning_rate=0.005, kernel_size=2, num_epochs=25, optimise='Adam', loss='binary_crossentropy', num_filter=64, strides=2, padding='same', dropout_rate=0.25, layers=3, default_activation='relu')\n"
     ]
    },
    {
     "name": "stderr",
     "output_type": "stream",
     "text": [
      "Epoch Progress: 100%|██████████| 25/25 [00:50<00:00,  2.03s/epoch, loss=0.46, acc=0.789, val_loss=0.455, val_acc=0.833] \n"
     ]
    },
    {
     "name": "stdout",
     "output_type": "stream",
     "text": [
      "Run 429 / 576 with HyperParameters(learning_rate=0.005, kernel_size=2, num_epochs=25, optimise='Adam', loss='binary_crossentropy', num_filter=64, strides=1, padding='same', dropout_rate=0.1, layers=4, default_activation='relu')\n"
     ]
    },
    {
     "name": "stderr",
     "output_type": "stream",
     "text": [
      "Epoch Progress:  92%|█████████▏| 23/25 [02:16<00:12,  6.04s/epoch, loss=0.361, acc=0.853, val_loss=0.462, val_acc=0.782]"
     ]
    },
    {
     "name": "stdout",
     "output_type": "stream",
     "text": [
      "Overfitting detected at epoch 23: Loss Gap = 0.1013\n"
     ]
    },
    {
     "name": "stderr",
     "output_type": "stream",
     "text": [
      "Epoch Progress: 100%|██████████| 25/25 [02:28<00:00,  5.93s/epoch, loss=0.315, acc=0.859, val_loss=0.409, val_acc=0.821]\n"
     ]
    },
    {
     "name": "stdout",
     "output_type": "stream",
     "text": [
      "Run 430 / 576 with HyperParameters(learning_rate=0.005, kernel_size=2, num_epochs=25, optimise='Adam', loss='binary_crossentropy', num_filter=64, strides=2, padding='same', dropout_rate=0.1, layers=4, default_activation='relu')\n"
     ]
    },
    {
     "name": "stderr",
     "output_type": "stream",
     "text": [
      "Epoch Progress: 100%|██████████| 25/25 [02:07<00:00,  5.12s/epoch, loss=0.344, acc=0.855, val_loss=0.41, val_acc=0.833] \n"
     ]
    },
    {
     "name": "stdout",
     "output_type": "stream",
     "text": [
      "Run 431 / 576 with HyperParameters(learning_rate=0.005, kernel_size=2, num_epochs=25, optimise='Adam', loss='binary_crossentropy', num_filter=64, strides=1, padding='same', dropout_rate=0.25, layers=4, default_activation='relu')\n"
     ]
    },
    {
     "name": "stderr",
     "output_type": "stream",
     "text": [
      "Epoch Progress:  76%|███████▌  | 19/25 [03:58<01:14, 12.35s/epoch, loss=0.395, acc=0.824, val_loss=0.526, val_acc=0.833]"
     ]
    },
    {
     "name": "stdout",
     "output_type": "stream",
     "text": [
      "Overfitting detected at epoch 19: Loss Gap = 0.1306\n"
     ]
    },
    {
     "name": "stderr",
     "output_type": "stream",
     "text": [
      "Epoch Progress:  96%|█████████▌| 24/25 [05:00<00:12, 12.40s/epoch, loss=0.334, acc=0.868, val_loss=0.465, val_acc=0.833]"
     ]
    },
    {
     "name": "stdout",
     "output_type": "stream",
     "text": [
      "Overfitting detected at epoch 24: Loss Gap = 0.1309\n"
     ]
    },
    {
     "name": "stderr",
     "output_type": "stream",
     "text": [
      "Epoch Progress: 100%|██████████| 25/25 [05:12<00:00, 12.52s/epoch, loss=0.31, acc=0.857, val_loss=0.486, val_acc=0.821] \n"
     ]
    },
    {
     "name": "stdout",
     "output_type": "stream",
     "text": [
      "Overfitting detected at epoch 25: Loss Gap = 0.1761\n",
      "Run 432 / 576 with HyperParameters(learning_rate=0.005, kernel_size=2, num_epochs=25, optimise='Adam', loss='binary_crossentropy', num_filter=64, strides=2, padding='same', dropout_rate=0.25, layers=4, default_activation='relu')\n"
     ]
    },
    {
     "name": "stderr",
     "output_type": "stream",
     "text": [
      "Epoch Progress: 100%|██████████| 25/25 [01:54<00:00,  4.60s/epoch, loss=0.384, acc=0.832, val_loss=0.389, val_acc=0.859]\n"
     ]
    },
    {
     "name": "stdout",
     "output_type": "stream",
     "text": [
      "Run 433 / 576 with HyperParameters(learning_rate=0.005, kernel_size=3, num_epochs=10, optimise='Adam', loss='binary_crossentropy', num_filter=16, strides=1, padding='same', dropout_rate=0.1, layers=2, default_activation='relu')\n"
     ]
    },
    {
     "name": "stderr",
     "output_type": "stream",
     "text": [
      "Epoch Progress: 100%|██████████| 10/10 [00:17<00:00,  1.73s/epoch, loss=0.466, acc=0.771, val_loss=0.483, val_acc=0.808]\n"
     ]
    },
    {
     "name": "stdout",
     "output_type": "stream",
     "text": [
      "Run 434 / 576 with HyperParameters(learning_rate=0.005, kernel_size=3, num_epochs=10, optimise='Adam', loss='binary_crossentropy', num_filter=16, strides=2, padding='same', dropout_rate=0.1, layers=2, default_activation='relu')\n"
     ]
    },
    {
     "name": "stderr",
     "output_type": "stream",
     "text": [
      "Epoch Progress: 100%|██████████| 10/10 [00:11<00:00,  1.18s/epoch, loss=0.532, acc=0.733, val_loss=0.539, val_acc=0.731]\n"
     ]
    },
    {
     "name": "stdout",
     "output_type": "stream",
     "text": [
      "Run 435 / 576 with HyperParameters(learning_rate=0.005, kernel_size=3, num_epochs=10, optimise='Adam', loss='binary_crossentropy', num_filter=16, strides=1, padding='same', dropout_rate=0.25, layers=2, default_activation='relu')\n"
     ]
    },
    {
     "name": "stderr",
     "output_type": "stream",
     "text": [
      "Epoch Progress: 100%|██████████| 10/10 [00:15<00:00,  1.58s/epoch, loss=0.493, acc=0.764, val_loss=0.501, val_acc=0.808]\n"
     ]
    },
    {
     "name": "stdout",
     "output_type": "stream",
     "text": [
      "Run 436 / 576 with HyperParameters(learning_rate=0.005, kernel_size=3, num_epochs=10, optimise='Adam', loss='binary_crossentropy', num_filter=16, strides=2, padding='same', dropout_rate=0.25, layers=2, default_activation='relu')\n"
     ]
    },
    {
     "name": "stderr",
     "output_type": "stream",
     "text": [
      "Epoch Progress: 100%|██████████| 10/10 [00:11<00:00,  1.10s/epoch, loss=0.529, acc=0.742, val_loss=0.537, val_acc=0.756]\n"
     ]
    },
    {
     "name": "stdout",
     "output_type": "stream",
     "text": [
      "Run 437 / 576 with HyperParameters(learning_rate=0.005, kernel_size=3, num_epochs=10, optimise='Adam', loss='binary_crossentropy', num_filter=16, strides=1, padding='same', dropout_rate=0.1, layers=3, default_activation='relu')\n"
     ]
    },
    {
     "name": "stderr",
     "output_type": "stream",
     "text": [
      "Epoch Progress: 100%|██████████| 10/10 [00:18<00:00,  1.88s/epoch, loss=0.444, acc=0.797, val_loss=0.449, val_acc=0.833]\n"
     ]
    },
    {
     "name": "stdout",
     "output_type": "stream",
     "text": [
      "Run 438 / 576 with HyperParameters(learning_rate=0.005, kernel_size=3, num_epochs=10, optimise='Adam', loss='binary_crossentropy', num_filter=16, strides=2, padding='same', dropout_rate=0.1, layers=3, default_activation='relu')\n"
     ]
    },
    {
     "name": "stderr",
     "output_type": "stream",
     "text": [
      "Epoch Progress: 100%|██████████| 10/10 [00:10<00:00,  1.04s/epoch, loss=0.547, acc=0.731, val_loss=0.555, val_acc=0.731]\n"
     ]
    },
    {
     "name": "stdout",
     "output_type": "stream",
     "text": [
      "Run 439 / 576 with HyperParameters(learning_rate=0.005, kernel_size=3, num_epochs=10, optimise='Adam', loss='binary_crossentropy', num_filter=16, strides=1, padding='same', dropout_rate=0.25, layers=3, default_activation='relu')\n"
     ]
    },
    {
     "name": "stderr",
     "output_type": "stream",
     "text": [
      "Epoch Progress: 100%|██████████| 10/10 [00:17<00:00,  1.80s/epoch, loss=0.526, acc=0.751, val_loss=0.529, val_acc=0.756]\n"
     ]
    },
    {
     "name": "stdout",
     "output_type": "stream",
     "text": [
      "Run 440 / 576 with HyperParameters(learning_rate=0.005, kernel_size=3, num_epochs=10, optimise='Adam', loss='binary_crossentropy', num_filter=16, strides=2, padding='same', dropout_rate=0.25, layers=3, default_activation='relu')\n"
     ]
    },
    {
     "name": "stderr",
     "output_type": "stream",
     "text": [
      "Epoch Progress: 100%|██████████| 10/10 [00:08<00:00,  1.11epoch/s, loss=0.553, acc=0.727, val_loss=0.568, val_acc=0.731]\n"
     ]
    },
    {
     "name": "stdout",
     "output_type": "stream",
     "text": [
      "Run 441 / 576 with HyperParameters(learning_rate=0.005, kernel_size=3, num_epochs=10, optimise='Adam', loss='binary_crossentropy', num_filter=16, strides=1, padding='same', dropout_rate=0.1, layers=4, default_activation='relu')\n"
     ]
    },
    {
     "name": "stderr",
     "output_type": "stream",
     "text": [
      "Epoch Progress: 100%|██████████| 10/10 [00:19<00:00,  1.90s/epoch, loss=0.469, acc=0.793, val_loss=0.468, val_acc=0.808]\n"
     ]
    },
    {
     "name": "stdout",
     "output_type": "stream",
     "text": [
      "Run 442 / 576 with HyperParameters(learning_rate=0.005, kernel_size=3, num_epochs=10, optimise='Adam', loss='binary_crossentropy', num_filter=16, strides=2, padding='same', dropout_rate=0.1, layers=4, default_activation='relu')\n"
     ]
    },
    {
     "name": "stderr",
     "output_type": "stream",
     "text": [
      "Epoch Progress: 100%|██████████| 10/10 [00:08<00:00,  1.17epoch/s, loss=0.559, acc=0.731, val_loss=0.568, val_acc=0.731]\n"
     ]
    },
    {
     "name": "stdout",
     "output_type": "stream",
     "text": [
      "Run 443 / 576 with HyperParameters(learning_rate=0.005, kernel_size=3, num_epochs=10, optimise='Adam', loss='binary_crossentropy', num_filter=16, strides=1, padding='same', dropout_rate=0.25, layers=4, default_activation='relu')\n"
     ]
    },
    {
     "name": "stderr",
     "output_type": "stream",
     "text": [
      "Epoch Progress: 100%|██████████| 10/10 [00:16<00:00,  1.66s/epoch, loss=0.486, acc=0.758, val_loss=0.476, val_acc=0.833]\n"
     ]
    },
    {
     "name": "stdout",
     "output_type": "stream",
     "text": [
      "Run 444 / 576 with HyperParameters(learning_rate=0.005, kernel_size=3, num_epochs=10, optimise='Adam', loss='binary_crossentropy', num_filter=16, strides=2, padding='same', dropout_rate=0.25, layers=4, default_activation='relu')\n"
     ]
    },
    {
     "name": "stderr",
     "output_type": "stream",
     "text": [
      "Epoch Progress: 100%|██████████| 10/10 [00:07<00:00,  1.33epoch/s, loss=0.536, acc=0.749, val_loss=0.543, val_acc=0.756]\n"
     ]
    },
    {
     "name": "stdout",
     "output_type": "stream",
     "text": [
      "Run 445 / 576 with HyperParameters(learning_rate=0.005, kernel_size=3, num_epochs=10, optimise='Adam', loss='binary_crossentropy', num_filter=32, strides=1, padding='same', dropout_rate=0.1, layers=2, default_activation='relu')\n"
     ]
    },
    {
     "name": "stderr",
     "output_type": "stream",
     "text": [
      "Epoch Progress: 100%|██████████| 10/10 [00:19<00:00,  2.00s/epoch, loss=0.493, acc=0.767, val_loss=0.509, val_acc=0.782]\n"
     ]
    },
    {
     "name": "stdout",
     "output_type": "stream",
     "text": [
      "Run 446 / 576 with HyperParameters(learning_rate=0.005, kernel_size=3, num_epochs=10, optimise='Adam', loss='binary_crossentropy', num_filter=32, strides=2, padding='same', dropout_rate=0.1, layers=2, default_activation='relu')\n"
     ]
    },
    {
     "name": "stderr",
     "output_type": "stream",
     "text": [
      "Epoch Progress: 100%|██████████| 10/10 [00:12<00:00,  1.30s/epoch, loss=0.514, acc=0.745, val_loss=0.511, val_acc=0.744]\n"
     ]
    },
    {
     "name": "stdout",
     "output_type": "stream",
     "text": [
      "Run 447 / 576 with HyperParameters(learning_rate=0.005, kernel_size=3, num_epochs=10, optimise='Adam', loss='binary_crossentropy', num_filter=32, strides=1, padding='same', dropout_rate=0.25, layers=2, default_activation='relu')\n"
     ]
    },
    {
     "name": "stderr",
     "output_type": "stream",
     "text": [
      "Epoch Progress: 100%|██████████| 10/10 [00:20<00:00,  2.01s/epoch, loss=0.488, acc=0.749, val_loss=0.548, val_acc=0.731]\n"
     ]
    },
    {
     "name": "stdout",
     "output_type": "stream",
     "text": [
      "Run 448 / 576 with HyperParameters(learning_rate=0.005, kernel_size=3, num_epochs=10, optimise='Adam', loss='binary_crossentropy', num_filter=32, strides=2, padding='same', dropout_rate=0.25, layers=2, default_activation='relu')\n"
     ]
    },
    {
     "name": "stderr",
     "output_type": "stream",
     "text": [
      "Epoch Progress: 100%|██████████| 10/10 [00:12<00:00,  1.25s/epoch, loss=0.514, acc=0.745, val_loss=0.52, val_acc=0.769] \n"
     ]
    },
    {
     "name": "stdout",
     "output_type": "stream",
     "text": [
      "Run 449 / 576 with HyperParameters(learning_rate=0.005, kernel_size=3, num_epochs=10, optimise='Adam', loss='binary_crossentropy', num_filter=32, strides=1, padding='same', dropout_rate=0.1, layers=3, default_activation='relu')\n"
     ]
    },
    {
     "name": "stderr",
     "output_type": "stream",
     "text": [
      "Epoch Progress: 100%|██████████| 10/10 [00:23<00:00,  2.36s/epoch, loss=0.467, acc=0.795, val_loss=0.456, val_acc=0.808]\n"
     ]
    },
    {
     "name": "stdout",
     "output_type": "stream",
     "text": [
      "Run 450 / 576 with HyperParameters(learning_rate=0.005, kernel_size=3, num_epochs=10, optimise='Adam', loss='binary_crossentropy', num_filter=32, strides=2, padding='same', dropout_rate=0.1, layers=3, default_activation='relu')\n"
     ]
    },
    {
     "name": "stderr",
     "output_type": "stream",
     "text": [
      "Epoch Progress: 100%|██████████| 10/10 [00:12<00:00,  1.26s/epoch, loss=0.526, acc=0.742, val_loss=0.527, val_acc=0.744]\n"
     ]
    },
    {
     "name": "stdout",
     "output_type": "stream",
     "text": [
      "Run 451 / 576 with HyperParameters(learning_rate=0.005, kernel_size=3, num_epochs=10, optimise='Adam', loss='binary_crossentropy', num_filter=32, strides=1, padding='same', dropout_rate=0.25, layers=3, default_activation='relu')\n"
     ]
    },
    {
     "name": "stderr",
     "output_type": "stream",
     "text": [
      "Epoch Progress: 100%|██████████| 10/10 [00:23<00:00,  2.34s/epoch, loss=0.503, acc=0.744, val_loss=0.492, val_acc=0.846]\n"
     ]
    },
    {
     "name": "stdout",
     "output_type": "stream",
     "text": [
      "Run 452 / 576 with HyperParameters(learning_rate=0.005, kernel_size=3, num_epochs=10, optimise='Adam', loss='binary_crossentropy', num_filter=32, strides=2, padding='same', dropout_rate=0.25, layers=3, default_activation='relu')\n"
     ]
    },
    {
     "name": "stderr",
     "output_type": "stream",
     "text": [
      "Epoch Progress: 100%|██████████| 10/10 [00:12<00:00,  1.26s/epoch, loss=0.533, acc=0.731, val_loss=0.541, val_acc=0.731]\n"
     ]
    },
    {
     "name": "stdout",
     "output_type": "stream",
     "text": [
      "Run 453 / 576 with HyperParameters(learning_rate=0.005, kernel_size=3, num_epochs=10, optimise='Adam', loss='binary_crossentropy', num_filter=32, strides=1, padding='same', dropout_rate=0.1, layers=4, default_activation='relu')\n"
     ]
    },
    {
     "name": "stderr",
     "output_type": "stream",
     "text": [
      "Epoch Progress: 100%|██████████| 10/10 [00:31<00:00,  3.18s/epoch, loss=0.516, acc=0.74, val_loss=0.519, val_acc=0.756] \n"
     ]
    },
    {
     "name": "stdout",
     "output_type": "stream",
     "text": [
      "Run 454 / 576 with HyperParameters(learning_rate=0.005, kernel_size=3, num_epochs=10, optimise='Adam', loss='binary_crossentropy', num_filter=32, strides=2, padding='same', dropout_rate=0.1, layers=4, default_activation='relu')\n"
     ]
    },
    {
     "name": "stderr",
     "output_type": "stream",
     "text": [
      "Epoch Progress: 100%|██████████| 10/10 [00:13<00:00,  1.40s/epoch, loss=0.539, acc=0.731, val_loss=0.544, val_acc=0.731]\n"
     ]
    },
    {
     "name": "stdout",
     "output_type": "stream",
     "text": [
      "Run 455 / 576 with HyperParameters(learning_rate=0.005, kernel_size=3, num_epochs=10, optimise='Adam', loss='binary_crossentropy', num_filter=32, strides=1, padding='same', dropout_rate=0.25, layers=4, default_activation='relu')\n"
     ]
    },
    {
     "name": "stderr",
     "output_type": "stream",
     "text": [
      "Epoch Progress: 100%|██████████| 10/10 [00:31<00:00,  3.18s/epoch, loss=0.446, acc=0.795, val_loss=0.487, val_acc=0.833]\n"
     ]
    },
    {
     "name": "stdout",
     "output_type": "stream",
     "text": [
      "Run 456 / 576 with HyperParameters(learning_rate=0.005, kernel_size=3, num_epochs=10, optimise='Adam', loss='binary_crossentropy', num_filter=32, strides=2, padding='same', dropout_rate=0.25, layers=4, default_activation='relu')\n"
     ]
    },
    {
     "name": "stderr",
     "output_type": "stream",
     "text": [
      "Epoch Progress: 100%|██████████| 10/10 [00:14<00:00,  1.44s/epoch, loss=0.548, acc=0.729, val_loss=0.553, val_acc=0.731]\n"
     ]
    },
    {
     "name": "stdout",
     "output_type": "stream",
     "text": [
      "Run 457 / 576 with HyperParameters(learning_rate=0.005, kernel_size=3, num_epochs=10, optimise='Adam', loss='binary_crossentropy', num_filter=64, strides=1, padding='same', dropout_rate=0.1, layers=2, default_activation='relu')\n"
     ]
    },
    {
     "name": "stderr",
     "output_type": "stream",
     "text": [
      "Epoch Progress: 100%|██████████| 10/10 [00:51<00:00,  5.17s/epoch, loss=0.508, acc=0.756, val_loss=0.503, val_acc=0.744]\n"
     ]
    },
    {
     "name": "stdout",
     "output_type": "stream",
     "text": [
      "Run 458 / 576 with HyperParameters(learning_rate=0.005, kernel_size=3, num_epochs=10, optimise='Adam', loss='binary_crossentropy', num_filter=64, strides=2, padding='same', dropout_rate=0.1, layers=2, default_activation='relu')\n"
     ]
    },
    {
     "name": "stderr",
     "output_type": "stream",
     "text": [
      "Epoch Progress: 100%|██████████| 10/10 [00:33<00:00,  3.30s/epoch, loss=0.492, acc=0.766, val_loss=0.475, val_acc=0.821]\n"
     ]
    },
    {
     "name": "stdout",
     "output_type": "stream",
     "text": [
      "Run 459 / 576 with HyperParameters(learning_rate=0.005, kernel_size=3, num_epochs=10, optimise='Adam', loss='binary_crossentropy', num_filter=64, strides=1, padding='same', dropout_rate=0.25, layers=2, default_activation='relu')\n"
     ]
    },
    {
     "name": "stderr",
     "output_type": "stream",
     "text": [
      "Epoch Progress: 100%|██████████| 10/10 [00:53<00:00,  5.35s/epoch, loss=0.52, acc=0.749, val_loss=0.534, val_acc=0.756] \n"
     ]
    },
    {
     "name": "stdout",
     "output_type": "stream",
     "text": [
      "Run 460 / 576 with HyperParameters(learning_rate=0.005, kernel_size=3, num_epochs=10, optimise='Adam', loss='binary_crossentropy', num_filter=64, strides=2, padding='same', dropout_rate=0.25, layers=2, default_activation='relu')\n"
     ]
    },
    {
     "name": "stderr",
     "output_type": "stream",
     "text": [
      "Epoch Progress: 100%|██████████| 10/10 [00:33<00:00,  3.32s/epoch, loss=0.491, acc=0.769, val_loss=0.491, val_acc=0.795]\n"
     ]
    },
    {
     "name": "stdout",
     "output_type": "stream",
     "text": [
      "Run 461 / 576 with HyperParameters(learning_rate=0.005, kernel_size=3, num_epochs=10, optimise='Adam', loss='binary_crossentropy', num_filter=64, strides=1, padding='same', dropout_rate=0.1, layers=3, default_activation='relu')\n"
     ]
    },
    {
     "name": "stderr",
     "output_type": "stream",
     "text": [
      "Epoch Progress: 100%|██████████| 10/10 [01:04<00:00,  6.44s/epoch, loss=0.514, acc=0.736, val_loss=0.513, val_acc=0.731]\n"
     ]
    },
    {
     "name": "stdout",
     "output_type": "stream",
     "text": [
      "Run 462 / 576 with HyperParameters(learning_rate=0.005, kernel_size=3, num_epochs=10, optimise='Adam', loss='binary_crossentropy', num_filter=64, strides=2, padding='same', dropout_rate=0.1, layers=3, default_activation='relu')\n"
     ]
    },
    {
     "name": "stderr",
     "output_type": "stream",
     "text": [
      "Epoch Progress: 100%|██████████| 10/10 [00:35<00:00,  3.53s/epoch, loss=0.512, acc=0.74, val_loss=0.505, val_acc=0.769] \n"
     ]
    },
    {
     "name": "stdout",
     "output_type": "stream",
     "text": [
      "Run 463 / 576 with HyperParameters(learning_rate=0.005, kernel_size=3, num_epochs=10, optimise='Adam', loss='binary_crossentropy', num_filter=64, strides=1, padding='same', dropout_rate=0.25, layers=3, default_activation='relu')\n"
     ]
    },
    {
     "name": "stderr",
     "output_type": "stream",
     "text": [
      "Epoch Progress: 100%|██████████| 10/10 [01:03<00:00,  6.38s/epoch, loss=0.507, acc=0.764, val_loss=0.496, val_acc=0.795]\n"
     ]
    },
    {
     "name": "stdout",
     "output_type": "stream",
     "text": [
      "Run 464 / 576 with HyperParameters(learning_rate=0.005, kernel_size=3, num_epochs=10, optimise='Adam', loss='binary_crossentropy', num_filter=64, strides=2, padding='same', dropout_rate=0.25, layers=3, default_activation='relu')\n"
     ]
    },
    {
     "name": "stderr",
     "output_type": "stream",
     "text": [
      "Epoch Progress: 100%|██████████| 10/10 [00:33<00:00,  3.32s/epoch, loss=0.526, acc=0.753, val_loss=0.521, val_acc=0.731]\n"
     ]
    },
    {
     "name": "stdout",
     "output_type": "stream",
     "text": [
      "Run 465 / 576 with HyperParameters(learning_rate=0.005, kernel_size=3, num_epochs=10, optimise='Adam', loss='binary_crossentropy', num_filter=64, strides=1, padding='same', dropout_rate=0.1, layers=4, default_activation='relu')\n"
     ]
    },
    {
     "name": "stderr",
     "output_type": "stream",
     "text": [
      "Epoch Progress: 100%|██████████| 10/10 [01:30<00:00,  9.03s/epoch, loss=0.528, acc=0.744, val_loss=0.52, val_acc=0.744] \n"
     ]
    },
    {
     "name": "stdout",
     "output_type": "stream",
     "text": [
      "Run 466 / 576 with HyperParameters(learning_rate=0.005, kernel_size=3, num_epochs=10, optimise='Adam', loss='binary_crossentropy', num_filter=64, strides=2, padding='same', dropout_rate=0.1, layers=4, default_activation='relu')\n"
     ]
    },
    {
     "name": "stderr",
     "output_type": "stream",
     "text": [
      "Epoch Progress: 100%|██████████| 10/10 [00:37<00:00,  3.71s/epoch, loss=0.505, acc=0.764, val_loss=0.486, val_acc=0.795]\n"
     ]
    },
    {
     "name": "stdout",
     "output_type": "stream",
     "text": [
      "Run 467 / 576 with HyperParameters(learning_rate=0.005, kernel_size=3, num_epochs=10, optimise='Adam', loss='binary_crossentropy', num_filter=64, strides=1, padding='same', dropout_rate=0.25, layers=4, default_activation='relu')\n"
     ]
    },
    {
     "name": "stderr",
     "output_type": "stream",
     "text": [
      "Epoch Progress: 100%|██████████| 10/10 [03:45<00:00, 22.53s/epoch, loss=0.523, acc=0.731, val_loss=0.549, val_acc=0.782]\n"
     ]
    },
    {
     "name": "stdout",
     "output_type": "stream",
     "text": [
      "Run 468 / 576 with HyperParameters(learning_rate=0.005, kernel_size=3, num_epochs=10, optimise='Adam', loss='binary_crossentropy', num_filter=64, strides=2, padding='same', dropout_rate=0.25, layers=4, default_activation='relu')\n"
     ]
    },
    {
     "name": "stderr",
     "output_type": "stream",
     "text": [
      "Epoch Progress: 100%|██████████| 10/10 [01:27<00:00,  8.75s/epoch, loss=0.536, acc=0.744, val_loss=0.526, val_acc=0.731]\n"
     ]
    },
    {
     "name": "stdout",
     "output_type": "stream",
     "text": [
      "Run 469 / 576 with HyperParameters(learning_rate=0.005, kernel_size=3, num_epochs=15, optimise='Adam', loss='binary_crossentropy', num_filter=16, strides=1, padding='same', dropout_rate=0.1, layers=2, default_activation='relu')\n"
     ]
    },
    {
     "name": "stderr",
     "output_type": "stream",
     "text": [
      "Epoch Progress: 100%|██████████| 15/15 [00:26<00:00,  1.74s/epoch, loss=0.399, acc=0.83, val_loss=0.415, val_acc=0.821] \n"
     ]
    },
    {
     "name": "stdout",
     "output_type": "stream",
     "text": [
      "Run 470 / 576 with HyperParameters(learning_rate=0.005, kernel_size=3, num_epochs=15, optimise='Adam', loss='binary_crossentropy', num_filter=16, strides=2, padding='same', dropout_rate=0.1, layers=2, default_activation='relu')\n"
     ]
    },
    {
     "name": "stderr",
     "output_type": "stream",
     "text": [
      "Epoch Progress: 100%|██████████| 15/15 [00:18<00:00,  1.23s/epoch, loss=0.501, acc=0.756, val_loss=0.501, val_acc=0.731]\n"
     ]
    },
    {
     "name": "stdout",
     "output_type": "stream",
     "text": [
      "Run 471 / 576 with HyperParameters(learning_rate=0.005, kernel_size=3, num_epochs=15, optimise='Adam', loss='binary_crossentropy', num_filter=16, strides=1, padding='same', dropout_rate=0.25, layers=2, default_activation='relu')\n"
     ]
    },
    {
     "name": "stderr",
     "output_type": "stream",
     "text": [
      "Epoch Progress: 100%|██████████| 15/15 [00:23<00:00,  1.60s/epoch, loss=0.431, acc=0.81, val_loss=0.474, val_acc=0.795] \n"
     ]
    },
    {
     "name": "stdout",
     "output_type": "stream",
     "text": [
      "Run 472 / 576 with HyperParameters(learning_rate=0.005, kernel_size=3, num_epochs=15, optimise='Adam', loss='binary_crossentropy', num_filter=16, strides=2, padding='same', dropout_rate=0.25, layers=2, default_activation='relu')\n"
     ]
    },
    {
     "name": "stderr",
     "output_type": "stream",
     "text": [
      "Epoch Progress: 100%|██████████| 15/15 [00:15<00:00,  1.04s/epoch, loss=0.521, acc=0.747, val_loss=0.518, val_acc=0.756]\n"
     ]
    },
    {
     "name": "stdout",
     "output_type": "stream",
     "text": [
      "Run 473 / 576 with HyperParameters(learning_rate=0.005, kernel_size=3, num_epochs=15, optimise='Adam', loss='binary_crossentropy', num_filter=16, strides=1, padding='same', dropout_rate=0.1, layers=3, default_activation='relu')\n"
     ]
    },
    {
     "name": "stderr",
     "output_type": "stream",
     "text": [
      "Epoch Progress: 100%|██████████| 15/15 [00:27<00:00,  1.80s/epoch, loss=0.422, acc=0.815, val_loss=0.416, val_acc=0.885]\n"
     ]
    },
    {
     "name": "stdout",
     "output_type": "stream",
     "text": [
      "Run 474 / 576 with HyperParameters(learning_rate=0.005, kernel_size=3, num_epochs=15, optimise='Adam', loss='binary_crossentropy', num_filter=16, strides=2, padding='same', dropout_rate=0.1, layers=3, default_activation='relu')\n"
     ]
    },
    {
     "name": "stderr",
     "output_type": "stream",
     "text": [
      "Epoch Progress: 100%|██████████| 15/15 [00:15<00:00,  1.01s/epoch, loss=0.493, acc=0.773, val_loss=0.486, val_acc=0.795]\n"
     ]
    },
    {
     "name": "stdout",
     "output_type": "stream",
     "text": [
      "Run 475 / 576 with HyperParameters(learning_rate=0.005, kernel_size=3, num_epochs=15, optimise='Adam', loss='binary_crossentropy', num_filter=16, strides=1, padding='same', dropout_rate=0.25, layers=3, default_activation='relu')\n"
     ]
    },
    {
     "name": "stderr",
     "output_type": "stream",
     "text": [
      "Epoch Progress: 100%|██████████| 15/15 [00:25<00:00,  1.67s/epoch, loss=0.467, acc=0.78, val_loss=0.498, val_acc=0.795] \n"
     ]
    },
    {
     "name": "stdout",
     "output_type": "stream",
     "text": [
      "Run 476 / 576 with HyperParameters(learning_rate=0.005, kernel_size=3, num_epochs=15, optimise='Adam', loss='binary_crossentropy', num_filter=16, strides=2, padding='same', dropout_rate=0.25, layers=3, default_activation='relu')\n"
     ]
    },
    {
     "name": "stderr",
     "output_type": "stream",
     "text": [
      "Epoch Progress: 100%|██████████| 15/15 [00:13<00:00,  1.11epoch/s, loss=0.531, acc=0.749, val_loss=0.535, val_acc=0.744]\n"
     ]
    },
    {
     "name": "stdout",
     "output_type": "stream",
     "text": [
      "Run 477 / 576 with HyperParameters(learning_rate=0.005, kernel_size=3, num_epochs=15, optimise='Adam', loss='binary_crossentropy', num_filter=16, strides=1, padding='same', dropout_rate=0.1, layers=4, default_activation='relu')\n"
     ]
    },
    {
     "name": "stderr",
     "output_type": "stream",
     "text": [
      "Epoch Progress: 100%|██████████| 15/15 [00:28<00:00,  1.90s/epoch, loss=0.318, acc=0.861, val_loss=0.383, val_acc=0.833]\n"
     ]
    },
    {
     "name": "stdout",
     "output_type": "stream",
     "text": [
      "Run 478 / 576 with HyperParameters(learning_rate=0.005, kernel_size=3, num_epochs=15, optimise='Adam', loss='binary_crossentropy', num_filter=16, strides=2, padding='same', dropout_rate=0.1, layers=4, default_activation='relu')\n"
     ]
    },
    {
     "name": "stderr",
     "output_type": "stream",
     "text": [
      "Epoch Progress: 100%|██████████| 15/15 [00:13<00:00,  1.10epoch/s, loss=0.52, acc=0.745, val_loss=0.526, val_acc=0.731] \n"
     ]
    },
    {
     "name": "stdout",
     "output_type": "stream",
     "text": [
      "Run 479 / 576 with HyperParameters(learning_rate=0.005, kernel_size=3, num_epochs=15, optimise='Adam', loss='binary_crossentropy', num_filter=16, strides=1, padding='same', dropout_rate=0.25, layers=4, default_activation='relu')\n"
     ]
    },
    {
     "name": "stderr",
     "output_type": "stream",
     "text": [
      "Epoch Progress: 100%|██████████| 15/15 [00:26<00:00,  1.75s/epoch, loss=0.379, acc=0.848, val_loss=0.401, val_acc=0.821]\n"
     ]
    },
    {
     "name": "stdout",
     "output_type": "stream",
     "text": [
      "Run 480 / 576 with HyperParameters(learning_rate=0.005, kernel_size=3, num_epochs=15, optimise='Adam', loss='binary_crossentropy', num_filter=16, strides=2, padding='same', dropout_rate=0.25, layers=4, default_activation='relu')\n"
     ]
    },
    {
     "name": "stderr",
     "output_type": "stream",
     "text": [
      "Epoch Progress: 100%|██████████| 15/15 [00:11<00:00,  1.31epoch/s, loss=0.541, acc=0.731, val_loss=0.541, val_acc=0.731]\n"
     ]
    },
    {
     "name": "stdout",
     "output_type": "stream",
     "text": [
      "Run 481 / 576 with HyperParameters(learning_rate=0.005, kernel_size=3, num_epochs=15, optimise='Adam', loss='binary_crossentropy', num_filter=32, strides=1, padding='same', dropout_rate=0.1, layers=2, default_activation='relu')\n"
     ]
    },
    {
     "name": "stderr",
     "output_type": "stream",
     "text": [
      "Epoch Progress: 100%|██████████| 15/15 [00:30<00:00,  2.03s/epoch, loss=0.376, acc=0.835, val_loss=0.441, val_acc=0.872]\n"
     ]
    },
    {
     "name": "stdout",
     "output_type": "stream",
     "text": [
      "Run 482 / 576 with HyperParameters(learning_rate=0.005, kernel_size=3, num_epochs=15, optimise='Adam', loss='binary_crossentropy', num_filter=32, strides=2, padding='same', dropout_rate=0.1, layers=2, default_activation='relu')\n"
     ]
    },
    {
     "name": "stderr",
     "output_type": "stream",
     "text": [
      "Epoch Progress: 100%|██████████| 15/15 [00:19<00:00,  1.32s/epoch, loss=0.438, acc=0.806, val_loss=0.432, val_acc=0.846]\n"
     ]
    },
    {
     "name": "stdout",
     "output_type": "stream",
     "text": [
      "Run 483 / 576 with HyperParameters(learning_rate=0.005, kernel_size=3, num_epochs=15, optimise='Adam', loss='binary_crossentropy', num_filter=32, strides=1, padding='same', dropout_rate=0.25, layers=2, default_activation='relu')\n"
     ]
    },
    {
     "name": "stderr",
     "output_type": "stream",
     "text": [
      "Epoch Progress: 100%|██████████| 15/15 [00:30<00:00,  2.06s/epoch, loss=0.428, acc=0.824, val_loss=0.476, val_acc=0.833]\n"
     ]
    },
    {
     "name": "stdout",
     "output_type": "stream",
     "text": [
      "Run 484 / 576 with HyperParameters(learning_rate=0.005, kernel_size=3, num_epochs=15, optimise='Adam', loss='binary_crossentropy', num_filter=32, strides=2, padding='same', dropout_rate=0.25, layers=2, default_activation='relu')\n"
     ]
    },
    {
     "name": "stderr",
     "output_type": "stream",
     "text": [
      "Epoch Progress: 100%|██████████| 15/15 [00:19<00:00,  1.30s/epoch, loss=0.484, acc=0.771, val_loss=0.482, val_acc=0.808]\n"
     ]
    },
    {
     "name": "stdout",
     "output_type": "stream",
     "text": [
      "Run 485 / 576 with HyperParameters(learning_rate=0.005, kernel_size=3, num_epochs=15, optimise='Adam', loss='binary_crossentropy', num_filter=32, strides=1, padding='same', dropout_rate=0.1, layers=3, default_activation='relu')\n"
     ]
    },
    {
     "name": "stderr",
     "output_type": "stream",
     "text": [
      "Epoch Progress: 100%|██████████| 15/15 [00:35<00:00,  2.39s/epoch, loss=0.388, acc=0.819, val_loss=0.448, val_acc=0.859]\n"
     ]
    },
    {
     "name": "stdout",
     "output_type": "stream",
     "text": [
      "Run 486 / 576 with HyperParameters(learning_rate=0.005, kernel_size=3, num_epochs=15, optimise='Adam', loss='binary_crossentropy', num_filter=32, strides=2, padding='same', dropout_rate=0.1, layers=3, default_activation='relu')\n"
     ]
    },
    {
     "name": "stderr",
     "output_type": "stream",
     "text": [
      "Epoch Progress: 100%|██████████| 15/15 [00:18<00:00,  1.26s/epoch, loss=0.496, acc=0.756, val_loss=0.492, val_acc=0.769]\n"
     ]
    },
    {
     "name": "stdout",
     "output_type": "stream",
     "text": [
      "Run 487 / 576 with HyperParameters(learning_rate=0.005, kernel_size=3, num_epochs=15, optimise='Adam', loss='binary_crossentropy', num_filter=32, strides=1, padding='same', dropout_rate=0.25, layers=3, default_activation='relu')\n"
     ]
    },
    {
     "name": "stderr",
     "output_type": "stream",
     "text": [
      "Epoch Progress: 100%|██████████| 15/15 [00:35<00:00,  2.36s/epoch, loss=0.422, acc=0.808, val_loss=0.465, val_acc=0.821]\n"
     ]
    },
    {
     "name": "stdout",
     "output_type": "stream",
     "text": [
      "Run 488 / 576 with HyperParameters(learning_rate=0.005, kernel_size=3, num_epochs=15, optimise='Adam', loss='binary_crossentropy', num_filter=32, strides=2, padding='same', dropout_rate=0.25, layers=3, default_activation='relu')\n"
     ]
    },
    {
     "name": "stderr",
     "output_type": "stream",
     "text": [
      "Epoch Progress: 100%|██████████| 15/15 [00:18<00:00,  1.24s/epoch, loss=0.492, acc=0.773, val_loss=0.498, val_acc=0.769]\n"
     ]
    },
    {
     "name": "stdout",
     "output_type": "stream",
     "text": [
      "Run 489 / 576 with HyperParameters(learning_rate=0.005, kernel_size=3, num_epochs=15, optimise='Adam', loss='binary_crossentropy', num_filter=32, strides=1, padding='same', dropout_rate=0.1, layers=4, default_activation='relu')\n"
     ]
    },
    {
     "name": "stderr",
     "output_type": "stream",
     "text": [
      "Epoch Progress: 100%|██████████| 15/15 [00:45<00:00,  3.06s/epoch, loss=0.384, acc=0.824, val_loss=0.448, val_acc=0.821]\n"
     ]
    },
    {
     "name": "stdout",
     "output_type": "stream",
     "text": [
      "Run 490 / 576 with HyperParameters(learning_rate=0.005, kernel_size=3, num_epochs=15, optimise='Adam', loss='binary_crossentropy', num_filter=32, strides=2, padding='same', dropout_rate=0.1, layers=4, default_activation='relu')\n"
     ]
    },
    {
     "name": "stderr",
     "output_type": "stream",
     "text": [
      "Epoch Progress: 100%|██████████| 15/15 [00:20<00:00,  1.37s/epoch, loss=0.501, acc=0.764, val_loss=0.49, val_acc=0.756] \n"
     ]
    },
    {
     "name": "stdout",
     "output_type": "stream",
     "text": [
      "Run 491 / 576 with HyperParameters(learning_rate=0.005, kernel_size=3, num_epochs=15, optimise='Adam', loss='binary_crossentropy', num_filter=32, strides=1, padding='same', dropout_rate=0.25, layers=4, default_activation='relu')\n"
     ]
    },
    {
     "name": "stderr",
     "output_type": "stream",
     "text": [
      "Epoch Progress: 100%|██████████| 15/15 [00:46<00:00,  3.08s/epoch, loss=0.395, acc=0.832, val_loss=0.4, val_acc=0.885]  \n"
     ]
    },
    {
     "name": "stdout",
     "output_type": "stream",
     "text": [
      "Run 492 / 576 with HyperParameters(learning_rate=0.005, kernel_size=3, num_epochs=15, optimise='Adam', loss='binary_crossentropy', num_filter=32, strides=2, padding='same', dropout_rate=0.25, layers=4, default_activation='relu')\n"
     ]
    },
    {
     "name": "stderr",
     "output_type": "stream",
     "text": [
      "Epoch Progress: 100%|██████████| 15/15 [00:20<00:00,  1.36s/epoch, loss=0.522, acc=0.76, val_loss=0.516, val_acc=0.756] \n"
     ]
    },
    {
     "name": "stdout",
     "output_type": "stream",
     "text": [
      "Run 493 / 576 with HyperParameters(learning_rate=0.005, kernel_size=3, num_epochs=15, optimise='Adam', loss='binary_crossentropy', num_filter=64, strides=1, padding='same', dropout_rate=0.1, layers=2, default_activation='relu')\n"
     ]
    },
    {
     "name": "stderr",
     "output_type": "stream",
     "text": [
      "Epoch Progress: 100%|██████████| 15/15 [01:14<00:00,  4.98s/epoch, loss=0.361, acc=0.837, val_loss=0.469, val_acc=0.833]\n"
     ]
    },
    {
     "name": "stdout",
     "output_type": "stream",
     "text": [
      "Overfitting detected at epoch 15: Loss Gap = 0.1076\n",
      "Run 494 / 576 with HyperParameters(learning_rate=0.005, kernel_size=3, num_epochs=15, optimise='Adam', loss='binary_crossentropy', num_filter=64, strides=2, padding='same', dropout_rate=0.1, layers=2, default_activation='relu')\n"
     ]
    },
    {
     "name": "stderr",
     "output_type": "stream",
     "text": [
      "Epoch Progress: 100%|██████████| 15/15 [00:48<00:00,  3.21s/epoch, loss=0.406, acc=0.835, val_loss=0.424, val_acc=0.808]\n"
     ]
    },
    {
     "name": "stdout",
     "output_type": "stream",
     "text": [
      "Run 495 / 576 with HyperParameters(learning_rate=0.005, kernel_size=3, num_epochs=15, optimise='Adam', loss='binary_crossentropy', num_filter=64, strides=1, padding='same', dropout_rate=0.25, layers=2, default_activation='relu')\n"
     ]
    },
    {
     "name": "stderr",
     "output_type": "stream",
     "text": [
      "Epoch Progress: 100%|██████████| 15/15 [01:14<00:00,  5.00s/epoch, loss=0.423, acc=0.8, val_loss=0.45, val_acc=0.859]   \n"
     ]
    },
    {
     "name": "stdout",
     "output_type": "stream",
     "text": [
      "Run 496 / 576 with HyperParameters(learning_rate=0.005, kernel_size=3, num_epochs=15, optimise='Adam', loss='binary_crossentropy', num_filter=64, strides=2, padding='same', dropout_rate=0.25, layers=2, default_activation='relu')\n"
     ]
    },
    {
     "name": "stderr",
     "output_type": "stream",
     "text": [
      "Epoch Progress: 100%|██████████| 15/15 [00:48<00:00,  3.22s/epoch, loss=0.464, acc=0.793, val_loss=0.449, val_acc=0.833]\n"
     ]
    },
    {
     "name": "stdout",
     "output_type": "stream",
     "text": [
      "Run 497 / 576 with HyperParameters(learning_rate=0.005, kernel_size=3, num_epochs=15, optimise='Adam', loss='binary_crossentropy', num_filter=64, strides=1, padding='same', dropout_rate=0.1, layers=3, default_activation='relu')\n"
     ]
    },
    {
     "name": "stderr",
     "output_type": "stream",
     "text": [
      "Epoch Progress:  87%|████████▋ | 13/15 [01:19<00:12,  6.04s/epoch, loss=0.37, acc=0.839, val_loss=0.496, val_acc=0.821] "
     ]
    },
    {
     "name": "stdout",
     "output_type": "stream",
     "text": [
      "Overfitting detected at epoch 13: Loss Gap = 0.1259\n"
     ]
    },
    {
     "name": "stderr",
     "output_type": "stream",
     "text": [
      "Epoch Progress: 100%|██████████| 15/15 [01:31<00:00,  6.10s/epoch, loss=0.376, acc=0.822, val_loss=0.46, val_acc=0.782] \n"
     ]
    },
    {
     "name": "stdout",
     "output_type": "stream",
     "text": [
      "Run 498 / 576 with HyperParameters(learning_rate=0.005, kernel_size=3, num_epochs=15, optimise='Adam', loss='binary_crossentropy', num_filter=64, strides=2, padding='same', dropout_rate=0.1, layers=3, default_activation='relu')\n"
     ]
    },
    {
     "name": "stderr",
     "output_type": "stream",
     "text": [
      "Epoch Progress: 100%|██████████| 15/15 [00:49<00:00,  3.30s/epoch, loss=0.447, acc=0.806, val_loss=0.412, val_acc=0.846]\n"
     ]
    },
    {
     "name": "stdout",
     "output_type": "stream",
     "text": [
      "Run 499 / 576 with HyperParameters(learning_rate=0.005, kernel_size=3, num_epochs=15, optimise='Adam', loss='binary_crossentropy', num_filter=64, strides=1, padding='same', dropout_rate=0.25, layers=3, default_activation='relu')\n"
     ]
    },
    {
     "name": "stderr",
     "output_type": "stream",
     "text": [
      "Epoch Progress: 100%|██████████| 15/15 [01:33<00:00,  6.22s/epoch, loss=0.481, acc=0.773, val_loss=0.479, val_acc=0.808]\n"
     ]
    },
    {
     "name": "stdout",
     "output_type": "stream",
     "text": [
      "Run 500 / 576 with HyperParameters(learning_rate=0.005, kernel_size=3, num_epochs=15, optimise='Adam', loss='binary_crossentropy', num_filter=64, strides=2, padding='same', dropout_rate=0.25, layers=3, default_activation='relu')\n"
     ]
    },
    {
     "name": "stderr",
     "output_type": "stream",
     "text": [
      "Epoch Progress: 100%|██████████| 15/15 [00:48<00:00,  3.21s/epoch, loss=0.479, acc=0.778, val_loss=0.478, val_acc=0.782]\n"
     ]
    },
    {
     "name": "stdout",
     "output_type": "stream",
     "text": [
      "Run 501 / 576 with HyperParameters(learning_rate=0.005, kernel_size=3, num_epochs=15, optimise='Adam', loss='binary_crossentropy', num_filter=64, strides=1, padding='same', dropout_rate=0.1, layers=4, default_activation='relu')\n"
     ]
    },
    {
     "name": "stderr",
     "output_type": "stream",
     "text": [
      "Epoch Progress: 100%|██████████| 15/15 [02:11<00:00,  8.78s/epoch, loss=0.358, acc=0.835, val_loss=0.442, val_acc=0.846]\n"
     ]
    },
    {
     "name": "stdout",
     "output_type": "stream",
     "text": [
      "Run 502 / 576 with HyperParameters(learning_rate=0.005, kernel_size=3, num_epochs=15, optimise='Adam', loss='binary_crossentropy', num_filter=64, strides=2, padding='same', dropout_rate=0.1, layers=4, default_activation='relu')\n"
     ]
    },
    {
     "name": "stderr",
     "output_type": "stream",
     "text": [
      "Epoch Progress: 100%|██████████| 15/15 [00:54<00:00,  3.60s/epoch, loss=0.441, acc=0.799, val_loss=0.432, val_acc=0.808]\n"
     ]
    },
    {
     "name": "stdout",
     "output_type": "stream",
     "text": [
      "Run 503 / 576 with HyperParameters(learning_rate=0.005, kernel_size=3, num_epochs=15, optimise='Adam', loss='binary_crossentropy', num_filter=64, strides=1, padding='same', dropout_rate=0.25, layers=4, default_activation='relu')\n"
     ]
    },
    {
     "name": "stderr",
     "output_type": "stream",
     "text": [
      "Epoch Progress: 100%|██████████| 15/15 [02:11<00:00,  8.76s/epoch, loss=0.449, acc=0.786, val_loss=0.487, val_acc=0.846]\n"
     ]
    },
    {
     "name": "stdout",
     "output_type": "stream",
     "text": [
      "Run 504 / 576 with HyperParameters(learning_rate=0.005, kernel_size=3, num_epochs=15, optimise='Adam', loss='binary_crossentropy', num_filter=64, strides=2, padding='same', dropout_rate=0.25, layers=4, default_activation='relu')\n"
     ]
    },
    {
     "name": "stderr",
     "output_type": "stream",
     "text": [
      "Epoch Progress: 100%|██████████| 15/15 [00:52<00:00,  3.52s/epoch, loss=0.44, acc=0.797, val_loss=0.416, val_acc=0.846] \n"
     ]
    },
    {
     "name": "stdout",
     "output_type": "stream",
     "text": [
      "Run 505 / 576 with HyperParameters(learning_rate=0.005, kernel_size=3, num_epochs=20, optimise='Adam', loss='binary_crossentropy', num_filter=16, strides=1, padding='same', dropout_rate=0.1, layers=2, default_activation='relu')\n"
     ]
    },
    {
     "name": "stderr",
     "output_type": "stream",
     "text": [
      "Epoch Progress: 100%|██████████| 20/20 [00:18<00:00,  1.08epoch/s, loss=0.373, acc=0.846, val_loss=0.403, val_acc=0.859]\n"
     ]
    },
    {
     "name": "stdout",
     "output_type": "stream",
     "text": [
      "Run 506 / 576 with HyperParameters(learning_rate=0.005, kernel_size=3, num_epochs=20, optimise='Adam', loss='binary_crossentropy', num_filter=16, strides=2, padding='same', dropout_rate=0.1, layers=2, default_activation='relu')\n"
     ]
    },
    {
     "name": "stderr",
     "output_type": "stream",
     "text": [
      "Epoch Progress: 100%|██████████| 20/20 [00:11<00:00,  1.69epoch/s, loss=0.452, acc=0.797, val_loss=0.466, val_acc=0.808]\n"
     ]
    },
    {
     "name": "stdout",
     "output_type": "stream",
     "text": [
      "Run 507 / 576 with HyperParameters(learning_rate=0.005, kernel_size=3, num_epochs=20, optimise='Adam', loss='binary_crossentropy', num_filter=16, strides=1, padding='same', dropout_rate=0.25, layers=2, default_activation='relu')\n"
     ]
    },
    {
     "name": "stderr",
     "output_type": "stream",
     "text": [
      "Epoch Progress: 100%|██████████| 20/20 [00:47<00:00,  2.39s/epoch, loss=0.39, acc=0.828, val_loss=0.419, val_acc=0.821] \n"
     ]
    },
    {
     "name": "stdout",
     "output_type": "stream",
     "text": [
      "Run 508 / 576 with HyperParameters(learning_rate=0.005, kernel_size=3, num_epochs=20, optimise='Adam', loss='binary_crossentropy', num_filter=16, strides=2, padding='same', dropout_rate=0.25, layers=2, default_activation='relu')\n"
     ]
    },
    {
     "name": "stderr",
     "output_type": "stream",
     "text": [
      "Epoch Progress: 100%|██████████| 20/20 [00:25<00:00,  1.29s/epoch, loss=0.494, acc=0.773, val_loss=0.473, val_acc=0.795]\n"
     ]
    },
    {
     "name": "stdout",
     "output_type": "stream",
     "text": [
      "Run 509 / 576 with HyperParameters(learning_rate=0.005, kernel_size=3, num_epochs=20, optimise='Adam', loss='binary_crossentropy', num_filter=16, strides=1, padding='same', dropout_rate=0.1, layers=3, default_activation='relu')\n"
     ]
    },
    {
     "name": "stderr",
     "output_type": "stream",
     "text": [
      "Epoch Progress: 100%|██████████| 20/20 [00:43<00:00,  2.17s/epoch, loss=0.357, acc=0.852, val_loss=0.401, val_acc=0.821]\n"
     ]
    },
    {
     "name": "stdout",
     "output_type": "stream",
     "text": [
      "Run 510 / 576 with HyperParameters(learning_rate=0.005, kernel_size=3, num_epochs=20, optimise='Adam', loss='binary_crossentropy', num_filter=16, strides=2, padding='same', dropout_rate=0.1, layers=3, default_activation='relu')\n"
     ]
    },
    {
     "name": "stderr",
     "output_type": "stream",
     "text": [
      "Epoch Progress: 100%|██████████| 20/20 [00:24<00:00,  1.21s/epoch, loss=0.48, acc=0.767, val_loss=0.484, val_acc=0.756] \n"
     ]
    },
    {
     "name": "stdout",
     "output_type": "stream",
     "text": [
      "Run 511 / 576 with HyperParameters(learning_rate=0.005, kernel_size=3, num_epochs=20, optimise='Adam', loss='binary_crossentropy', num_filter=16, strides=1, padding='same', dropout_rate=0.25, layers=3, default_activation='relu')\n"
     ]
    },
    {
     "name": "stderr",
     "output_type": "stream",
     "text": [
      "Epoch Progress: 100%|██████████| 20/20 [00:39<00:00,  1.97s/epoch, loss=0.391, acc=0.822, val_loss=0.455, val_acc=0.782]\n"
     ]
    },
    {
     "name": "stdout",
     "output_type": "stream",
     "text": [
      "Run 512 / 576 with HyperParameters(learning_rate=0.005, kernel_size=3, num_epochs=20, optimise='Adam', loss='binary_crossentropy', num_filter=16, strides=2, padding='same', dropout_rate=0.25, layers=3, default_activation='relu')\n"
     ]
    },
    {
     "name": "stderr",
     "output_type": "stream",
     "text": [
      "Epoch Progress: 100%|██████████| 20/20 [00:21<00:00,  1.07s/epoch, loss=0.486, acc=0.778, val_loss=0.481, val_acc=0.833]\n"
     ]
    },
    {
     "name": "stdout",
     "output_type": "stream",
     "text": [
      "Run 513 / 576 with HyperParameters(learning_rate=0.005, kernel_size=3, num_epochs=20, optimise='Adam', loss='binary_crossentropy', num_filter=16, strides=1, padding='same', dropout_rate=0.1, layers=4, default_activation='relu')\n"
     ]
    },
    {
     "name": "stderr",
     "output_type": "stream",
     "text": [
      "Epoch Progress: 100%|██████████| 20/20 [00:44<00:00,  2.25s/epoch, loss=0.371, acc=0.835, val_loss=0.42, val_acc=0.808] \n"
     ]
    },
    {
     "name": "stdout",
     "output_type": "stream",
     "text": [
      "Run 514 / 576 with HyperParameters(learning_rate=0.005, kernel_size=3, num_epochs=20, optimise='Adam', loss='binary_crossentropy', num_filter=16, strides=2, padding='same', dropout_rate=0.1, layers=4, default_activation='relu')\n"
     ]
    },
    {
     "name": "stderr",
     "output_type": "stream",
     "text": [
      "Epoch Progress: 100%|██████████| 20/20 [00:21<00:00,  1.07s/epoch, loss=0.487, acc=0.771, val_loss=0.486, val_acc=0.782]\n"
     ]
    },
    {
     "name": "stdout",
     "output_type": "stream",
     "text": [
      "Run 515 / 576 with HyperParameters(learning_rate=0.005, kernel_size=3, num_epochs=20, optimise='Adam', loss='binary_crossentropy', num_filter=16, strides=1, padding='same', dropout_rate=0.25, layers=4, default_activation='relu')\n"
     ]
    },
    {
     "name": "stderr",
     "output_type": "stream",
     "text": [
      "Epoch Progress: 100%|██████████| 20/20 [00:41<00:00,  2.05s/epoch, loss=0.42, acc=0.828, val_loss=0.477, val_acc=0.808] \n"
     ]
    },
    {
     "name": "stdout",
     "output_type": "stream",
     "text": [
      "Run 516 / 576 with HyperParameters(learning_rate=0.005, kernel_size=3, num_epochs=20, optimise='Adam', loss='binary_crossentropy', num_filter=16, strides=2, padding='same', dropout_rate=0.25, layers=4, default_activation='relu')\n"
     ]
    },
    {
     "name": "stderr",
     "output_type": "stream",
     "text": [
      "Epoch Progress: 100%|██████████| 20/20 [00:19<00:00,  1.02epoch/s, loss=0.483, acc=0.762, val_loss=0.492, val_acc=0.782]\n"
     ]
    },
    {
     "name": "stdout",
     "output_type": "stream",
     "text": [
      "Run 517 / 576 with HyperParameters(learning_rate=0.005, kernel_size=3, num_epochs=20, optimise='Adam', loss='binary_crossentropy', num_filter=32, strides=1, padding='same', dropout_rate=0.1, layers=2, default_activation='relu')\n"
     ]
    },
    {
     "name": "stderr",
     "output_type": "stream",
     "text": [
      "Epoch Progress:  75%|███████▌  | 15/20 [00:38<00:12,  2.53s/epoch, loss=0.327, acc=0.868, val_loss=0.443, val_acc=0.859]"
     ]
    },
    {
     "name": "stdout",
     "output_type": "stream",
     "text": [
      "Overfitting detected at epoch 15: Loss Gap = 0.1167\n"
     ]
    },
    {
     "name": "stderr",
     "output_type": "stream",
     "text": [
      "Epoch Progress:  95%|█████████▌| 19/20 [00:48<00:02,  2.52s/epoch, loss=0.279, acc=0.881, val_loss=0.398, val_acc=0.872]"
     ]
    },
    {
     "name": "stdout",
     "output_type": "stream",
     "text": [
      "Overfitting detected at epoch 19: Loss Gap = 0.1184\n"
     ]
    },
    {
     "name": "stderr",
     "output_type": "stream",
     "text": [
      "Epoch Progress: 100%|██████████| 20/20 [00:51<00:00,  2.56s/epoch, loss=0.277, acc=0.89, val_loss=0.401, val_acc=0.808] \n"
     ]
    },
    {
     "name": "stdout",
     "output_type": "stream",
     "text": [
      "Overfitting detected at epoch 20: Loss Gap = 0.1240\n",
      "Run 518 / 576 with HyperParameters(learning_rate=0.005, kernel_size=3, num_epochs=20, optimise='Adam', loss='binary_crossentropy', num_filter=32, strides=2, padding='same', dropout_rate=0.1, layers=2, default_activation='relu')\n"
     ]
    },
    {
     "name": "stderr",
     "output_type": "stream",
     "text": [
      "Epoch Progress: 100%|██████████| 20/20 [00:31<00:00,  1.58s/epoch, loss=0.404, acc=0.822, val_loss=0.418, val_acc=0.846]\n"
     ]
    },
    {
     "name": "stdout",
     "output_type": "stream",
     "text": [
      "Run 519 / 576 with HyperParameters(learning_rate=0.005, kernel_size=3, num_epochs=20, optimise='Adam', loss='binary_crossentropy', num_filter=32, strides=1, padding='same', dropout_rate=0.25, layers=2, default_activation='relu')\n"
     ]
    },
    {
     "name": "stderr",
     "output_type": "stream",
     "text": [
      "Epoch Progress:  85%|████████▌ | 17/20 [00:41<00:07,  2.42s/epoch, loss=0.357, acc=0.846, val_loss=0.514, val_acc=0.846]"
     ]
    },
    {
     "name": "stdout",
     "output_type": "stream",
     "text": [
      "Overfitting detected at epoch 17: Loss Gap = 0.1573\n"
     ]
    },
    {
     "name": "stderr",
     "output_type": "stream",
     "text": [
      "Epoch Progress:  95%|█████████▌| 19/20 [00:46<00:02,  2.44s/epoch, loss=0.339, acc=0.85, val_loss=0.443, val_acc=0.808] "
     ]
    },
    {
     "name": "stdout",
     "output_type": "stream",
     "text": [
      "Overfitting detected at epoch 19: Loss Gap = 0.1039\n"
     ]
    },
    {
     "name": "stderr",
     "output_type": "stream",
     "text": [
      "Epoch Progress: 100%|██████████| 20/20 [00:48<00:00,  2.44s/epoch, loss=0.315, acc=0.864, val_loss=0.422, val_acc=0.833]\n"
     ]
    },
    {
     "name": "stdout",
     "output_type": "stream",
     "text": [
      "Overfitting detected at epoch 20: Loss Gap = 0.1068\n",
      "Run 520 / 576 with HyperParameters(learning_rate=0.005, kernel_size=3, num_epochs=20, optimise='Adam', loss='binary_crossentropy', num_filter=32, strides=2, padding='same', dropout_rate=0.25, layers=2, default_activation='relu')\n"
     ]
    },
    {
     "name": "stderr",
     "output_type": "stream",
     "text": [
      "Epoch Progress: 100%|██████████| 20/20 [00:31<00:00,  1.59s/epoch, loss=0.47, acc=0.786, val_loss=0.454, val_acc=0.821] \n"
     ]
    },
    {
     "name": "stdout",
     "output_type": "stream",
     "text": [
      "Run 521 / 576 with HyperParameters(learning_rate=0.005, kernel_size=3, num_epochs=20, optimise='Adam', loss='binary_crossentropy', num_filter=32, strides=1, padding='same', dropout_rate=0.1, layers=3, default_activation='relu')\n"
     ]
    },
    {
     "name": "stderr",
     "output_type": "stream",
     "text": [
      "Epoch Progress:  80%|████████  | 16/20 [00:42<00:10,  2.67s/epoch, loss=0.265, acc=0.896, val_loss=0.389, val_acc=0.821]"
     ]
    },
    {
     "name": "stdout",
     "output_type": "stream",
     "text": [
      "Overfitting detected at epoch 16: Loss Gap = 0.1238\n"
     ]
    },
    {
     "name": "stderr",
     "output_type": "stream",
     "text": [
      "Epoch Progress:  85%|████████▌ | 17/20 [00:44<00:08,  2.71s/epoch, loss=0.237, acc=0.91, val_loss=0.431, val_acc=0.846] "
     ]
    },
    {
     "name": "stdout",
     "output_type": "stream",
     "text": [
      "Overfitting detected at epoch 17: Loss Gap = 0.1939\n"
     ]
    },
    {
     "name": "stderr",
     "output_type": "stream",
     "text": [
      "Epoch Progress:  90%|█████████ | 18/20 [00:47<00:05,  2.65s/epoch, loss=0.296, acc=0.877, val_loss=0.598, val_acc=0.795]\n"
     ]
    },
    {
     "name": "stdout",
     "output_type": "stream",
     "text": [
      "Overfitting detected at epoch 18: Loss Gap = 0.3021\n",
      "Stopping training due to persistent overfitting.\n",
      "Run 522 / 576 with HyperParameters(learning_rate=0.005, kernel_size=3, num_epochs=20, optimise='Adam', loss='binary_crossentropy', num_filter=32, strides=2, padding='same', dropout_rate=0.1, layers=3, default_activation='relu')\n"
     ]
    },
    {
     "name": "stderr",
     "output_type": "stream",
     "text": [
      "Epoch Progress: 100%|██████████| 20/20 [00:29<00:00,  1.49s/epoch, loss=0.434, acc=0.804, val_loss=0.422, val_acc=0.821]\n"
     ]
    },
    {
     "name": "stdout",
     "output_type": "stream",
     "text": [
      "Run 523 / 576 with HyperParameters(learning_rate=0.005, kernel_size=3, num_epochs=20, optimise='Adam', loss='binary_crossentropy', num_filter=32, strides=1, padding='same', dropout_rate=0.25, layers=3, default_activation='relu')\n"
     ]
    },
    {
     "name": "stderr",
     "output_type": "stream",
     "text": [
      "Epoch Progress: 100%|██████████| 20/20 [00:54<00:00,  2.71s/epoch, loss=0.334, acc=0.861, val_loss=0.392, val_acc=0.833]\n"
     ]
    },
    {
     "name": "stdout",
     "output_type": "stream",
     "text": [
      "Run 524 / 576 with HyperParameters(learning_rate=0.005, kernel_size=3, num_epochs=20, optimise='Adam', loss='binary_crossentropy', num_filter=32, strides=2, padding='same', dropout_rate=0.25, layers=3, default_activation='relu')\n"
     ]
    },
    {
     "name": "stderr",
     "output_type": "stream",
     "text": [
      "Epoch Progress: 100%|██████████| 20/20 [00:27<00:00,  1.38s/epoch, loss=0.463, acc=0.789, val_loss=0.444, val_acc=0.846]\n"
     ]
    },
    {
     "name": "stdout",
     "output_type": "stream",
     "text": [
      "Run 525 / 576 with HyperParameters(learning_rate=0.005, kernel_size=3, num_epochs=20, optimise='Adam', loss='binary_crossentropy', num_filter=32, strides=1, padding='same', dropout_rate=0.1, layers=4, default_activation='relu')\n"
     ]
    },
    {
     "name": "stderr",
     "output_type": "stream",
     "text": [
      "Epoch Progress:  85%|████████▌ | 17/20 [00:56<00:09,  3.31s/epoch, loss=0.305, acc=0.868, val_loss=0.463, val_acc=0.833]"
     ]
    },
    {
     "name": "stdout",
     "output_type": "stream",
     "text": [
      "Overfitting detected at epoch 17: Loss Gap = 0.1584\n"
     ]
    },
    {
     "name": "stderr",
     "output_type": "stream",
     "text": [
      "Epoch Progress:  90%|█████████ | 18/20 [00:59<00:06,  3.31s/epoch, loss=0.333, acc=0.855, val_loss=0.463, val_acc=0.846]"
     ]
    },
    {
     "name": "stdout",
     "output_type": "stream",
     "text": [
      "Overfitting detected at epoch 18: Loss Gap = 0.1297\n"
     ]
    },
    {
     "name": "stderr",
     "output_type": "stream",
     "text": [
      "Epoch Progress: 100%|██████████| 20/20 [01:06<00:00,  3.34s/epoch, loss=0.332, acc=0.855, val_loss=0.459, val_acc=0.846]\n"
     ]
    },
    {
     "name": "stdout",
     "output_type": "stream",
     "text": [
      "Overfitting detected at epoch 20: Loss Gap = 0.1262\n",
      "Run 526 / 576 with HyperParameters(learning_rate=0.005, kernel_size=3, num_epochs=20, optimise='Adam', loss='binary_crossentropy', num_filter=32, strides=2, padding='same', dropout_rate=0.1, layers=4, default_activation='relu')\n"
     ]
    },
    {
     "name": "stderr",
     "output_type": "stream",
     "text": [
      "Epoch Progress: 100%|██████████| 20/20 [00:28<00:00,  1.43s/epoch, loss=0.449, acc=0.806, val_loss=0.459, val_acc=0.833]\n"
     ]
    },
    {
     "name": "stdout",
     "output_type": "stream",
     "text": [
      "Run 527 / 576 with HyperParameters(learning_rate=0.005, kernel_size=3, num_epochs=20, optimise='Adam', loss='binary_crossentropy', num_filter=32, strides=1, padding='same', dropout_rate=0.25, layers=4, default_activation='relu')\n"
     ]
    },
    {
     "name": "stderr",
     "output_type": "stream",
     "text": [
      "Epoch Progress: 100%|██████████| 20/20 [01:04<00:00,  3.23s/epoch, loss=0.239, acc=0.896, val_loss=0.434, val_acc=0.833]\n"
     ]
    },
    {
     "name": "stdout",
     "output_type": "stream",
     "text": [
      "Overfitting detected at epoch 20: Loss Gap = 0.1943\n",
      "Run 528 / 576 with HyperParameters(learning_rate=0.005, kernel_size=3, num_epochs=20, optimise='Adam', loss='binary_crossentropy', num_filter=32, strides=2, padding='same', dropout_rate=0.25, layers=4, default_activation='relu')\n"
     ]
    },
    {
     "name": "stderr",
     "output_type": "stream",
     "text": [
      "Epoch Progress: 100%|██████████| 20/20 [00:27<00:00,  1.38s/epoch, loss=0.407, acc=0.819, val_loss=0.408, val_acc=0.859]\n"
     ]
    },
    {
     "name": "stdout",
     "output_type": "stream",
     "text": [
      "Run 529 / 576 with HyperParameters(learning_rate=0.005, kernel_size=3, num_epochs=20, optimise='Adam', loss='binary_crossentropy', num_filter=64, strides=1, padding='same', dropout_rate=0.1, layers=2, default_activation='relu')\n"
     ]
    },
    {
     "name": "stderr",
     "output_type": "stream",
     "text": [
      "Epoch Progress: 100%|██████████| 20/20 [01:41<00:00,  5.09s/epoch, loss=0.412, acc=0.826, val_loss=0.425, val_acc=0.821]\n"
     ]
    },
    {
     "name": "stdout",
     "output_type": "stream",
     "text": [
      "Run 530 / 576 with HyperParameters(learning_rate=0.005, kernel_size=3, num_epochs=20, optimise='Adam', loss='binary_crossentropy', num_filter=64, strides=2, padding='same', dropout_rate=0.1, layers=2, default_activation='relu')\n"
     ]
    },
    {
     "name": "stderr",
     "output_type": "stream",
     "text": [
      "Epoch Progress: 100%|██████████| 20/20 [01:03<00:00,  3.16s/epoch, loss=0.349, acc=0.842, val_loss=0.422, val_acc=0.885]\n"
     ]
    },
    {
     "name": "stdout",
     "output_type": "stream",
     "text": [
      "Run 531 / 576 with HyperParameters(learning_rate=0.005, kernel_size=3, num_epochs=20, optimise='Adam', loss='binary_crossentropy', num_filter=64, strides=1, padding='same', dropout_rate=0.25, layers=2, default_activation='relu')\n"
     ]
    },
    {
     "name": "stderr",
     "output_type": "stream",
     "text": [
      "Epoch Progress: 100%|██████████| 20/20 [01:39<00:00,  4.98s/epoch, loss=0.361, acc=0.832, val_loss=0.469, val_acc=0.821]\n"
     ]
    },
    {
     "name": "stdout",
     "output_type": "stream",
     "text": [
      "Overfitting detected at epoch 20: Loss Gap = 0.1081\n",
      "Run 532 / 576 with HyperParameters(learning_rate=0.005, kernel_size=3, num_epochs=20, optimise='Adam', loss='binary_crossentropy', num_filter=64, strides=2, padding='same', dropout_rate=0.25, layers=2, default_activation='relu')\n"
     ]
    },
    {
     "name": "stderr",
     "output_type": "stream",
     "text": [
      "Epoch Progress: 100%|██████████| 20/20 [01:03<00:00,  3.15s/epoch, loss=0.384, acc=0.835, val_loss=0.403, val_acc=0.885]\n"
     ]
    },
    {
     "name": "stdout",
     "output_type": "stream",
     "text": [
      "Run 533 / 576 with HyperParameters(learning_rate=0.005, kernel_size=3, num_epochs=20, optimise='Adam', loss='binary_crossentropy', num_filter=64, strides=1, padding='same', dropout_rate=0.1, layers=3, default_activation='relu')\n"
     ]
    },
    {
     "name": "stderr",
     "output_type": "stream",
     "text": [
      "Epoch Progress: 100%|██████████| 20/20 [02:03<00:00,  6.19s/epoch, loss=0.342, acc=0.839, val_loss=0.405, val_acc=0.846]\n"
     ]
    },
    {
     "name": "stdout",
     "output_type": "stream",
     "text": [
      "Run 534 / 576 with HyperParameters(learning_rate=0.005, kernel_size=3, num_epochs=20, optimise='Adam', loss='binary_crossentropy', num_filter=64, strides=2, padding='same', dropout_rate=0.1, layers=3, default_activation='relu')\n"
     ]
    },
    {
     "name": "stderr",
     "output_type": "stream",
     "text": [
      "Epoch Progress:  95%|█████████▌| 19/20 [01:00<00:03,  3.11s/epoch, loss=0.307, acc=0.863, val_loss=0.417, val_acc=0.872]"
     ]
    },
    {
     "name": "stdout",
     "output_type": "stream",
     "text": [
      "Overfitting detected at epoch 19: Loss Gap = 0.1096\n"
     ]
    },
    {
     "name": "stderr",
     "output_type": "stream",
     "text": [
      "Epoch Progress: 100%|██████████| 20/20 [01:03<00:00,  3.17s/epoch, loss=0.334, acc=0.852, val_loss=0.391, val_acc=0.859]\n"
     ]
    },
    {
     "name": "stdout",
     "output_type": "stream",
     "text": [
      "Run 535 / 576 with HyperParameters(learning_rate=0.005, kernel_size=3, num_epochs=20, optimise='Adam', loss='binary_crossentropy', num_filter=64, strides=1, padding='same', dropout_rate=0.25, layers=3, default_activation='relu')\n"
     ]
    },
    {
     "name": "stderr",
     "output_type": "stream",
     "text": [
      "Epoch Progress:  90%|█████████ | 18/20 [01:48<00:12,  6.02s/epoch, loss=0.376, acc=0.841, val_loss=0.492, val_acc=0.833]"
     ]
    },
    {
     "name": "stdout",
     "output_type": "stream",
     "text": [
      "Overfitting detected at epoch 18: Loss Gap = 0.1153\n"
     ]
    },
    {
     "name": "stderr",
     "output_type": "stream",
     "text": [
      "Epoch Progress: 100%|██████████| 20/20 [02:00<00:00,  6.00s/epoch, loss=0.337, acc=0.857, val_loss=0.397, val_acc=0.859]\n"
     ]
    },
    {
     "name": "stdout",
     "output_type": "stream",
     "text": [
      "Run 536 / 576 with HyperParameters(learning_rate=0.005, kernel_size=3, num_epochs=20, optimise='Adam', loss='binary_crossentropy', num_filter=64, strides=2, padding='same', dropout_rate=0.25, layers=3, default_activation='relu')\n"
     ]
    },
    {
     "name": "stderr",
     "output_type": "stream",
     "text": [
      "Epoch Progress: 100%|██████████| 20/20 [01:02<00:00,  3.15s/epoch, loss=0.373, acc=0.855, val_loss=0.386, val_acc=0.859]\n"
     ]
    },
    {
     "name": "stdout",
     "output_type": "stream",
     "text": [
      "Run 537 / 576 with HyperParameters(learning_rate=0.005, kernel_size=3, num_epochs=20, optimise='Adam', loss='binary_crossentropy', num_filter=64, strides=1, padding='same', dropout_rate=0.1, layers=4, default_activation='relu')\n"
     ]
    },
    {
     "name": "stderr",
     "output_type": "stream",
     "text": [
      "Epoch Progress:   5%|▌         | 1/20 [00:08<02:49,  8.91s/epoch, loss=0.662, acc=0.641, val_loss=0.877, val_acc=0.731]"
     ]
    },
    {
     "name": "stdout",
     "output_type": "stream",
     "text": [
      "Overfitting detected at epoch 1: Loss Gap = 0.2150\n"
     ]
    },
    {
     "name": "stderr",
     "output_type": "stream",
     "text": [
      "Epoch Progress: 100%|██████████| 20/20 [02:45<00:00,  8.25s/epoch, loss=0.373, acc=0.832, val_loss=0.42, val_acc=0.808] \n"
     ]
    },
    {
     "name": "stdout",
     "output_type": "stream",
     "text": [
      "Run 538 / 576 with HyperParameters(learning_rate=0.005, kernel_size=3, num_epochs=20, optimise='Adam', loss='binary_crossentropy', num_filter=64, strides=2, padding='same', dropout_rate=0.1, layers=4, default_activation='relu')\n"
     ]
    },
    {
     "name": "stderr",
     "output_type": "stream",
     "text": [
      "Epoch Progress: 100%|██████████| 20/20 [01:11<00:00,  3.56s/epoch, loss=0.34, acc=0.853, val_loss=0.366, val_acc=0.859] \n"
     ]
    },
    {
     "name": "stdout",
     "output_type": "stream",
     "text": [
      "Run 539 / 576 with HyperParameters(learning_rate=0.005, kernel_size=3, num_epochs=20, optimise='Adam', loss='binary_crossentropy', num_filter=64, strides=1, padding='same', dropout_rate=0.25, layers=4, default_activation='relu')\n"
     ]
    },
    {
     "name": "stderr",
     "output_type": "stream",
     "text": [
      "Epoch Progress: 100%|██████████| 20/20 [03:02<00:00,  9.10s/epoch, loss=0.391, acc=0.821, val_loss=0.425, val_acc=0.833]\n"
     ]
    },
    {
     "name": "stdout",
     "output_type": "stream",
     "text": [
      "Run 540 / 576 with HyperParameters(learning_rate=0.005, kernel_size=3, num_epochs=20, optimise='Adam', loss='binary_crossentropy', num_filter=64, strides=2, padding='same', dropout_rate=0.25, layers=4, default_activation='relu')\n"
     ]
    },
    {
     "name": "stderr",
     "output_type": "stream",
     "text": [
      "Epoch Progress: 100%|██████████| 20/20 [01:11<00:00,  3.57s/epoch, loss=0.379, acc=0.844, val_loss=0.424, val_acc=0.872]\n"
     ]
    },
    {
     "name": "stdout",
     "output_type": "stream",
     "text": [
      "Run 541 / 576 with HyperParameters(learning_rate=0.005, kernel_size=3, num_epochs=25, optimise='Adam', loss='binary_crossentropy', num_filter=16, strides=1, padding='same', dropout_rate=0.1, layers=2, default_activation='relu')\n"
     ]
    },
    {
     "name": "stderr",
     "output_type": "stream",
     "text": [
      "Epoch Progress:  80%|████████  | 20/25 [00:18<00:04,  1.11epoch/s, loss=0.323, acc=0.87, val_loss=0.424, val_acc=0.821] "
     ]
    },
    {
     "name": "stdout",
     "output_type": "stream",
     "text": [
      "Overfitting detected at epoch 20: Loss Gap = 0.1006\n"
     ]
    },
    {
     "name": "stderr",
     "output_type": "stream",
     "text": [
      "Epoch Progress:  84%|████████▍ | 21/25 [00:19<00:03,  1.12epoch/s, loss=0.297, acc=0.886, val_loss=0.424, val_acc=0.821]"
     ]
    },
    {
     "name": "stdout",
     "output_type": "stream",
     "text": [
      "Overfitting detected at epoch 21: Loss Gap = 0.1276\n"
     ]
    },
    {
     "name": "stderr",
     "output_type": "stream",
     "text": [
      "Epoch Progress:  88%|████████▊ | 22/25 [00:20<00:02,  1.09epoch/s, loss=0.289, acc=0.894, val_loss=0.421, val_acc=0.833]\n"
     ]
    },
    {
     "name": "stdout",
     "output_type": "stream",
     "text": [
      "Overfitting detected at epoch 22: Loss Gap = 0.1315\n",
      "Stopping training due to persistent overfitting.\n",
      "Run 542 / 576 with HyperParameters(learning_rate=0.005, kernel_size=3, num_epochs=25, optimise='Adam', loss='binary_crossentropy', num_filter=16, strides=2, padding='same', dropout_rate=0.1, layers=2, default_activation='relu')\n"
     ]
    },
    {
     "name": "stderr",
     "output_type": "stream",
     "text": [
      "Epoch Progress: 100%|██████████| 25/25 [00:14<00:00,  1.73epoch/s, loss=0.434, acc=0.813, val_loss=0.449, val_acc=0.821]\n"
     ]
    },
    {
     "name": "stdout",
     "output_type": "stream",
     "text": [
      "Run 543 / 576 with HyperParameters(learning_rate=0.005, kernel_size=3, num_epochs=25, optimise='Adam', loss='binary_crossentropy', num_filter=16, strides=1, padding='same', dropout_rate=0.25, layers=2, default_activation='relu')\n"
     ]
    },
    {
     "name": "stderr",
     "output_type": "stream",
     "text": [
      "Epoch Progress: 100%|██████████| 25/25 [00:22<00:00,  1.09epoch/s, loss=0.374, acc=0.841, val_loss=0.437, val_acc=0.795]\n"
     ]
    },
    {
     "name": "stdout",
     "output_type": "stream",
     "text": [
      "Run 544 / 576 with HyperParameters(learning_rate=0.005, kernel_size=3, num_epochs=25, optimise='Adam', loss='binary_crossentropy', num_filter=16, strides=2, padding='same', dropout_rate=0.25, layers=2, default_activation='relu')\n"
     ]
    },
    {
     "name": "stderr",
     "output_type": "stream",
     "text": [
      "Epoch Progress: 100%|██████████| 25/25 [00:14<00:00,  1.73epoch/s, loss=0.444, acc=0.789, val_loss=0.497, val_acc=0.769]\n"
     ]
    },
    {
     "name": "stdout",
     "output_type": "stream",
     "text": [
      "Run 545 / 576 with HyperParameters(learning_rate=0.005, kernel_size=3, num_epochs=25, optimise='Adam', loss='binary_crossentropy', num_filter=16, strides=1, padding='same', dropout_rate=0.1, layers=3, default_activation='relu')\n"
     ]
    },
    {
     "name": "stderr",
     "output_type": "stream",
     "text": [
      "Epoch Progress:  88%|████████▊ | 22/25 [00:25<00:03,  1.13s/epoch, loss=0.331, acc=0.859, val_loss=0.469, val_acc=0.846]"
     ]
    },
    {
     "name": "stdout",
     "output_type": "stream",
     "text": [
      "Overfitting detected at epoch 22: Loss Gap = 0.1381\n"
     ]
    },
    {
     "name": "stderr",
     "output_type": "stream",
     "text": [
      "Epoch Progress:  92%|█████████▏| 23/25 [00:26<00:02,  1.13s/epoch, loss=0.314, acc=0.875, val_loss=0.491, val_acc=0.833]"
     ]
    },
    {
     "name": "stdout",
     "output_type": "stream",
     "text": [
      "Overfitting detected at epoch 23: Loss Gap = 0.1769\n"
     ]
    },
    {
     "name": "stderr",
     "output_type": "stream",
     "text": [
      "Epoch Progress:  96%|█████████▌| 24/25 [00:28<00:01,  1.17s/epoch, loss=0.303, acc=0.866, val_loss=0.537, val_acc=0.859]\n"
     ]
    },
    {
     "name": "stdout",
     "output_type": "stream",
     "text": [
      "Overfitting detected at epoch 24: Loss Gap = 0.2341\n",
      "Stopping training due to persistent overfitting.\n",
      "Run 546 / 576 with HyperParameters(learning_rate=0.005, kernel_size=3, num_epochs=25, optimise='Adam', loss='binary_crossentropy', num_filter=16, strides=2, padding='same', dropout_rate=0.1, layers=3, default_activation='relu')\n"
     ]
    },
    {
     "name": "stderr",
     "output_type": "stream",
     "text": [
      "Epoch Progress: 100%|██████████| 25/25 [00:15<00:00,  1.66epoch/s, loss=0.43, acc=0.815, val_loss=0.407, val_acc=0.859] \n"
     ]
    },
    {
     "name": "stdout",
     "output_type": "stream",
     "text": [
      "Run 547 / 576 with HyperParameters(learning_rate=0.005, kernel_size=3, num_epochs=25, optimise='Adam', loss='binary_crossentropy', num_filter=16, strides=1, padding='same', dropout_rate=0.25, layers=3, default_activation='relu')\n"
     ]
    },
    {
     "name": "stderr",
     "output_type": "stream",
     "text": [
      "Epoch Progress: 100%|██████████| 25/25 [00:29<00:00,  1.16s/epoch, loss=0.347, acc=0.857, val_loss=0.422, val_acc=0.872]\n"
     ]
    },
    {
     "name": "stdout",
     "output_type": "stream",
     "text": [
      "Run 548 / 576 with HyperParameters(learning_rate=0.005, kernel_size=3, num_epochs=25, optimise='Adam', loss='binary_crossentropy', num_filter=16, strides=2, padding='same', dropout_rate=0.25, layers=3, default_activation='relu')\n"
     ]
    },
    {
     "name": "stderr",
     "output_type": "stream",
     "text": [
      "Epoch Progress: 100%|██████████| 25/25 [00:41<00:00,  1.67s/epoch, loss=0.484, acc=0.777, val_loss=0.485, val_acc=0.795]\n"
     ]
    },
    {
     "name": "stdout",
     "output_type": "stream",
     "text": [
      "Run 549 / 576 with HyperParameters(learning_rate=0.005, kernel_size=3, num_epochs=25, optimise='Adam', loss='binary_crossentropy', num_filter=16, strides=1, padding='same', dropout_rate=0.1, layers=4, default_activation='relu')\n"
     ]
    },
    {
     "name": "stderr",
     "output_type": "stream",
     "text": [
      "Epoch Progress:  68%|██████▊   | 17/25 [00:49<00:22,  2.87s/epoch, loss=0.323, acc=0.864, val_loss=0.446, val_acc=0.846]"
     ]
    },
    {
     "name": "stdout",
     "output_type": "stream",
     "text": [
      "Overfitting detected at epoch 17: Loss Gap = 0.1230\n"
     ]
    },
    {
     "name": "stderr",
     "output_type": "stream",
     "text": [
      "Epoch Progress:  76%|███████▌  | 19/25 [00:55<00:17,  2.88s/epoch, loss=0.28, acc=0.885, val_loss=0.402, val_acc=0.833] "
     ]
    },
    {
     "name": "stdout",
     "output_type": "stream",
     "text": [
      "Overfitting detected at epoch 19: Loss Gap = 0.1223\n"
     ]
    },
    {
     "name": "stderr",
     "output_type": "stream",
     "text": [
      "Epoch Progress:  80%|████████  | 20/25 [00:58<00:14,  2.88s/epoch, loss=0.257, acc=0.905, val_loss=0.423, val_acc=0.846]"
     ]
    },
    {
     "name": "stdout",
     "output_type": "stream",
     "text": [
      "Overfitting detected at epoch 20: Loss Gap = 0.1653\n"
     ]
    },
    {
     "name": "stderr",
     "output_type": "stream",
     "text": [
      "Epoch Progress:  84%|████████▍ | 21/25 [01:01<00:11,  2.91s/epoch, loss=0.243, acc=0.905, val_loss=0.449, val_acc=0.833]\n"
     ]
    },
    {
     "name": "stdout",
     "output_type": "stream",
     "text": [
      "Overfitting detected at epoch 21: Loss Gap = 0.2058\n",
      "Stopping training due to persistent overfitting.\n",
      "Run 550 / 576 with HyperParameters(learning_rate=0.005, kernel_size=3, num_epochs=25, optimise='Adam', loss='binary_crossentropy', num_filter=16, strides=2, padding='same', dropout_rate=0.1, layers=4, default_activation='relu')\n"
     ]
    },
    {
     "name": "stderr",
     "output_type": "stream",
     "text": [
      "Epoch Progress: 100%|██████████| 25/25 [00:37<00:00,  1.48s/epoch, loss=0.476, acc=0.786, val_loss=0.454, val_acc=0.795]\n"
     ]
    },
    {
     "name": "stdout",
     "output_type": "stream",
     "text": [
      "Run 551 / 576 with HyperParameters(learning_rate=0.005, kernel_size=3, num_epochs=25, optimise='Adam', loss='binary_crossentropy', num_filter=16, strides=1, padding='same', dropout_rate=0.25, layers=4, default_activation='relu')\n"
     ]
    },
    {
     "name": "stderr",
     "output_type": "stream",
     "text": [
      "Epoch Progress:  96%|█████████▌| 24/25 [01:04<00:02,  2.64s/epoch, loss=0.322, acc=0.87, val_loss=0.529, val_acc=0.833] "
     ]
    },
    {
     "name": "stdout",
     "output_type": "stream",
     "text": [
      "Overfitting detected at epoch 24: Loss Gap = 0.2072\n"
     ]
    },
    {
     "name": "stderr",
     "output_type": "stream",
     "text": [
      "Epoch Progress: 100%|██████████| 25/25 [01:06<00:00,  2.68s/epoch, loss=0.34, acc=0.866, val_loss=0.416, val_acc=0.833]\n"
     ]
    },
    {
     "name": "stdout",
     "output_type": "stream",
     "text": [
      "Run 552 / 576 with HyperParameters(learning_rate=0.005, kernel_size=3, num_epochs=25, optimise='Adam', loss='binary_crossentropy', num_filter=16, strides=2, padding='same', dropout_rate=0.25, layers=4, default_activation='relu')\n"
     ]
    },
    {
     "name": "stderr",
     "output_type": "stream",
     "text": [
      "Epoch Progress: 100%|██████████| 25/25 [00:32<00:00,  1.31s/epoch, loss=0.502, acc=0.764, val_loss=0.493, val_acc=0.756]\n"
     ]
    },
    {
     "name": "stdout",
     "output_type": "stream",
     "text": [
      "Run 553 / 576 with HyperParameters(learning_rate=0.005, kernel_size=3, num_epochs=25, optimise='Adam', loss='binary_crossentropy', num_filter=32, strides=1, padding='same', dropout_rate=0.1, layers=2, default_activation='relu')\n"
     ]
    },
    {
     "name": "stderr",
     "output_type": "stream",
     "text": [
      "Epoch Progress:  60%|██████    | 15/25 [00:46<00:30,  3.02s/epoch, loss=0.287, acc=0.879, val_loss=0.398, val_acc=0.821]"
     ]
    },
    {
     "name": "stdout",
     "output_type": "stream",
     "text": [
      "Overfitting detected at epoch 15: Loss Gap = 0.1111\n"
     ]
    },
    {
     "name": "stderr",
     "output_type": "stream",
     "text": [
      "Epoch Progress:  64%|██████▍   | 16/25 [00:49<00:27,  3.01s/epoch, loss=0.266, acc=0.886, val_loss=0.395, val_acc=0.821]"
     ]
    },
    {
     "name": "stdout",
     "output_type": "stream",
     "text": [
      "Overfitting detected at epoch 16: Loss Gap = 0.1294\n"
     ]
    },
    {
     "name": "stderr",
     "output_type": "stream",
     "text": [
      "Epoch Progress:  68%|██████▊   | 17/25 [00:52<00:24,  3.07s/epoch, loss=0.228, acc=0.919, val_loss=0.417, val_acc=0.821]\n"
     ]
    },
    {
     "name": "stdout",
     "output_type": "stream",
     "text": [
      "Overfitting detected at epoch 17: Loss Gap = 0.1882\n",
      "Stopping training due to persistent overfitting.\n",
      "Run 554 / 576 with HyperParameters(learning_rate=0.005, kernel_size=3, num_epochs=25, optimise='Adam', loss='binary_crossentropy', num_filter=32, strides=2, padding='same', dropout_rate=0.1, layers=2, default_activation='relu')\n"
     ]
    },
    {
     "name": "stderr",
     "output_type": "stream",
     "text": [
      "Epoch Progress: 100%|██████████| 25/25 [00:50<00:00,  2.01s/epoch, loss=0.387, acc=0.842, val_loss=0.391, val_acc=0.859]\n"
     ]
    },
    {
     "name": "stdout",
     "output_type": "stream",
     "text": [
      "Run 555 / 576 with HyperParameters(learning_rate=0.005, kernel_size=3, num_epochs=25, optimise='Adam', loss='binary_crossentropy', num_filter=32, strides=1, padding='same', dropout_rate=0.25, layers=2, default_activation='relu')\n"
     ]
    },
    {
     "name": "stderr",
     "output_type": "stream",
     "text": [
      "Epoch Progress:  68%|██████▊   | 17/25 [00:49<00:23,  2.88s/epoch, loss=0.309, acc=0.866, val_loss=0.419, val_acc=0.833]"
     ]
    },
    {
     "name": "stdout",
     "output_type": "stream",
     "text": [
      "Overfitting detected at epoch 17: Loss Gap = 0.1107\n"
     ]
    },
    {
     "name": "stderr",
     "output_type": "stream",
     "text": [
      "Epoch Progress:  72%|███████▏  | 18/25 [00:52<00:20,  2.88s/epoch, loss=0.295, acc=0.872, val_loss=0.433, val_acc=0.833]"
     ]
    },
    {
     "name": "stdout",
     "output_type": "stream",
     "text": [
      "Overfitting detected at epoch 18: Loss Gap = 0.1377\n"
     ]
    },
    {
     "name": "stderr",
     "output_type": "stream",
     "text": [
      "Epoch Progress:  76%|███████▌  | 19/25 [00:55<00:17,  2.92s/epoch, loss=0.303, acc=0.874, val_loss=0.472, val_acc=0.859]\n"
     ]
    },
    {
     "name": "stdout",
     "output_type": "stream",
     "text": [
      "Overfitting detected at epoch 19: Loss Gap = 0.1689\n",
      "Stopping training due to persistent overfitting.\n",
      "Run 556 / 576 with HyperParameters(learning_rate=0.005, kernel_size=3, num_epochs=25, optimise='Adam', loss='binary_crossentropy', num_filter=32, strides=2, padding='same', dropout_rate=0.25, layers=2, default_activation='relu')\n"
     ]
    },
    {
     "name": "stderr",
     "output_type": "stream",
     "text": [
      "Epoch Progress: 100%|██████████| 25/25 [00:48<00:00,  1.93s/epoch, loss=0.383, acc=0.837, val_loss=0.408, val_acc=0.782]\n"
     ]
    },
    {
     "name": "stdout",
     "output_type": "stream",
     "text": [
      "Run 557 / 576 with HyperParameters(learning_rate=0.005, kernel_size=3, num_epochs=25, optimise='Adam', loss='binary_crossentropy', num_filter=32, strides=1, padding='same', dropout_rate=0.1, layers=3, default_activation='relu')\n"
     ]
    },
    {
     "name": "stderr",
     "output_type": "stream",
     "text": [
      "Epoch Progress:  68%|██████▊   | 17/25 [00:58<00:28,  3.50s/epoch, loss=0.34, acc=0.85, val_loss=0.453, val_acc=0.833]  "
     ]
    },
    {
     "name": "stdout",
     "output_type": "stream",
     "text": [
      "Overfitting detected at epoch 17: Loss Gap = 0.1123\n"
     ]
    },
    {
     "name": "stderr",
     "output_type": "stream",
     "text": [
      "Epoch Progress:  72%|███████▏  | 18/25 [01:02<00:24,  3.49s/epoch, loss=0.318, acc=0.855, val_loss=0.484, val_acc=0.833]"
     ]
    },
    {
     "name": "stdout",
     "output_type": "stream",
     "text": [
      "Overfitting detected at epoch 18: Loss Gap = 0.1661\n"
     ]
    },
    {
     "name": "stderr",
     "output_type": "stream",
     "text": [
      "Epoch Progress:  76%|███████▌  | 19/25 [01:05<00:20,  3.46s/epoch, loss=0.321, acc=0.875, val_loss=0.427, val_acc=0.846]\n"
     ]
    },
    {
     "name": "stdout",
     "output_type": "stream",
     "text": [
      "Overfitting detected at epoch 19: Loss Gap = 0.1065\n",
      "Stopping training due to persistent overfitting.\n",
      "Run 558 / 576 with HyperParameters(learning_rate=0.005, kernel_size=3, num_epochs=25, optimise='Adam', loss='binary_crossentropy', num_filter=32, strides=2, padding='same', dropout_rate=0.1, layers=3, default_activation='relu')\n"
     ]
    },
    {
     "name": "stderr",
     "output_type": "stream",
     "text": [
      "Epoch Progress: 100%|██████████| 25/25 [00:47<00:00,  1.90s/epoch, loss=0.373, acc=0.835, val_loss=0.391, val_acc=0.872]\n"
     ]
    },
    {
     "name": "stdout",
     "output_type": "stream",
     "text": [
      "Run 559 / 576 with HyperParameters(learning_rate=0.005, kernel_size=3, num_epochs=25, optimise='Adam', loss='binary_crossentropy', num_filter=32, strides=1, padding='same', dropout_rate=0.25, layers=3, default_activation='relu')\n"
     ]
    },
    {
     "name": "stderr",
     "output_type": "stream",
     "text": [
      "Epoch Progress:  72%|███████▏  | 18/25 [00:59<00:23,  3.42s/epoch, loss=0.348, acc=0.841, val_loss=0.457, val_acc=0.859]"
     ]
    },
    {
     "name": "stdout",
     "output_type": "stream",
     "text": [
      "Overfitting detected at epoch 18: Loss Gap = 0.1088\n"
     ]
    },
    {
     "name": "stderr",
     "output_type": "stream",
     "text": [
      "Epoch Progress:  76%|███████▌  | 19/25 [01:03<00:20,  3.37s/epoch, loss=0.339, acc=0.853, val_loss=0.465, val_acc=0.821]"
     ]
    },
    {
     "name": "stdout",
     "output_type": "stream",
     "text": [
      "Overfitting detected at epoch 19: Loss Gap = 0.1263\n"
     ]
    },
    {
     "name": "stderr",
     "output_type": "stream",
     "text": [
      "Epoch Progress:  88%|████████▊ | 22/25 [01:12<00:09,  3.27s/epoch, loss=0.295, acc=0.868, val_loss=0.423, val_acc=0.846]"
     ]
    },
    {
     "name": "stdout",
     "output_type": "stream",
     "text": [
      "Overfitting detected at epoch 22: Loss Gap = 0.1277\n"
     ]
    },
    {
     "name": "stderr",
     "output_type": "stream",
     "text": [
      "Epoch Progress:  92%|█████████▏| 23/25 [01:15<00:06,  3.24s/epoch, loss=0.287, acc=0.892, val_loss=0.413, val_acc=0.846]"
     ]
    },
    {
     "name": "stdout",
     "output_type": "stream",
     "text": [
      "Overfitting detected at epoch 23: Loss Gap = 0.1254\n"
     ]
    },
    {
     "name": "stderr",
     "output_type": "stream",
     "text": [
      "Epoch Progress:  96%|█████████▌| 24/25 [01:19<00:03,  3.30s/epoch, loss=0.237, acc=0.916, val_loss=0.428, val_acc=0.808]\n"
     ]
    },
    {
     "name": "stdout",
     "output_type": "stream",
     "text": [
      "Overfitting detected at epoch 24: Loss Gap = 0.1907\n",
      "Stopping training due to persistent overfitting.\n",
      "Run 560 / 576 with HyperParameters(learning_rate=0.005, kernel_size=3, num_epochs=25, optimise='Adam', loss='binary_crossentropy', num_filter=32, strides=2, padding='same', dropout_rate=0.25, layers=3, default_activation='relu')\n"
     ]
    },
    {
     "name": "stderr",
     "output_type": "stream",
     "text": [
      "Epoch Progress: 100%|██████████| 25/25 [00:46<00:00,  1.87s/epoch, loss=0.445, acc=0.802, val_loss=0.43, val_acc=0.833] \n"
     ]
    },
    {
     "name": "stdout",
     "output_type": "stream",
     "text": [
      "Run 561 / 576 with HyperParameters(learning_rate=0.005, kernel_size=3, num_epochs=25, optimise='Adam', loss='binary_crossentropy', num_filter=32, strides=1, padding='same', dropout_rate=0.1, layers=4, default_activation='relu')\n"
     ]
    },
    {
     "name": "stderr",
     "output_type": "stream",
     "text": [
      "Epoch Progress:  76%|███████▌  | 19/25 [01:27<00:26,  4.42s/epoch, loss=0.295, acc=0.875, val_loss=0.415, val_acc=0.859]"
     ]
    },
    {
     "name": "stdout",
     "output_type": "stream",
     "text": [
      "Overfitting detected at epoch 19: Loss Gap = 0.1200\n"
     ]
    },
    {
     "name": "stderr",
     "output_type": "stream",
     "text": [
      "Epoch Progress:  80%|████████  | 20/25 [01:32<00:21,  4.40s/epoch, loss=0.265, acc=0.879, val_loss=0.485, val_acc=0.846]"
     ]
    },
    {
     "name": "stdout",
     "output_type": "stream",
     "text": [
      "Overfitting detected at epoch 20: Loss Gap = 0.2198\n"
     ]
    },
    {
     "name": "stderr",
     "output_type": "stream",
     "text": [
      "Epoch Progress:  84%|████████▍ | 21/25 [01:36<00:18,  4.59s/epoch, loss=0.279, acc=0.87, val_loss=0.478, val_acc=0.833] \n"
     ]
    },
    {
     "name": "stdout",
     "output_type": "stream",
     "text": [
      "Overfitting detected at epoch 21: Loss Gap = 0.1994\n",
      "Stopping training due to persistent overfitting.\n",
      "Run 562 / 576 with HyperParameters(learning_rate=0.005, kernel_size=3, num_epochs=25, optimise='Adam', loss='binary_crossentropy', num_filter=32, strides=2, padding='same', dropout_rate=0.1, layers=4, default_activation='relu')\n"
     ]
    },
    {
     "name": "stderr",
     "output_type": "stream",
     "text": [
      "Epoch Progress: 100%|██████████| 25/25 [00:46<00:00,  1.87s/epoch, loss=0.377, acc=0.846, val_loss=0.367, val_acc=0.885]\n"
     ]
    },
    {
     "name": "stdout",
     "output_type": "stream",
     "text": [
      "Run 563 / 576 with HyperParameters(learning_rate=0.005, kernel_size=3, num_epochs=25, optimise='Adam', loss='binary_crossentropy', num_filter=32, strides=1, padding='same', dropout_rate=0.25, layers=4, default_activation='relu')\n"
     ]
    },
    {
     "name": "stderr",
     "output_type": "stream",
     "text": [
      "Epoch Progress:  96%|█████████▌| 24/25 [01:37<00:04,  4.06s/epoch, loss=0.297, acc=0.879, val_loss=0.417, val_acc=0.846]"
     ]
    },
    {
     "name": "stdout",
     "output_type": "stream",
     "text": [
      "Overfitting detected at epoch 24: Loss Gap = 0.1208\n"
     ]
    },
    {
     "name": "stderr",
     "output_type": "stream",
     "text": [
      "Epoch Progress: 100%|██████████| 25/25 [01:41<00:00,  4.06s/epoch, loss=0.283, acc=0.886, val_loss=0.355, val_acc=0.897]\n"
     ]
    },
    {
     "name": "stdout",
     "output_type": "stream",
     "text": [
      "Run 564 / 576 with HyperParameters(learning_rate=0.005, kernel_size=3, num_epochs=25, optimise='Adam', loss='binary_crossentropy', num_filter=32, strides=2, padding='same', dropout_rate=0.25, layers=4, default_activation='relu')\n"
     ]
    },
    {
     "name": "stderr",
     "output_type": "stream",
     "text": [
      "Epoch Progress: 100%|██████████| 25/25 [00:44<00:00,  1.77s/epoch, loss=0.433, acc=0.808, val_loss=0.4, val_acc=0.885]  \n"
     ]
    },
    {
     "name": "stdout",
     "output_type": "stream",
     "text": [
      "Run 565 / 576 with HyperParameters(learning_rate=0.005, kernel_size=3, num_epochs=25, optimise='Adam', loss='binary_crossentropy', num_filter=64, strides=1, padding='same', dropout_rate=0.1, layers=2, default_activation='relu')\n"
     ]
    },
    {
     "name": "stderr",
     "output_type": "stream",
     "text": [
      "Epoch Progress:  64%|██████▍   | 16/25 [01:56<01:05,  7.28s/epoch, loss=0.298, acc=0.872, val_loss=0.428, val_acc=0.846]"
     ]
    },
    {
     "name": "stdout",
     "output_type": "stream",
     "text": [
      "Overfitting detected at epoch 16: Loss Gap = 0.1303\n"
     ]
    },
    {
     "name": "stderr",
     "output_type": "stream",
     "text": [
      "Epoch Progress:  68%|██████▊   | 17/25 [02:04<00:58,  7.28s/epoch, loss=0.265, acc=0.901, val_loss=0.426, val_acc=0.846]"
     ]
    },
    {
     "name": "stdout",
     "output_type": "stream",
     "text": [
      "Overfitting detected at epoch 17: Loss Gap = 0.1612\n"
     ]
    },
    {
     "name": "stderr",
     "output_type": "stream",
     "text": [
      "Epoch Progress:  72%|███████▏  | 18/25 [02:11<00:51,  7.31s/epoch, loss=0.252, acc=0.892, val_loss=0.461, val_acc=0.846]\n"
     ]
    },
    {
     "name": "stdout",
     "output_type": "stream",
     "text": [
      "Overfitting detected at epoch 18: Loss Gap = 0.2085\n",
      "Stopping training due to persistent overfitting.\n",
      "Run 566 / 576 with HyperParameters(learning_rate=0.005, kernel_size=3, num_epochs=25, optimise='Adam', loss='binary_crossentropy', num_filter=64, strides=2, padding='same', dropout_rate=0.1, layers=2, default_activation='relu')\n"
     ]
    },
    {
     "name": "stderr",
     "output_type": "stream",
     "text": [
      "Epoch Progress:  84%|████████▍ | 21/25 [01:38<00:18,  4.54s/epoch, loss=0.283, acc=0.879, val_loss=0.442, val_acc=0.872]"
     ]
    },
    {
     "name": "stdout",
     "output_type": "stream",
     "text": [
      "Overfitting detected at epoch 21: Loss Gap = 0.1591\n"
     ]
    },
    {
     "name": "stderr",
     "output_type": "stream",
     "text": [
      "Epoch Progress:  88%|████████▊ | 22/25 [01:43<00:13,  4.54s/epoch, loss=0.264, acc=0.896, val_loss=0.457, val_acc=0.885]"
     ]
    },
    {
     "name": "stdout",
     "output_type": "stream",
     "text": [
      "Overfitting detected at epoch 22: Loss Gap = 0.1931\n"
     ]
    },
    {
     "name": "stderr",
     "output_type": "stream",
     "text": [
      "Epoch Progress:  92%|█████████▏| 23/25 [01:47<00:09,  4.69s/epoch, loss=0.25, acc=0.89, val_loss=0.543, val_acc=0.833]  \n"
     ]
    },
    {
     "name": "stdout",
     "output_type": "stream",
     "text": [
      "Overfitting detected at epoch 23: Loss Gap = 0.2928\n",
      "Stopping training due to persistent overfitting.\n",
      "Run 567 / 576 with HyperParameters(learning_rate=0.005, kernel_size=3, num_epochs=25, optimise='Adam', loss='binary_crossentropy', num_filter=64, strides=1, padding='same', dropout_rate=0.25, layers=2, default_activation='relu')\n"
     ]
    },
    {
     "name": "stderr",
     "output_type": "stream",
     "text": [
      "Epoch Progress:  76%|███████▌  | 19/25 [02:10<00:41,  6.94s/epoch, loss=0.317, acc=0.868, val_loss=0.455, val_acc=0.846]"
     ]
    },
    {
     "name": "stdout",
     "output_type": "stream",
     "text": [
      "Overfitting detected at epoch 19: Loss Gap = 0.1381\n"
     ]
    },
    {
     "name": "stderr",
     "output_type": "stream",
     "text": [
      "Epoch Progress:  84%|████████▍ | 21/25 [02:24<00:27,  6.96s/epoch, loss=0.332, acc=0.866, val_loss=0.474, val_acc=0.795]"
     ]
    },
    {
     "name": "stdout",
     "output_type": "stream",
     "text": [
      "Overfitting detected at epoch 21: Loss Gap = 0.1416\n"
     ]
    },
    {
     "name": "stderr",
     "output_type": "stream",
     "text": [
      "Epoch Progress:  88%|████████▊ | 22/25 [02:31<00:20,  6.96s/epoch, loss=0.296, acc=0.881, val_loss=0.432, val_acc=0.846]"
     ]
    },
    {
     "name": "stdout",
     "output_type": "stream",
     "text": [
      "Overfitting detected at epoch 22: Loss Gap = 0.1360\n"
     ]
    },
    {
     "name": "stderr",
     "output_type": "stream",
     "text": [
      "Epoch Progress:  92%|█████████▏| 23/25 [02:38<00:13,  6.90s/epoch, loss=0.28, acc=0.899, val_loss=0.47, val_acc=0.833]  \n"
     ]
    },
    {
     "name": "stdout",
     "output_type": "stream",
     "text": [
      "Overfitting detected at epoch 23: Loss Gap = 0.1901\n",
      "Stopping training due to persistent overfitting.\n",
      "Run 568 / 576 with HyperParameters(learning_rate=0.005, kernel_size=3, num_epochs=25, optimise='Adam', loss='binary_crossentropy', num_filter=64, strides=2, padding='same', dropout_rate=0.25, layers=2, default_activation='relu')\n"
     ]
    },
    {
     "name": "stderr",
     "output_type": "stream",
     "text": [
      "Epoch Progress: 100%|██████████| 25/25 [01:45<00:00,  4.20s/epoch, loss=0.307, acc=0.868, val_loss=0.417, val_acc=0.859]"
     ]
    },
    {
     "name": "stdout",
     "output_type": "stream",
     "text": [
      "Overfitting detected at epoch 25: Loss Gap = 0.1100\n",
      "Run 569 / 576 with HyperParameters(learning_rate=0.005, kernel_size=3, num_epochs=25, optimise='Adam', loss='binary_crossentropy', num_filter=64, strides=1, padding='same', dropout_rate=0.1, layers=3, default_activation='relu')\n"
     ]
    },
    {
     "name": "stderr",
     "output_type": "stream",
     "text": [
      "\n",
      "Epoch Progress:  88%|████████▊ | 22/25 [02:47<00:22,  7.56s/epoch, loss=0.28, acc=0.879, val_loss=0.421, val_acc=0.833] "
     ]
    },
    {
     "name": "stdout",
     "output_type": "stream",
     "text": [
      "Overfitting detected at epoch 22: Loss Gap = 0.1405\n"
     ]
    },
    {
     "name": "stderr",
     "output_type": "stream",
     "text": [
      "Epoch Progress:  92%|█████████▏| 23/25 [02:54<00:15,  7.53s/epoch, loss=0.245, acc=0.908, val_loss=0.434, val_acc=0.833]"
     ]
    },
    {
     "name": "stdout",
     "output_type": "stream",
     "text": [
      "Overfitting detected at epoch 23: Loss Gap = 0.1888\n"
     ]
    },
    {
     "name": "stderr",
     "output_type": "stream",
     "text": [
      "Epoch Progress:  96%|█████████▌| 24/25 [03:02<00:07,  7.60s/epoch, loss=0.22, acc=0.914, val_loss=0.451, val_acc=0.859] \n"
     ]
    },
    {
     "name": "stdout",
     "output_type": "stream",
     "text": [
      "Overfitting detected at epoch 24: Loss Gap = 0.2308\n",
      "Stopping training due to persistent overfitting.\n",
      "Run 570 / 576 with HyperParameters(learning_rate=0.005, kernel_size=3, num_epochs=25, optimise='Adam', loss='binary_crossentropy', num_filter=64, strides=2, padding='same', dropout_rate=0.1, layers=3, default_activation='relu')\n"
     ]
    },
    {
     "name": "stderr",
     "output_type": "stream",
     "text": [
      "Epoch Progress:  96%|█████████▌| 24/25 [01:30<00:03,  3.74s/epoch, loss=0.336, acc=0.852, val_loss=0.441, val_acc=0.846]"
     ]
    },
    {
     "name": "stdout",
     "output_type": "stream",
     "text": [
      "Overfitting detected at epoch 24: Loss Gap = 0.1050\n"
     ]
    },
    {
     "name": "stderr",
     "output_type": "stream",
     "text": [
      "Epoch Progress: 100%|██████████| 25/25 [01:34<00:00,  3.77s/epoch, loss=0.333, acc=0.868, val_loss=0.389, val_acc=0.821]\n"
     ]
    },
    {
     "name": "stdout",
     "output_type": "stream",
     "text": [
      "Run 571 / 576 with HyperParameters(learning_rate=0.005, kernel_size=3, num_epochs=25, optimise='Adam', loss='binary_crossentropy', num_filter=64, strides=1, padding='same', dropout_rate=0.25, layers=3, default_activation='relu')\n"
     ]
    },
    {
     "name": "stderr",
     "output_type": "stream",
     "text": [
      "Epoch Progress: 100%|██████████| 25/25 [02:49<00:00,  6.76s/epoch, loss=0.358, acc=0.83, val_loss=0.417, val_acc=0.859] \n"
     ]
    },
    {
     "name": "stdout",
     "output_type": "stream",
     "text": [
      "Run 572 / 576 with HyperParameters(learning_rate=0.005, kernel_size=3, num_epochs=25, optimise='Adam', loss='binary_crossentropy', num_filter=64, strides=2, padding='same', dropout_rate=0.25, layers=3, default_activation='relu')\n"
     ]
    },
    {
     "name": "stderr",
     "output_type": "stream",
     "text": [
      "Epoch Progress: 100%|██████████| 25/25 [01:26<00:00,  3.46s/epoch, loss=0.339, acc=0.863, val_loss=0.385, val_acc=0.872]\n"
     ]
    },
    {
     "name": "stdout",
     "output_type": "stream",
     "text": [
      "Run 573 / 576 with HyperParameters(learning_rate=0.005, kernel_size=3, num_epochs=25, optimise='Adam', loss='binary_crossentropy', num_filter=64, strides=1, padding='same', dropout_rate=0.1, layers=4, default_activation='relu')\n"
     ]
    },
    {
     "name": "stderr",
     "output_type": "stream",
     "text": [
      "Epoch Progress:  64%|██████▍   | 16/25 [02:28<01:22,  9.20s/epoch, loss=0.329, acc=0.846, val_loss=0.443, val_acc=0.846]"
     ]
    },
    {
     "name": "stdout",
     "output_type": "stream",
     "text": [
      "Overfitting detected at epoch 16: Loss Gap = 0.1137\n"
     ]
    },
    {
     "name": "stderr",
     "output_type": "stream",
     "text": [
      "Epoch Progress:  68%|██████▊   | 17/25 [02:37<01:12,  9.12s/epoch, loss=0.31, acc=0.868, val_loss=0.451, val_acc=0.846] "
     ]
    },
    {
     "name": "stdout",
     "output_type": "stream",
     "text": [
      "Overfitting detected at epoch 17: Loss Gap = 0.1415\n"
     ]
    },
    {
     "name": "stderr",
     "output_type": "stream",
     "text": [
      "Epoch Progress:  72%|███████▏  | 18/25 [02:46<01:04,  9.24s/epoch, loss=0.285, acc=0.886, val_loss=0.393, val_acc=0.833]\n"
     ]
    },
    {
     "name": "stdout",
     "output_type": "stream",
     "text": [
      "Overfitting detected at epoch 18: Loss Gap = 0.1081\n",
      "Stopping training due to persistent overfitting.\n",
      "Run 574 / 576 with HyperParameters(learning_rate=0.005, kernel_size=3, num_epochs=25, optimise='Adam', loss='binary_crossentropy', num_filter=64, strides=2, padding='same', dropout_rate=0.1, layers=4, default_activation='relu')\n"
     ]
    },
    {
     "name": "stderr",
     "output_type": "stream",
     "text": [
      "Epoch Progress: 100%|██████████| 25/25 [01:31<00:00,  3.66s/epoch, loss=0.279, acc=0.896, val_loss=0.426, val_acc=0.872]"
     ]
    },
    {
     "name": "stdout",
     "output_type": "stream",
     "text": [
      "Overfitting detected at epoch 25: Loss Gap = 0.1477\n",
      "Run 575 / 576 with HyperParameters(learning_rate=0.005, kernel_size=3, num_epochs=25, optimise='Adam', loss='binary_crossentropy', num_filter=64, strides=1, padding='same', dropout_rate=0.25, layers=4, default_activation='relu')\n"
     ]
    },
    {
     "name": "stderr",
     "output_type": "stream",
     "text": [
      "\n",
      "Epoch Progress: 100%|██████████| 25/25 [03:35<00:00,  8.60s/epoch, loss=0.387, acc=0.835, val_loss=0.408, val_acc=0.859]\n"
     ]
    },
    {
     "name": "stdout",
     "output_type": "stream",
     "text": [
      "Run 576 / 576 with HyperParameters(learning_rate=0.005, kernel_size=3, num_epochs=25, optimise='Adam', loss='binary_crossentropy', num_filter=64, strides=2, padding='same', dropout_rate=0.25, layers=4, default_activation='relu')\n"
     ]
    },
    {
     "name": "stderr",
     "output_type": "stream",
     "text": [
      "Epoch Progress: 100%|██████████| 25/25 [01:29<00:00,  3.58s/epoch, loss=0.306, acc=0.875, val_loss=0.42, val_acc=0.821] \n"
     ]
    },
    {
     "name": "stdout",
     "output_type": "stream",
     "text": [
      "Overfitting detected at epoch 25: Loss Gap = 0.1143\n",
      "Hyperparameter test run complete\n"
     ]
    }
   ],
   "source": [
    "## set up the variables to keep track of the hyperparameter combinations\n",
    "iterations      = len(test_grid)                                      ## number of hyperparameter sets\n",
    "countie         = 0                                                   ## interim count for iterations in loop\n",
    "stop_overfit_cb = ac.StopOverfittingCallback(patience, threshold)     ## initialise overfitting callback\n",
    "## Create instances of the dataclass from the list\n",
    "for item in test_grid:\n",
    "    countie += 1\n",
    "    print(\"Run\",countie,\"/\",iterations,\"with\",item)\n",
    "    ## initialise tqdm callback\n",
    "    tqdm_callback = ac.TqdmEpochProgress(total_epochs=item.num_epochs)\n",
    "    \n",
    "    ## now set the CNN model to support Learning Rate and other Hyperparameter selection analysis\n",
    "    ## added options for desired number of layers with each sub section using a similar structure\n",
    "    if item.layers == 2:\n",
    "        model = Sequential([\n",
    "            Conv2D(item.num_filter*2, kernel_size=item.kernel_size, padding=item.padding,\\\n",
    "                   activation=item.default_activation, input_shape=(28, 28, 1)),  ## Input layer\n",
    "            Conv2D(item.num_filter, kernel_size=item.kernel_size, padding=item.padding,\\\n",
    "                   activation=item.default_activation),                           ## Another convolution layer\n",
    "            MaxPooling2D((2, 2),strides=item.strides),                            ## Reduce the feature maps\n",
    "            Dropout(item.dropout_rate),                                           ## Drop out to reduce possible over fitting\n",
    "            Conv2D(item.num_filter, kernel_size=item.kernel_size, padding=item.padding,\\\n",
    "                   activation=item.default_activation),                           ## Another convolution layer\n",
    "            MaxPooling2D((2, 2),strides=item.strides),                            ## Reduce the feature maps\n",
    "            Flatten(),                                                            ## Flatten\n",
    "            Dense(item.num_filter*4,activation=item.default_activation),          ## Fully connected layer\n",
    "            Dense(item.num_filter*4, activation=item.default_activation),         ## Fully connected layer\n",
    "            Dropout(item.dropout_rate*2),                                         ## Drop out to reduce possible over fitting\n",
    "            Dense(1, activation='sigmoid')                                        ## Output layer for binary classification  \n",
    "        ])\n",
    "    if item.layers == 3:\n",
    "        model = Sequential([\n",
    "            Conv2D(item.num_filter*2, kernel_size=item.kernel_size, padding=item.padding,\\\n",
    "                   activation=item.default_activation, input_shape=(28, 28, 1)),  ## Input layer\n",
    "            Conv2D(item.num_filter, kernel_size=item.kernel_size, padding=item.padding,\\\n",
    "                   activation=item.default_activation),                           ## Another convolution layer\n",
    "            MaxPooling2D((2, 2),strides=item.strides),                            ## Reduce the feature maps\n",
    "            Dropout(item.dropout_rate),                                           ## Drop out to reduce possible over fitting\n",
    "            Conv2D(item.num_filter, kernel_size=item.kernel_size, padding=item.padding,\\\n",
    "                   activation=item.default_activation),                           ## Another convolution layer\n",
    "            MaxPooling2D((2, 2),strides=item.strides),                            ## Reduce the feature maps\n",
    "            Conv2D(item.num_filter, kernel_size=item.kernel_size, padding=item.padding,\\\n",
    "                   activation=item.default_activation),                           ## Another convolution layer\n",
    "            MaxPooling2D((2, 2),strides=item.strides),                            ## Reduce the feature maps\n",
    "            Flatten(),                                                            ## Flatten\n",
    "            Dense(item.num_filter*4, activation=item.default_activation),         ## Fully connected layer\n",
    "            Dense(item.num_filter*4, activation=item.default_activation),         ## Fully connected layer\n",
    "            Dropout(item.dropout_rate*2),                                         ## Drop out to reduce possible over fitting\n",
    "            Dense(1, activation='sigmoid')                                        ## Output layer for binary classification  \n",
    "        ])\n",
    "    if item.layers == 4:\n",
    "        model = Sequential([\n",
    "            Conv2D(item.num_filter*2, kernel_size=item.kernel_size, padding=item.padding,\\\n",
    "                   activation=item.default_activation, input_shape=(28, 28, 1)),  ## Input layer\n",
    "            Conv2D(item.num_filter, kernel_size=item.kernel_size, padding=item.padding,\\\n",
    "                   activation=item.default_activation),                           ## Another convolution layer\n",
    "            MaxPooling2D((2, 2),strides=item.strides),                            ## Reduce the feature maps\n",
    "            Dropout(item.dropout_rate),                                           ## Drop out to reduce possible over fitting\n",
    "            Conv2D(item.num_filter, kernel_size=item.kernel_size, padding=item.padding,\\\n",
    "                   activation=item.default_activation),                           ## Another convolution layer\n",
    "            Conv2D(item.num_filter, kernel_size=item.kernel_size, padding=item.padding,\\\n",
    "                   activation=item.default_activation),                           ## Another convolution layer\n",
    "            MaxPooling2D((2, 2),strides=item.strides),                            ## Reduce the feature maps\n",
    "            Conv2D(item.num_filter*2, kernel_size=item.kernel_size, padding=item.padding,\\\n",
    "                   activation=item.default_activation),                           ## Another convolution layer\n",
    "            MaxPooling2D((2, 2),strides=item.strides),                            ## Reduce the feature maps\n",
    "            Flatten(),                                                            ## Flatten\n",
    "            Dense(item.num_filter*4, activation=item.default_activation),         ## Fully connected layer\n",
    "            Dense(item.num_filter*4, activation=item.default_activation),         ## Fully connected layer\n",
    "            Dropout(item.dropout_rate*2),                                         ## Drop out to reduce possible over fitting\n",
    "            Dense(1, activation='sigmoid')                                        ## Output layer for binary classification  \n",
    "        ])   \n",
    "        \n",
    "    if verbose == 1:\n",
    "        print(model.summary())\n",
    "        \n",
    "    ## Redirect the summary output to a string so ity can be stored in file\n",
    "    summary_string  = io.StringIO()\n",
    "    model.summary(print_fn=lambda x: summary_string.write(x + \"\\n\"))\n",
    "    summary_content = summary_string.getvalue()\n",
    "    summary_string.close()\n",
    "\n",
    "    ## Compile the model\n",
    "    model.compile(optimizer=item.optimise,                                                   \n",
    "                  loss     =item.loss,\n",
    "                  metrics  ='acc')\n",
    "\n",
    "    ## Fit the model using validation set for hyperparameter selection\n",
    "    history = model.fit(train_dataset,\n",
    "                        validation_data = val_dataset, \n",
    "                        epochs          = item.num_epochs, \n",
    "                        batch_size      = batch_size, \n",
    "                        verbose         = 0,\n",
    "                        callbacks       = [stop_overfit_cb,tqdm_callback])\n",
    "\n",
    "    ## Save results\n",
    "    run_list.append(ac.hyper_process(history,summary_content,item))\n",
    "\n",
    "print(\"Hyperparameter test run complete\")"
   ]
  },
  {
   "cell_type": "code",
   "execution_count": 77,
   "metadata": {},
   "outputs": [
    {
     "name": "stdout",
     "output_type": "stream",
     "text": [
      "No single run matches both objectives, so individually\n",
      "Run with the smallest min_loss:\n",
      "metrics_file                             \n",
      "summary_file                             \n",
      "min_loss                         0.204564\n",
      "max_acc                          0.915751\n",
      "last_loss                        0.204564\n",
      "last_acc                         0.915751\n",
      "min_val_loss                     0.348678\n",
      "max_val_acc                      0.897436\n",
      "last_val_loss                    0.504972\n",
      "last_val_acc                     0.820513\n",
      "var_loss                         0.015525\n",
      "var_acc                          0.005544\n",
      "learning_rate                       0.001\n",
      "kernel_size                             3\n",
      "num_epochs                             25\n",
      "num_filter                             64\n",
      "strides                                 1\n",
      "padding                              same\n",
      "dropout_rate                          0.1\n",
      "layers                                  3\n",
      "optimise                             Adam\n",
      "loss                  binary_crossentropy\n",
      "default_activation                   relu\n",
      "Name: 280, dtype: object\n",
      "\n",
      "Run with the largest max_acc:\n",
      "metrics_file                             \n",
      "summary_file                             \n",
      "min_loss                         0.220949\n",
      "max_acc                          0.919414\n",
      "last_loss                        0.220949\n",
      "last_acc                         0.919414\n",
      "min_val_loss                     0.385082\n",
      "max_val_acc                      0.884615\n",
      "last_val_loss                    0.402311\n",
      "last_val_acc                     0.884615\n",
      "var_loss                         0.015037\n",
      "var_acc                          0.004713\n",
      "learning_rate                       0.001\n",
      "kernel_size                             3\n",
      "num_epochs                             20\n",
      "num_filter                             32\n",
      "strides                                 1\n",
      "padding                              same\n",
      "dropout_rate                          0.1\n",
      "layers                                  2\n",
      "optimise                             Adam\n",
      "loss                  binary_crossentropy\n",
      "default_activation                   relu\n",
      "Name: 228, dtype: object\n",
      "\n",
      "Run satisfying both smallest min_loss and largest max_acc:\n",
      "\n",
      "\n",
      "\n",
      "Run with largest max_acc that is plateau or increasing:\n",
      "learning_rate : 0.001\n",
      "kernel_size : 3\n",
      "num_epochs : 20\n",
      "num_filter : 32\n",
      "strides : 1\n",
      "padding : same\n",
      "dropout_rate : 0.1\n",
      "layers : 2\n",
      "optimise : Adam\n",
      "loss : binary_crossentropy\n",
      "default_activation : relu\n",
      "\n",
      "\n",
      "\n",
      "Run with smallest min_loss that is plateau or decreasing:\n",
      "learning_rate : 0.001\n",
      "kernel_size : 3\n",
      "num_epochs : 25\n",
      "num_filter : 64\n",
      "strides : 1\n",
      "padding : same\n",
      "dropout_rate : 0.1\n",
      "layers : 3\n",
      "optimise : Adam\n",
      "loss : binary_crossentropy\n",
      "default_activation : relu\n",
      "R^2 Score: 0.8255790811110733\n",
      "Mean Squared Error: 0.000537538619551698\n",
      "\n",
      "Impact of Hyperparameters on Accuracy (from Linear Regression):\n",
      "  Hyperparameter  Coefficient\n",
      "0  learning_rate    -0.490233\n",
      "1     num_epochs     0.006327\n",
      "2     num_filter     0.000505\n",
      "3        strides    -0.046134\n",
      "4         layers    -0.005348\n",
      "5   dropout_rate    -0.106349\n",
      "6    kernel_size     0.007730\n",
      "\n",
      "Hyperparameter Importance for Accuracy (from Random Forest):\n",
      "  Hyperparameter  Importance\n",
      "1     num_epochs    0.496573\n",
      "3        strides    0.238668\n",
      "2     num_filter    0.127631\n",
      "4         layers    0.045674\n",
      "5   dropout_rate    0.035840\n",
      "6    kernel_size    0.032921\n",
      "0  learning_rate    0.022693\n"
     ]
    }
   ],
   "source": [
    "## Get best hyperparameter sets and both print them out and save them to parameter files that can be fed to Tune model runs\n",
    "run_df,best_run,best_run2,best_run3 = ac.analyse_run(run_list,\" \",filebase)\n",
    "print(\"\\nRun satisfying both smallest min_loss and largest max_acc:\")\n",
    "if len(best_run) > 0:\n",
    "    ac.process_best_run(best_run)\n",
    "print(\"\\n\")\n",
    "print(\"\\nRun with largest max_acc that is plateau or increasing:\")\n",
    "if len(best_run2) > 0:\n",
    "    ac.process_best_run(best_run2)\n",
    "print(\"\\n\")\n",
    "print(\"\\nRun with smallest min_loss that is plateau or decreasing:\")\n",
    "if len(best_run3) > 0:\n",
    "    ac.process_best_run(best_run3)\n",
    "\n",
    "if len(run_df)>1:\n",
    "    feature_importance,coef = ac.analyse_hyperparameters(run_df)\n",
    "    print(\"\\nImpact of Hyperparameters on Accuracy (from Linear Regression):\")\n",
    "    print(coef)\n",
    "    print(\"\\nHyperparameter Importance for Accuracy (from Random Forest):\")\n",
    "    print(feature_importance)\n",
    "else:\n",
    "    print(\"\\n\")\n",
    "    print('Suppressed feature analysis as train set too small')"
   ]
  },
  {
   "cell_type": "code",
   "execution_count": null,
   "metadata": {},
   "outputs": [],
   "source": []
  },
  {
   "cell_type": "code",
   "execution_count": null,
   "metadata": {},
   "outputs": [],
   "source": []
  }
 ],
 "metadata": {
  "colab": {
   "collapsed_sections": [
    "928tj4hm_HRl",
    "LY2oUxSh_Nbk",
    "pJ0M8Nzx_Tir",
    "V_0zJR_ZAD0-"
   ],
   "provenance": []
  },
  "kernelspec": {
   "display_name": "Python 3 (ipykernel)",
   "language": "python",
   "name": "python3"
  },
  "language_info": {
   "codemirror_mode": {
    "name": "ipython",
    "version": 3
   },
   "file_extension": ".py",
   "mimetype": "text/x-python",
   "name": "python",
   "nbconvert_exporter": "python",
   "pygments_lexer": "ipython3",
   "version": "3.8.18"
  }
 },
 "nbformat": 4,
 "nbformat_minor": 4
}
